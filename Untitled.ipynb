{
 "cells": [
  {
   "cell_type": "markdown",
   "id": "fb7cb0fa",
   "metadata": {},
   "source": [
    "## Intermediate Python Programming\n",
    "\n",
    "### Number"
   ]
  },
  {
   "cell_type": "code",
   "execution_count": 1,
   "id": "7fe73fda",
   "metadata": {},
   "outputs": [
    {
     "data": {
      "text/plain": [
       "301030"
      ]
     },
     "execution_count": 1,
     "metadata": {},
     "output_type": "execute_result"
    }
   ],
   "source": [
    "len(str(2**1000000))"
   ]
  },
  {
   "cell_type": "code",
   "execution_count": 2,
   "id": "41a6cfab",
   "metadata": {},
   "outputs": [
    {
     "data": {
      "text/plain": [
       "6.29"
      ]
     },
     "execution_count": 2,
     "metadata": {},
     "output_type": "execute_result"
    }
   ],
   "source": [
    "3.145 * 2"
   ]
  },
  {
   "cell_type": "code",
   "execution_count": 3,
   "id": "c2444426",
   "metadata": {},
   "outputs": [
    {
     "name": "stdout",
     "output_type": "stream",
     "text": [
      "6.29\n"
     ]
    }
   ],
   "source": [
    "print(3.145 * 2)"
   ]
  },
  {
   "cell_type": "code",
   "execution_count": 4,
   "id": "9c189716",
   "metadata": {},
   "outputs": [
    {
     "data": {
      "text/plain": [
       "3.141592653589793"
      ]
     },
     "execution_count": 4,
     "metadata": {},
     "output_type": "execute_result"
    }
   ],
   "source": [
    "import math \n",
    "math.pi"
   ]
  },
  {
   "cell_type": "code",
   "execution_count": 5,
   "id": "4c75df87",
   "metadata": {},
   "outputs": [
    {
     "data": {
      "text/plain": [
       "8.0"
      ]
     },
     "execution_count": 5,
     "metadata": {},
     "output_type": "execute_result"
    }
   ],
   "source": [
    "math.sqrt(64)"
   ]
  },
  {
   "cell_type": "code",
   "execution_count": 6,
   "id": "decd387c",
   "metadata": {},
   "outputs": [
    {
     "data": {
      "text/plain": [
       "0.25937403467767395"
      ]
     },
     "execution_count": 6,
     "metadata": {},
     "output_type": "execute_result"
    }
   ],
   "source": [
    "import random \n",
    "random.random()"
   ]
  },
  {
   "cell_type": "code",
   "execution_count": 8,
   "id": "a231176a",
   "metadata": {},
   "outputs": [
    {
     "data": {
      "text/plain": [
       "2"
      ]
     },
     "execution_count": 8,
     "metadata": {},
     "output_type": "execute_result"
    }
   ],
   "source": [
    "random.choice([1, 2, 3, 4])"
   ]
  },
  {
   "cell_type": "markdown",
   "id": "222c52e3",
   "metadata": {},
   "source": [
    "### Strings"
   ]
  },
  {
   "cell_type": "code",
   "execution_count": 9,
   "id": "cf77b55f",
   "metadata": {},
   "outputs": [],
   "source": [
    "s = 'Spam'"
   ]
  },
  {
   "cell_type": "code",
   "execution_count": 10,
   "id": "0e7b0f8a",
   "metadata": {},
   "outputs": [
    {
     "data": {
      "text/plain": [
       "4"
      ]
     },
     "execution_count": 10,
     "metadata": {},
     "output_type": "execute_result"
    }
   ],
   "source": [
    "len(s)"
   ]
  },
  {
   "cell_type": "code",
   "execution_count": 11,
   "id": "f56c0032",
   "metadata": {},
   "outputs": [
    {
     "data": {
      "text/plain": [
       "'S'"
      ]
     },
     "execution_count": 11,
     "metadata": {},
     "output_type": "execute_result"
    }
   ],
   "source": [
    "s[0]"
   ]
  },
  {
   "cell_type": "code",
   "execution_count": 12,
   "id": "2943f971",
   "metadata": {},
   "outputs": [
    {
     "data": {
      "text/plain": [
       "'pa'"
      ]
     },
     "execution_count": 12,
     "metadata": {},
     "output_type": "execute_result"
    }
   ],
   "source": [
    "s[1:3]"
   ]
  },
  {
   "cell_type": "code",
   "execution_count": 13,
   "id": "39aa173f",
   "metadata": {},
   "outputs": [
    {
     "data": {
      "text/plain": [
       "'Spamxyzz'"
      ]
     },
     "execution_count": 13,
     "metadata": {},
     "output_type": "execute_result"
    }
   ],
   "source": [
    "# concat \n",
    "s + 'xyzz'"
   ]
  },
  {
   "cell_type": "code",
   "execution_count": 14,
   "id": "7f127901",
   "metadata": {},
   "outputs": [
    {
     "data": {
      "text/plain": [
       "'SpamSpamSpamSpamSpamSpamSpamSpam'"
      ]
     },
     "execution_count": 14,
     "metadata": {},
     "output_type": "execute_result"
    }
   ],
   "source": [
    "# repititon\n",
    "s * 8"
   ]
  },
  {
   "cell_type": "code",
   "execution_count": 16,
   "id": "b62693fd",
   "metadata": {},
   "outputs": [
    {
     "ename": "TypeError",
     "evalue": "'str' object does not support item assignment",
     "output_type": "error",
     "traceback": [
      "\u001b[1;31m---------------------------------------------------------------------------\u001b[0m",
      "\u001b[1;31mTypeError\u001b[0m                                 Traceback (most recent call last)",
      "\u001b[1;32m<ipython-input-16-2c738a67cfee>\u001b[0m in \u001b[0;36m<module>\u001b[1;34m\u001b[0m\n\u001b[0;32m      1\u001b[0m \u001b[1;31m# strings are immutable, i.e they cannot be changed\u001b[0m\u001b[1;33m\u001b[0m\u001b[1;33m\u001b[0m\u001b[1;33m\u001b[0m\u001b[0m\n\u001b[1;32m----> 2\u001b[1;33m \u001b[0ms\u001b[0m\u001b[1;33m[\u001b[0m\u001b[1;36m0\u001b[0m\u001b[1;33m]\u001b[0m \u001b[1;33m=\u001b[0m \u001b[1;34m'z'\u001b[0m\u001b[1;33m\u001b[0m\u001b[1;33m\u001b[0m\u001b[0m\n\u001b[0m",
      "\u001b[1;31mTypeError\u001b[0m: 'str' object does not support item assignment"
     ]
    }
   ],
   "source": [
    "# strings are immutable, i.e they cannot be changed\n",
    "s[0] = 'z'"
   ]
  },
  {
   "cell_type": "code",
   "execution_count": 19,
   "id": "a9a91593",
   "metadata": {},
   "outputs": [
    {
     "data": {
      "text/plain": [
       "'zpam'"
      ]
     },
     "execution_count": 19,
     "metadata": {},
     "output_type": "execute_result"
    }
   ],
   "source": [
    "# but we can run expressions to make new objects\n",
    "s = 'z' + s[1:] \n",
    "s"
   ]
  },
  {
   "cell_type": "code",
   "execution_count": 20,
   "id": "6604bb3a",
   "metadata": {},
   "outputs": [
    {
     "data": {
      "text/plain": [
       "['z', 'p', 'a', 'm']"
      ]
     },
     "execution_count": 20,
     "metadata": {},
     "output_type": "execute_result"
    }
   ],
   "source": [
    "ss = list(s)\n",
    "ss"
   ]
  },
  {
   "cell_type": "code",
   "execution_count": 21,
   "id": "bd4a4248",
   "metadata": {},
   "outputs": [
    {
     "data": {
      "text/plain": [
       "'spam'"
      ]
     },
     "execution_count": 21,
     "metadata": {},
     "output_type": "execute_result"
    }
   ],
   "source": [
    "ss[0] = 's'\n",
    "\n",
    "''.join(ss)"
   ]
  },
  {
   "cell_type": "code",
   "execution_count": 22,
   "id": "9412eb6f",
   "metadata": {},
   "outputs": [
    {
     "data": {
      "text/plain": [
       "2"
      ]
     },
     "execution_count": 22,
     "metadata": {},
     "output_type": "execute_result"
    }
   ],
   "source": [
    "s.find('am')"
   ]
  },
  {
   "cell_type": "code",
   "execution_count": 23,
   "id": "91fdabcc",
   "metadata": {},
   "outputs": [
    {
     "data": {
      "text/plain": [
       "'zpXYZ'"
      ]
     },
     "execution_count": 23,
     "metadata": {},
     "output_type": "execute_result"
    }
   ],
   "source": [
    "s.replace('am', 'XYZ')"
   ]
  },
  {
   "cell_type": "code",
   "execution_count": 24,
   "id": "ace4a361",
   "metadata": {},
   "outputs": [],
   "source": [
    "line = 'aaa,bbb,ccccc,dd'"
   ]
  },
  {
   "cell_type": "code",
   "execution_count": 28,
   "id": "a88d2fa8",
   "metadata": {},
   "outputs": [
    {
     "data": {
      "text/plain": [
       "['aaa', 'bbb', 'ccccc', 'dd']"
      ]
     },
     "execution_count": 28,
     "metadata": {},
     "output_type": "execute_result"
    }
   ],
   "source": [
    "# split\n",
    "line.split(',')"
   ]
  },
  {
   "cell_type": "code",
   "execution_count": 34,
   "id": "121f3bb8",
   "metadata": {},
   "outputs": [
    {
     "data": {
      "text/plain": [
       "'aa a, bbb, ccccc,dd'"
      ]
     },
     "execution_count": 34,
     "metadata": {},
     "output_type": "execute_result"
    }
   ],
   "source": [
    "# strip whitespaces \n",
    "\n",
    "line = 'aa a, bbb, ccccc,dd\\n'\n",
    "\n",
    "line.strip()"
   ]
  },
  {
   "cell_type": "code",
   "execution_count": 38,
   "id": "eb4bf68f",
   "metadata": {},
   "outputs": [
    {
     "data": {
      "text/plain": [
       "['aa a', ' bbb', ' ccccc', 'dd']"
      ]
     },
     "execution_count": 38,
     "metadata": {},
     "output_type": "execute_result"
    }
   ],
   "source": [
    "# combine strip and split \n",
    "\n",
    "line.strip().split(',')"
   ]
  },
  {
   "cell_type": "code",
   "execution_count": 40,
   "id": "f7daa9f3",
   "metadata": {},
   "outputs": [
    {
     "data": {
      "text/plain": [
       "'SPAM! eggs, and spam boats'"
      ]
     },
     "execution_count": 40,
     "metadata": {},
     "output_type": "execute_result"
    }
   ],
   "source": [
    "'{1} eggs, and {0} boats'.format('spam', 'SPAM!')"
   ]
  },
  {
   "cell_type": "code",
   "execution_count": 42,
   "id": "8a31bd8f",
   "metadata": {},
   "outputs": [
    {
     "ename": "SyntaxError",
     "evalue": "f-string: invalid conversion character: expected 's', 'r', or 'a' (<ipython-input-42-6badee4b32bf>, line 1)",
     "output_type": "error",
     "traceback": [
      "\u001b[1;36m  File \u001b[1;32m\"<ipython-input-42-6badee4b32bf>\"\u001b[1;36m, line \u001b[1;32m1\u001b[0m\n\u001b[1;33m    f'{spam} eggs beans {SPAM!}'\u001b[0m\n\u001b[1;37m    ^\u001b[0m\n\u001b[1;31mSyntaxError\u001b[0m\u001b[1;31m:\u001b[0m f-string: invalid conversion character: expected 's', 'r', or 'a'\n"
     ]
    }
   ],
   "source": [
    "f'{spam} eggs beans {SPAM!}'"
   ]
  },
  {
   "cell_type": "code",
   "execution_count": 46,
   "id": "5a0b59f6",
   "metadata": {},
   "outputs": [],
   "source": [
    "ab = 'spam' \n",
    "ba = 'SPAM!'"
   ]
  },
  {
   "cell_type": "code",
   "execution_count": 47,
   "id": "acea22d9",
   "metadata": {
    "scrolled": true
   },
   "outputs": [
    {
     "data": {
      "text/plain": [
       "'spam eggs, and SPAM! boats'"
      ]
     },
     "execution_count": 47,
     "metadata": {},
     "output_type": "execute_result"
    }
   ],
   "source": [
    "f'{ab} eggs, and {ba} boats'"
   ]
  },
  {
   "cell_type": "code",
   "execution_count": null,
   "id": "a1b5a798",
   "metadata": {},
   "outputs": [],
   "source": []
  }
 ],
 "metadata": {
  "kernelspec": {
   "display_name": "Python 3",
   "language": "python",
   "name": "python3"
  },
  "language_info": {
   "codemirror_mode": {
    "name": "ipython",
    "version": 3
   },
   "file_extension": ".py",
   "mimetype": "text/x-python",
   "name": "python",
   "nbconvert_exporter": "python",
   "pygments_lexer": "ipython3",
   "version": "3.8.8"
  }
 },
 "nbformat": 4,
 "nbformat_minor": 5
}
