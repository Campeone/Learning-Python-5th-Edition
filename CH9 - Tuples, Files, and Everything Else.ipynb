{
 "cells": [
  {
   "cell_type": "markdown",
   "id": "6840e430",
   "metadata": {},
   "source": [
    "### Tuples: Tuples in Action"
   ]
  },
  {
   "cell_type": "code",
   "execution_count": 1,
   "id": "59ffd6c0",
   "metadata": {},
   "outputs": [
    {
     "data": {
      "text/plain": [
       "(1, 2, 3, 4)"
      ]
     },
     "execution_count": 1,
     "metadata": {},
     "output_type": "execute_result"
    }
   ],
   "source": [
    "(1, 2) + (3, 4) # Concatenation"
   ]
  },
  {
   "cell_type": "code",
   "execution_count": 2,
   "id": "02968181",
   "metadata": {},
   "outputs": [
    {
     "data": {
      "text/plain": [
       "(1, 2, 1, 2, 1, 2, 1, 2)"
      ]
     },
     "execution_count": 2,
     "metadata": {},
     "output_type": "execute_result"
    }
   ],
   "source": [
    "(1, 2) * 4 # Repetition"
   ]
  },
  {
   "cell_type": "code",
   "execution_count": 3,
   "id": "61c4785f",
   "metadata": {},
   "outputs": [
    {
     "data": {
      "text/plain": [
       "(1, (2, 3))"
      ]
     },
     "execution_count": 3,
     "metadata": {},
     "output_type": "execute_result"
    }
   ],
   "source": [
    "T = (1, 2, 3, 4) # Indexing, slicing\n",
    "T[0], T[1:3]"
   ]
  },
  {
   "cell_type": "code",
   "execution_count": 4,
   "id": "c6870d56",
   "metadata": {},
   "outputs": [
    {
     "data": {
      "text/plain": [
       "(40,)"
      ]
     },
     "execution_count": 4,
     "metadata": {},
     "output_type": "execute_result"
    }
   ],
   "source": [
    "y = (40,) # A tuple containing an integer\n",
    "y"
   ]
  },
  {
   "cell_type": "code",
   "execution_count": 6,
   "id": "e5ff324c",
   "metadata": {},
   "outputs": [
    {
     "data": {
      "text/plain": [
       "(0, 'Ni', 1.2, 3)"
      ]
     },
     "execution_count": 6,
     "metadata": {},
     "output_type": "execute_result"
    }
   ],
   "source": [
    "# creating a tuple without the parentheses\n",
    "T = 0, 'Ni', 1.2, 3 \n",
    "T"
   ]
  },
  {
   "cell_type": "markdown",
   "id": "f359223e",
   "metadata": {},
   "source": [
    "### Conversions, methods, and immutability "
   ]
  },
  {
   "cell_type": "code",
   "execution_count": 7,
   "id": "02c371b3",
   "metadata": {},
   "outputs": [
    {
     "data": {
      "text/plain": [
       "['aa', 'bb', 'cc', 'dd']"
      ]
     },
     "execution_count": 7,
     "metadata": {},
     "output_type": "execute_result"
    }
   ],
   "source": [
    "T = ('cc', 'aa', 'dd', 'bb')\n",
    "tmp = list(T) # Make a list from a tuple's items\n",
    "tmp.sort() # Sort the list\n",
    "tmp"
   ]
  },
  {
   "cell_type": "code",
   "execution_count": 8,
   "id": "165159c4",
   "metadata": {},
   "outputs": [
    {
     "data": {
      "text/plain": [
       "('aa', 'bb', 'cc', 'dd')"
      ]
     },
     "execution_count": 8,
     "metadata": {},
     "output_type": "execute_result"
    }
   ],
   "source": [
    "T = tuple(tmp) # Make a tuple from the list's items\n",
    "T"
   ]
  },
  {
   "cell_type": "code",
   "execution_count": 9,
   "id": "6236d058",
   "metadata": {},
   "outputs": [
    {
     "data": {
      "text/plain": [
       "['aa', 'bb', 'cc', 'dd']"
      ]
     },
     "execution_count": 9,
     "metadata": {},
     "output_type": "execute_result"
    }
   ],
   "source": [
    "# # Or use the sorted built-in, and save two steps\n",
    "sorted(T)"
   ]
  },
  {
   "cell_type": "code",
   "execution_count": 10,
   "id": "f10e5883",
   "metadata": {},
   "outputs": [
    {
     "data": {
      "text/plain": [
       "[21, 22, 23, 24, 25]"
      ]
     },
     "execution_count": 10,
     "metadata": {},
     "output_type": "execute_result"
    }
   ],
   "source": [
    "# List comprehensions can also be used to convert tuples.\n",
    "T = (1, 2, 3, 4, 5) \n",
    "L = [x + 20 for x in T] \n",
    "L"
   ]
  },
  {
   "cell_type": "code",
   "execution_count": 11,
   "id": "2f46cdf6",
   "metadata": {},
   "outputs": [
    {
     "ename": "TypeError",
     "evalue": "'tuple' object does not support item assignment",
     "output_type": "error",
     "traceback": [
      "\u001b[1;31m---------------------------------------------------------------------------\u001b[0m",
      "\u001b[1;31mTypeError\u001b[0m                                 Traceback (most recent call last)",
      "\u001b[1;32m<ipython-input-11-e45834ecb66e>\u001b[0m in \u001b[0;36m<module>\u001b[1;34m\u001b[0m\n\u001b[0;32m      1\u001b[0m \u001b[0mT\u001b[0m \u001b[1;33m=\u001b[0m \u001b[1;33m(\u001b[0m\u001b[1;36m1\u001b[0m\u001b[1;33m,\u001b[0m \u001b[1;33m[\u001b[0m\u001b[1;36m2\u001b[0m\u001b[1;33m,\u001b[0m \u001b[1;36m3\u001b[0m\u001b[1;33m]\u001b[0m\u001b[1;33m,\u001b[0m \u001b[1;36m4\u001b[0m\u001b[1;33m)\u001b[0m\u001b[1;33m\u001b[0m\u001b[1;33m\u001b[0m\u001b[0m\n\u001b[1;32m----> 2\u001b[1;33m \u001b[0mT\u001b[0m\u001b[1;33m[\u001b[0m\u001b[1;36m1\u001b[0m\u001b[1;33m]\u001b[0m \u001b[1;33m=\u001b[0m \u001b[1;34m'spam'\u001b[0m \u001b[1;31m# This fails: can't change tuple itself\u001b[0m\u001b[1;33m\u001b[0m\u001b[1;33m\u001b[0m\u001b[0m\n\u001b[0m",
      "\u001b[1;31mTypeError\u001b[0m: 'tuple' object does not support item assignment"
     ]
    }
   ],
   "source": [
    "T = (1, [2, 3], 4)\n",
    "T[1] = 'spam' # This fails: can't change tuple itself"
   ]
  },
  {
   "cell_type": "code",
   "execution_count": 13,
   "id": "448bb288",
   "metadata": {},
   "outputs": [
    {
     "data": {
      "text/plain": [
       "(1, ['spam', 3], 4)"
      ]
     },
     "execution_count": 13,
     "metadata": {},
     "output_type": "execute_result"
    }
   ],
   "source": [
    "T = (1, [2, 3], 4)\n",
    "T[1][0] = 'spam' # This works: can change mutables inside \n",
    "T"
   ]
  },
  {
   "cell_type": "markdown",
   "id": "b9591bfd",
   "metadata": {},
   "source": [
    "### Why Lists and Tuples?"
   ]
  },
  {
   "cell_type": "markdown",
   "id": "83877d00",
   "metadata": {},
   "source": [
    "- the immutability of tuples provides some integrity—you can be sure a tuple won’t be changed through another reference elsewhere in a program, but there’s no such guarantee for lists. Tuples"
   ]
  },
  {
   "cell_type": "markdown",
   "id": "b8824b51",
   "metadata": {},
   "source": [
    "### Records Revisited: Named Tuples"
   ]
  },
  {
   "cell_type": "markdown",
   "id": "fb4ef342",
   "metadata": {},
   "source": [
    "- tuples can serve the purpose of representing record-like information like dictionary"
   ]
  },
  {
   "cell_type": "code",
   "execution_count": 3,
   "id": "d4040a40",
   "metadata": {},
   "outputs": [
    {
     "data": {
      "text/plain": [
       "Rec(name='Bob', age=40.5, jobs=['dev', 'mgr'])"
      ]
     },
     "execution_count": 3,
     "metadata": {},
     "output_type": "execute_result"
    }
   ],
   "source": [
    "# import extension type \n",
    "from collections import namedtuple \n",
    "# make a generated class\n",
    "Rec = namedtuple('Rec', ['name', 'age', 'jobs']) \n",
    "# a named-tuple record\n",
    "bob = Rec('Bob', age=40.5, jobs=['dev', 'mgr']) \n",
    "bob"
   ]
  },
  {
   "cell_type": "code",
   "execution_count": null,
   "id": "ccf2e2ef",
   "metadata": {},
   "outputs": [],
   "source": [
    "# access by postion \n",
    "bob[0], bob[2][0]"
   ]
  },
  {
   "cell_type": "code",
   "execution_count": 8,
   "id": "922b3f8e",
   "metadata": {},
   "outputs": [
    {
     "data": {
      "text/plain": [
       "('Bob', ['dev', 'mgr'])"
      ]
     },
     "execution_count": 8,
     "metadata": {},
     "output_type": "execute_result"
    }
   ],
   "source": [
    "# access by attribute \n",
    "bob.name, bob.jobs"
   ]
  },
  {
   "cell_type": "markdown",
   "id": "9d9bf039",
   "metadata": {},
   "source": [
    "## Files \n",
    "\n",
    "### Opening Files"
   ]
  },
  {
   "cell_type": "code",
   "execution_count": null,
   "id": "2e2999f9",
   "metadata": {},
   "outputs": [],
   "source": [
    "\"\"\" \n",
    "afile = open(filename, mode)\n",
    "afile.method() \n",
    "\"\"\""
   ]
  },
  {
   "cell_type": "markdown",
   "id": "1635730f",
   "metadata": {},
   "source": [
    "### Files in Action"
   ]
  },
  {
   "cell_type": "code",
   "execution_count": 12,
   "id": "211d4e1b",
   "metadata": {},
   "outputs": [
    {
     "data": {
      "text/plain": [
       "16"
      ]
     },
     "execution_count": 12,
     "metadata": {},
     "output_type": "execute_result"
    }
   ],
   "source": [
    "# open for text output: create/empty\n",
    "myfile = open('myfile.txt', 'w') \n",
    "\n",
    "# write a line of text: string \n",
    "myfile.write('hello text file\\n') "
   ]
  },
  {
   "cell_type": "code",
   "execution_count": 13,
   "id": "c8c2f973",
   "metadata": {},
   "outputs": [
    {
     "data": {
      "text/plain": [
       "18"
      ]
     },
     "execution_count": 13,
     "metadata": {},
     "output_type": "execute_result"
    }
   ],
   "source": [
    "myfile.write('goodbye text file\\n')"
   ]
  },
  {
   "cell_type": "code",
   "execution_count": 14,
   "id": "ccfcae1d",
   "metadata": {},
   "outputs": [],
   "source": [
    "# flush output buffers to disk \n",
    "myfile.close()"
   ]
  },
  {
   "cell_type": "code",
   "execution_count": 15,
   "id": "079ab17e",
   "metadata": {},
   "outputs": [
    {
     "data": {
      "text/plain": [
       "'hello text file\\n'"
      ]
     },
     "execution_count": 15,
     "metadata": {},
     "output_type": "execute_result"
    }
   ],
   "source": [
    "# open for text input: 'r' is default\n",
    "myfile = open('myfile.txt') \n",
    "# read the line back\n",
    "myfile.readline()"
   ]
  },
  {
   "cell_type": "code",
   "execution_count": 16,
   "id": "e0583ecf",
   "metadata": {},
   "outputs": [
    {
     "data": {
      "text/plain": [
       "'goodbye text file\\n'"
      ]
     },
     "execution_count": 16,
     "metadata": {},
     "output_type": "execute_result"
    }
   ],
   "source": [
    "myfile.readline()"
   ]
  },
  {
   "cell_type": "code",
   "execution_count": 17,
   "id": "18f11046",
   "metadata": {},
   "outputs": [
    {
     "data": {
      "text/plain": [
       "''"
      ]
     },
     "execution_count": 17,
     "metadata": {},
     "output_type": "execute_result"
    }
   ],
   "source": [
    "# empty string: end of file\n",
    "myfile.readline()"
   ]
  },
  {
   "cell_type": "code",
   "execution_count": 18,
   "id": "d034f49a",
   "metadata": {},
   "outputs": [
    {
     "data": {
      "text/plain": [
       "'hello text file\\ngoodbye text file\\n'"
      ]
     },
     "execution_count": 18,
     "metadata": {},
     "output_type": "execute_result"
    }
   ],
   "source": [
    "# read all at once into string \n",
    "open('myfile.txt').read()"
   ]
  },
  {
   "cell_type": "code",
   "execution_count": 19,
   "id": "87702757",
   "metadata": {},
   "outputs": [
    {
     "name": "stdout",
     "output_type": "stream",
     "text": [
      "hello text file\n",
      "goodbye text file\n",
      "\n"
     ]
    }
   ],
   "source": [
    "# user-friendly display\n",
    "print(open('myfile.txt').read())"
   ]
  },
  {
   "cell_type": "markdown",
   "id": "5a59dc9d",
   "metadata": {},
   "source": [
    "### Storing Python Objects in Files: Conversions "
   ]
  },
  {
   "cell_type": "code",
   "execution_count": 20,
   "id": "886d7cb4",
   "metadata": {},
   "outputs": [],
   "source": [
    "# Native python objects \n",
    "X, Y, Z = 43, 44, 45 \n",
    "# must be strings to store in a file\n",
    "S = 'spam' \n",
    "D = {'a':1, 'b':2} \n",
    "L = [1, 2, 3] "
   ]
  },
  {
   "cell_type": "code",
   "execution_count": 21,
   "id": "caaee41a",
   "metadata": {},
   "outputs": [],
   "source": [
    "F = open('datafile.txt', 'w') \n",
    "# Terminate lines by \\n \n",
    "F.write(S + '\\n') \n",
    "# convert number to strings \n",
    "F.write('%s,%s,%s\\n' %(X, Y, Z)) \n",
    "# convert and sepoarate with $ \n",
    "F.write(str(L) + '$' + str(D) + '\\n')\n",
    "F.close()"
   ]
  },
  {
   "cell_type": "code",
   "execution_count": 22,
   "id": "ba7fa93c",
   "metadata": {},
   "outputs": [
    {
     "data": {
      "text/plain": [
       "\"spam\\n43,44,45\\n[1, 2, 3]${'a': 1, 'b': 2}\\n\""
      ]
     },
     "execution_count": 22,
     "metadata": {},
     "output_type": "execute_result"
    }
   ],
   "source": [
    "# raw string display \n",
    "chars = open('datafile.txt').read()\n",
    "chars"
   ]
  },
  {
   "cell_type": "code",
   "execution_count": 23,
   "id": "890f8a8b",
   "metadata": {},
   "outputs": [
    {
     "name": "stdout",
     "output_type": "stream",
     "text": [
      "spam\n",
      "43,44,45\n",
      "[1, 2, 3]${'a': 1, 'b': 2}\n",
      "\n"
     ]
    }
   ],
   "source": [
    "# user friendly display\n",
    "print(chars)"
   ]
  },
  {
   "cell_type": "markdown",
   "id": "4e6bd24a",
   "metadata": {},
   "source": [
    "#### Converting back to oringinal object dtype "
   ]
  },
  {
   "cell_type": "code",
   "execution_count": 24,
   "id": "309cb24e",
   "metadata": {},
   "outputs": [
    {
     "data": {
      "text/plain": [
       "'spam\\n'"
      ]
     },
     "execution_count": 24,
     "metadata": {},
     "output_type": "execute_result"
    }
   ],
   "source": [
    "# open \n",
    "F = open('datafile.txt')\n",
    "# read one line\n",
    "line = F.readline()\n",
    "line"
   ]
  },
  {
   "cell_type": "code",
   "execution_count": 25,
   "id": "c45f2b0d",
   "metadata": {},
   "outputs": [
    {
     "data": {
      "text/plain": [
       "'spam'"
      ]
     },
     "execution_count": 25,
     "metadata": {},
     "output_type": "execute_result"
    }
   ],
   "source": [
    "line.rstrip()"
   ]
  },
  {
   "cell_type": "code",
   "execution_count": 26,
   "id": "c7f2ce5c",
   "metadata": {},
   "outputs": [
    {
     "data": {
      "text/plain": [
       "'43,44,45\\n'"
      ]
     },
     "execution_count": 26,
     "metadata": {},
     "output_type": "execute_result"
    }
   ],
   "source": [
    "# next line from file \n",
    "line = F.readline()\n",
    "line"
   ]
  },
  {
   "cell_type": "code",
   "execution_count": 29,
   "id": "58a7b53f",
   "metadata": {},
   "outputs": [
    {
     "data": {
      "text/plain": [
       "['43', '44', '45\\n']"
      ]
     },
     "execution_count": 29,
     "metadata": {},
     "output_type": "execute_result"
    }
   ],
   "source": [
    "# split(parse) on commas \n",
    "parts = line.split(',')\n",
    "parts"
   ]
  },
  {
   "cell_type": "code",
   "execution_count": 30,
   "id": "12e20419",
   "metadata": {},
   "outputs": [
    {
     "data": {
      "text/plain": [
       "[43, 44, 45]"
      ]
     },
     "execution_count": 30,
     "metadata": {},
     "output_type": "execute_result"
    }
   ],
   "source": [
    "# convert to int \n",
    "numbers = [int(P) for P in parts]\n",
    "numbers"
   ]
  },
  {
   "cell_type": "code",
   "execution_count": 31,
   "id": "d98c72e0",
   "metadata": {},
   "outputs": [
    {
     "data": {
      "text/plain": [
       "\"[1, 2, 3]${'a': 1, 'b': 2}\\n\""
      ]
     },
     "execution_count": 31,
     "metadata": {},
     "output_type": "execute_result"
    }
   ],
   "source": [
    "# next line from file \n",
    "line = F.readline()\n",
    "line"
   ]
  },
  {
   "cell_type": "code",
   "execution_count": 32,
   "id": "46c66a1c",
   "metadata": {},
   "outputs": [
    {
     "data": {
      "text/plain": [
       "['[1, 2, 3]', \"{'a': 1, 'b': 2}\\n\"]"
      ]
     },
     "execution_count": 32,
     "metadata": {},
     "output_type": "execute_result"
    }
   ],
   "source": [
    "# split(parse) on commas \n",
    "parts = line.split('$')\n",
    "parts"
   ]
  },
  {
   "cell_type": "code",
   "execution_count": 35,
   "id": "b763aa2a",
   "metadata": {},
   "outputs": [
    {
     "data": {
      "text/plain": [
       "[1, 2, 3]"
      ]
     },
     "execution_count": 35,
     "metadata": {},
     "output_type": "execute_result"
    }
   ],
   "source": [
    "eval(parts[0])"
   ]
  },
  {
   "cell_type": "code",
   "execution_count": 36,
   "id": "d3d45876",
   "metadata": {},
   "outputs": [
    {
     "data": {
      "text/plain": [
       "{'a': 1, 'b': 2}"
      ]
     },
     "execution_count": 36,
     "metadata": {},
     "output_type": "execute_result"
    }
   ],
   "source": [
    "eval(parts[1])"
   ]
  },
  {
   "cell_type": "markdown",
   "id": "7f50e98c",
   "metadata": {},
   "source": [
    "### Storing Native Python Objects: pickle"
   ]
  },
  {
   "cell_type": "code",
   "execution_count": 37,
   "id": "bd85343c",
   "metadata": {},
   "outputs": [],
   "source": [
    "D = {'a': 1, 'b': 2}\n",
    "F = open('datafile.pkl', 'wb')\n",
    "\n",
    "# pickle any object to file\n",
    "import pickle\n",
    "pickle.dump(D, F)\n",
    "F.close()"
   ]
  },
  {
   "cell_type": "code",
   "execution_count": 38,
   "id": "b7a02ccc",
   "metadata": {},
   "outputs": [
    {
     "data": {
      "text/plain": [
       "{'a': 1, 'b': 2}"
      ]
     },
     "execution_count": 38,
     "metadata": {},
     "output_type": "execute_result"
    }
   ],
   "source": [
    "F = open('datafile.pkl', 'rb')\n",
    "E = pickle.load(F)\n",
    "E"
   ]
  },
  {
   "cell_type": "markdown",
   "id": "c55949d3",
   "metadata": {},
   "source": [
    "### Storing Python Objects in JSON Format"
   ]
  },
  {
   "cell_type": "code",
   "execution_count": 39,
   "id": "8083c356",
   "metadata": {},
   "outputs": [
    {
     "data": {
      "text/plain": [
       "{'name': {'first': 'Bob', 'last': 'Smith'}, 'job': ['dev', 'mgr'], 'age': 40.5}"
      ]
     },
     "execution_count": 39,
     "metadata": {},
     "output_type": "execute_result"
    }
   ],
   "source": [
    "name = dict(first='Bob', last='Smith')\n",
    "rec = dict(name=name, job=['dev', 'mgr'], age=40.5)\n",
    "rec"
   ]
  },
  {
   "cell_type": "code",
   "execution_count": 40,
   "id": "eb6bd186",
   "metadata": {},
   "outputs": [
    {
     "data": {
      "text/plain": [
       "'{\"name\": {\"first\": \"Bob\", \"last\": \"Smith\"}, \"job\": [\"dev\", \"mgr\"], \"age\": 40.5}'"
      ]
     },
     "execution_count": 40,
     "metadata": {},
     "output_type": "execute_result"
    }
   ],
   "source": [
    "import json \n",
    "json.dumps(rec)"
   ]
  },
  {
   "cell_type": "code",
   "execution_count": 41,
   "id": "b3af760f",
   "metadata": {},
   "outputs": [
    {
     "data": {
      "text/plain": [
       "'{\"name\": {\"first\": \"Bob\", \"last\": \"Smith\"}, \"job\": [\"dev\", \"mgr\"], \"age\": 40.5}'"
      ]
     },
     "execution_count": 41,
     "metadata": {},
     "output_type": "execute_result"
    }
   ],
   "source": [
    "S = json.dumps(rec)\n",
    "S"
   ]
  },
  {
   "cell_type": "code",
   "execution_count": 45,
   "id": "b27a27cb",
   "metadata": {},
   "outputs": [
    {
     "data": {
      "text/plain": [
       "{'name': {'first': 'Bob', 'last': 'Smith'}, 'job': ['dev', 'mgr'], 'age': 40.5}"
      ]
     },
     "execution_count": 45,
     "metadata": {},
     "output_type": "execute_result"
    }
   ],
   "source": [
    "O = json.loads(S)\n",
    "O"
   ]
  },
  {
   "cell_type": "code",
   "execution_count": 46,
   "id": "0620e6de",
   "metadata": {},
   "outputs": [
    {
     "data": {
      "text/plain": [
       "True"
      ]
     },
     "execution_count": 46,
     "metadata": {},
     "output_type": "execute_result"
    }
   ],
   "source": [
    "O == rec"
   ]
  },
  {
   "cell_type": "code",
   "execution_count": 47,
   "id": "c07950bf",
   "metadata": {},
   "outputs": [
    {
     "name": "stdout",
     "output_type": "stream",
     "text": [
      "{\n",
      "    \"name\": {\n",
      "        \"first\": \"Bob\",\n",
      "        \"last\": \"Smith\"\n",
      "    },\n",
      "    \"job\": [\n",
      "        \"dev\",\n",
      "        \"mgr\"\n",
      "    ],\n",
      "    \"age\": 40.5\n",
      "}\n"
     ]
    }
   ],
   "source": [
    "json.dump(rec, fp=open('testjson.txt', 'w'), indent=4)\n",
    "print(open('testjson.txt').read())"
   ]
  },
  {
   "cell_type": "markdown",
   "id": "04a662ca",
   "metadata": {},
   "source": []
  },
  {
   "cell_type": "code",
   "execution_count": null,
   "id": "0474086c",
   "metadata": {},
   "outputs": [],
   "source": []
  }
 ],
 "metadata": {
  "kernelspec": {
   "display_name": "Python 3",
   "language": "python",
   "name": "python3"
  },
  "language_info": {
   "codemirror_mode": {
    "name": "ipython",
    "version": 3
   },
   "file_extension": ".py",
   "mimetype": "text/x-python",
   "name": "python",
   "nbconvert_exporter": "python",
   "pygments_lexer": "ipython3",
   "version": "3.8.8"
  }
 },
 "nbformat": 4,
 "nbformat_minor": 5
}
