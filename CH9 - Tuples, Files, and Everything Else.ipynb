{
 "cells": [
  {
   "cell_type": "markdown",
   "id": "6840e430",
   "metadata": {},
   "source": [
    "### Tuples: Tuples in Action"
   ]
  },
  {
   "cell_type": "code",
   "execution_count": 1,
   "id": "59ffd6c0",
   "metadata": {},
   "outputs": [
    {
     "data": {
      "text/plain": [
       "(1, 2, 3, 4)"
      ]
     },
     "execution_count": 1,
     "metadata": {},
     "output_type": "execute_result"
    }
   ],
   "source": [
    "(1, 2) + (3, 4) # Concatenation"
   ]
  },
  {
   "cell_type": "code",
   "execution_count": 2,
   "id": "02968181",
   "metadata": {},
   "outputs": [
    {
     "data": {
      "text/plain": [
       "(1, 2, 1, 2, 1, 2, 1, 2)"
      ]
     },
     "execution_count": 2,
     "metadata": {},
     "output_type": "execute_result"
    }
   ],
   "source": [
    "(1, 2) * 4 # Repetition"
   ]
  },
  {
   "cell_type": "code",
   "execution_count": 3,
   "id": "61c4785f",
   "metadata": {},
   "outputs": [
    {
     "data": {
      "text/plain": [
       "(1, (2, 3))"
      ]
     },
     "execution_count": 3,
     "metadata": {},
     "output_type": "execute_result"
    }
   ],
   "source": [
    "T = (1, 2, 3, 4) # Indexing, slicing\n",
    "T[0], T[1:3]"
   ]
  },
  {
   "cell_type": "code",
   "execution_count": 4,
   "id": "c6870d56",
   "metadata": {},
   "outputs": [
    {
     "data": {
      "text/plain": [
       "(40,)"
      ]
     },
     "execution_count": 4,
     "metadata": {},
     "output_type": "execute_result"
    }
   ],
   "source": [
    "y = (40,) # A tuple containing an integer\n",
    "y"
   ]
  },
  {
   "cell_type": "code",
   "execution_count": 6,
   "id": "e5ff324c",
   "metadata": {},
   "outputs": [
    {
     "data": {
      "text/plain": [
       "(0, 'Ni', 1.2, 3)"
      ]
     },
     "execution_count": 6,
     "metadata": {},
     "output_type": "execute_result"
    }
   ],
   "source": [
    "# creating a tuple without the parentheses\n",
    "T = 0, 'Ni', 1.2, 3 \n",
    "T"
   ]
  },
  {
   "cell_type": "markdown",
   "id": "f359223e",
   "metadata": {},
   "source": [
    "### Conversions, methods, and immutability "
   ]
  },
  {
   "cell_type": "code",
   "execution_count": 7,
   "id": "02c371b3",
   "metadata": {},
   "outputs": [
    {
     "data": {
      "text/plain": [
       "['aa', 'bb', 'cc', 'dd']"
      ]
     },
     "execution_count": 7,
     "metadata": {},
     "output_type": "execute_result"
    }
   ],
   "source": [
    "T = ('cc', 'aa', 'dd', 'bb')\n",
    "tmp = list(T) # Make a list from a tuple's items\n",
    "tmp.sort() # Sort the list\n",
    "tmp"
   ]
  },
  {
   "cell_type": "code",
   "execution_count": 8,
   "id": "165159c4",
   "metadata": {},
   "outputs": [
    {
     "data": {
      "text/plain": [
       "('aa', 'bb', 'cc', 'dd')"
      ]
     },
     "execution_count": 8,
     "metadata": {},
     "output_type": "execute_result"
    }
   ],
   "source": [
    "T = tuple(tmp) # Make a tuple from the list's items\n",
    "T"
   ]
  },
  {
   "cell_type": "code",
   "execution_count": 9,
   "id": "6236d058",
   "metadata": {},
   "outputs": [
    {
     "data": {
      "text/plain": [
       "['aa', 'bb', 'cc', 'dd']"
      ]
     },
     "execution_count": 9,
     "metadata": {},
     "output_type": "execute_result"
    }
   ],
   "source": [
    "# # Or use the sorted built-in, and save two steps\n",
    "sorted(T)"
   ]
  },
  {
   "cell_type": "code",
   "execution_count": 10,
   "id": "f10e5883",
   "metadata": {},
   "outputs": [
    {
     "data": {
      "text/plain": [
       "[21, 22, 23, 24, 25]"
      ]
     },
     "execution_count": 10,
     "metadata": {},
     "output_type": "execute_result"
    }
   ],
   "source": [
    "# List comprehensions can also be used to convert tuples.\n",
    "T = (1, 2, 3, 4, 5) \n",
    "L = [x + 20 for x in T] \n",
    "L"
   ]
  },
  {
   "cell_type": "code",
   "execution_count": 11,
   "id": "2f46cdf6",
   "metadata": {},
   "outputs": [
    {
     "ename": "TypeError",
     "evalue": "'tuple' object does not support item assignment",
     "output_type": "error",
     "traceback": [
      "\u001b[1;31m---------------------------------------------------------------------------\u001b[0m",
      "\u001b[1;31mTypeError\u001b[0m                                 Traceback (most recent call last)",
      "\u001b[1;32m<ipython-input-11-e45834ecb66e>\u001b[0m in \u001b[0;36m<module>\u001b[1;34m\u001b[0m\n\u001b[0;32m      1\u001b[0m \u001b[0mT\u001b[0m \u001b[1;33m=\u001b[0m \u001b[1;33m(\u001b[0m\u001b[1;36m1\u001b[0m\u001b[1;33m,\u001b[0m \u001b[1;33m[\u001b[0m\u001b[1;36m2\u001b[0m\u001b[1;33m,\u001b[0m \u001b[1;36m3\u001b[0m\u001b[1;33m]\u001b[0m\u001b[1;33m,\u001b[0m \u001b[1;36m4\u001b[0m\u001b[1;33m)\u001b[0m\u001b[1;33m\u001b[0m\u001b[1;33m\u001b[0m\u001b[0m\n\u001b[1;32m----> 2\u001b[1;33m \u001b[0mT\u001b[0m\u001b[1;33m[\u001b[0m\u001b[1;36m1\u001b[0m\u001b[1;33m]\u001b[0m \u001b[1;33m=\u001b[0m \u001b[1;34m'spam'\u001b[0m \u001b[1;31m# This fails: can't change tuple itself\u001b[0m\u001b[1;33m\u001b[0m\u001b[1;33m\u001b[0m\u001b[0m\n\u001b[0m",
      "\u001b[1;31mTypeError\u001b[0m: 'tuple' object does not support item assignment"
     ]
    }
   ],
   "source": [
    "T = (1, [2, 3], 4)\n",
    "T[1] = 'spam' # This fails: can't change tuple itself"
   ]
  },
  {
   "cell_type": "code",
   "execution_count": 13,
   "id": "448bb288",
   "metadata": {},
   "outputs": [
    {
     "data": {
      "text/plain": [
       "(1, ['spam', 3], 4)"
      ]
     },
     "execution_count": 13,
     "metadata": {},
     "output_type": "execute_result"
    }
   ],
   "source": [
    "T = (1, [2, 3], 4)\n",
    "T[1][0] = 'spam' # This works: can change mutables inside \n",
    "T"
   ]
  },
  {
   "cell_type": "markdown",
   "id": "b9591bfd",
   "metadata": {},
   "source": [
    "### Why Lists and Tuples?"
   ]
  },
  {
   "cell_type": "markdown",
   "id": "83877d00",
   "metadata": {},
   "source": [
    "- the immutability of tuples provides some integrity—you can be sure a tuple won’t be changed through another reference elsewhere in a program, but there’s no such guarantee for lists. Tuples"
   ]
  },
  {
   "cell_type": "markdown",
   "id": "b8824b51",
   "metadata": {},
   "source": [
    "### Records Revisited: Named Tuples"
   ]
  },
  {
   "cell_type": "markdown",
   "id": "f4a2af10",
   "metadata": {},
   "source": [
    "- tuples can serve the purpose of representing record-like information like dictionary"
   ]
  },
  {
   "cell_type": "code",
   "execution_count": 3,
   "id": "bc0ec121",
   "metadata": {},
   "outputs": [
    {
     "data": {
      "text/plain": [
       "Rec(name='Bob', age=40.5, jobs=['dev', 'mgr'])"
      ]
     },
     "execution_count": 3,
     "metadata": {},
     "output_type": "execute_result"
    }
   ],
   "source": [
    "# import extension type \n",
    "from collections import namedtuple \n",
    "# make a generated class\n",
    "Rec = namedtuple('Rec', ['name', 'age', 'jobs']) \n",
    "# a named-tuple record\n",
    "bob = Rec('Bob', age=40.5, jobs=['dev', 'mgr']) \n",
    "bob"
   ]
  },
  {
   "cell_type": "code",
   "execution_count": 5,
   "id": "4f1228e1",
   "metadata": {},
   "outputs": [
    {
     "data": {
      "text/plain": [
       "('Bob', 'dev')"
      ]
     },
     "execution_count": 5,
     "metadata": {},
     "output_type": "execute_result"
    }
   ],
   "source": [
    "# access by postion \n",
    "bob[0], bob[2][0]"
   ]
  },
  {
   "cell_type": "code",
   "execution_count": 8,
   "id": "3735cb26",
   "metadata": {},
   "outputs": [
    {
     "data": {
      "text/plain": [
       "('Bob', ['dev', 'mgr'])"
      ]
     },
     "execution_count": 8,
     "metadata": {},
     "output_type": "execute_result"
    }
   ],
   "source": [
    "# access by attribute \n",
    "bob.name, bob.jobs"
   ]
  },
  {
   "cell_type": "code",
   "execution_count": null,
   "id": "e8fc2d67",
   "metadata": {},
   "outputs": [],
   "source": []
  }
 ],
 "metadata": {
  "kernelspec": {
   "display_name": "Python 3",
   "language": "python",
   "name": "python3"
  },
  "language_info": {
   "codemirror_mode": {
    "name": "ipython",
    "version": 3
   },
   "file_extension": ".py",
   "mimetype": "text/x-python",
   "name": "python",
   "nbconvert_exporter": "python",
   "pygments_lexer": "ipython3",
   "version": "3.8.8"
  }
 },
 "nbformat": 4,
 "nbformat_minor": 5
}
