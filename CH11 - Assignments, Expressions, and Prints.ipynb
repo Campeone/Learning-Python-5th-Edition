{
 "cells": [
  {
   "cell_type": "markdown",
   "id": "46a4b891",
   "metadata": {},
   "source": [
    "### Assignment Statements"
   ]
  },
  {
   "cell_type": "markdown",
   "id": "e054ca7b",
   "metadata": {},
   "source": [
    "- Assignments create object references. \n",
    "- Names are created when first assigned. \n",
    "- Names must be assigned before being referenced. \n",
    "- Some operations perform assignments implicitly."
   ]
  },
  {
   "cell_type": "markdown",
   "id": "1888238b",
   "metadata": {},
   "source": [
    "### Assignment Statements Form"
   ]
  },
  {
   "cell_type": "code",
   "execution_count": 3,
   "id": "60f2fb9f",
   "metadata": {},
   "outputs": [],
   "source": [
    "spam = 'Spam' # Basic form\n",
    "spam, ham = 'yum', 'YUM' # Tuple assignment (positional)\n",
    "[spam, ham] = ['yum', 'YUM'] # List assignment (positional)\n",
    "a, b, c, d = 'spam' # Sequence assignment, generalized\n",
    "a, *b = 'spam' # Extended sequence unpacking (Python 3.X)\n",
    "spam = ham = 'lunch' # Multiple-target assignment\n",
    "spam += '42' # Augmented assignment (equivalent to spams = spams + 42)"
   ]
  },
  {
   "cell_type": "code",
   "execution_count": 4,
   "id": "36667bcd",
   "metadata": {},
   "outputs": [
    {
     "data": {
      "text/plain": [
       "(1, 2)"
      ]
     },
     "execution_count": 4,
     "metadata": {},
     "output_type": "execute_result"
    }
   ],
   "source": [
    "nudge = 1 # Basic assignment\n",
    "wink = 2\n",
    "A, B = nudge, wink # Tuple assignment\n",
    "A, B # Like A = nudge; B = wink"
   ]
  },
  {
   "cell_type": "code",
   "execution_count": 5,
   "id": "e2c252ce",
   "metadata": {},
   "outputs": [
    {
     "data": {
      "text/plain": [
       "(1, 2)"
      ]
     },
     "execution_count": 5,
     "metadata": {},
     "output_type": "execute_result"
    }
   ],
   "source": [
    "[C, D] = [nudge, wink] # List assignment\n",
    "C, D"
   ]
  },
  {
   "cell_type": "code",
   "execution_count": 6,
   "id": "83223734",
   "metadata": {},
   "outputs": [
    {
     "data": {
      "text/plain": [
       "(2, 1)"
      ]
     },
     "execution_count": 6,
     "metadata": {},
     "output_type": "execute_result"
    }
   ],
   "source": [
    "nudge = 1\n",
    "wink = 2\n",
    "nudge, wink = wink, nudge # Tuples: swaps values\n",
    "nudge, wink # Like T = nudge; nudge = wink; wink = T"
   ]
  },
  {
   "cell_type": "code",
   "execution_count": 7,
   "id": "9cff45c2",
   "metadata": {},
   "outputs": [
    {
     "data": {
      "text/plain": [
       "(1, 3)"
      ]
     },
     "execution_count": 7,
     "metadata": {},
     "output_type": "execute_result"
    }
   ],
   "source": [
    "[a, b, c] = (1, 2, 3) # Assign tuple of values to list of names\n",
    "a, c"
   ]
  },
  {
   "cell_type": "code",
   "execution_count": 8,
   "id": "bd93a0b8",
   "metadata": {},
   "outputs": [
    {
     "data": {
      "text/plain": [
       "('A', 'C')"
      ]
     },
     "execution_count": 8,
     "metadata": {},
     "output_type": "execute_result"
    }
   ],
   "source": [
    "(a, b, c) = \"ABC\" # Assign string of characters to tuple\n",
    "a, c"
   ]
  },
  {
   "cell_type": "code",
   "execution_count": 9,
   "id": "a938d28a",
   "metadata": {},
   "outputs": [
    {
     "data": {
      "text/plain": [
       "(0, 1, 2)"
      ]
     },
     "execution_count": 9,
     "metadata": {},
     "output_type": "execute_result"
    }
   ],
   "source": [
    "red, green, blue = list(range(3)) \n",
    "red, green, blue"
   ]
  },
  {
   "cell_type": "markdown",
   "id": "a8d81f46",
   "metadata": {},
   "source": [
    "### Extxended unpacking in action"
   ]
  },
  {
   "cell_type": "code",
   "execution_count": 11,
   "id": "5c28afab",
   "metadata": {},
   "outputs": [],
   "source": [
    "seq = [1,2,3,4]"
   ]
  },
  {
   "cell_type": "code",
   "execution_count": 12,
   "id": "33076819",
   "metadata": {
    "scrolled": true
   },
   "outputs": [
    {
     "name": "stdout",
     "output_type": "stream",
     "text": [
      "1 2 3 4\n"
     ]
    }
   ],
   "source": [
    "a, b, c, d = seq\n",
    "print(a, b, c, d)"
   ]
  },
  {
   "cell_type": "code",
   "execution_count": 14,
   "id": "86747b92",
   "metadata": {},
   "outputs": [
    {
     "ename": "ValueError",
     "evalue": "too many values to unpack (expected 2)",
     "output_type": "error",
     "traceback": [
      "\u001b[1;31m---------------------------------------------------------------------------\u001b[0m",
      "\u001b[1;31mValueError\u001b[0m                                Traceback (most recent call last)",
      "\u001b[1;32m<ipython-input-14-8a1b49c05b5f>\u001b[0m in \u001b[0;36m<module>\u001b[1;34m\u001b[0m\n\u001b[1;32m----> 1\u001b[1;33m \u001b[0ma\u001b[0m\u001b[1;33m,\u001b[0m \u001b[0mb\u001b[0m \u001b[1;33m=\u001b[0m \u001b[0mseq\u001b[0m\u001b[1;33m\u001b[0m\u001b[1;33m\u001b[0m\u001b[0m\n\u001b[0m",
      "\u001b[1;31mValueError\u001b[0m: too many values to unpack (expected 2)"
     ]
    }
   ],
   "source": [
    "a, b = seq"
   ]
  },
  {
   "cell_type": "code",
   "execution_count": 17,
   "id": "87ac10e1",
   "metadata": {},
   "outputs": [
    {
     "data": {
      "text/plain": [
       "(1, [2, 3, 4])"
      ]
     },
     "execution_count": 17,
     "metadata": {},
     "output_type": "execute_result"
    }
   ],
   "source": [
    "a, *b = seq \n",
    "a, b"
   ]
  },
  {
   "cell_type": "code",
   "execution_count": 18,
   "id": "18a7292b",
   "metadata": {},
   "outputs": [
    {
     "data": {
      "text/plain": [
       "(1, [2, 3], 4)"
      ]
     },
     "execution_count": 18,
     "metadata": {},
     "output_type": "execute_result"
    }
   ],
   "source": [
    "a, *b, c = seq \n",
    "a, b, c"
   ]
  },
  {
   "cell_type": "code",
   "execution_count": 19,
   "id": "6cc0f164",
   "metadata": {},
   "outputs": [
    {
     "name": "stdout",
     "output_type": "stream",
     "text": [
      "1 2 3 4 []\n"
     ]
    }
   ],
   "source": [
    "a, b, c, d, *e = seq\n",
    "print(a, b, c, d, e)"
   ]
  },
  {
   "cell_type": "code",
   "execution_count": 20,
   "id": "85064082",
   "metadata": {},
   "outputs": [
    {
     "name": "stdout",
     "output_type": "stream",
     "text": [
      "1 2 3 4 []\n"
     ]
    }
   ],
   "source": [
    "a, b, *e, c, d = seq\n",
    ">>> print(a, b, c, d, e)"
   ]
  },
  {
   "cell_type": "markdown",
   "id": "90fa2bf6",
   "metadata": {},
   "source": [
    "- if there is nothing left to match the starred name, it is assigned an empty list, regardless of where it appears."
   ]
  },
  {
   "cell_type": "code",
   "execution_count": 21,
   "id": "3b634c93",
   "metadata": {},
   "outputs": [
    {
     "ename": "SyntaxError",
     "evalue": "two starred expressions in assignment (<ipython-input-21-c1609b2af02c>, line 1)",
     "output_type": "error",
     "traceback": [
      "\u001b[1;36m  File \u001b[1;32m\"<ipython-input-21-c1609b2af02c>\"\u001b[1;36m, line \u001b[1;32m1\u001b[0m\n\u001b[1;33m    a, *b, c, *d = seq\u001b[0m\n\u001b[1;37m    ^\u001b[0m\n\u001b[1;31mSyntaxError\u001b[0m\u001b[1;31m:\u001b[0m two starred expressions in assignment\n"
     ]
    }
   ],
   "source": [
    "a, *b, c, *d = seq"
   ]
  },
  {
   "cell_type": "code",
   "execution_count": 22,
   "id": "d0d60acf",
   "metadata": {},
   "outputs": [
    {
     "ename": "ValueError",
     "evalue": "too many values to unpack (expected 2)",
     "output_type": "error",
     "traceback": [
      "\u001b[1;31m---------------------------------------------------------------------------\u001b[0m",
      "\u001b[1;31mValueError\u001b[0m                                Traceback (most recent call last)",
      "\u001b[1;32m<ipython-input-22-8a1b49c05b5f>\u001b[0m in \u001b[0;36m<module>\u001b[1;34m\u001b[0m\n\u001b[1;32m----> 1\u001b[1;33m \u001b[0ma\u001b[0m\u001b[1;33m,\u001b[0m \u001b[0mb\u001b[0m \u001b[1;33m=\u001b[0m \u001b[0mseq\u001b[0m\u001b[1;33m\u001b[0m\u001b[1;33m\u001b[0m\u001b[0m\n\u001b[0m",
      "\u001b[1;31mValueError\u001b[0m: too many values to unpack (expected 2)"
     ]
    }
   ],
   "source": [
    "a, b = seq"
   ]
  },
  {
   "cell_type": "code",
   "execution_count": 23,
   "id": "cee15042",
   "metadata": {},
   "outputs": [
    {
     "ename": "SyntaxError",
     "evalue": "starred assignment target must be in a list or tuple (<ipython-input-23-0c03164bd60a>, line 1)",
     "output_type": "error",
     "traceback": [
      "\u001b[1;36m  File \u001b[1;32m\"<ipython-input-23-0c03164bd60a>\"\u001b[1;36m, line \u001b[1;32m1\u001b[0m\n\u001b[1;33m    *a = seq\u001b[0m\n\u001b[1;37m    ^\u001b[0m\n\u001b[1;31mSyntaxError\u001b[0m\u001b[1;31m:\u001b[0m starred assignment target must be in a list or tuple\n"
     ]
    }
   ],
   "source": [
    "*a = seq"
   ]
  },
  {
   "cell_type": "code",
   "execution_count": 25,
   "id": "930be304",
   "metadata": {},
   "outputs": [
    {
     "data": {
      "text/plain": [
       "[1, 2, 3, 4]"
      ]
     },
     "execution_count": 25,
     "metadata": {},
     "output_type": "execute_result"
    }
   ],
   "source": [
    "*a, = seq\n",
    "a"
   ]
  },
  {
   "cell_type": "markdown",
   "id": "05a0ac83",
   "metadata": {},
   "source": [
    "### Multiple-Target Assignments"
   ]
  },
  {
   "cell_type": "code",
   "execution_count": 27,
   "id": "e0b54ac6",
   "metadata": {},
   "outputs": [
    {
     "data": {
      "text/plain": [
       "('spam', 'spam', 'spam')"
      ]
     },
     "execution_count": 27,
     "metadata": {},
     "output_type": "execute_result"
    }
   ],
   "source": [
    "a = b = c = 'spam' \n",
    "a, b, c"
   ]
  },
  {
   "cell_type": "markdown",
   "id": "5df133ea",
   "metadata": {},
   "source": [
    "### Augmented Assignments"
   ]
  },
  {
   "cell_type": "code",
   "execution_count": 28,
   "id": "5dbc99c5",
   "metadata": {},
   "outputs": [
    {
     "ename": "NameError",
     "evalue": "name 'X' is not defined",
     "output_type": "error",
     "traceback": [
      "\u001b[1;31m---------------------------------------------------------------------------\u001b[0m",
      "\u001b[1;31mNameError\u001b[0m                                 Traceback (most recent call last)",
      "\u001b[1;32m<ipython-input-28-2b326dffe1e7>\u001b[0m in \u001b[0;36m<module>\u001b[1;34m\u001b[0m\n\u001b[1;32m----> 1\u001b[1;33m \u001b[0mX\u001b[0m \u001b[1;33m=\u001b[0m \u001b[0mX\u001b[0m \u001b[1;33m+\u001b[0m \u001b[0mY\u001b[0m \u001b[1;31m# Traditional form\u001b[0m\u001b[1;33m\u001b[0m\u001b[1;33m\u001b[0m\u001b[0m\n\u001b[0m\u001b[0;32m      2\u001b[0m \u001b[0mX\u001b[0m \u001b[1;33m+=\u001b[0m \u001b[0mY\u001b[0m \u001b[1;31m# Newer augmented form\u001b[0m\u001b[1;33m\u001b[0m\u001b[1;33m\u001b[0m\u001b[0m\n",
      "\u001b[1;31mNameError\u001b[0m: name 'X' is not defined"
     ]
    }
   ],
   "source": [
    "X = X + Y # Traditional form\n",
    "X += Y # Newer augmented form"
   ]
  },
  {
   "cell_type": "markdown",
   "id": "e6d605d9",
   "metadata": {},
   "source": [
    "- They imply the combination of a binary expression and an assignment."
   ]
  },
  {
   "cell_type": "code",
   "execution_count": null,
   "id": "bcbc9f85",
   "metadata": {},
   "outputs": [],
   "source": [
    "X += Y \n",
    "X &= Y \n",
    "X −= Y \n",
    "X |= Y\n",
    "X *= Y \n",
    "X ^= Y \n",
    "X /= Y \n",
    "X >>= Y\n",
    "X %= Y \n",
    "X <<= Y \n",
    "X **= Y \n",
    "X //= Y"
   ]
  },
  {
   "cell_type": "markdown",
   "id": "730257d3",
   "metadata": {},
   "source": [
    "### Variable Name Rules"
   ]
  },
  {
   "cell_type": "markdown",
   "id": "3af2713b",
   "metadata": {},
   "source": [
    "- Syntax: (underscore or letter) + (any number of letters, digits, or underscores) \n",
    "- Case matters: SPAM is not the same as spam \n",
    "- Reserved words are off-limits "
   ]
  },
  {
   "cell_type": "markdown",
   "id": "2f51617c",
   "metadata": {},
   "source": [
    "### Some Python 3.X reserved words \n",
    "- False \n",
    "- class \n",
    "- finally \n",
    "- is \n",
    "- return\n",
    "- None \n",
    "- continue \n",
    "- for \n",
    "- lambda \n",
    "- try\n",
    "- True \n",
    "- def \n",
    "- from \n",
    "- nonlocal \n",
    "- while\n",
    "- and \n",
    "- del \n",
    "- global \n",
    "- not \n",
    "- with\n",
    "- as \n",
    "- elif \n",
    "- if \n",
    "- or \n",
    "- yield\n",
    "- assert \n",
    "- else \n",
    "- import \n",
    "- pass\n",
    "- break \n",
    "- except \n",
    "- in \n",
    "- raise"
   ]
  },
  {
   "cell_type": "markdown",
   "id": "379f8395",
   "metadata": {},
   "source": []
  }
 ],
 "metadata": {
  "kernelspec": {
   "display_name": "Python 3",
   "language": "python",
   "name": "python3"
  },
  "language_info": {
   "codemirror_mode": {
    "name": "ipython",
    "version": 3
   },
   "file_extension": ".py",
   "mimetype": "text/x-python",
   "name": "python",
   "nbconvert_exporter": "python",
   "pygments_lexer": "ipython3",
   "version": "3.8.8"
  }
 },
 "nbformat": 4,
 "nbformat_minor": 5
}
