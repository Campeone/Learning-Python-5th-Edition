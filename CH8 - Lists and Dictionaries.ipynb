{
 "cells": [
  {
   "cell_type": "markdown",
   "id": "9e16330d",
   "metadata": {},
   "source": [
    "### List methods "
   ]
  },
  {
   "cell_type": "code",
   "execution_count": 1,
   "id": "3f934878",
   "metadata": {},
   "outputs": [
    {
     "name": "stdout",
     "output_type": "stream",
     "text": [
      "Help on class list in module builtins:\n",
      "\n",
      "class list(object)\n",
      " |  list(iterable=(), /)\n",
      " |  \n",
      " |  Built-in mutable sequence.\n",
      " |  \n",
      " |  If no argument is given, the constructor creates a new empty list.\n",
      " |  The argument must be an iterable if specified.\n",
      " |  \n",
      " |  Methods defined here:\n",
      " |  \n",
      " |  __add__(self, value, /)\n",
      " |      Return self+value.\n",
      " |  \n",
      " |  __contains__(self, key, /)\n",
      " |      Return key in self.\n",
      " |  \n",
      " |  __delitem__(self, key, /)\n",
      " |      Delete self[key].\n",
      " |  \n",
      " |  __eq__(self, value, /)\n",
      " |      Return self==value.\n",
      " |  \n",
      " |  __ge__(self, value, /)\n",
      " |      Return self>=value.\n",
      " |  \n",
      " |  __getattribute__(self, name, /)\n",
      " |      Return getattr(self, name).\n",
      " |  \n",
      " |  __getitem__(...)\n",
      " |      x.__getitem__(y) <==> x[y]\n",
      " |  \n",
      " |  __gt__(self, value, /)\n",
      " |      Return self>value.\n",
      " |  \n",
      " |  __iadd__(self, value, /)\n",
      " |      Implement self+=value.\n",
      " |  \n",
      " |  __imul__(self, value, /)\n",
      " |      Implement self*=value.\n",
      " |  \n",
      " |  __init__(self, /, *args, **kwargs)\n",
      " |      Initialize self.  See help(type(self)) for accurate signature.\n",
      " |  \n",
      " |  __iter__(self, /)\n",
      " |      Implement iter(self).\n",
      " |  \n",
      " |  __le__(self, value, /)\n",
      " |      Return self<=value.\n",
      " |  \n",
      " |  __len__(self, /)\n",
      " |      Return len(self).\n",
      " |  \n",
      " |  __lt__(self, value, /)\n",
      " |      Return self<value.\n",
      " |  \n",
      " |  __mul__(self, value, /)\n",
      " |      Return self*value.\n",
      " |  \n",
      " |  __ne__(self, value, /)\n",
      " |      Return self!=value.\n",
      " |  \n",
      " |  __repr__(self, /)\n",
      " |      Return repr(self).\n",
      " |  \n",
      " |  __reversed__(self, /)\n",
      " |      Return a reverse iterator over the list.\n",
      " |  \n",
      " |  __rmul__(self, value, /)\n",
      " |      Return value*self.\n",
      " |  \n",
      " |  __setitem__(self, key, value, /)\n",
      " |      Set self[key] to value.\n",
      " |  \n",
      " |  __sizeof__(self, /)\n",
      " |      Return the size of the list in memory, in bytes.\n",
      " |  \n",
      " |  append(self, object, /)\n",
      " |      Append object to the end of the list.\n",
      " |  \n",
      " |  clear(self, /)\n",
      " |      Remove all items from list.\n",
      " |  \n",
      " |  copy(self, /)\n",
      " |      Return a shallow copy of the list.\n",
      " |  \n",
      " |  count(self, value, /)\n",
      " |      Return number of occurrences of value.\n",
      " |  \n",
      " |  extend(self, iterable, /)\n",
      " |      Extend list by appending elements from the iterable.\n",
      " |  \n",
      " |  index(self, value, start=0, stop=9223372036854775807, /)\n",
      " |      Return first index of value.\n",
      " |      \n",
      " |      Raises ValueError if the value is not present.\n",
      " |  \n",
      " |  insert(self, index, object, /)\n",
      " |      Insert object before index.\n",
      " |  \n",
      " |  pop(self, index=-1, /)\n",
      " |      Remove and return item at index (default last).\n",
      " |      \n",
      " |      Raises IndexError if list is empty or index is out of range.\n",
      " |  \n",
      " |  remove(self, value, /)\n",
      " |      Remove first occurrence of value.\n",
      " |      \n",
      " |      Raises ValueError if the value is not present.\n",
      " |  \n",
      " |  reverse(self, /)\n",
      " |      Reverse *IN PLACE*.\n",
      " |  \n",
      " |  sort(self, /, *, key=None, reverse=False)\n",
      " |      Sort the list in ascending order and return None.\n",
      " |      \n",
      " |      The sort is in-place (i.e. the list itself is modified) and stable (i.e. the\n",
      " |      order of two equal elements is maintained).\n",
      " |      \n",
      " |      If a key function is given, apply it once to each list item and sort them,\n",
      " |      ascending or descending, according to their function values.\n",
      " |      \n",
      " |      The reverse flag can be set to sort in descending order.\n",
      " |  \n",
      " |  ----------------------------------------------------------------------\n",
      " |  Static methods defined here:\n",
      " |  \n",
      " |  __new__(*args, **kwargs) from builtins.type\n",
      " |      Create and return a new object.  See help(type) for accurate signature.\n",
      " |  \n",
      " |  ----------------------------------------------------------------------\n",
      " |  Data and other attributes defined here:\n",
      " |  \n",
      " |  __hash__ = None\n",
      "\n"
     ]
    }
   ],
   "source": [
    "help(list)"
   ]
  },
  {
   "cell_type": "code",
   "execution_count": 2,
   "id": "7ffac872",
   "metadata": {},
   "outputs": [
    {
     "data": {
      "text/plain": [
       "['__add__',\n",
       " '__class__',\n",
       " '__contains__',\n",
       " '__delattr__',\n",
       " '__delitem__',\n",
       " '__dir__',\n",
       " '__doc__',\n",
       " '__eq__',\n",
       " '__format__',\n",
       " '__ge__',\n",
       " '__getattribute__',\n",
       " '__getitem__',\n",
       " '__gt__',\n",
       " '__hash__',\n",
       " '__iadd__',\n",
       " '__imul__',\n",
       " '__init__',\n",
       " '__init_subclass__',\n",
       " '__iter__',\n",
       " '__le__',\n",
       " '__len__',\n",
       " '__lt__',\n",
       " '__mul__',\n",
       " '__ne__',\n",
       " '__new__',\n",
       " '__reduce__',\n",
       " '__reduce_ex__',\n",
       " '__repr__',\n",
       " '__reversed__',\n",
       " '__rmul__',\n",
       " '__setattr__',\n",
       " '__setitem__',\n",
       " '__sizeof__',\n",
       " '__str__',\n",
       " '__subclasshook__',\n",
       " 'append',\n",
       " 'clear',\n",
       " 'copy',\n",
       " 'count',\n",
       " 'extend',\n",
       " 'index',\n",
       " 'insert',\n",
       " 'pop',\n",
       " 'remove',\n",
       " 'reverse',\n",
       " 'sort']"
      ]
     },
     "execution_count": 2,
     "metadata": {},
     "output_type": "execute_result"
    }
   ],
   "source": [
    "dir(list)"
   ]
  },
  {
   "cell_type": "code",
   "execution_count": 3,
   "id": "cc3b8849",
   "metadata": {},
   "outputs": [
    {
     "data": {
      "text/plain": [
       "['s', 'p', 'a', 'm']"
      ]
     },
     "execution_count": 3,
     "metadata": {},
     "output_type": "execute_result"
    }
   ],
   "source": [
    "list('spam')"
   ]
  },
  {
   "cell_type": "code",
   "execution_count": 4,
   "id": "f7eb23c0",
   "metadata": {},
   "outputs": [
    {
     "data": {
      "text/plain": [
       "[-4, -3, -2, -1, 0, 1, 2, 3]"
      ]
     },
     "execution_count": 4,
     "metadata": {},
     "output_type": "execute_result"
    }
   ],
   "source": [
    "list(range(-4, 4))"
   ]
  },
  {
   "cell_type": "markdown",
   "id": "59cdbd43",
   "metadata": {},
   "source": [
    "### Lists in Action"
   ]
  },
  {
   "cell_type": "code",
   "execution_count": 7,
   "id": "0df2b049",
   "metadata": {},
   "outputs": [
    {
     "data": {
      "text/plain": [
       "[1, 2, '3', '4']"
      ]
     },
     "execution_count": 7,
     "metadata": {},
     "output_type": "execute_result"
    }
   ],
   "source": [
    "[1, 2] + list('34')"
   ]
  },
  {
   "cell_type": "code",
   "execution_count": 8,
   "id": "a682e87c",
   "metadata": {},
   "outputs": [
    {
     "data": {
      "text/plain": [
       "True"
      ]
     },
     "execution_count": 8,
     "metadata": {},
     "output_type": "execute_result"
    }
   ],
   "source": [
    "# Membership\n",
    "3 in [1, 2, 3]"
   ]
  },
  {
   "cell_type": "code",
   "execution_count": 10,
   "id": "5f80d7a8",
   "metadata": {},
   "outputs": [
    {
     "name": "stdout",
     "output_type": "stream",
     "text": [
      "1 2 3 "
     ]
    }
   ],
   "source": [
    "# for loop\n",
    "for x in [1, 2, 3]: \n",
    "    print(x, end=' ')"
   ]
  },
  {
   "cell_type": "code",
   "execution_count": 11,
   "id": "26580478",
   "metadata": {},
   "outputs": [
    {
     "data": {
      "text/plain": [
       "['SSSS', 'PPPP', 'AAAA', 'MMMM']"
      ]
     },
     "execution_count": 11,
     "metadata": {},
     "output_type": "execute_result"
    }
   ],
   "source": [
    "# list comprehension\n",
    "res = [c * 4 for c in 'SPAM']\n",
    "res"
   ]
  },
  {
   "cell_type": "markdown",
   "id": "c5215aa7",
   "metadata": {},
   "source": [
    "### Changing Lists in Place \n",
    "--- Index and slice assignments"
   ]
  },
  {
   "cell_type": "code",
   "execution_count": 12,
   "id": "720354d7",
   "metadata": {},
   "outputs": [
    {
     "data": {
      "text/plain": [
       "['spam', 'eggs', 'SPAM!']"
      ]
     },
     "execution_count": 12,
     "metadata": {},
     "output_type": "execute_result"
    }
   ],
   "source": [
    "L = ['spam', 'Spam', 'SPAM!']\n",
    "L[1] = 'eggs' # Index assignment\n",
    "L"
   ]
  },
  {
   "cell_type": "code",
   "execution_count": 13,
   "id": "611dcca4",
   "metadata": {},
   "outputs": [
    {
     "data": {
      "text/plain": [
       "['eat', 'more', 'SPAM!']"
      ]
     },
     "execution_count": 13,
     "metadata": {},
     "output_type": "execute_result"
    }
   ],
   "source": [
    "['spam', 'eggs', 'SPAM!']\n",
    "L[0:2] = ['eat', 'more'] # Slice assignment: delete+insert\n",
    "L # Replaces items 0,1"
   ]
  },
  {
   "cell_type": "code",
   "execution_count": 14,
   "id": "3f56910a",
   "metadata": {},
   "outputs": [
    {
     "data": {
      "text/plain": [
       "[1, 4, 5, 3]"
      ]
     },
     "execution_count": 14,
     "metadata": {},
     "output_type": "execute_result"
    }
   ],
   "source": [
    "L = [1, 2, 3]\n",
    "L[1:2] = [4, 5] # Replacement/insertion\n",
    "L "
   ]
  },
  {
   "cell_type": "code",
   "execution_count": 15,
   "id": "fdf8af2d",
   "metadata": {},
   "outputs": [
    {
     "data": {
      "text/plain": [
       "[1, 6, 7, 4, 5, 3]"
      ]
     },
     "execution_count": 15,
     "metadata": {},
     "output_type": "execute_result"
    }
   ],
   "source": [
    "[1, 4, 5, 3]\n",
    "L[1:1] = [6, 7] # Insertion (replace nothing)\n",
    "L"
   ]
  },
  {
   "cell_type": "code",
   "execution_count": 16,
   "id": "021d7a99",
   "metadata": {},
   "outputs": [
    {
     "data": {
      "text/plain": [
       "[1, 7, 4, 5, 3]"
      ]
     },
     "execution_count": 16,
     "metadata": {},
     "output_type": "execute_result"
    }
   ],
   "source": [
    "[1, 6, 7, 4, 5, 3]\n",
    "L[1:2] = [] # Deletion (insert nothing)\n",
    "L "
   ]
  },
  {
   "cell_type": "code",
   "execution_count": 17,
   "id": "b33aac09",
   "metadata": {},
   "outputs": [
    {
     "data": {
      "text/plain": [
       "[2, 3, 4, 1]"
      ]
     },
     "execution_count": 17,
     "metadata": {},
     "output_type": "execute_result"
    }
   ],
   "source": [
    "L = [1]\n",
    "L[:0] = [2, 3, 4] # Insert all at :0, an empty slice at front\n",
    "L \n"
   ]
  },
  {
   "cell_type": "code",
   "execution_count": 18,
   "id": "07dede89",
   "metadata": {},
   "outputs": [
    {
     "data": {
      "text/plain": [
       "[2, 3, 4, 1, 5, 6, 7]"
      ]
     },
     "execution_count": 18,
     "metadata": {},
     "output_type": "execute_result"
    }
   ],
   "source": [
    "[2, 3, 4, 1]\n",
    "L[len(L):] = [5, 6, 7] # Insert all at len(L):, an empty slice at end\n",
    "L "
   ]
  },
  {
   "cell_type": "code",
   "execution_count": 19,
   "id": "8855dd1e",
   "metadata": {},
   "outputs": [
    {
     "data": {
      "text/plain": [
       "[2, 3, 4, 1, 5, 6, 7, 8, 9, 10]"
      ]
     },
     "execution_count": 19,
     "metadata": {},
     "output_type": "execute_result"
    }
   ],
   "source": [
    "[2, 3, 4, 1, 5, 6, 7]\n",
    "L.extend([8, 9, 10]) # Insert all at end, named method\n",
    "L "
   ]
  },
  {
   "cell_type": "markdown",
   "id": "78e7970f",
   "metadata": {},
   "source": [
    "### List method calls"
   ]
  },
  {
   "cell_type": "code",
   "execution_count": 20,
   "id": "88eeaf3b",
   "metadata": {},
   "outputs": [
    {
     "data": {
      "text/plain": [
       "['eat', 'more', 'SPAM!', 'please']"
      ]
     },
     "execution_count": 20,
     "metadata": {},
     "output_type": "execute_result"
    }
   ],
   "source": [
    "L = ['eat', 'more', 'SPAM!']\n",
    "L.append('please') # Append method call: add item at end\n",
    "L"
   ]
  },
  {
   "cell_type": "markdown",
   "id": "87922fdc",
   "metadata": {},
   "source": [
    "- Unlike concatenation, append expects you to pass in a single object, not a list. \n",
    "- Append changes the object in place, concatenation makes a new list"
   ]
  },
  {
   "cell_type": "code",
   "execution_count": 21,
   "id": "e2367dc4",
   "metadata": {},
   "outputs": [
    {
     "data": {
      "text/plain": [
       "['SPAM!', 'eat', 'more', 'please']"
      ]
     },
     "execution_count": 21,
     "metadata": {},
     "output_type": "execute_result"
    }
   ],
   "source": [
    "L.sort() # Sort list items ('S' < 'e')\n",
    "L"
   ]
  },
  {
   "cell_type": "code",
   "execution_count": 22,
   "id": "8c16a99b",
   "metadata": {},
   "outputs": [
    {
     "data": {
      "text/plain": [
       "['ABD', 'aBe', 'abc']"
      ]
     },
     "execution_count": 22,
     "metadata": {},
     "output_type": "execute_result"
    }
   ],
   "source": [
    "L = ['abc', 'ABD', 'aBe']\n",
    "L.sort() # Sort with mixed case\n",
    "L"
   ]
  },
  {
   "cell_type": "code",
   "execution_count": 23,
   "id": "ea971b7a",
   "metadata": {},
   "outputs": [
    {
     "data": {
      "text/plain": [
       "['abc', 'ABD', 'aBe']"
      ]
     },
     "execution_count": 23,
     "metadata": {},
     "output_type": "execute_result"
    }
   ],
   "source": [
    "L = ['abc', 'ABD', 'aBe']\n",
    "L.sort(key=str.lower) # Normalize to lowercase\n",
    "L"
   ]
  },
  {
   "cell_type": "code",
   "execution_count": 24,
   "id": "97082b0d",
   "metadata": {},
   "outputs": [
    {
     "data": {
      "text/plain": [
       "['aBe', 'ABD', 'abc']"
      ]
     },
     "execution_count": 24,
     "metadata": {},
     "output_type": "execute_result"
    }
   ],
   "source": [
    "L = ['abc', 'ABD', 'aBe']\n",
    "L.sort(key=str.lower, reverse=True) # Change sort order \n",
    "L"
   ]
  },
  {
   "cell_type": "markdown",
   "id": "6da70fbf",
   "metadata": {},
   "source": [
    "### Other common List methods "
   ]
  },
  {
   "cell_type": "code",
   "execution_count": 26,
   "id": "6a779028",
   "metadata": {},
   "outputs": [
    {
     "data": {
      "text/plain": [
       "[1, 2, [3, 4, 5]]"
      ]
     },
     "execution_count": 26,
     "metadata": {},
     "output_type": "execute_result"
    }
   ],
   "source": [
    "L = [1, 2] \n",
    "L.append([3, 4, 5]) \n",
    "L"
   ]
  },
  {
   "cell_type": "code",
   "execution_count": 27,
   "id": "b05f4575",
   "metadata": {},
   "outputs": [
    {
     "data": {
      "text/plain": [
       "[1, 2, 3, 4, 5]"
      ]
     },
     "execution_count": 27,
     "metadata": {},
     "output_type": "execute_result"
    }
   ],
   "source": [
    "L = [1, 2] \n",
    "L.extend([3, 4, 5]) \n",
    "L"
   ]
  },
  {
   "cell_type": "code",
   "execution_count": 28,
   "id": "4b7b226b",
   "metadata": {},
   "outputs": [
    {
     "data": {
      "text/plain": [
       "5"
      ]
     },
     "execution_count": 28,
     "metadata": {},
     "output_type": "execute_result"
    }
   ],
   "source": [
    "# delete and return last item \n",
    "L.pop()"
   ]
  },
  {
   "cell_type": "code",
   "execution_count": 29,
   "id": "99a8d260",
   "metadata": {},
   "outputs": [
    {
     "data": {
      "text/plain": [
       "[1, 2, 3, 4]"
      ]
     },
     "execution_count": 29,
     "metadata": {},
     "output_type": "execute_result"
    }
   ],
   "source": [
    "L"
   ]
  },
  {
   "cell_type": "code",
   "execution_count": 30,
   "id": "ef201625",
   "metadata": {},
   "outputs": [
    {
     "data": {
      "text/plain": [
       "[4, 3, 2, 1]"
      ]
     },
     "execution_count": 30,
     "metadata": {},
     "output_type": "execute_result"
    }
   ],
   "source": [
    "list(reversed(L))"
   ]
  },
  {
   "cell_type": "code",
   "execution_count": 34,
   "id": "0a8c6459",
   "metadata": {},
   "outputs": [
    {
     "data": {
      "text/plain": [
       "[4, 3, 2, 1]"
      ]
     },
     "execution_count": 34,
     "metadata": {},
     "output_type": "execute_result"
    }
   ],
   "source": [
    "# in-place reversal method \n",
    "L.reverse() \n",
    "L"
   ]
  },
  {
   "cell_type": "code",
   "execution_count": 35,
   "id": "e6ce8343",
   "metadata": {},
   "outputs": [
    {
     "data": {
      "text/plain": [
       "1"
      ]
     },
     "execution_count": 35,
     "metadata": {},
     "output_type": "execute_result"
    }
   ],
   "source": [
    "L = ['spam', 'eggs', 'ham']\n",
    "L.index('eggs') # Index of an object (search/find)\n"
   ]
  },
  {
   "cell_type": "code",
   "execution_count": 36,
   "id": "1ce8fcb5",
   "metadata": {},
   "outputs": [
    {
     "data": {
      "text/plain": [
       "['spam', 'toast', 'eggs', 'ham']"
      ]
     },
     "execution_count": 36,
     "metadata": {},
     "output_type": "execute_result"
    }
   ],
   "source": [
    "L.insert(1, 'toast') # Insert at position\n",
    "L"
   ]
  },
  {
   "cell_type": "code",
   "execution_count": 37,
   "id": "d275fcf7",
   "metadata": {},
   "outputs": [
    {
     "data": {
      "text/plain": [
       "['spam', 'toast', 'ham']"
      ]
     },
     "execution_count": 37,
     "metadata": {},
     "output_type": "execute_result"
    }
   ],
   "source": [
    "L.remove('eggs') # Delete by value\n",
    "L"
   ]
  },
  {
   "cell_type": "code",
   "execution_count": 38,
   "id": "08471175",
   "metadata": {},
   "outputs": [
    {
     "data": {
      "text/plain": [
       "'toast'"
      ]
     },
     "execution_count": 38,
     "metadata": {},
     "output_type": "execute_result"
    }
   ],
   "source": [
    "L.pop(1) # Delete by position"
   ]
  },
  {
   "cell_type": "code",
   "execution_count": 39,
   "id": "221582f9",
   "metadata": {},
   "outputs": [
    {
     "data": {
      "text/plain": [
       "['spam', 'ham']"
      ]
     },
     "execution_count": 39,
     "metadata": {},
     "output_type": "execute_result"
    }
   ],
   "source": [
    "L"
   ]
  },
  {
   "cell_type": "code",
   "execution_count": 40,
   "id": "53f94b50",
   "metadata": {},
   "outputs": [
    {
     "data": {
      "text/plain": [
       "1"
      ]
     },
     "execution_count": 40,
     "metadata": {},
     "output_type": "execute_result"
    }
   ],
   "source": [
    "L.count('spam')"
   ]
  },
  {
   "cell_type": "code",
   "execution_count": 41,
   "id": "9939e333",
   "metadata": {},
   "outputs": [
    {
     "data": {
      "text/plain": [
       "['eggs', 'ham', 'toast']"
      ]
     },
     "execution_count": 41,
     "metadata": {},
     "output_type": "execute_result"
    }
   ],
   "source": [
    "L = ['spam', 'eggs', 'ham', 'toast']\n",
    "del L[0] # Delete one item\n",
    "L "
   ]
  },
  {
   "cell_type": "code",
   "execution_count": 42,
   "id": "e963dd2d",
   "metadata": {},
   "outputs": [
    {
     "data": {
      "text/plain": [
       "['eggs']"
      ]
     },
     "execution_count": 42,
     "metadata": {},
     "output_type": "execute_result"
    }
   ],
   "source": [
    "del L[1:] # Delete an entire section\n",
    "L # Same as L[1:] = []"
   ]
  },
  {
   "cell_type": "markdown",
   "id": "bdcc3c24",
   "metadata": {},
   "source": [
    "### Dictionaries"
   ]
  },
  {
   "cell_type": "code",
   "execution_count": 43,
   "id": "dfa76941",
   "metadata": {},
   "outputs": [
    {
     "data": {
      "text/plain": [
       "['__class__',\n",
       " '__contains__',\n",
       " '__delattr__',\n",
       " '__delitem__',\n",
       " '__dir__',\n",
       " '__doc__',\n",
       " '__eq__',\n",
       " '__format__',\n",
       " '__ge__',\n",
       " '__getattribute__',\n",
       " '__getitem__',\n",
       " '__gt__',\n",
       " '__hash__',\n",
       " '__init__',\n",
       " '__init_subclass__',\n",
       " '__iter__',\n",
       " '__le__',\n",
       " '__len__',\n",
       " '__lt__',\n",
       " '__ne__',\n",
       " '__new__',\n",
       " '__reduce__',\n",
       " '__reduce_ex__',\n",
       " '__repr__',\n",
       " '__reversed__',\n",
       " '__setattr__',\n",
       " '__setitem__',\n",
       " '__sizeof__',\n",
       " '__str__',\n",
       " '__subclasshook__',\n",
       " 'clear',\n",
       " 'copy',\n",
       " 'fromkeys',\n",
       " 'get',\n",
       " 'items',\n",
       " 'keys',\n",
       " 'pop',\n",
       " 'popitem',\n",
       " 'setdefault',\n",
       " 'update',\n",
       " 'values']"
      ]
     },
     "execution_count": 43,
     "metadata": {},
     "output_type": "execute_result"
    }
   ],
   "source": [
    "dir(dict)"
   ]
  },
  {
   "cell_type": "markdown",
   "id": "827719c6",
   "metadata": {},
   "source": [
    "### Dictionaries in Action"
   ]
  },
  {
   "cell_type": "code",
   "execution_count": 45,
   "id": "a462d575",
   "metadata": {},
   "outputs": [
    {
     "data": {
      "text/plain": [
       "2"
      ]
     },
     "execution_count": 45,
     "metadata": {},
     "output_type": "execute_result"
    }
   ],
   "source": [
    "D = {'spam': 2, 'ham': 1, 'eggs': 3} # Make a dictionary\n",
    "D['spam'] # Fetch a value by key"
   ]
  },
  {
   "cell_type": "code",
   "execution_count": 46,
   "id": "355e666a",
   "metadata": {},
   "outputs": [
    {
     "data": {
      "text/plain": [
       "{'spam': 2, 'ham': 1, 'eggs': 3}"
      ]
     },
     "execution_count": 46,
     "metadata": {},
     "output_type": "execute_result"
    }
   ],
   "source": [
    "D # Order is \"scrambled\""
   ]
  },
  {
   "cell_type": "code",
   "execution_count": 47,
   "id": "d7f28337",
   "metadata": {},
   "outputs": [
    {
     "data": {
      "text/plain": [
       "3"
      ]
     },
     "execution_count": 47,
     "metadata": {},
     "output_type": "execute_result"
    }
   ],
   "source": [
    "# number of entries \n",
    "len(D)"
   ]
  },
  {
   "cell_type": "code",
   "execution_count": 48,
   "id": "644305f9",
   "metadata": {},
   "outputs": [
    {
     "data": {
      "text/plain": [
       "True"
      ]
     },
     "execution_count": 48,
     "metadata": {},
     "output_type": "execute_result"
    }
   ],
   "source": [
    "'ham' in D"
   ]
  },
  {
   "cell_type": "code",
   "execution_count": 49,
   "id": "3b0a7627",
   "metadata": {},
   "outputs": [
    {
     "data": {
      "text/plain": [
       "['spam', 'ham', 'eggs']"
      ]
     },
     "execution_count": 49,
     "metadata": {},
     "output_type": "execute_result"
    }
   ],
   "source": [
    "# create a new list of D's keys\n",
    "list(D.keys())"
   ]
  },
  {
   "cell_type": "code",
   "execution_count": 52,
   "id": "439cd447",
   "metadata": {},
   "outputs": [
    {
     "data": {
      "text/plain": [
       "[2, 1, 3]"
      ]
     },
     "execution_count": 52,
     "metadata": {},
     "output_type": "execute_result"
    }
   ],
   "source": [
    "# create a new list of D's values\n",
    "list(D.values())"
   ]
  },
  {
   "cell_type": "code",
   "execution_count": 53,
   "id": "3a809ebc",
   "metadata": {},
   "outputs": [
    {
     "data": {
      "text/plain": [
       "[('spam', 2), ('ham', 1), ('eggs', 3)]"
      ]
     },
     "execution_count": 53,
     "metadata": {},
     "output_type": "execute_result"
    }
   ],
   "source": [
    "# create a new list of D's items\n",
    "list(D.items())"
   ]
  },
  {
   "cell_type": "markdown",
   "id": "93893e4a",
   "metadata": {},
   "source": [
    "### Changing Dictionaries in Place"
   ]
  },
  {
   "cell_type": "code",
   "execution_count": 55,
   "id": "8666baca",
   "metadata": {},
   "outputs": [
    {
     "data": {
      "text/plain": [
       "{'spam': 2, 'ham': 1, 'eggs': 3}"
      ]
     },
     "execution_count": 55,
     "metadata": {},
     "output_type": "execute_result"
    }
   ],
   "source": [
    "D"
   ]
  },
  {
   "cell_type": "code",
   "execution_count": 57,
   "id": "f337602f",
   "metadata": {},
   "outputs": [
    {
     "data": {
      "text/plain": [
       "{'spam': 2, 'ham': ['grill', 'bake', 'fry'], 'eggs': 3}"
      ]
     },
     "execution_count": 57,
     "metadata": {},
     "output_type": "execute_result"
    }
   ],
   "source": [
    "# change entry\n",
    "D['ham'] = ['grill', 'bake', 'fry'] \n",
    "D"
   ]
  },
  {
   "cell_type": "code",
   "execution_count": 58,
   "id": "66d7cf2f",
   "metadata": {},
   "outputs": [
    {
     "data": {
      "text/plain": [
       "{'spam': 2, 'ham': ['grill', 'bake', 'fry']}"
      ]
     },
     "execution_count": 58,
     "metadata": {},
     "output_type": "execute_result"
    }
   ],
   "source": [
    "# Delete entry\n",
    "del D['eggs'] \n",
    "D"
   ]
  },
  {
   "cell_type": "code",
   "execution_count": 59,
   "id": "510ea63f",
   "metadata": {},
   "outputs": [
    {
     "data": {
      "text/plain": [
       "{'spam': 2, 'ham': ['grill', 'bake', 'fry'], 'brunch': 'Bacon'}"
      ]
     },
     "execution_count": 59,
     "metadata": {},
     "output_type": "execute_result"
    }
   ],
   "source": [
    "# add new entry\n",
    "D['brunch'] = 'Bacon' \n",
    "D"
   ]
  },
  {
   "cell_type": "markdown",
   "id": "ebda0a5f",
   "metadata": {},
   "source": [
    "### More Dictionary Methods"
   ]
  },
  {
   "cell_type": "code",
   "execution_count": 62,
   "id": "0fc19a90",
   "metadata": {},
   "outputs": [
    {
     "name": "stdout",
     "output_type": "stream",
     "text": [
      "None\n"
     ]
    }
   ],
   "source": [
    "# A key that is missing\n",
    "print(D.get('toast'))"
   ]
  },
  {
   "cell_type": "code",
   "execution_count": 66,
   "id": "48aba332",
   "metadata": {},
   "outputs": [
    {
     "data": {
      "text/plain": [
       "{'spam': 2, 'ham': 1, 'brunch': 'Bacon', 'toast': 4, 'muffin': 5}"
      ]
     },
     "execution_count": 66,
     "metadata": {},
     "output_type": "execute_result"
    }
   ],
   "source": [
    "D"
   ]
  },
  {
   "cell_type": "code",
   "execution_count": 67,
   "id": "c0212cc7",
   "metadata": {},
   "outputs": [
    {
     "data": {
      "text/plain": [
       "{'spam': 2, 'ham': 1, 'brunch': 'Bacon', 'toast': 4, 'muffin': 5}"
      ]
     },
     "execution_count": 67,
     "metadata": {},
     "output_type": "execute_result"
    }
   ],
   "source": [
    "D2 = {'toast': 4, 'muffin':5} \n",
    "D.update(D2) \n",
    "D"
   ]
  },
  {
   "cell_type": "code",
   "execution_count": 68,
   "id": "117f3106",
   "metadata": {},
   "outputs": [
    {
     "data": {
      "text/plain": [
       "5"
      ]
     },
     "execution_count": 68,
     "metadata": {},
     "output_type": "execute_result"
    }
   ],
   "source": [
    "# pop: delete \n",
    "D.pop('muffin')"
   ]
  },
  {
   "cell_type": "code",
   "execution_count": 69,
   "id": "37c30760",
   "metadata": {},
   "outputs": [
    {
     "data": {
      "text/plain": [
       "4"
      ]
     },
     "execution_count": 69,
     "metadata": {},
     "output_type": "execute_result"
    }
   ],
   "source": [
    "D.pop('toast')"
   ]
  },
  {
   "cell_type": "code",
   "execution_count": 70,
   "id": "87293d04",
   "metadata": {},
   "outputs": [
    {
     "data": {
      "text/plain": [
       "{'spam': 2, 'ham': 1, 'brunch': 'Bacon'}"
      ]
     },
     "execution_count": 70,
     "metadata": {},
     "output_type": "execute_result"
    }
   ],
   "source": [
    "D"
   ]
  },
  {
   "cell_type": "code",
   "execution_count": 71,
   "id": "70ce03d9",
   "metadata": {},
   "outputs": [
    {
     "data": {
      "text/plain": [
       "'The Meaning of Life'"
      ]
     },
     "execution_count": 71,
     "metadata": {},
     "output_type": "execute_result"
    }
   ],
   "source": [
    " # Key: Value\n",
    "table = {'1975': 'Holy Grail',\n",
    "'1979': 'Life of Brian',\n",
    "'1983': 'The Meaning of Life'}\n",
    "\n",
    "year = '1983'\n",
    "movie = table[year] # dictionary[Key] => Value\n",
    "movie"
   ]
  },
  {
   "cell_type": "code",
   "execution_count": 72,
   "id": "101cdc80",
   "metadata": {},
   "outputs": [
    {
     "name": "stdout",
     "output_type": "stream",
     "text": [
      "1975\tHoly Grail\n",
      "1979\tLife of Brian\n",
      "1983\tThe Meaning of Life\n"
     ]
    }
   ],
   "source": [
    "for year in table: \n",
    "    print(year + '\\t' + table[year])"
   ]
  },
  {
   "cell_type": "code",
   "execution_count": 73,
   "id": "bdf82d3e",
   "metadata": {},
   "outputs": [
    {
     "name": "stdout",
     "output_type": "stream",
     "text": [
      "1975\tHoly Grail\n",
      "1979\tLife of Brian\n",
      "1983\tThe Meaning of Life\n"
     ]
    }
   ],
   "source": [
    "for key in table: \n",
    "    print(key + '\\t' + table[key])"
   ]
  },
  {
   "cell_type": "markdown",
   "id": "eaf59cf1",
   "metadata": {},
   "source": [
    "#### Using dictionaries to simulate flexible lists: Integer keys"
   ]
  },
  {
   "cell_type": "code",
   "execution_count": 81,
   "id": "7ecb898d",
   "metadata": {},
   "outputs": [
    {
     "ename": "IndexError",
     "evalue": "list assignment index out of range",
     "output_type": "error",
     "traceback": [
      "\u001b[1;31m---------------------------------------------------------------------------\u001b[0m",
      "\u001b[1;31mIndexError\u001b[0m                                Traceback (most recent call last)",
      "\u001b[1;32m<ipython-input-81-c1dc1bad36c2>\u001b[0m in \u001b[0;36m<module>\u001b[1;34m\u001b[0m\n\u001b[0;32m      1\u001b[0m \u001b[0mL\u001b[0m \u001b[1;33m=\u001b[0m \u001b[1;33m[\u001b[0m\u001b[1;33m]\u001b[0m\u001b[1;33m\u001b[0m\u001b[1;33m\u001b[0m\u001b[0m\n\u001b[1;32m----> 2\u001b[1;33m \u001b[0mL\u001b[0m\u001b[1;33m[\u001b[0m\u001b[1;36m99\u001b[0m\u001b[1;33m]\u001b[0m \u001b[1;33m=\u001b[0m \u001b[1;34m'spam'\u001b[0m\u001b[1;33m\u001b[0m\u001b[1;33m\u001b[0m\u001b[0m\n\u001b[0m",
      "\u001b[1;31mIndexError\u001b[0m: list assignment index out of range"
     ]
    }
   ],
   "source": [
    "L = [] \n",
    "L[99] = 'spam' "
   ]
  },
  {
   "cell_type": "code",
   "execution_count": 83,
   "id": "7c08fd0e",
   "metadata": {},
   "outputs": [
    {
     "data": {
      "text/plain": [
       "{99: 'spam'}"
      ]
     },
     "execution_count": 83,
     "metadata": {},
     "output_type": "execute_result"
    }
   ],
   "source": [
    "D = {} \n",
    "D[99] = 'spam' \n",
    "D"
   ]
  },
  {
   "cell_type": "code",
   "execution_count": 84,
   "id": "d668de59",
   "metadata": {},
   "outputs": [
    {
     "data": {
      "text/plain": [
       "'Holy Grail'"
      ]
     },
     "execution_count": 84,
     "metadata": {},
     "output_type": "execute_result"
    }
   ],
   "source": [
    " # Keys are integers, not strings\n",
    "table = {1975: 'Holy Grail',\n",
    "1979: 'Life of Brian',\n",
    "1983: 'The Meaning of Life'}\n",
    "table[1975]"
   ]
  },
  {
   "cell_type": "code",
   "execution_count": 85,
   "id": "b8155f76",
   "metadata": {},
   "outputs": [
    {
     "data": {
      "text/plain": [
       "[(1975, 'Holy Grail'), (1979, 'Life of Brian'), (1983, 'The Meaning of Life')]"
      ]
     },
     "execution_count": 85,
     "metadata": {},
     "output_type": "execute_result"
    }
   ],
   "source": [
    "list(table.items())"
   ]
  },
  {
   "cell_type": "markdown",
   "id": "9c8bd417",
   "metadata": {},
   "source": [
    "#### Nesting in dictionaries"
   ]
  },
  {
   "cell_type": "code",
   "execution_count": 86,
   "id": "0adbfa15",
   "metadata": {},
   "outputs": [
    {
     "data": {
      "text/plain": [
       "{'name': 'Bob',\n",
       " 'jobs': ['developer', 'manager'],\n",
       " 'web': 'www.bobs.org/˜Bob',\n",
       " 'home': {'state': 'Overworked', 'zip': 12345}}"
      ]
     },
     "execution_count": 86,
     "metadata": {},
     "output_type": "execute_result"
    }
   ],
   "source": [
    "rec = {'name': 'Bob',\n",
    "'jobs': ['developer', 'manager'],\n",
    "'web': 'www.bobs.org/˜Bob',\n",
    "'home': {'state': 'Overworked', 'zip': 12345}} \n",
    "rec"
   ]
  },
  {
   "cell_type": "code",
   "execution_count": 87,
   "id": "e2e7d2fd",
   "metadata": {},
   "outputs": [
    {
     "data": {
      "text/plain": [
       "'Bob'"
      ]
     },
     "execution_count": 87,
     "metadata": {},
     "output_type": "execute_result"
    }
   ],
   "source": [
    "rec['name']"
   ]
  },
  {
   "cell_type": "code",
   "execution_count": 88,
   "id": "66a3544e",
   "metadata": {},
   "outputs": [
    {
     "data": {
      "text/plain": [
       "['developer', 'manager']"
      ]
     },
     "execution_count": 88,
     "metadata": {},
     "output_type": "execute_result"
    }
   ],
   "source": [
    "rec['jobs']"
   ]
  },
  {
   "cell_type": "code",
   "execution_count": 89,
   "id": "aa888922",
   "metadata": {},
   "outputs": [
    {
     "data": {
      "text/plain": [
       "'manager'"
      ]
     },
     "execution_count": 89,
     "metadata": {},
     "output_type": "execute_result"
    }
   ],
   "source": [
    "rec['jobs'][1]"
   ]
  },
  {
   "cell_type": "code",
   "execution_count": 90,
   "id": "7bf04c1a",
   "metadata": {},
   "outputs": [
    {
     "data": {
      "text/plain": [
       "12345"
      ]
     },
     "execution_count": 90,
     "metadata": {},
     "output_type": "execute_result"
    }
   ],
   "source": [
    "rec['home']['zip']"
   ]
  },
  {
   "cell_type": "code",
   "execution_count": 92,
   "id": "c521ed20",
   "metadata": {},
   "outputs": [
    {
     "data": {
      "text/plain": [
       "['developer', 'manager']"
      ]
     },
     "execution_count": 92,
     "metadata": {},
     "output_type": "execute_result"
    }
   ],
   "source": [
    "# a list database\n",
    "db = []\n",
    "db.append(rec)\n",
    "db.append('other') \n",
    "db[0]['jobs']"
   ]
  },
  {
   "cell_type": "code",
   "execution_count": 93,
   "id": "219372fa",
   "metadata": {},
   "outputs": [
    {
     "data": {
      "text/plain": [
       "[{'name': 'Bob',\n",
       "  'jobs': ['developer', 'manager'],\n",
       "  'web': 'www.bobs.org/˜Bob',\n",
       "  'home': {'state': 'Overworked', 'zip': 12345}},\n",
       " 'other']"
      ]
     },
     "execution_count": 93,
     "metadata": {},
     "output_type": "execute_result"
    }
   ],
   "source": [
    "db"
   ]
  },
  {
   "cell_type": "code",
   "execution_count": 95,
   "id": "0bfe5745",
   "metadata": {},
   "outputs": [
    {
     "data": {
      "text/plain": [
       "['developer', 'manager']"
      ]
     },
     "execution_count": 95,
     "metadata": {},
     "output_type": "execute_result"
    }
   ],
   "source": [
    "# a dictionary database\n",
    "db = {}\n",
    "db['bob'] = rec \n",
    "db['sue'] = 'other' \n",
    "db['bob']['jobs']"
   ]
  },
  {
   "cell_type": "code",
   "execution_count": 96,
   "id": "3e19aa27",
   "metadata": {},
   "outputs": [
    {
     "data": {
      "text/plain": [
       "{'bob': {'name': 'Bob',\n",
       "  'jobs': ['developer', 'manager'],\n",
       "  'web': 'www.bobs.org/˜Bob',\n",
       "  'home': {'state': 'Overworked', 'zip': 12345}},\n",
       " 'sue': 'other'}"
      ]
     },
     "execution_count": 96,
     "metadata": {},
     "output_type": "execute_result"
    }
   ],
   "source": [
    "db"
   ]
  },
  {
   "cell_type": "markdown",
   "id": "87bfcb38",
   "metadata": {},
   "source": [
    "### Other Ways to Make Dictionaries"
   ]
  },
  {
   "cell_type": "code",
   "execution_count": 97,
   "id": "67937d4f",
   "metadata": {},
   "outputs": [
    {
     "data": {
      "text/plain": [
       "{'name': 'Bob', 'age': 40}"
      ]
     },
     "execution_count": 97,
     "metadata": {},
     "output_type": "execute_result"
    }
   ],
   "source": [
    "{'name': 'Bob', 'age': 40} # Traditional literal expression"
   ]
  },
  {
   "cell_type": "code",
   "execution_count": 99,
   "id": "24eb365f",
   "metadata": {},
   "outputs": [
    {
     "data": {
      "text/plain": [
       "{'name': 'Bob', 'age': 40}"
      ]
     },
     "execution_count": 99,
     "metadata": {},
     "output_type": "execute_result"
    }
   ],
   "source": [
    "D = {} # Assign by keys dynamically\n",
    "D['name'] = 'Bob'\n",
    "D['age'] = 40 \n",
    "D"
   ]
  },
  {
   "cell_type": "code",
   "execution_count": 100,
   "id": "f29602fe",
   "metadata": {},
   "outputs": [
    {
     "data": {
      "text/plain": [
       "{'name': 'Bob', 'age': 40}"
      ]
     },
     "execution_count": 100,
     "metadata": {},
     "output_type": "execute_result"
    }
   ],
   "source": [
    "dict(name='Bob', age=40) # dict keyword argument form"
   ]
  },
  {
   "cell_type": "code",
   "execution_count": 101,
   "id": "2c5597f4",
   "metadata": {},
   "outputs": [
    {
     "data": {
      "text/plain": [
       "{'name': 'Bob', 'age': 40}"
      ]
     },
     "execution_count": 101,
     "metadata": {},
     "output_type": "execute_result"
    }
   ],
   "source": [
    "dict([('name', 'Bob'), ('age', 40)]) # dict key/value tuples form"
   ]
  },
  {
   "cell_type": "code",
   "execution_count": 103,
   "id": "a7220ff0",
   "metadata": {},
   "outputs": [
    {
     "data": {
      "text/plain": [
       "{'name': 'age', 'Bob': 40}"
      ]
     },
     "execution_count": 103,
     "metadata": {},
     "output_type": "execute_result"
    }
   ],
   "source": [
    " # Zipped key/value tuples form (ahead) \n",
    "keyslist = ['name', 'Bob'] \n",
    "valueslist = ['age', 40]\n",
    "dict(zip(keyslist, valueslist))"
   ]
  },
  {
   "cell_type": "code",
   "execution_count": 105,
   "id": "52e084b6",
   "metadata": {},
   "outputs": [
    {
     "data": {
      "text/plain": [
       "{'a': 1, 'b': 2, 'c': 3}"
      ]
     },
     "execution_count": 105,
     "metadata": {},
     "output_type": "execute_result"
    }
   ],
   "source": [
    "# dictionary comprehension \n",
    "D = {k: v for (k, v) in zip(['a', 'b', 'c'], [1, 2, 3])} \n",
    "D"
   ]
  },
  {
   "cell_type": "code",
   "execution_count": 106,
   "id": "75587653",
   "metadata": {},
   "outputs": [
    {
     "data": {
      "text/plain": [
       "{1: 1, 2: 4, 3: 9, 4: 16}"
      ]
     },
     "execution_count": 106,
     "metadata": {},
     "output_type": "execute_result"
    }
   ],
   "source": [
    "D = {x: x**2 for x in [1, 2, 3, 4,]}\n",
    "D"
   ]
  },
  {
   "cell_type": "code",
   "execution_count": 110,
   "id": "e2c15457",
   "metadata": {},
   "outputs": [
    {
     "data": {
      "text/plain": [
       "{'S': 'ssss', 'P': 'pppp', 'A': 'aaaa', 'M': 'mmmm'}"
      ]
     },
     "execution_count": 110,
     "metadata": {},
     "output_type": "execute_result"
    }
   ],
   "source": [
    "# loop over nay iterable\n",
    "D = {c : c.lower() * 4 for c in 'SPAM'}\n",
    "D"
   ]
  },
  {
   "cell_type": "code",
   "execution_count": 111,
   "id": "3677840c",
   "metadata": {},
   "outputs": [
    {
     "data": {
      "text/plain": [
       "{'spam': 'SPAM!', 'eggs': 'EGGS!', 'ham': 'HAM!'}"
      ]
     },
     "execution_count": 111,
     "metadata": {},
     "output_type": "execute_result"
    }
   ],
   "source": [
    "D = {c.lower(): c + '!' for c in ['SPAM', 'EGGS', 'HAM']}\n",
    "D"
   ]
  },
  {
   "cell_type": "code",
   "execution_count": null,
   "id": "2f41a0fe",
   "metadata": {},
   "outputs": [],
   "source": []
  }
 ],
 "metadata": {
  "kernelspec": {
   "display_name": "Python 3",
   "language": "python",
   "name": "python3"
  },
  "language_info": {
   "codemirror_mode": {
    "name": "ipython",
    "version": 3
   },
   "file_extension": ".py",
   "mimetype": "text/x-python",
   "name": "python",
   "nbconvert_exporter": "python",
   "pygments_lexer": "ipython3",
   "version": "3.8.8"
  }
 },
 "nbformat": 4,
 "nbformat_minor": 5
}
