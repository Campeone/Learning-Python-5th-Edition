{
 "cells": [
  {
   "cell_type": "markdown",
   "id": "198a443e",
   "metadata": {},
   "source": [
    "- a function is a device that groups a set of statements so they can be run more than once in a program—a packaged procedure invoked by name."
   ]
  },
  {
   "cell_type": "markdown",
   "id": "4555cd91",
   "metadata": {},
   "source": [
    "### Primary function related tools \n",
    "- two ways to make functions (def and lambda) \n",
    "- two ways to manage scope visibility (global and nonlocal) \n",
    "- two ways to send results back to callers (return and yield)."
   ]
  },
  {
   "cell_type": "markdown",
   "id": "65690460",
   "metadata": {},
   "source": [
    "### Why use Functions? \n",
    "- Maximizing code reuse and minimizing redundancy \n",
    "    - Python functions are the simplest way to package logic you may wish to use in more than one place and more than one time \n",
    "    - they allow us to reduce code redundancy in our programs, and thereby reduce maintenance effort.\n",
    "- Procedural decomposition \n",
    "    - Functions also provide a tool for splitting systems into pieces that have well-defined roles. \n",
    "    - It’s easier to implement the smaller tasks in isolation than it is to implement the entire process at once."
   ]
  },
  {
   "cell_type": "markdown",
   "id": "22782cb3",
   "metadata": {},
   "source": [
    "### Coding Functions \n",
    "- def is executable code. \n",
    "- def creates an object and assigns it to a name. \n",
    "- lambda creates an object but returns it as a result. \n",
    "- return sends a result object back to the caller. \n",
    "- yield sends a result object back to the caller, but remembers where it left off. \n",
    "- global declares module-level variables that are to be assigned. \n",
    "- nonlocal declares enclosing function variables that are to be assigned. \n",
    "- Arguments are passed by assignment (object reference). \n",
    "- Arguments are passed by position, unless you say otherwise. \n",
    "- Arguments, return values, and variables are not declared. "
   ]
  },
  {
   "cell_type": "markdown",
   "id": "d4d6061b",
   "metadata": {},
   "source": [
    "### def Statements"
   ]
  },
  {
   "cell_type": "code",
   "execution_count": null,
   "id": "1d8e5bb3",
   "metadata": {},
   "outputs": [],
   "source": [
    "# Functions General formats\n",
    "def name(arg1, arg2, ... argN): \n",
    "    statements"
   ]
  },
  {
   "cell_type": "code",
   "execution_count": null,
   "id": "88fb4bf8",
   "metadata": {},
   "outputs": [],
   "source": [
    "# Function bodies often contain a return statements\n",
    "def name(arg1, arg2, ... argN): \n",
    "    .... \n",
    "    return value"
   ]
  },
  {
   "cell_type": "markdown",
   "id": "093df8cf",
   "metadata": {},
   "source": [
    "### def Executes at Runtime \n",
    "- Because it’s a statement, a def can appear anywhere a statement can—even nested in other statements"
   ]
  },
  {
   "cell_type": "code",
   "execution_count": null,
   "id": "274dd32e",
   "metadata": {},
   "outputs": [],
   "source": [
    "if test: \n",
    "    def func(): # define func this way\n",
    "        ... \n",
    "else: \n",
    "    def func1(): # or else this way\n",
    "        ... \n",
    "... \n",
    "func() # call the version selected and built"
   ]
  },
  {
   "cell_type": "markdown",
   "id": "7574f131",
   "metadata": {},
   "source": [
    "### A First Example: Definitions and Calls"
   ]
  },
  {
   "cell_type": "code",
   "execution_count": 14,
   "id": "dca2e348",
   "metadata": {},
   "outputs": [],
   "source": [
    "# Definition\n",
    "def times(x, y): \n",
    "    return x * y"
   ]
  },
  {
   "cell_type": "code",
   "execution_count": 15,
   "id": "97662379",
   "metadata": {},
   "outputs": [
    {
     "data": {
      "text/plain": [
       "8"
      ]
     },
     "execution_count": 15,
     "metadata": {},
     "output_type": "execute_result"
    }
   ],
   "source": [
    "# Calls \n",
    "times(2, 4)"
   ]
  },
  {
   "cell_type": "code",
   "execution_count": 16,
   "id": "6f45ce85",
   "metadata": {},
   "outputs": [
    {
     "data": {
      "text/plain": [
       "12.56"
      ]
     },
     "execution_count": 16,
     "metadata": {},
     "output_type": "execute_result"
    }
   ],
   "source": [
    "# save the result object\n",
    "x = times(3.14, 4)\n",
    "x"
   ]
  },
  {
   "cell_type": "code",
   "execution_count": 17,
   "id": "4668d63b",
   "metadata": {},
   "outputs": [
    {
     "data": {
      "text/plain": [
       "'NiNiNiNi'"
      ]
     },
     "execution_count": 17,
     "metadata": {},
     "output_type": "execute_result"
    }
   ],
   "source": [
    "# function are typeless \n",
    "times('Ni', 4)"
   ]
  },
  {
   "cell_type": "markdown",
   "id": "9ce730b3",
   "metadata": {},
   "source": [
    "### Polymorphism in Python\n",
    "- As we just saw, the very meaning of the expression x * y in our simple times function depends completely upon the kinds of objects that x and y are—thus, the same function can perform multiplication in one instance and repetition in another. Python leaves it up to the objects to do something reasonable for the syntax"
   ]
  },
  {
   "cell_type": "markdown",
   "id": "400b99b7",
   "metadata": {},
   "source": [
    "### A Second Example: Intersecting Sequences "
   ]
  },
  {
   "cell_type": "markdown",
   "id": "0cf57938",
   "metadata": {},
   "source": [
    "### Advantages of Functions \n",
    "\n",
    "- Putting the code in a function makes it a tool that you can run as many times as you like.\n",
    "- Because callers can pass in arbitrary arguments, functions are general enough to work on any two sequences (or other iterables) you wish to intersect.\n",
    "- When the logic is packaged in a function, you have to change code in only one place if you ever need to change the way the intersection works.\n",
    "- Coding the function in a module file means it can be imported and reused by any program run on your machine."
   ]
  },
  {
   "cell_type": "code",
   "execution_count": 21,
   "id": "0c8cffc7",
   "metadata": {},
   "outputs": [],
   "source": [
    "# Definition \n",
    "def intersect(seq1, seq2): \n",
    "    res = [] # start empty\n",
    "    for x in seq1: # scan seq1\n",
    "        if x in seq2: # common item?\n",
    "            res.append(x) # Add to end\n",
    "    return res"
   ]
  },
  {
   "cell_type": "code",
   "execution_count": 22,
   "id": "a2cb50be",
   "metadata": {},
   "outputs": [
    {
     "data": {
      "text/plain": [
       "['S', 'A', 'M']"
      ]
     },
     "execution_count": 22,
     "metadata": {},
     "output_type": "execute_result"
    }
   ],
   "source": [
    "# Calls \n",
    "s1 = 'SPAM'\n",
    "s2 = 'SCAM'\n",
    "intersect(s1, s2) # strings"
   ]
  },
  {
   "cell_type": "code",
   "execution_count": 24,
   "id": "46df3e60",
   "metadata": {},
   "outputs": [
    {
     "data": {
      "text/plain": [
       "['S', 'A', 'M']"
      ]
     },
     "execution_count": 24,
     "metadata": {},
     "output_type": "execute_result"
    }
   ],
   "source": [
    "[x for x in s1 if x in s2]"
   ]
  },
  {
   "cell_type": "code",
   "execution_count": 25,
   "id": "a43dcc9b",
   "metadata": {},
   "outputs": [
    {
     "data": {
      "text/plain": [
       "[1]"
      ]
     },
     "execution_count": 25,
     "metadata": {},
     "output_type": "execute_result"
    }
   ],
   "source": [
    "x = intersect([1, 2, 3], (1, 4)) # Mixed types \n",
    "x"
   ]
  },
  {
   "cell_type": "markdown",
   "id": "0259f674",
   "metadata": {},
   "source": [
    "### Local Variables \n",
    "- local variable—a name that is visible only to code inside the function def and that exists only while the function runs. \n",
    "- local variables appear when the function is called and disappear when the function exits"
   ]
  },
  {
   "cell_type": "code",
   "execution_count": null,
   "id": "2188cd6f",
   "metadata": {},
   "outputs": [],
   "source": []
  }
 ],
 "metadata": {
  "kernelspec": {
   "display_name": "Python 3",
   "language": "python",
   "name": "python3"
  },
  "language_info": {
   "codemirror_mode": {
    "name": "ipython",
    "version": 3
   },
   "file_extension": ".py",
   "mimetype": "text/x-python",
   "name": "python",
   "nbconvert_exporter": "python",
   "pygments_lexer": "ipython3",
   "version": "3.8.8"
  }
 },
 "nbformat": 4,
 "nbformat_minor": 5
}
