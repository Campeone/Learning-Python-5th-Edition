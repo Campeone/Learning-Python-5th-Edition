{
 "cells": [
  {
   "cell_type": "code",
   "execution_count": 1,
   "id": "fb595400",
   "metadata": {},
   "outputs": [],
   "source": [
    "import pandas as pd"
   ]
  },
  {
   "cell_type": "code",
   "execution_count": 2,
   "id": "f9a95e03",
   "metadata": {},
   "outputs": [],
   "source": [
    "import numpy as np"
   ]
  },
  {
   "cell_type": "code",
   "execution_count": 3,
   "id": "38089369",
   "metadata": {},
   "outputs": [
    {
     "data": {
      "text/plain": [
       "array([[0.11416895, 0.62793676, 0.39184199, 0.49663591],\n",
       "       [0.0159896 , 0.24410317, 0.92637358, 0.50395415],\n",
       "       [0.83647103, 0.50956053, 0.89456878, 0.35407746],\n",
       "       [0.27717243, 0.81389284, 0.97232256, 0.32360365]])"
      ]
     },
     "execution_count": 3,
     "metadata": {},
     "output_type": "execute_result"
    }
   ],
   "source": [
    "np.random.random((4, 4))"
   ]
  },
  {
   "cell_type": "code",
   "execution_count": 5,
   "id": "7527594b",
   "metadata": {},
   "outputs": [
    {
     "data": {
      "text/plain": [
       "array([[96, 73, 56, 70, 74, 84, 52, 98, 70, 66],\n",
       "       [80, 56, 83, 54, 73, 87, 88, 88, 57, 60],\n",
       "       [58, 59, 70, 84, 50, 64, 60, 89, 83, 74],\n",
       "       [57, 88, 62, 75, 53, 53, 70, 62, 78, 95],\n",
       "       [87, 83, 51, 65, 75, 73, 95, 97, 82, 80],\n",
       "       [54, 65, 97, 90, 57, 56, 58, 86, 92, 71],\n",
       "       [57, 97, 92, 58, 96, 80, 71, 81, 54, 95],\n",
       "       [73, 54, 61, 55, 62, 81, 66, 95, 56, 67],\n",
       "       [66, 96, 72, 86, 57, 88, 84, 77, 98, 96],\n",
       "       [85, 63, 51, 61, 89, 70, 65, 74, 80, 92]])"
      ]
     },
     "execution_count": 5,
     "metadata": {},
     "output_type": "execute_result"
    }
   ],
   "source": [
    "np.random.randint(50, 99, (10, 10))"
   ]
  },
  {
   "cell_type": "code",
   "execution_count": 14,
   "id": "c3d071f1",
   "metadata": {},
   "outputs": [
    {
     "data": {
      "text/plain": [
       "array([[1., 1., 1., 1., 1.],\n",
       "       [1., 1., 1., 1., 1.],\n",
       "       [1., 1., 1., 1., 1.],\n",
       "       [1., 1., 1., 1., 1.],\n",
       "       [1., 1., 1., 1., 1.],\n",
       "       [1., 1., 1., 1., 1.],\n",
       "       [1., 1., 1., 1., 1.]])"
      ]
     },
     "execution_count": 14,
     "metadata": {},
     "output_type": "execute_result"
    }
   ],
   "source": [
    "np.ones((7, 5))"
   ]
  },
  {
   "cell_type": "code",
   "execution_count": 16,
   "id": "7af657e3",
   "metadata": {},
   "outputs": [
    {
     "data": {
      "text/plain": [
       "array([[1., 0., 0., 0., 0., 0., 0., 0.],\n",
       "       [0., 1., 0., 0., 0., 0., 0., 0.],\n",
       "       [0., 0., 1., 0., 0., 0., 0., 0.],\n",
       "       [0., 0., 0., 1., 0., 0., 0., 0.],\n",
       "       [0., 0., 0., 0., 1., 0., 0., 0.],\n",
       "       [0., 0., 0., 0., 0., 1., 0., 0.],\n",
       "       [0., 0., 0., 0., 0., 0., 1., 0.],\n",
       "       [0., 0., 0., 0., 0., 0., 0., 1.]])"
      ]
     },
     "execution_count": 16,
     "metadata": {},
     "output_type": "execute_result"
    }
   ],
   "source": [
    "np.identity(8)"
   ]
  },
  {
   "cell_type": "code",
   "execution_count": null,
   "id": "ae2df62c",
   "metadata": {},
   "outputs": [],
   "source": [
    "2 + 2"
   ]
  },
  {
   "cell_type": "code",
   "execution_count": null,
   "id": "438928de",
   "metadata": {},
   "outputs": [],
   "source": [
    "5 ** 5"
   ]
  },
  {
   "cell_type": "code",
   "execution_count": null,
   "id": "69e61055",
   "metadata": {},
   "outputs": [],
   "source": [
    "6+1"
   ]
  },
  {
   "cell_type": "code",
   "execution_count": null,
   "id": "5a861fd5",
   "metadata": {},
   "outputs": [],
   "source": []
  }
 ],
 "metadata": {
  "kernelspec": {
   "display_name": "Python 3",
   "language": "python",
   "name": "python3"
  },
  "language_info": {
   "codemirror_mode": {
    "name": "ipython",
    "version": 3
   },
   "file_extension": ".py",
   "mimetype": "text/x-python",
   "name": "python",
   "nbconvert_exporter": "python",
   "pygments_lexer": "ipython3",
   "version": "3.8.8"
  }
 },
 "nbformat": 4,
 "nbformat_minor": 5
}
