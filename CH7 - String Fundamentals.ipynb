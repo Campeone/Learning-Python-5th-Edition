{
 "cells": [
  {
   "cell_type": "markdown",
   "id": "c7941355",
   "metadata": {},
   "source": [
    "### Single- and Double-Quoted Strings Are the Same"
   ]
  },
  {
   "cell_type": "code",
   "execution_count": 1,
   "id": "87314a71",
   "metadata": {},
   "outputs": [
    {
     "data": {
      "text/plain": [
       "('Shrubbery', 'Shrubbery')"
      ]
     },
     "execution_count": 1,
     "metadata": {},
     "output_type": "execute_result"
    }
   ],
   "source": [
    "'Shrubbery', \"Shrubbery\""
   ]
  },
  {
   "cell_type": "code",
   "execution_count": 2,
   "id": "2a9df2c9",
   "metadata": {},
   "outputs": [
    {
     "data": {
      "text/plain": [
       "('knight\"s', \"knight's\")"
      ]
     },
     "execution_count": 2,
     "metadata": {},
     "output_type": "execute_result"
    }
   ],
   "source": [
    "'knight\"s', \"knight's\""
   ]
  },
  {
   "cell_type": "code",
   "execution_count": 3,
   "id": "497d6efd",
   "metadata": {},
   "outputs": [
    {
     "data": {
      "text/plain": [
       "'Meaning of life'"
      ]
     },
     "execution_count": 3,
     "metadata": {},
     "output_type": "execute_result"
    }
   ],
   "source": [
    "# implicit concatenation\n",
    "title = \"Meaning \" 'of' \" life\" \n",
    "title"
   ]
  },
  {
   "cell_type": "markdown",
   "id": "88e3a6fe",
   "metadata": {},
   "source": [
    "### Adding commas between these strings would result in a tuple, not a string."
   ]
  },
  {
   "cell_type": "code",
   "execution_count": 4,
   "id": "d3a1e237",
   "metadata": {},
   "outputs": [
    {
     "data": {
      "text/plain": [
       "('Meaning ', 'of', ' life')"
      ]
     },
     "execution_count": 4,
     "metadata": {},
     "output_type": "execute_result"
    }
   ],
   "source": [
    "t = \"Meaning \", 'of', \" life\"\n",
    "t"
   ]
  },
  {
   "cell_type": "markdown",
   "id": "edf49801",
   "metadata": {},
   "source": [
    "### Escape Sequences Represent Special Characters"
   ]
  },
  {
   "cell_type": "code",
   "execution_count": 6,
   "id": "0642529b",
   "metadata": {},
   "outputs": [
    {
     "name": "stdout",
     "output_type": "stream",
     "text": [
      "a\n",
      "b\tc\n"
     ]
    }
   ],
   "source": [
    "s = 'a\\nb\\tc'\n",
    "print(s)"
   ]
  },
  {
   "cell_type": "markdown",
   "id": "0ac8e349",
   "metadata": {},
   "source": [
    "- \\n stand for a single character, a newline character \n",
    "- \\t is replaced with the tab character"
   ]
  },
  {
   "cell_type": "code",
   "execution_count": 7,
   "id": "476f1c2c",
   "metadata": {},
   "outputs": [
    {
     "name": "stdout",
     "output_type": "stream",
     "text": [
      "a\tb\tc\td\n"
     ]
    }
   ],
   "source": [
    "x = 'a\\tb\\tc\\td'\n",
    "print(x)"
   ]
  },
  {
   "cell_type": "code",
   "execution_count": 9,
   "id": "d8349007",
   "metadata": {},
   "outputs": [
    {
     "data": {
      "text/plain": [
       "(7, 5)"
      ]
     },
     "execution_count": 9,
     "metadata": {},
     "output_type": "execute_result"
    }
   ],
   "source": [
    "len(x), len(s)"
   ]
  },
  {
   "cell_type": "markdown",
   "id": "9957c893",
   "metadata": {},
   "source": [
    "### Raw strings suppresses escapes"
   ]
  },
  {
   "cell_type": "code",
   "execution_count": 12,
   "id": "93140e75",
   "metadata": {
    "scrolled": true
   },
   "outputs": [
    {
     "ename": "OSError",
     "evalue": "[Errno 22] Invalid argument: 'C:\\new\\text.dat'",
     "output_type": "error",
     "traceback": [
      "\u001b[1;31m---------------------------------------------------------------------------\u001b[0m",
      "\u001b[1;31mOSError\u001b[0m                                   Traceback (most recent call last)",
      "\u001b[1;32m<ipython-input-12-0d4753f85078>\u001b[0m in \u001b[0;36m<module>\u001b[1;34m\u001b[0m\n\u001b[1;32m----> 1\u001b[1;33m \u001b[0mmyfile\u001b[0m \u001b[1;33m=\u001b[0m \u001b[0mopen\u001b[0m\u001b[1;33m(\u001b[0m\u001b[1;34m'C:\\new\\text.dat'\u001b[0m\u001b[1;33m,\u001b[0m \u001b[1;34m'w'\u001b[0m\u001b[1;33m)\u001b[0m\u001b[1;33m\u001b[0m\u001b[1;33m\u001b[0m\u001b[0m\n\u001b[0m",
      "\u001b[1;31mOSError\u001b[0m: [Errno 22] Invalid argument: 'C:\\new\\text.dat'"
     ]
    }
   ],
   "source": [
    "myfile = open('C:\\new\\text.dat', 'w')"
   ]
  },
  {
   "cell_type": "code",
   "execution_count": 16,
   "id": "385ac145",
   "metadata": {},
   "outputs": [
    {
     "ename": "FileNotFoundError",
     "evalue": "[Errno 2] No such file or directory: 'C:\\\\new\\\\text.dat'",
     "output_type": "error",
     "traceback": [
      "\u001b[1;31m---------------------------------------------------------------------------\u001b[0m",
      "\u001b[1;31mFileNotFoundError\u001b[0m                         Traceback (most recent call last)",
      "\u001b[1;32m<ipython-input-16-51c64817308a>\u001b[0m in \u001b[0;36m<module>\u001b[1;34m\u001b[0m\n\u001b[0;32m      2\u001b[0m \u001b[1;31m# to turn off the escape mechanism\u001b[0m\u001b[1;33m\u001b[0m\u001b[1;33m\u001b[0m\u001b[1;33m\u001b[0m\u001b[0m\n\u001b[0;32m      3\u001b[0m \u001b[1;31m# and retains the backslashes\u001b[0m\u001b[1;33m\u001b[0m\u001b[1;33m\u001b[0m\u001b[1;33m\u001b[0m\u001b[0m\n\u001b[1;32m----> 4\u001b[1;33m \u001b[0mmyfile\u001b[0m \u001b[1;33m=\u001b[0m \u001b[0mopen\u001b[0m\u001b[1;33m(\u001b[0m\u001b[1;34mr'C:\\new\\text.dat'\u001b[0m\u001b[1;33m,\u001b[0m \u001b[1;34m'w'\u001b[0m\u001b[1;33m)\u001b[0m\u001b[1;33m\u001b[0m\u001b[1;33m\u001b[0m\u001b[0m\n\u001b[0m",
      "\u001b[1;31mFileNotFoundError\u001b[0m: [Errno 2] No such file or directory: 'C:\\\\new\\\\text.dat'"
     ]
    }
   ],
   "source": [
    "\"\"\"add 'r' before the file name \n",
    "to turn off the escape mechanism \n",
    "and retains the backslashes\"\"\" \n",
    "myfile = open(r'C:\\new\\text.dat', 'w')"
   ]
  },
  {
   "cell_type": "code",
   "execution_count": 17,
   "id": "942d8e56",
   "metadata": {},
   "outputs": [
    {
     "data": {
      "text/plain": [
       "'C:\\\\new\\\\test.dat'"
      ]
     },
     "execution_count": 17,
     "metadata": {},
     "output_type": "execute_result"
    }
   ],
   "source": [
    "# show as python code\n",
    "path = r'C:\\new\\test.dat' \n",
    "path"
   ]
  },
  {
   "cell_type": "code",
   "execution_count": 18,
   "id": "9139584e",
   "metadata": {},
   "outputs": [
    {
     "name": "stdout",
     "output_type": "stream",
     "text": [
      "C:\\new\\test.dat\n"
     ]
    }
   ],
   "source": [
    "# user friendly format\n",
    "print(path)"
   ]
  },
  {
   "cell_type": "code",
   "execution_count": 19,
   "id": "1c6a1c34",
   "metadata": {},
   "outputs": [
    {
     "data": {
      "text/plain": [
       "15"
      ]
     },
     "execution_count": 19,
     "metadata": {},
     "output_type": "execute_result"
    }
   ],
   "source": [
    "# string length \n",
    "len(path)"
   ]
  },
  {
   "cell_type": "markdown",
   "id": "2f72e44a",
   "metadata": {},
   "source": [
    "### Triple Quotes Code Multiline Block Strings"
   ]
  },
  {
   "cell_type": "code",
   "execution_count": 31,
   "id": "85a85c7b",
   "metadata": {},
   "outputs": [
    {
     "name": "stdout",
     "output_type": "stream",
     "text": [
      " \n",
      "Always look \n",
      "on the bright \n",
      "side of life.\n",
      "\n"
     ]
    }
   ],
   "source": [
    "\"\"\" \n",
    "sometimes called a block string,\n",
    "that is a syntactic convenience for \n",
    "coding multiline text data.\n",
    "\"\"\" \n",
    "\n",
    "mantra =\"\"\" \n",
    "Always look \n",
    "on the bright \n",
    "side of life.\n",
    "\"\"\" \n",
    "print(mantra)"
   ]
  },
  {
   "cell_type": "code",
   "execution_count": 28,
   "id": "5f6c2840",
   "metadata": {},
   "outputs": [
    {
     "name": "stdout",
     "output_type": "stream",
     "text": [
      "sometimes called a block string, \n",
      "that is a syntactic convenience for \n",
      "coding multiline text data.\n"
     ]
    }
   ],
   "source": [
    "yeah = \"sometimes called a block string, \\nthat is a syntactic convenience for \\ncoding multiline text data.\"\n",
    "print(yeah)"
   ]
  },
  {
   "cell_type": "markdown",
   "id": "f509ec27",
   "metadata": {},
   "source": [
    "### triple-quoted strings are also sometimes used as a “horribly hackish” way to temporarily disable lines of code during development"
   ]
  },
  {
   "cell_type": "code",
   "execution_count": 35,
   "id": "483cbf1d",
   "metadata": {},
   "outputs": [
    {
     "data": {
      "text/plain": [
       "32"
      ]
     },
     "execution_count": 35,
     "metadata": {},
     "output_type": "execute_result"
    }
   ],
   "source": [
    "x = 1 \n",
    "y = 2 \n",
    "\"\"\" \n",
    "y ** x # Disable this code temporarily\n",
    "\"\"\" \n",
    "2 ** 5"
   ]
  },
  {
   "cell_type": "markdown",
   "id": "9d2f68a2",
   "metadata": {},
   "source": [
    "## Strings in Action"
   ]
  },
  {
   "cell_type": "markdown",
   "id": "1a7eb93f",
   "metadata": {},
   "source": [
    "### Basic Operations"
   ]
  },
  {
   "cell_type": "code",
   "execution_count": 37,
   "id": "06a58867",
   "metadata": {},
   "outputs": [
    {
     "data": {
      "text/plain": [
       "3"
      ]
     },
     "execution_count": 37,
     "metadata": {},
     "output_type": "execute_result"
    }
   ],
   "source": [
    "# l3ngth: number of items\n",
    "len('abc')"
   ]
  },
  {
   "cell_type": "code",
   "execution_count": 38,
   "id": "b58ab037",
   "metadata": {},
   "outputs": [
    {
     "data": {
      "text/plain": [
       "'abcdef'"
      ]
     },
     "execution_count": 38,
     "metadata": {},
     "output_type": "execute_result"
    }
   ],
   "source": [
    "# concatenation \n",
    "'abc' + 'def'"
   ]
  },
  {
   "cell_type": "code",
   "execution_count": 41,
   "id": "cad45d9c",
   "metadata": {},
   "outputs": [
    {
     "data": {
      "text/plain": [
       "'Ni!Ni!Ni!Ni!'"
      ]
     },
     "execution_count": 41,
     "metadata": {},
     "output_type": "execute_result"
    }
   ],
   "source": [
    "# repetition \n",
    "'Ni!' * 4"
   ]
  },
  {
   "cell_type": "code",
   "execution_count": 42,
   "id": "3e45da7f",
   "metadata": {},
   "outputs": [
    {
     "name": "stdout",
     "output_type": "stream",
     "text": [
      "--------------------------------------------------------------------------------\n"
     ]
    }
   ],
   "source": [
    "# 80 dashes, the easy way\n",
    "print('-' * 80)"
   ]
  },
  {
   "cell_type": "code",
   "execution_count": 47,
   "id": "24baed8c",
   "metadata": {},
   "outputs": [
    {
     "name": "stdout",
     "output_type": "stream",
     "text": [
      "h a c k e r "
     ]
    }
   ],
   "source": [
    "# iteration\n",
    "myjob = 'hacker'\n",
    "for c in myjob: print(c, end=' ')"
   ]
  },
  {
   "cell_type": "code",
   "execution_count": 48,
   "id": "65866b45",
   "metadata": {},
   "outputs": [
    {
     "data": {
      "text/plain": [
       "True"
      ]
     },
     "execution_count": 48,
     "metadata": {},
     "output_type": "execute_result"
    }
   ],
   "source": [
    "'k' in myjob"
   ]
  },
  {
   "cell_type": "code",
   "execution_count": 53,
   "id": "b411b800",
   "metadata": {},
   "outputs": [
    {
     "data": {
      "text/plain": [
       "True"
      ]
     },
     "execution_count": 53,
     "metadata": {},
     "output_type": "execute_result"
    }
   ],
   "source": [
    "# substring search, no position return\n",
    "'spam' in 'abcspamdef'"
   ]
  },
  {
   "cell_type": "markdown",
   "id": "7cc50820",
   "metadata": {},
   "source": [
    "### Indexing and Slicing"
   ]
  },
  {
   "cell_type": "code",
   "execution_count": 54,
   "id": "65777dea",
   "metadata": {},
   "outputs": [
    {
     "data": {
      "text/plain": [
       "('s', 'a')"
      ]
     },
     "execution_count": 54,
     "metadata": {},
     "output_type": "execute_result"
    }
   ],
   "source": [
    "# indexing from front or end \n",
    "s = 'spam'\n",
    "s[0], s[-2]"
   ]
  },
  {
   "cell_type": "code",
   "execution_count": 55,
   "id": "77af82c6",
   "metadata": {},
   "outputs": [
    {
     "data": {
      "text/plain": [
       "('pa', 'pam', 'spa')"
      ]
     },
     "execution_count": 55,
     "metadata": {},
     "output_type": "execute_result"
    }
   ],
   "source": [
    "# slicing \n",
    "s[1:3], s[1:], s[:-1]"
   ]
  },
  {
   "cell_type": "code",
   "execution_count": 57,
   "id": "b27ae8a0",
   "metadata": {},
   "outputs": [
    {
     "data": {
      "text/plain": [
       "'bdfhj'"
      ]
     },
     "execution_count": 57,
     "metadata": {},
     "output_type": "execute_result"
    }
   ],
   "source": [
    "s = 'abcdefghijklmnop' \n",
    "# skipping items \n",
    "s[1:10:2]"
   ]
  },
  {
   "cell_type": "code",
   "execution_count": 58,
   "id": "6f3cc798",
   "metadata": {},
   "outputs": [
    {
     "data": {
      "text/plain": [
       "'acegikmo'"
      ]
     },
     "execution_count": 58,
     "metadata": {},
     "output_type": "execute_result"
    }
   ],
   "source": [
    "s[::2]"
   ]
  },
  {
   "cell_type": "code",
   "execution_count": 60,
   "id": "eff7a223",
   "metadata": {},
   "outputs": [
    {
     "data": {
      "text/plain": [
       "'pnljhfdb'"
      ]
     },
     "execution_count": 60,
     "metadata": {},
     "output_type": "execute_result"
    }
   ],
   "source": [
    "# skipping items and reversing order\n",
    "s[::-2]"
   ]
  },
  {
   "cell_type": "code",
   "execution_count": 61,
   "id": "34aa0f94",
   "metadata": {},
   "outputs": [
    {
     "data": {
      "text/plain": [
       "'pa'"
      ]
     },
     "execution_count": 61,
     "metadata": {},
     "output_type": "execute_result"
    }
   ],
   "source": [
    "'spam'[1:3]"
   ]
  },
  {
   "cell_type": "code",
   "execution_count": 62,
   "id": "6219b80b",
   "metadata": {},
   "outputs": [
    {
     "data": {
      "text/plain": [
       "'pa'"
      ]
     },
     "execution_count": 62,
     "metadata": {},
     "output_type": "execute_result"
    }
   ],
   "source": [
    "'spam'[slice(1, 3)]"
   ]
  },
  {
   "cell_type": "code",
   "execution_count": 63,
   "id": "d2da93c9",
   "metadata": {},
   "outputs": [
    {
     "data": {
      "text/plain": [
       "'maps'"
      ]
     },
     "execution_count": 63,
     "metadata": {},
     "output_type": "execute_result"
    }
   ],
   "source": [
    "'spam'[::-1]"
   ]
  },
  {
   "cell_type": "code",
   "execution_count": 64,
   "id": "1f53c0eb",
   "metadata": {},
   "outputs": [
    {
     "data": {
      "text/plain": [
       "'maps'"
      ]
     },
     "execution_count": 64,
     "metadata": {},
     "output_type": "execute_result"
    }
   ],
   "source": [
    "'spam'[slice(None, None, -1)]"
   ]
  },
  {
   "cell_type": "markdown",
   "id": "a5918e2e",
   "metadata": {},
   "source": [
    "### String conversion tools"
   ]
  },
  {
   "cell_type": "code",
   "execution_count": 65,
   "id": "1eafb238",
   "metadata": {},
   "outputs": [
    {
     "ename": "TypeError",
     "evalue": "can only concatenate str (not \"int\") to str",
     "output_type": "error",
     "traceback": [
      "\u001b[1;31m---------------------------------------------------------------------------\u001b[0m",
      "\u001b[1;31mTypeError\u001b[0m                                 Traceback (most recent call last)",
      "\u001b[1;32m<ipython-input-65-f2e6fcd147b0>\u001b[0m in \u001b[0;36m<module>\u001b[1;34m\u001b[0m\n\u001b[1;32m----> 1\u001b[1;33m \u001b[1;34m\"42\"\u001b[0m \u001b[1;33m+\u001b[0m \u001b[1;36m1\u001b[0m\u001b[1;33m\u001b[0m\u001b[1;33m\u001b[0m\u001b[0m\n\u001b[0m",
      "\u001b[1;31mTypeError\u001b[0m: can only concatenate str (not \"int\") to str"
     ]
    }
   ],
   "source": [
    "\"42\" + 1"
   ]
  },
  {
   "cell_type": "code",
   "execution_count": 66,
   "id": "af4c6c19",
   "metadata": {},
   "outputs": [
    {
     "data": {
      "text/plain": [
       "(42, '42')"
      ]
     },
     "execution_count": 66,
     "metadata": {},
     "output_type": "execute_result"
    }
   ],
   "source": [
    "# convert from/to string \n",
    "int('42'), str(42)"
   ]
  },
  {
   "cell_type": "code",
   "execution_count": 69,
   "id": "3e238876",
   "metadata": {},
   "outputs": [
    {
     "data": {
      "text/plain": [
       "'42'"
      ]
     },
     "execution_count": 69,
     "metadata": {},
     "output_type": "execute_result"
    }
   ],
   "source": [
    "# convert to as-code string\n",
    "repr(42)"
   ]
  },
  {
   "cell_type": "code",
   "execution_count": 70,
   "id": "cf64ca1a",
   "metadata": {},
   "outputs": [
    {
     "ename": "TypeError",
     "evalue": "can only concatenate str (not \"int\") to str",
     "output_type": "error",
     "traceback": [
      "\u001b[1;31m---------------------------------------------------------------------------\u001b[0m",
      "\u001b[1;31mTypeError\u001b[0m                                 Traceback (most recent call last)",
      "\u001b[1;32m<ipython-input-70-e8e3411353d7>\u001b[0m in \u001b[0;36m<module>\u001b[1;34m\u001b[0m\n\u001b[0;32m      1\u001b[0m \u001b[0mS\u001b[0m \u001b[1;33m=\u001b[0m \u001b[1;34m\"42\"\u001b[0m\u001b[1;33m\u001b[0m\u001b[1;33m\u001b[0m\u001b[0m\n\u001b[0;32m      2\u001b[0m \u001b[0mI\u001b[0m \u001b[1;33m=\u001b[0m \u001b[1;36m1\u001b[0m\u001b[1;33m\u001b[0m\u001b[1;33m\u001b[0m\u001b[0m\n\u001b[1;32m----> 3\u001b[1;33m \u001b[0mS\u001b[0m \u001b[1;33m+\u001b[0m \u001b[0mI\u001b[0m\u001b[1;33m\u001b[0m\u001b[1;33m\u001b[0m\u001b[0m\n\u001b[0m",
      "\u001b[1;31mTypeError\u001b[0m: can only concatenate str (not \"int\") to str"
     ]
    }
   ],
   "source": [
    "S = \"42\"\n",
    "I = 1\n",
    "S + I"
   ]
  },
  {
   "cell_type": "code",
   "execution_count": 71,
   "id": "3c37e40f",
   "metadata": {},
   "outputs": [
    {
     "data": {
      "text/plain": [
       "43"
      ]
     },
     "execution_count": 71,
     "metadata": {},
     "output_type": "execute_result"
    }
   ],
   "source": [
    "# force addition \n",
    "int(S) + 1"
   ]
  },
  {
   "cell_type": "code",
   "execution_count": 72,
   "id": "6224d000",
   "metadata": {},
   "outputs": [
    {
     "data": {
      "text/plain": [
       "'421'"
      ]
     },
     "execution_count": 72,
     "metadata": {},
     "output_type": "execute_result"
    }
   ],
   "source": [
    "# force concatenation\n",
    "S + str(I)"
   ]
  },
  {
   "cell_type": "code",
   "execution_count": 75,
   "id": "a0b7aa54",
   "metadata": {},
   "outputs": [
    {
     "data": {
      "text/plain": [
       "('3.1415', 1.5)"
      ]
     },
     "execution_count": 75,
     "metadata": {},
     "output_type": "execute_result"
    }
   ],
   "source": [
    "str(3.1415), float(\"1.5\")"
   ]
  },
  {
   "cell_type": "markdown",
   "id": "8146d589",
   "metadata": {},
   "source": [
    "### Changing Strings |"
   ]
  },
  {
   "cell_type": "code",
   "execution_count": 101,
   "id": "867a332a",
   "metadata": {},
   "outputs": [
    {
     "ename": "TypeError",
     "evalue": "'str' object does not support item assignment",
     "output_type": "error",
     "traceback": [
      "\u001b[1;31m---------------------------------------------------------------------------\u001b[0m",
      "\u001b[1;31mTypeError\u001b[0m                                 Traceback (most recent call last)",
      "\u001b[1;32m<ipython-input-101-4ffce0db5fd9>\u001b[0m in \u001b[0;36m<module>\u001b[1;34m\u001b[0m\n\u001b[0;32m      1\u001b[0m \u001b[1;31m# strings are immutable, they do not support changes in place\u001b[0m\u001b[1;33m\u001b[0m\u001b[1;33m\u001b[0m\u001b[1;33m\u001b[0m\u001b[0m\n\u001b[0;32m      2\u001b[0m \u001b[0mS\u001b[0m \u001b[1;33m=\u001b[0m \u001b[1;34m'spam'\u001b[0m\u001b[1;33m\u001b[0m\u001b[1;33m\u001b[0m\u001b[0m\n\u001b[1;32m----> 3\u001b[1;33m \u001b[0ms\u001b[0m\u001b[1;33m[\u001b[0m\u001b[1;36m0\u001b[0m\u001b[1;33m]\u001b[0m \u001b[1;33m=\u001b[0m \u001b[1;34m'x'\u001b[0m\u001b[1;33m\u001b[0m\u001b[1;33m\u001b[0m\u001b[0m\n\u001b[0m",
      "\u001b[1;31mTypeError\u001b[0m: 'str' object does not support item assignment"
     ]
    }
   ],
   "source": [
    "# strings are immutable, they do not support changes in place\n",
    "S = 'spam'\n",
    "s[0] = 'x'"
   ]
  },
  {
   "cell_type": "markdown",
   "id": "d9bc439f",
   "metadata": {},
   "source": [
    "#### To change a string, use tools such as concatenation and slicing"
   ]
  },
  {
   "cell_type": "code",
   "execution_count": 81,
   "id": "a91af704",
   "metadata": {},
   "outputs": [
    {
     "data": {
      "text/plain": [
       "'spamBurgermSPAM!'"
      ]
     },
     "execution_count": 81,
     "metadata": {},
     "output_type": "execute_result"
    }
   ],
   "source": [
    "S = S + 'SPAM!' \n",
    "S"
   ]
  },
  {
   "cell_type": "code",
   "execution_count": 82,
   "id": "efcb7e7a",
   "metadata": {},
   "outputs": [
    {
     "data": {
      "text/plain": [
       "'spamBurger!'"
      ]
     },
     "execution_count": 82,
     "metadata": {},
     "output_type": "execute_result"
    }
   ],
   "source": [
    "S = S[:4] + 'Burger' + S[-1]\n",
    "S"
   ]
  },
  {
   "cell_type": "code",
   "execution_count": 83,
   "id": "00b17709",
   "metadata": {},
   "outputs": [
    {
     "data": {
      "text/plain": [
       "'spamalot'"
      ]
     },
     "execution_count": 83,
     "metadata": {},
     "output_type": "execute_result"
    }
   ],
   "source": [
    "S = 'splot'\n",
    "S = S.replace('pl', 'pamal')\n",
    "S"
   ]
  },
  {
   "cell_type": "code",
   "execution_count": 84,
   "id": "5712de84",
   "metadata": {},
   "outputs": [
    {
     "data": {
      "text/plain": [
       "'That is 1 dead bird!'"
      ]
     },
     "execution_count": 84,
     "metadata": {},
     "output_type": "execute_result"
    }
   ],
   "source": [
    "# format expression: all Pythons \n",
    "'That is %d %s bird!' %(1, 'dead')"
   ]
  },
  {
   "cell_type": "code",
   "execution_count": 88,
   "id": "4c5c3ee7",
   "metadata": {},
   "outputs": [
    {
     "data": {
      "text/plain": [
       "'That is 1 dead bird!'"
      ]
     },
     "execution_count": 88,
     "metadata": {},
     "output_type": "execute_result"
    }
   ],
   "source": [
    "'That is {} {} bird!'.format(1, 'dead')"
   ]
  },
  {
   "cell_type": "code",
   "execution_count": 87,
   "id": "314d851b",
   "metadata": {},
   "outputs": [
    {
     "data": {
      "text/plain": [
       "'That is 1 dead bird!'"
      ]
     },
     "execution_count": 87,
     "metadata": {},
     "output_type": "execute_result"
    }
   ],
   "source": [
    "'That is {0} {1} bird!'.format(1, 'dead')"
   ]
  },
  {
   "cell_type": "code",
   "execution_count": 91,
   "id": "be230561",
   "metadata": {},
   "outputs": [
    {
     "data": {
      "text/plain": [
       "'That is 1 dead bird!'"
      ]
     },
     "execution_count": 91,
     "metadata": {},
     "output_type": "execute_result"
    }
   ],
   "source": [
    "x = 1 \n",
    "y = 'dead'\n",
    "f'That is {x} {y} bird!'"
   ]
  },
  {
   "cell_type": "markdown",
   "id": "19878fe6",
   "metadata": {},
   "source": [
    "## String Methods"
   ]
  },
  {
   "cell_type": "code",
   "execution_count": 93,
   "id": "f2bb9bb7",
   "metadata": {},
   "outputs": [
    {
     "data": {
      "text/plain": [
       "1"
      ]
     },
     "execution_count": 93,
     "metadata": {},
     "output_type": "execute_result"
    }
   ],
   "source": [
    "S = 'spam'\n",
    "result = S.find('pa') # Call the find method to look for 'pa' in string S \n",
    "result"
   ]
  },
  {
   "cell_type": "markdown",
   "id": "74cf7f74",
   "metadata": {},
   "source": [
    "- The find method returns the position(offset) of the first character"
   ]
  },
  {
   "cell_type": "code",
   "execution_count": 95,
   "id": "9d6a66c8",
   "metadata": {},
   "outputs": [
    {
     "data": {
      "text/plain": [
       "['__add__',\n",
       " '__class__',\n",
       " '__contains__',\n",
       " '__delattr__',\n",
       " '__dir__',\n",
       " '__doc__',\n",
       " '__eq__',\n",
       " '__format__',\n",
       " '__ge__',\n",
       " '__getattribute__',\n",
       " '__getitem__',\n",
       " '__getnewargs__',\n",
       " '__gt__',\n",
       " '__hash__',\n",
       " '__init__',\n",
       " '__init_subclass__',\n",
       " '__iter__',\n",
       " '__le__',\n",
       " '__len__',\n",
       " '__lt__',\n",
       " '__mod__',\n",
       " '__mul__',\n",
       " '__ne__',\n",
       " '__new__',\n",
       " '__reduce__',\n",
       " '__reduce_ex__',\n",
       " '__repr__',\n",
       " '__rmod__',\n",
       " '__rmul__',\n",
       " '__setattr__',\n",
       " '__sizeof__',\n",
       " '__str__',\n",
       " '__subclasshook__',\n",
       " 'capitalize',\n",
       " 'casefold',\n",
       " 'center',\n",
       " 'count',\n",
       " 'encode',\n",
       " 'endswith',\n",
       " 'expandtabs',\n",
       " 'find',\n",
       " 'format',\n",
       " 'format_map',\n",
       " 'index',\n",
       " 'isalnum',\n",
       " 'isalpha',\n",
       " 'isascii',\n",
       " 'isdecimal',\n",
       " 'isdigit',\n",
       " 'isidentifier',\n",
       " 'islower',\n",
       " 'isnumeric',\n",
       " 'isprintable',\n",
       " 'isspace',\n",
       " 'istitle',\n",
       " 'isupper',\n",
       " 'join',\n",
       " 'ljust',\n",
       " 'lower',\n",
       " 'lstrip',\n",
       " 'maketrans',\n",
       " 'partition',\n",
       " 'replace',\n",
       " 'rfind',\n",
       " 'rindex',\n",
       " 'rjust',\n",
       " 'rpartition',\n",
       " 'rsplit',\n",
       " 'rstrip',\n",
       " 'split',\n",
       " 'splitlines',\n",
       " 'startswith',\n",
       " 'strip',\n",
       " 'swapcase',\n",
       " 'title',\n",
       " 'translate',\n",
       " 'upper',\n",
       " 'zfill']"
      ]
     },
     "execution_count": 95,
     "metadata": {},
     "output_type": "execute_result"
    }
   ],
   "source": [
    "# string Method calls \n",
    "\n",
    "dir(s)"
   ]
  },
  {
   "cell_type": "markdown",
   "id": "3a834626",
   "metadata": {},
   "source": [
    "### String Method Examples: Changing Strings ||"
   ]
  },
  {
   "cell_type": "code",
   "execution_count": 98,
   "id": "f2717816",
   "metadata": {},
   "outputs": [
    {
     "data": {
      "text/plain": [
       "'spaxxy'"
      ]
     },
     "execution_count": 98,
     "metadata": {},
     "output_type": "execute_result"
    }
   ],
   "source": [
    "S = 'spammy'\n",
    "# Slicing and concatenation\n",
    "S = S[:3] + 'xx' + S[5:] \n",
    "S"
   ]
  },
  {
   "cell_type": "code",
   "execution_count": 99,
   "id": "d8783a6a",
   "metadata": {},
   "outputs": [
    {
     "data": {
      "text/plain": [
       "'spaxxy'"
      ]
     },
     "execution_count": 99,
     "metadata": {},
     "output_type": "execute_result"
    }
   ],
   "source": [
    "S = 'spammy'\n",
    "# replacing\n",
    "S = S.replace('mm', 'xx')\n",
    "S"
   ]
  },
  {
   "cell_type": "code",
   "execution_count": 100,
   "id": "bae33555",
   "metadata": {},
   "outputs": [
    {
     "data": {
      "text/plain": [
       "'aaSPAMbbSPAMccSPAMdd'"
      ]
     },
     "execution_count": 100,
     "metadata": {},
     "output_type": "execute_result"
    }
   ],
   "source": [
    "'aa$bb$cc$dd'.replace('$', 'SPAM')"
   ]
  },
  {
   "cell_type": "code",
   "execution_count": 106,
   "id": "619ccbdf",
   "metadata": {},
   "outputs": [
    {
     "data": {
      "text/plain": [
       "['s', 'p', 'a', 'm', 'm', 'y']"
      ]
     },
     "execution_count": 106,
     "metadata": {},
     "output_type": "execute_result"
    }
   ],
   "source": [
    "S = 'spammy'\n",
    "L = list(S)\n",
    "L"
   ]
  },
  {
   "cell_type": "code",
   "execution_count": 109,
   "id": "be9405d4",
   "metadata": {},
   "outputs": [],
   "source": [
    "L[3] = 'x'\n",
    "L[4] = 'x'"
   ]
  },
  {
   "cell_type": "code",
   "execution_count": 110,
   "id": "7711e61a",
   "metadata": {},
   "outputs": [
    {
     "data": {
      "text/plain": [
       "['s', 'p', 'a', 'x', 'x', 'y']"
      ]
     },
     "execution_count": 110,
     "metadata": {},
     "output_type": "execute_result"
    }
   ],
   "source": [
    "L"
   ]
  },
  {
   "cell_type": "code",
   "execution_count": 112,
   "id": "0fd71a2d",
   "metadata": {},
   "outputs": [
    {
     "data": {
      "text/plain": [
       "'spaxxy'"
      ]
     },
     "execution_count": 112,
     "metadata": {},
     "output_type": "execute_result"
    }
   ],
   "source": [
    "''.join(L)"
   ]
  },
  {
   "cell_type": "code",
   "execution_count": 114,
   "id": "77d90b5d",
   "metadata": {},
   "outputs": [
    {
     "data": {
      "text/plain": [
       "'s SPAM p SPAM a SPAM x SPAM x SPAM y'"
      ]
     },
     "execution_count": 114,
     "metadata": {},
     "output_type": "execute_result"
    }
   ],
   "source": [
    "' SPAM '.join(L)"
   ]
  },
  {
   "cell_type": "markdown",
   "id": "f40fecef",
   "metadata": {},
   "source": [
    "### String Method Examples: Parsing Text"
   ]
  },
  {
   "cell_type": "code",
   "execution_count": 116,
   "id": "68086c25",
   "metadata": {},
   "outputs": [
    {
     "data": {
      "text/plain": [
       "('aaa', 'ccc')"
      ]
     },
     "execution_count": 116,
     "metadata": {},
     "output_type": "execute_result"
    }
   ],
   "source": [
    "# slicing\n",
    "line = 'aaa bbb ccc'\n",
    "col1 = line[0:3]\n",
    "col3 = line[8:]\n",
    "col1, col3"
   ]
  },
  {
   "cell_type": "code",
   "execution_count": 118,
   "id": "b30bb7d5",
   "metadata": {},
   "outputs": [
    {
     "data": {
      "text/plain": [
       "['aaa', 'bbb', 'ccc']"
      ]
     },
     "execution_count": 118,
     "metadata": {},
     "output_type": "execute_result"
    }
   ],
   "source": [
    "# splitting\n",
    "cols = line.split(' ') \n",
    "cols"
   ]
  },
  {
   "cell_type": "code",
   "execution_count": 119,
   "id": "0060577b",
   "metadata": {},
   "outputs": [
    {
     "data": {
      "text/plain": [
       "['bob', 'hacker', '40']"
      ]
     },
     "execution_count": 119,
     "metadata": {},
     "output_type": "execute_result"
    }
   ],
   "source": [
    "# splitting with delimeters\n",
    "line = 'bob,hacker,40'\n",
    "line.split(',')"
   ]
  },
  {
   "cell_type": "code",
   "execution_count": 120,
   "id": "e4d78ed7",
   "metadata": {},
   "outputs": [
    {
     "data": {
      "text/plain": [
       "[\"i'm\", 'a', 'lumberjack']"
      ]
     },
     "execution_count": 120,
     "metadata": {},
     "output_type": "execute_result"
    }
   ],
   "source": [
    "# splitting with delimeters \n",
    "line = \"i'mSPAMaSPAMlumberjack\"\n",
    "line.split(\"SPAM\")"
   ]
  },
  {
   "cell_type": "markdown",
   "id": "1b609ab4",
   "metadata": {},
   "source": [
    "### Other common methods in Action"
   ]
  },
  {
   "cell_type": "code",
   "execution_count": 4,
   "id": "e6de774d",
   "metadata": {},
   "outputs": [
    {
     "data": {
      "text/plain": [
       "'The knights who say Ni!'"
      ]
     },
     "execution_count": 4,
     "metadata": {},
     "output_type": "execute_result"
    }
   ],
   "source": [
    "line = \"The knights who say Ni!\\n\"\n",
    "line.rstrip()"
   ]
  },
  {
   "cell_type": "code",
   "execution_count": 5,
   "id": "bc6897cd",
   "metadata": {},
   "outputs": [
    {
     "data": {
      "text/plain": [
       "'THE KNIGHTS WHO SAY NI!\\n'"
      ]
     },
     "execution_count": 5,
     "metadata": {},
     "output_type": "execute_result"
    }
   ],
   "source": [
    "line.upper()"
   ]
  },
  {
   "cell_type": "code",
   "execution_count": 6,
   "id": "b3344e16",
   "metadata": {},
   "outputs": [
    {
     "data": {
      "text/plain": [
       "False"
      ]
     },
     "execution_count": 6,
     "metadata": {},
     "output_type": "execute_result"
    }
   ],
   "source": [
    "line.isalpha()"
   ]
  },
  {
   "cell_type": "code",
   "execution_count": 7,
   "id": "45ba4cdf",
   "metadata": {},
   "outputs": [
    {
     "data": {
      "text/plain": [
       "True"
      ]
     },
     "execution_count": 7,
     "metadata": {},
     "output_type": "execute_result"
    }
   ],
   "source": [
    "line.endswith('Ni!\\n')"
   ]
  },
  {
   "cell_type": "code",
   "execution_count": 8,
   "id": "94ee77dc",
   "metadata": {},
   "outputs": [
    {
     "data": {
      "text/plain": [
       "True"
      ]
     },
     "execution_count": 8,
     "metadata": {},
     "output_type": "execute_result"
    }
   ],
   "source": [
    "line.startswith('The')"
   ]
  },
  {
   "cell_type": "markdown",
   "id": "9deb04c4",
   "metadata": {},
   "source": [
    "### String Formatting Expressions"
   ]
  },
  {
   "cell_type": "markdown",
   "id": "56d6f67f",
   "metadata": {},
   "source": [
    "### Formatting Expression Basics"
   ]
  },
  {
   "cell_type": "code",
   "execution_count": 9,
   "id": "b31f522f",
   "metadata": {},
   "outputs": [
    {
     "data": {
      "text/plain": [
       "'That is 1 dead bird!'"
      ]
     },
     "execution_count": 9,
     "metadata": {},
     "output_type": "execute_result"
    }
   ],
   "source": [
    "'That is %d %s bird!' %(1, 'dead')"
   ]
  },
  {
   "cell_type": "code",
   "execution_count": 12,
   "id": "b12cdb05",
   "metadata": {},
   "outputs": [
    {
     "data": {
      "text/plain": [
       "'there is 1 heaven'"
      ]
     },
     "execution_count": 12,
     "metadata": {},
     "output_type": "execute_result"
    }
   ],
   "source": [
    "x = 1 \n",
    "y = 'heaven' \n",
    "\n",
    "f'there is {x} {y}'"
   ]
  },
  {
   "cell_type": "code",
   "execution_count": 16,
   "id": "fcd64c0e",
   "metadata": {},
   "outputs": [
    {
     "data": {
      "text/plain": [
       "'1 spam 4 you'"
      ]
     },
     "execution_count": 16,
     "metadata": {},
     "output_type": "execute_result"
    }
   ],
   "source": [
    "'%d %s %g you' %(1, 'spam', 4.0)"
   ]
  },
  {
   "cell_type": "markdown",
   "id": "3cce1a48",
   "metadata": {},
   "source": [
    "### Advanced Formatting Expression Syntax"
   ]
  },
  {
   "cell_type": "markdown",
   "id": "09c1252c",
   "metadata": {},
   "source": [
    "### Dictionary-Based Formatting Expressions"
   ]
  },
  {
   "cell_type": "code",
   "execution_count": 20,
   "id": "1f053613",
   "metadata": {},
   "outputs": [
    {
     "name": "stdout",
     "output_type": "stream",
     "text": [
      " \n",
      "Greetings... \n",
      "Hello Bob! \n",
      "Your age is 40 \n",
      "\n"
     ]
    }
   ],
   "source": [
    "reply = \"\"\" \n",
    "Greetings... \n",
    "Hello %(name)s! \n",
    "Your age is %(age)s \n",
    "\"\"\" % {'name': 'Bob', 'age': 40}\n",
    " \n",
    "print(reply)"
   ]
  },
  {
   "cell_type": "code",
   "execution_count": 21,
   "id": "1a53ebbf",
   "metadata": {},
   "outputs": [
    {
     "name": "stdout",
     "output_type": "stream",
     "text": [
      " \n",
      "Greetings... \n",
      "Hello Bob! \n",
      "Your age is 40 \n",
      "\n"
     ]
    }
   ],
   "source": [
    "reply = \"\"\" \n",
    "Greetings... \n",
    "Hello %(name)s! \n",
    "Your age is %(age)s \n",
    "\"\"\" \n",
    "\n",
    "values = {'name': 'Bob', 'age': 40} \n",
    "print(reply % values)"
   ]
  },
  {
   "cell_type": "markdown",
   "id": "cde2773f",
   "metadata": {},
   "source": [
    "### Formatting Method Basics"
   ]
  },
  {
   "cell_type": "code",
   "execution_count": 22,
   "id": "23b948aa",
   "metadata": {},
   "outputs": [
    {
     "data": {
      "text/plain": [
       "'spam, ham and eggs'"
      ]
     },
     "execution_count": 22,
     "metadata": {},
     "output_type": "execute_result"
    }
   ],
   "source": [
    "template = '{0}, {1} and {2}' # By position\n",
    "template.format('spam', 'ham', 'eggs')"
   ]
  },
  {
   "cell_type": "code",
   "execution_count": 23,
   "id": "536fe2e3",
   "metadata": {},
   "outputs": [
    {
     "data": {
      "text/plain": [
       "'spam, ham and eggs'"
      ]
     },
     "execution_count": 23,
     "metadata": {},
     "output_type": "execute_result"
    }
   ],
   "source": [
    "template = '{motto}, {pork} and {food}' # By keyword \n",
    "template.format(motto='spam', pork='ham', food='eggs')"
   ]
  },
  {
   "cell_type": "code",
   "execution_count": 24,
   "id": "4a6e6d0d",
   "metadata": {},
   "outputs": [
    {
     "data": {
      "text/plain": [
       "'spam, ham and eggs'"
      ]
     },
     "execution_count": 24,
     "metadata": {},
     "output_type": "execute_result"
    }
   ],
   "source": [
    "template = '{motto}, {0} and {food}' # By both\n",
    "template.format('ham', motto='spam', food='eggs')"
   ]
  },
  {
   "cell_type": "code",
   "execution_count": 25,
   "id": "cdc51bc8",
   "metadata": {},
   "outputs": [
    {
     "data": {
      "text/plain": [
       "'spam, ham and eggs'"
      ]
     },
     "execution_count": 25,
     "metadata": {},
     "output_type": "execute_result"
    }
   ],
   "source": [
    "template = '{}, {} and {}' # By relative position\n",
    "template.format('spam', 'ham', 'eggs')"
   ]
  },
  {
   "cell_type": "code",
   "execution_count": null,
   "id": "dc15fa5b",
   "metadata": {},
   "outputs": [],
   "source": []
  }
 ],
 "metadata": {
  "kernelspec": {
   "display_name": "Python 3",
   "language": "python",
   "name": "python3"
  },
  "language_info": {
   "codemirror_mode": {
    "name": "ipython",
    "version": 3
   },
   "file_extension": ".py",
   "mimetype": "text/x-python",
   "name": "python",
   "nbconvert_exporter": "python",
   "pygments_lexer": "ipython3",
   "version": "3.8.8"
  }
 },
 "nbformat": 4,
 "nbformat_minor": 5
}
