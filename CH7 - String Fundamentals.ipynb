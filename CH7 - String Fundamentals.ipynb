{
 "cells": [
  {
   "cell_type": "markdown",
   "id": "ad476d5b",
   "metadata": {},
   "source": [
    "### Single- and Double-Quoted Strings Are the Same"
   ]
  },
  {
   "cell_type": "code",
   "execution_count": 1,
   "id": "eb1eb205",
   "metadata": {},
   "outputs": [
    {
     "data": {
      "text/plain": [
       "('Shrubbery', 'Shrubbery')"
      ]
     },
     "execution_count": 1,
     "metadata": {},
     "output_type": "execute_result"
    }
   ],
   "source": [
    "'Shrubbery', \"Shrubbery\""
   ]
  },
  {
   "cell_type": "code",
   "execution_count": 2,
   "id": "0e57fd77",
   "metadata": {},
   "outputs": [
    {
     "data": {
      "text/plain": [
       "('knight\"s', \"knight's\")"
      ]
     },
     "execution_count": 2,
     "metadata": {},
     "output_type": "execute_result"
    }
   ],
   "source": [
    "'knight\"s', \"knight's\""
   ]
  },
  {
   "cell_type": "code",
   "execution_count": 3,
   "id": "f8e78e9a",
   "metadata": {},
   "outputs": [
    {
     "data": {
      "text/plain": [
       "'Meaning of life'"
      ]
     },
     "execution_count": 3,
     "metadata": {},
     "output_type": "execute_result"
    }
   ],
   "source": [
    "# implicit concatenation\n",
    "title = \"Meaning \" 'of' \" life\" \n",
    "title"
   ]
  },
  {
   "cell_type": "markdown",
   "id": "751e7b5f",
   "metadata": {},
   "source": [
    "### Adding commas between these strings would result in a tuple, not a string."
   ]
  },
  {
   "cell_type": "code",
   "execution_count": 4,
   "id": "98f1e062",
   "metadata": {},
   "outputs": [
    {
     "data": {
      "text/plain": [
       "('Meaning ', 'of', ' life')"
      ]
     },
     "execution_count": 4,
     "metadata": {},
     "output_type": "execute_result"
    }
   ],
   "source": [
    "t = \"Meaning \", 'of', \" life\"\n",
    "t"
   ]
  },
  {
   "cell_type": "markdown",
   "id": "524e79db",
   "metadata": {},
   "source": [
    "### Escape Sequences Represent Special Characters"
   ]
  },
  {
   "cell_type": "code",
   "execution_count": 6,
   "id": "568c6633",
   "metadata": {},
   "outputs": [
    {
     "name": "stdout",
     "output_type": "stream",
     "text": [
      "a\n",
      "b\tc\n"
     ]
    }
   ],
   "source": [
    "s = 'a\\nb\\tc'\n",
    "print(s)"
   ]
  },
  {
   "cell_type": "markdown",
   "id": "7ad0a0b4",
   "metadata": {},
   "source": [
    "- \\n stand for a single character, a newline character \n",
    "- \\t is replaced with the tab character"
   ]
  },
  {
   "cell_type": "code",
   "execution_count": 7,
   "id": "c5bc25cb",
   "metadata": {},
   "outputs": [
    {
     "name": "stdout",
     "output_type": "stream",
     "text": [
      "a\tb\tc\td\n"
     ]
    }
   ],
   "source": [
    "x = 'a\\tb\\tc\\td'\n",
    "print(x)"
   ]
  },
  {
   "cell_type": "code",
   "execution_count": 9,
   "id": "24721bb1",
   "metadata": {},
   "outputs": [
    {
     "data": {
      "text/plain": [
       "(7, 5)"
      ]
     },
     "execution_count": 9,
     "metadata": {},
     "output_type": "execute_result"
    }
   ],
   "source": [
    "len(x), len(s)"
   ]
  },
  {
   "cell_type": "markdown",
   "id": "fcf4dab5",
   "metadata": {},
   "source": [
    "### Raw strings suppresses escapes"
   ]
  },
  {
   "cell_type": "code",
   "execution_count": 12,
   "id": "0461d026",
   "metadata": {
    "scrolled": true
   },
   "outputs": [
    {
     "ename": "OSError",
     "evalue": "[Errno 22] Invalid argument: 'C:\\new\\text.dat'",
     "output_type": "error",
     "traceback": [
      "\u001b[1;31m---------------------------------------------------------------------------\u001b[0m",
      "\u001b[1;31mOSError\u001b[0m                                   Traceback (most recent call last)",
      "\u001b[1;32m<ipython-input-12-0d4753f85078>\u001b[0m in \u001b[0;36m<module>\u001b[1;34m\u001b[0m\n\u001b[1;32m----> 1\u001b[1;33m \u001b[0mmyfile\u001b[0m \u001b[1;33m=\u001b[0m \u001b[0mopen\u001b[0m\u001b[1;33m(\u001b[0m\u001b[1;34m'C:\\new\\text.dat'\u001b[0m\u001b[1;33m,\u001b[0m \u001b[1;34m'w'\u001b[0m\u001b[1;33m)\u001b[0m\u001b[1;33m\u001b[0m\u001b[1;33m\u001b[0m\u001b[0m\n\u001b[0m",
      "\u001b[1;31mOSError\u001b[0m: [Errno 22] Invalid argument: 'C:\\new\\text.dat'"
     ]
    }
   ],
   "source": [
    "myfile = open('C:\\new\\text.dat', 'w')"
   ]
  },
  {
   "cell_type": "code",
   "execution_count": 16,
   "id": "d00e351a",
   "metadata": {},
   "outputs": [
    {
     "ename": "FileNotFoundError",
     "evalue": "[Errno 2] No such file or directory: 'C:\\\\new\\\\text.dat'",
     "output_type": "error",
     "traceback": [
      "\u001b[1;31m---------------------------------------------------------------------------\u001b[0m",
      "\u001b[1;31mFileNotFoundError\u001b[0m                         Traceback (most recent call last)",
      "\u001b[1;32m<ipython-input-16-51c64817308a>\u001b[0m in \u001b[0;36m<module>\u001b[1;34m\u001b[0m\n\u001b[0;32m      2\u001b[0m \u001b[1;31m# to turn off the escape mechanism\u001b[0m\u001b[1;33m\u001b[0m\u001b[1;33m\u001b[0m\u001b[1;33m\u001b[0m\u001b[0m\n\u001b[0;32m      3\u001b[0m \u001b[1;31m# and retains the backslashes\u001b[0m\u001b[1;33m\u001b[0m\u001b[1;33m\u001b[0m\u001b[1;33m\u001b[0m\u001b[0m\n\u001b[1;32m----> 4\u001b[1;33m \u001b[0mmyfile\u001b[0m \u001b[1;33m=\u001b[0m \u001b[0mopen\u001b[0m\u001b[1;33m(\u001b[0m\u001b[1;34mr'C:\\new\\text.dat'\u001b[0m\u001b[1;33m,\u001b[0m \u001b[1;34m'w'\u001b[0m\u001b[1;33m)\u001b[0m\u001b[1;33m\u001b[0m\u001b[1;33m\u001b[0m\u001b[0m\n\u001b[0m",
      "\u001b[1;31mFileNotFoundError\u001b[0m: [Errno 2] No such file or directory: 'C:\\\\new\\\\text.dat'"
     ]
    }
   ],
   "source": [
    "\"\"\"add 'r' before the file name \n",
    "to turn off the escape mechanism \n",
    "and retains the backslashes\"\"\" \n",
    "myfile = open(r'C:\\new\\text.dat', 'w')"
   ]
  },
  {
   "cell_type": "code",
   "execution_count": 17,
   "id": "b389c518",
   "metadata": {},
   "outputs": [
    {
     "data": {
      "text/plain": [
       "'C:\\\\new\\\\test.dat'"
      ]
     },
     "execution_count": 17,
     "metadata": {},
     "output_type": "execute_result"
    }
   ],
   "source": [
    "# show as python code\n",
    "path = r'C:\\new\\test.dat' \n",
    "path"
   ]
  },
  {
   "cell_type": "code",
   "execution_count": 18,
   "id": "ba81420f",
   "metadata": {},
   "outputs": [
    {
     "name": "stdout",
     "output_type": "stream",
     "text": [
      "C:\\new\\test.dat\n"
     ]
    }
   ],
   "source": [
    "# user friendly format\n",
    "print(path)"
   ]
  },
  {
   "cell_type": "code",
   "execution_count": 19,
   "id": "3a900ba6",
   "metadata": {},
   "outputs": [
    {
     "data": {
      "text/plain": [
       "15"
      ]
     },
     "execution_count": 19,
     "metadata": {},
     "output_type": "execute_result"
    }
   ],
   "source": [
    "# string length \n",
    "len(path)"
   ]
  },
  {
   "cell_type": "markdown",
   "id": "f9b0e8f4",
   "metadata": {},
   "source": [
    "### Triple Quotes Code Multiline Block Strings"
   ]
  },
  {
   "cell_type": "code",
   "execution_count": 31,
   "id": "2deeb7dd",
   "metadata": {},
   "outputs": [
    {
     "name": "stdout",
     "output_type": "stream",
     "text": [
      " \n",
      "Always look \n",
      "on the bright \n",
      "side of life.\n",
      "\n"
     ]
    }
   ],
   "source": [
    "\"\"\" \n",
    "sometimes called a block string,\n",
    "that is a syntactic convenience for \n",
    "coding multiline text data.\n",
    "\"\"\" \n",
    "\n",
    "mantra =\"\"\" \n",
    "Always look \n",
    "on the bright \n",
    "side of life.\n",
    "\"\"\" \n",
    "print(mantra)"
   ]
  },
  {
   "cell_type": "code",
   "execution_count": 28,
   "id": "f2a91fcf",
   "metadata": {},
   "outputs": [
    {
     "name": "stdout",
     "output_type": "stream",
     "text": [
      "sometimes called a block string, \n",
      "that is a syntactic convenience for \n",
      "coding multiline text data.\n"
     ]
    }
   ],
   "source": [
    "yeah = \"sometimes called a block string, \\nthat is a syntactic convenience for \\ncoding multiline text data.\"\n",
    "print(yeah)"
   ]
  },
  {
   "cell_type": "markdown",
   "id": "2b668224",
   "metadata": {},
   "source": [
    "### triple-quoted strings are also sometimes used as a “horribly hackish” way to temporarily disable lines of code during development"
   ]
  },
  {
   "cell_type": "code",
   "execution_count": 35,
   "id": "fba12917",
   "metadata": {},
   "outputs": [
    {
     "data": {
      "text/plain": [
       "32"
      ]
     },
     "execution_count": 35,
     "metadata": {},
     "output_type": "execute_result"
    }
   ],
   "source": [
    "x = 1 \n",
    "y = 2 \n",
    "\"\"\" \n",
    "y ** x # Disable this code temporarily\n",
    "\"\"\" \n",
    "2 ** 5"
   ]
  },
  {
   "cell_type": "markdown",
   "id": "4b3fad7f",
   "metadata": {},
   "source": [
    "## Strings in Action"
   ]
  },
  {
   "cell_type": "markdown",
   "id": "a74a39f1",
   "metadata": {},
   "source": [
    "### Basic Operations"
   ]
  },
  {
   "cell_type": "code",
   "execution_count": 37,
   "id": "6819a8a2",
   "metadata": {},
   "outputs": [
    {
     "data": {
      "text/plain": [
       "3"
      ]
     },
     "execution_count": 37,
     "metadata": {},
     "output_type": "execute_result"
    }
   ],
   "source": [
    "# l3ngth: number of items\n",
    "len('abc')"
   ]
  },
  {
   "cell_type": "code",
   "execution_count": 38,
   "id": "929922e6",
   "metadata": {},
   "outputs": [
    {
     "data": {
      "text/plain": [
       "'abcdef'"
      ]
     },
     "execution_count": 38,
     "metadata": {},
     "output_type": "execute_result"
    }
   ],
   "source": [
    "# concatenation \n",
    "'abc' + 'def'"
   ]
  },
  {
   "cell_type": "code",
   "execution_count": 41,
   "id": "dfa7a28b",
   "metadata": {},
   "outputs": [
    {
     "data": {
      "text/plain": [
       "'Ni!Ni!Ni!Ni!'"
      ]
     },
     "execution_count": 41,
     "metadata": {},
     "output_type": "execute_result"
    }
   ],
   "source": [
    "# repetition \n",
    "'Ni!' * 4"
   ]
  },
  {
   "cell_type": "code",
   "execution_count": 42,
   "id": "108e00d9",
   "metadata": {},
   "outputs": [
    {
     "name": "stdout",
     "output_type": "stream",
     "text": [
      "--------------------------------------------------------------------------------\n"
     ]
    }
   ],
   "source": [
    "# 80 dashes, the easy way\n",
    "print('-' * 80)"
   ]
  },
  {
   "cell_type": "code",
   "execution_count": 47,
   "id": "38eaba07",
   "metadata": {},
   "outputs": [
    {
     "name": "stdout",
     "output_type": "stream",
     "text": [
      "h a c k e r "
     ]
    }
   ],
   "source": [
    "# iteration\n",
    "myjob = 'hacker'\n",
    "for c in myjob: print(c, end=' ')"
   ]
  },
  {
   "cell_type": "code",
   "execution_count": 48,
   "id": "7ddf8a3f",
   "metadata": {},
   "outputs": [
    {
     "data": {
      "text/plain": [
       "True"
      ]
     },
     "execution_count": 48,
     "metadata": {},
     "output_type": "execute_result"
    }
   ],
   "source": [
    "'k' in myjob"
   ]
  },
  {
   "cell_type": "code",
   "execution_count": 53,
   "id": "9f84a790",
   "metadata": {},
   "outputs": [
    {
     "data": {
      "text/plain": [
       "True"
      ]
     },
     "execution_count": 53,
     "metadata": {},
     "output_type": "execute_result"
    }
   ],
   "source": [
    "# substring search, no position return\n",
    "'spam' in 'abcspamdef'"
   ]
  },
  {
   "cell_type": "markdown",
   "id": "6b12988c",
   "metadata": {},
   "source": [
    "### Indexing and Slicing"
   ]
  },
  {
   "cell_type": "code",
   "execution_count": 54,
   "id": "688c0e56",
   "metadata": {},
   "outputs": [
    {
     "data": {
      "text/plain": [
       "('s', 'a')"
      ]
     },
     "execution_count": 54,
     "metadata": {},
     "output_type": "execute_result"
    }
   ],
   "source": [
    "# indexing from front or end \n",
    "s = 'spam'\n",
    "s[0], s[-2]"
   ]
  },
  {
   "cell_type": "code",
   "execution_count": 55,
   "id": "4ab1507e",
   "metadata": {},
   "outputs": [
    {
     "data": {
      "text/plain": [
       "('pa', 'pam', 'spa')"
      ]
     },
     "execution_count": 55,
     "metadata": {},
     "output_type": "execute_result"
    }
   ],
   "source": [
    "# slicing \n",
    "s[1:3], s[1:], s[:-1]"
   ]
  },
  {
   "cell_type": "code",
   "execution_count": 57,
   "id": "7f86f2e9",
   "metadata": {},
   "outputs": [
    {
     "data": {
      "text/plain": [
       "'bdfhj'"
      ]
     },
     "execution_count": 57,
     "metadata": {},
     "output_type": "execute_result"
    }
   ],
   "source": [
    "s = 'abcdefghijklmnop' \n",
    "# skipping items \n",
    "s[1:10:2]"
   ]
  },
  {
   "cell_type": "code",
   "execution_count": 58,
   "id": "eedc766f",
   "metadata": {},
   "outputs": [
    {
     "data": {
      "text/plain": [
       "'acegikmo'"
      ]
     },
     "execution_count": 58,
     "metadata": {},
     "output_type": "execute_result"
    }
   ],
   "source": [
    "s[::2]"
   ]
  },
  {
   "cell_type": "code",
   "execution_count": 60,
   "id": "e1fd8970",
   "metadata": {},
   "outputs": [
    {
     "data": {
      "text/plain": [
       "'pnljhfdb'"
      ]
     },
     "execution_count": 60,
     "metadata": {},
     "output_type": "execute_result"
    }
   ],
   "source": [
    "# skipping items and reversing order\n",
    "s[::-2]"
   ]
  },
  {
   "cell_type": "code",
   "execution_count": 61,
   "id": "f3f4b20b",
   "metadata": {},
   "outputs": [
    {
     "data": {
      "text/plain": [
       "'pa'"
      ]
     },
     "execution_count": 61,
     "metadata": {},
     "output_type": "execute_result"
    }
   ],
   "source": [
    "'spam'[1:3]"
   ]
  },
  {
   "cell_type": "code",
   "execution_count": 62,
   "id": "ab767629",
   "metadata": {},
   "outputs": [
    {
     "data": {
      "text/plain": [
       "'pa'"
      ]
     },
     "execution_count": 62,
     "metadata": {},
     "output_type": "execute_result"
    }
   ],
   "source": [
    "'spam'[slice(1, 3)]"
   ]
  },
  {
   "cell_type": "code",
   "execution_count": 63,
   "id": "b5bb2e98",
   "metadata": {},
   "outputs": [
    {
     "data": {
      "text/plain": [
       "'maps'"
      ]
     },
     "execution_count": 63,
     "metadata": {},
     "output_type": "execute_result"
    }
   ],
   "source": [
    "'spam'[::-1]"
   ]
  },
  {
   "cell_type": "code",
   "execution_count": 64,
   "id": "22cd54b2",
   "metadata": {},
   "outputs": [
    {
     "data": {
      "text/plain": [
       "'maps'"
      ]
     },
     "execution_count": 64,
     "metadata": {},
     "output_type": "execute_result"
    }
   ],
   "source": [
    "'spam'[slice(None, None, -1)]"
   ]
  },
  {
   "cell_type": "markdown",
   "id": "f5ee93bc",
   "metadata": {},
   "source": [
    "### String conversion tools"
   ]
  },
  {
   "cell_type": "code",
   "execution_count": 65,
   "id": "d4cf3650",
   "metadata": {},
   "outputs": [
    {
     "ename": "TypeError",
     "evalue": "can only concatenate str (not \"int\") to str",
     "output_type": "error",
     "traceback": [
      "\u001b[1;31m---------------------------------------------------------------------------\u001b[0m",
      "\u001b[1;31mTypeError\u001b[0m                                 Traceback (most recent call last)",
      "\u001b[1;32m<ipython-input-65-f2e6fcd147b0>\u001b[0m in \u001b[0;36m<module>\u001b[1;34m\u001b[0m\n\u001b[1;32m----> 1\u001b[1;33m \u001b[1;34m\"42\"\u001b[0m \u001b[1;33m+\u001b[0m \u001b[1;36m1\u001b[0m\u001b[1;33m\u001b[0m\u001b[1;33m\u001b[0m\u001b[0m\n\u001b[0m",
      "\u001b[1;31mTypeError\u001b[0m: can only concatenate str (not \"int\") to str"
     ]
    }
   ],
   "source": [
    "\"42\" + 1"
   ]
  },
  {
   "cell_type": "code",
   "execution_count": 66,
   "id": "97d56161",
   "metadata": {},
   "outputs": [
    {
     "data": {
      "text/plain": [
       "(42, '42')"
      ]
     },
     "execution_count": 66,
     "metadata": {},
     "output_type": "execute_result"
    }
   ],
   "source": [
    "# convert from/to string \n",
    "int('42'), str(42)"
   ]
  },
  {
   "cell_type": "code",
   "execution_count": 69,
   "id": "18768f9e",
   "metadata": {},
   "outputs": [
    {
     "data": {
      "text/plain": [
       "'42'"
      ]
     },
     "execution_count": 69,
     "metadata": {},
     "output_type": "execute_result"
    }
   ],
   "source": [
    "# convert to as-code string\n",
    "repr(42)"
   ]
  },
  {
   "cell_type": "code",
   "execution_count": 70,
   "id": "035bd5f8",
   "metadata": {},
   "outputs": [
    {
     "ename": "TypeError",
     "evalue": "can only concatenate str (not \"int\") to str",
     "output_type": "error",
     "traceback": [
      "\u001b[1;31m---------------------------------------------------------------------------\u001b[0m",
      "\u001b[1;31mTypeError\u001b[0m                                 Traceback (most recent call last)",
      "\u001b[1;32m<ipython-input-70-e8e3411353d7>\u001b[0m in \u001b[0;36m<module>\u001b[1;34m\u001b[0m\n\u001b[0;32m      1\u001b[0m \u001b[0mS\u001b[0m \u001b[1;33m=\u001b[0m \u001b[1;34m\"42\"\u001b[0m\u001b[1;33m\u001b[0m\u001b[1;33m\u001b[0m\u001b[0m\n\u001b[0;32m      2\u001b[0m \u001b[0mI\u001b[0m \u001b[1;33m=\u001b[0m \u001b[1;36m1\u001b[0m\u001b[1;33m\u001b[0m\u001b[1;33m\u001b[0m\u001b[0m\n\u001b[1;32m----> 3\u001b[1;33m \u001b[0mS\u001b[0m \u001b[1;33m+\u001b[0m \u001b[0mI\u001b[0m\u001b[1;33m\u001b[0m\u001b[1;33m\u001b[0m\u001b[0m\n\u001b[0m",
      "\u001b[1;31mTypeError\u001b[0m: can only concatenate str (not \"int\") to str"
     ]
    }
   ],
   "source": [
    "S = \"42\"\n",
    "I = 1\n",
    "S + I"
   ]
  },
  {
   "cell_type": "code",
   "execution_count": 71,
   "id": "141c8dd6",
   "metadata": {},
   "outputs": [
    {
     "data": {
      "text/plain": [
       "43"
      ]
     },
     "execution_count": 71,
     "metadata": {},
     "output_type": "execute_result"
    }
   ],
   "source": [
    "# force addition \n",
    "int(S) + 1"
   ]
  },
  {
   "cell_type": "code",
   "execution_count": 72,
   "id": "d66a00b2",
   "metadata": {},
   "outputs": [
    {
     "data": {
      "text/plain": [
       "'421'"
      ]
     },
     "execution_count": 72,
     "metadata": {},
     "output_type": "execute_result"
    }
   ],
   "source": [
    "# force concatenation\n",
    "S + str(I)"
   ]
  },
  {
   "cell_type": "code",
   "execution_count": 75,
   "id": "8e84015d",
   "metadata": {},
   "outputs": [
    {
     "data": {
      "text/plain": [
       "('3.1415', 1.5)"
      ]
     },
     "execution_count": 75,
     "metadata": {},
     "output_type": "execute_result"
    }
   ],
   "source": [
    "str(3.1415), float(\"1.5\")"
   ]
  },
  {
   "cell_type": "markdown",
   "id": "ab7dd8aa",
   "metadata": {},
   "source": [
    "### Changing Strings |"
   ]
  },
  {
   "cell_type": "code",
   "execution_count": 77,
   "id": "f63cd508",
   "metadata": {},
   "outputs": [
    {
     "ename": "TypeError",
     "evalue": "'str' object does not support item assignment",
     "output_type": "error",
     "traceback": [
      "\u001b[1;31m---------------------------------------------------------------------------\u001b[0m",
      "\u001b[1;31mTypeError\u001b[0m                                 Traceback (most recent call last)",
      "\u001b[1;32m<ipython-input-77-dc519863d5f3>\u001b[0m in \u001b[0;36m<module>\u001b[1;34m\u001b[0m\n\u001b[0;32m      1\u001b[0m \u001b[1;31m# strings are immutable\u001b[0m\u001b[1;33m\u001b[0m\u001b[1;33m\u001b[0m\u001b[1;33m\u001b[0m\u001b[0m\n\u001b[0;32m      2\u001b[0m \u001b[0mS\u001b[0m \u001b[1;33m=\u001b[0m \u001b[1;34m'spam'\u001b[0m\u001b[1;33m\u001b[0m\u001b[1;33m\u001b[0m\u001b[0m\n\u001b[1;32m----> 3\u001b[1;33m \u001b[0ms\u001b[0m\u001b[1;33m[\u001b[0m\u001b[1;36m0\u001b[0m\u001b[1;33m]\u001b[0m \u001b[1;33m=\u001b[0m \u001b[1;34m'x'\u001b[0m\u001b[1;33m\u001b[0m\u001b[1;33m\u001b[0m\u001b[0m\n\u001b[0m",
      "\u001b[1;31mTypeError\u001b[0m: 'str' object does not support item assignment"
     ]
    }
   ],
   "source": [
    "# strings are immutable \n",
    "S = 'spam'\n",
    "s[0] = 'x'"
   ]
  },
  {
   "cell_type": "markdown",
   "id": "cf04e17b",
   "metadata": {},
   "source": [
    "#### To change a string, use tools such as concatenation and slicing"
   ]
  },
  {
   "cell_type": "code",
   "execution_count": 81,
   "id": "605dd68f",
   "metadata": {},
   "outputs": [
    {
     "data": {
      "text/plain": [
       "'spamBurgermSPAM!'"
      ]
     },
     "execution_count": 81,
     "metadata": {},
     "output_type": "execute_result"
    }
   ],
   "source": [
    "S = S + 'SPAM!' \n",
    "S"
   ]
  },
  {
   "cell_type": "code",
   "execution_count": 82,
   "id": "2511bf9c",
   "metadata": {},
   "outputs": [
    {
     "data": {
      "text/plain": [
       "'spamBurger!'"
      ]
     },
     "execution_count": 82,
     "metadata": {},
     "output_type": "execute_result"
    }
   ],
   "source": [
    "S = S[:4] + 'Burger' + S[-1]\n",
    "S"
   ]
  },
  {
   "cell_type": "code",
   "execution_count": 83,
   "id": "91392975",
   "metadata": {},
   "outputs": [
    {
     "data": {
      "text/plain": [
       "'spamalot'"
      ]
     },
     "execution_count": 83,
     "metadata": {},
     "output_type": "execute_result"
    }
   ],
   "source": [
    "S = 'splot'\n",
    "S = S.replace('pl', 'pamal')\n",
    "S"
   ]
  },
  {
   "cell_type": "code",
   "execution_count": 84,
   "id": "ef1607a3",
   "metadata": {},
   "outputs": [
    {
     "data": {
      "text/plain": [
       "'That is 1 dead bird!'"
      ]
     },
     "execution_count": 84,
     "metadata": {},
     "output_type": "execute_result"
    }
   ],
   "source": [
    "# format expression: all Pythons \n",
    "'That is %d %s bird!' %(1, 'dead')"
   ]
  },
  {
   "cell_type": "code",
   "execution_count": 88,
   "id": "03269967",
   "metadata": {},
   "outputs": [
    {
     "data": {
      "text/plain": [
       "'That is 1 dead bird!'"
      ]
     },
     "execution_count": 88,
     "metadata": {},
     "output_type": "execute_result"
    }
   ],
   "source": [
    "'That is {} {} bird!'.format(1, 'dead')"
   ]
  },
  {
   "cell_type": "code",
   "execution_count": 87,
   "id": "3d15e67b",
   "metadata": {},
   "outputs": [
    {
     "data": {
      "text/plain": [
       "'That is 1 dead bird!'"
      ]
     },
     "execution_count": 87,
     "metadata": {},
     "output_type": "execute_result"
    }
   ],
   "source": [
    "'That is {0} {1} bird!'.format(1, 'dead')"
   ]
  },
  {
   "cell_type": "code",
   "execution_count": 91,
   "id": "16c3e27f",
   "metadata": {},
   "outputs": [
    {
     "data": {
      "text/plain": [
       "'That is 1 dead bird!'"
      ]
     },
     "execution_count": 91,
     "metadata": {},
     "output_type": "execute_result"
    }
   ],
   "source": [
    "x = 1 \n",
    "y = 'dead'\n",
    "f'That is {x} {y} bird!'"
   ]
  },
  {
   "cell_type": "code",
   "execution_count": null,
   "id": "4995bfec",
   "metadata": {},
   "outputs": [],
   "source": []
  }
 ],
 "metadata": {
  "kernelspec": {
   "display_name": "Python 3",
   "language": "python",
   "name": "python3"
  },
  "language_info": {
   "codemirror_mode": {
    "name": "ipython",
    "version": 3
   },
   "file_extension": ".py",
   "mimetype": "text/x-python",
   "name": "python",
   "nbconvert_exporter": "python",
   "pygments_lexer": "ipython3",
   "version": "3.8.8"
  }
 },
 "nbformat": 4,
 "nbformat_minor": 5
}
