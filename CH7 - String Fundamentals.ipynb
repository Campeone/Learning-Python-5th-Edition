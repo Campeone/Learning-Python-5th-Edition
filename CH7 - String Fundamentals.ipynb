{
 "cells": [
  {
   "cell_type": "markdown",
   "id": "edbff444",
   "metadata": {},
   "source": [
    "### Single- and Double-Quoted Strings Are the Same"
   ]
  },
  {
   "cell_type": "code",
   "execution_count": 1,
   "id": "03d9ab67",
   "metadata": {},
   "outputs": [
    {
     "data": {
      "text/plain": [
       "('Shrubbery', 'Shrubbery')"
      ]
     },
     "execution_count": 1,
     "metadata": {},
     "output_type": "execute_result"
    }
   ],
   "source": [
    "'Shrubbery', \"Shrubbery\""
   ]
  },
  {
   "cell_type": "code",
   "execution_count": 2,
   "id": "31f9ab3b",
   "metadata": {},
   "outputs": [
    {
     "data": {
      "text/plain": [
       "('knight\"s', \"knight's\")"
      ]
     },
     "execution_count": 2,
     "metadata": {},
     "output_type": "execute_result"
    }
   ],
   "source": [
    "'knight\"s', \"knight's\""
   ]
  },
  {
   "cell_type": "code",
   "execution_count": 3,
   "id": "e89b70b0",
   "metadata": {},
   "outputs": [
    {
     "data": {
      "text/plain": [
       "'Meaning of life'"
      ]
     },
     "execution_count": 3,
     "metadata": {},
     "output_type": "execute_result"
    }
   ],
   "source": [
    "# implicit concatenation\n",
    "title = \"Meaning \" 'of' \" life\" \n",
    "title"
   ]
  },
  {
   "cell_type": "markdown",
   "id": "2179f672",
   "metadata": {},
   "source": [
    "### Adding commas between these strings would result in a tuple, not a string."
   ]
  },
  {
   "cell_type": "code",
   "execution_count": 4,
   "id": "3d82c4c7",
   "metadata": {},
   "outputs": [
    {
     "data": {
      "text/plain": [
       "('Meaning ', 'of', ' life')"
      ]
     },
     "execution_count": 4,
     "metadata": {},
     "output_type": "execute_result"
    }
   ],
   "source": [
    "t = \"Meaning \", 'of', \" life\"\n",
    "t"
   ]
  },
  {
   "cell_type": "markdown",
   "id": "a7d6774b",
   "metadata": {},
   "source": [
    "### Escape Sequences Represent Special Characters"
   ]
  },
  {
   "cell_type": "code",
   "execution_count": 6,
   "id": "fa326797",
   "metadata": {},
   "outputs": [
    {
     "name": "stdout",
     "output_type": "stream",
     "text": [
      "a\n",
      "b\tc\n"
     ]
    }
   ],
   "source": [
    "s = 'a\\nb\\tc'\n",
    "print(s)"
   ]
  },
  {
   "cell_type": "markdown",
   "id": "6a8010ea",
   "metadata": {},
   "source": [
    "- \\n stand for a single character, a newline character \n",
    "- \\t is replaced with the tab character"
   ]
  },
  {
   "cell_type": "code",
   "execution_count": 7,
   "id": "fd2f347c",
   "metadata": {},
   "outputs": [
    {
     "name": "stdout",
     "output_type": "stream",
     "text": [
      "a\tb\tc\td\n"
     ]
    }
   ],
   "source": [
    "x = 'a\\tb\\tc\\td'\n",
    "print(x)"
   ]
  },
  {
   "cell_type": "code",
   "execution_count": 9,
   "id": "376a6192",
   "metadata": {},
   "outputs": [
    {
     "data": {
      "text/plain": [
       "(7, 5)"
      ]
     },
     "execution_count": 9,
     "metadata": {},
     "output_type": "execute_result"
    }
   ],
   "source": [
    "len(x), len(s)"
   ]
  },
  {
   "cell_type": "markdown",
   "id": "2372eb13",
   "metadata": {},
   "source": [
    "### Raw strings suppresses escapes"
   ]
  },
  {
   "cell_type": "code",
   "execution_count": 12,
   "id": "29a10e0a",
   "metadata": {
    "scrolled": true
   },
   "outputs": [
    {
     "ename": "OSError",
     "evalue": "[Errno 22] Invalid argument: 'C:\\new\\text.dat'",
     "output_type": "error",
     "traceback": [
      "\u001b[1;31m---------------------------------------------------------------------------\u001b[0m",
      "\u001b[1;31mOSError\u001b[0m                                   Traceback (most recent call last)",
      "\u001b[1;32m<ipython-input-12-0d4753f85078>\u001b[0m in \u001b[0;36m<module>\u001b[1;34m\u001b[0m\n\u001b[1;32m----> 1\u001b[1;33m \u001b[0mmyfile\u001b[0m \u001b[1;33m=\u001b[0m \u001b[0mopen\u001b[0m\u001b[1;33m(\u001b[0m\u001b[1;34m'C:\\new\\text.dat'\u001b[0m\u001b[1;33m,\u001b[0m \u001b[1;34m'w'\u001b[0m\u001b[1;33m)\u001b[0m\u001b[1;33m\u001b[0m\u001b[1;33m\u001b[0m\u001b[0m\n\u001b[0m",
      "\u001b[1;31mOSError\u001b[0m: [Errno 22] Invalid argument: 'C:\\new\\text.dat'"
     ]
    }
   ],
   "source": [
    "myfile = open('C:\\new\\text.dat', 'w')"
   ]
  },
  {
   "cell_type": "code",
   "execution_count": 16,
   "id": "31fcd43e",
   "metadata": {},
   "outputs": [
    {
     "ename": "FileNotFoundError",
     "evalue": "[Errno 2] No such file or directory: 'C:\\\\new\\\\text.dat'",
     "output_type": "error",
     "traceback": [
      "\u001b[1;31m---------------------------------------------------------------------------\u001b[0m",
      "\u001b[1;31mFileNotFoundError\u001b[0m                         Traceback (most recent call last)",
      "\u001b[1;32m<ipython-input-16-51c64817308a>\u001b[0m in \u001b[0;36m<module>\u001b[1;34m\u001b[0m\n\u001b[0;32m      2\u001b[0m \u001b[1;31m# to turn off the escape mechanism\u001b[0m\u001b[1;33m\u001b[0m\u001b[1;33m\u001b[0m\u001b[1;33m\u001b[0m\u001b[0m\n\u001b[0;32m      3\u001b[0m \u001b[1;31m# and retains the backslashes\u001b[0m\u001b[1;33m\u001b[0m\u001b[1;33m\u001b[0m\u001b[1;33m\u001b[0m\u001b[0m\n\u001b[1;32m----> 4\u001b[1;33m \u001b[0mmyfile\u001b[0m \u001b[1;33m=\u001b[0m \u001b[0mopen\u001b[0m\u001b[1;33m(\u001b[0m\u001b[1;34mr'C:\\new\\text.dat'\u001b[0m\u001b[1;33m,\u001b[0m \u001b[1;34m'w'\u001b[0m\u001b[1;33m)\u001b[0m\u001b[1;33m\u001b[0m\u001b[1;33m\u001b[0m\u001b[0m\n\u001b[0m",
      "\u001b[1;31mFileNotFoundError\u001b[0m: [Errno 2] No such file or directory: 'C:\\\\new\\\\text.dat'"
     ]
    }
   ],
   "source": [
    "\"\"\"add 'r' before the file name \n",
    "to turn off the escape mechanism \n",
    "and retains the backslashes\"\"\" \n",
    "myfile = open(r'C:\\new\\text.dat', 'w')"
   ]
  },
  {
   "cell_type": "code",
   "execution_count": 17,
   "id": "b5f7156a",
   "metadata": {},
   "outputs": [
    {
     "data": {
      "text/plain": [
       "'C:\\\\new\\\\test.dat'"
      ]
     },
     "execution_count": 17,
     "metadata": {},
     "output_type": "execute_result"
    }
   ],
   "source": [
    "# show as python code\n",
    "path = r'C:\\new\\test.dat' \n",
    "path"
   ]
  },
  {
   "cell_type": "code",
   "execution_count": 18,
   "id": "eacaf207",
   "metadata": {},
   "outputs": [
    {
     "name": "stdout",
     "output_type": "stream",
     "text": [
      "C:\\new\\test.dat\n"
     ]
    }
   ],
   "source": [
    "# user friendly format\n",
    "print(path)"
   ]
  },
  {
   "cell_type": "code",
   "execution_count": 19,
   "id": "6601309a",
   "metadata": {},
   "outputs": [
    {
     "data": {
      "text/plain": [
       "15"
      ]
     },
     "execution_count": 19,
     "metadata": {},
     "output_type": "execute_result"
    }
   ],
   "source": [
    "# string length \n",
    "len(path)"
   ]
  },
  {
   "cell_type": "markdown",
   "id": "697ae5bc",
   "metadata": {},
   "source": [
    "### Triple Quotes Code Multiline Block Strings"
   ]
  },
  {
   "cell_type": "code",
   "execution_count": 31,
   "id": "e6777b67",
   "metadata": {},
   "outputs": [
    {
     "name": "stdout",
     "output_type": "stream",
     "text": [
      " \n",
      "Always look \n",
      "on the bright \n",
      "side of life.\n",
      "\n"
     ]
    }
   ],
   "source": [
    "\"\"\" \n",
    "sometimes called a block string,\n",
    "that is a syntactic convenience for \n",
    "coding multiline text data.\n",
    "\"\"\" \n",
    "\n",
    "mantra =\"\"\" \n",
    "Always look \n",
    "on the bright \n",
    "side of life.\n",
    "\"\"\" \n",
    "print(mantra)"
   ]
  },
  {
   "cell_type": "code",
   "execution_count": 28,
   "id": "0c8fd75f",
   "metadata": {},
   "outputs": [
    {
     "name": "stdout",
     "output_type": "stream",
     "text": [
      "sometimes called a block string, \n",
      "that is a syntactic convenience for \n",
      "coding multiline text data.\n"
     ]
    }
   ],
   "source": [
    "yeah = \"sometimes called a block string, \\nthat is a syntactic convenience for \\ncoding multiline text data.\"\n",
    "print(yeah)"
   ]
  },
  {
   "cell_type": "markdown",
   "id": "42e721f6",
   "metadata": {},
   "source": [
    "### triple-quoted strings are also sometimes used as a “horribly hackish” way to temporarily disable lines of code during development"
   ]
  },
  {
   "cell_type": "code",
   "execution_count": 35,
   "id": "9b892d98",
   "metadata": {},
   "outputs": [
    {
     "data": {
      "text/plain": [
       "32"
      ]
     },
     "execution_count": 35,
     "metadata": {},
     "output_type": "execute_result"
    }
   ],
   "source": [
    "x = 1 \n",
    "y = 2 \n",
    "\"\"\" \n",
    "y ** x # Disable this code temporarily\n",
    "\"\"\" \n",
    "2 ** 5"
   ]
  },
  {
   "cell_type": "code",
   "execution_count": null,
   "id": "8f84790e",
   "metadata": {},
   "outputs": [],
   "source": []
  }
 ],
 "metadata": {
  "kernelspec": {
   "display_name": "Python 3",
   "language": "python",
   "name": "python3"
  },
  "language_info": {
   "codemirror_mode": {
    "name": "ipython",
    "version": 3
   },
   "file_extension": ".py",
   "mimetype": "text/x-python",
   "name": "python",
   "nbconvert_exporter": "python",
   "pygments_lexer": "ipython3",
   "version": "3.8.8"
  }
 },
 "nbformat": 4,
 "nbformat_minor": 5
}
