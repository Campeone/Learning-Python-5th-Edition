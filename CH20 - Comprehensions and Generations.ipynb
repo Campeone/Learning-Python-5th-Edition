{
 "cells": [
  {
   "cell_type": "markdown",
   "id": "2ad92230",
   "metadata": {},
   "source": [
    "### Comprehensions and Generations"
   ]
  },
  {
   "cell_type": "code",
   "execution_count": 2,
   "id": "e5069bc5",
   "metadata": {},
   "outputs": [
    {
     "name": "stdout",
     "output_type": "stream",
     "text": [
      "False\n"
     ]
    }
   ],
   "source": [
    "li = []\n",
    "print(bool(li))"
   ]
  },
  {
   "cell_type": "markdown",
   "id": "aaad5d16",
   "metadata": {},
   "source": [
    "### List Comprehensions Versus map"
   ]
  },
  {
   "cell_type": "markdown",
   "id": "a3a78c32",
   "metadata": {},
   "source": [
    "- Python’s built-in ord function returns the integer code point of a single character (the chr built-in is the converse—it returns the character for an integer code point)."
   ]
  },
  {
   "cell_type": "code",
   "execution_count": 3,
   "id": "d67549a9",
   "metadata": {},
   "outputs": [
    {
     "data": {
      "text/plain": [
       "115"
      ]
     },
     "execution_count": 3,
     "metadata": {},
     "output_type": "execute_result"
    }
   ],
   "source": [
    "ord('s')"
   ]
  },
  {
   "cell_type": "code",
   "execution_count": 5,
   "id": "8dc3a7ec",
   "metadata": {},
   "outputs": [
    {
     "data": {
      "text/plain": [
       "[115, 112, 97, 109]"
      ]
     },
     "execution_count": 5,
     "metadata": {},
     "output_type": "execute_result"
    }
   ],
   "source": [
    "# for loop\n",
    "res = []\n",
    "for x in 'spam':\n",
    "    res.append(ord(x)) # Manual result collection\n",
    "    \n",
    "res "
   ]
  },
  {
   "cell_type": "code",
   "execution_count": 6,
   "id": "1e2a92cc",
   "metadata": {},
   "outputs": [
    {
     "data": {
      "text/plain": [
       "[115, 112, 97, 109]"
      ]
     },
     "execution_count": 6,
     "metadata": {},
     "output_type": "execute_result"
    }
   ],
   "source": [
    "# map\n",
    "res = list(map(ord, 'spam')) # Apply function to sequence (or other)\n",
    "res"
   ]
  },
  {
   "cell_type": "code",
   "execution_count": 7,
   "id": "3d6bb529",
   "metadata": {},
   "outputs": [
    {
     "data": {
      "text/plain": [
       "[115, 112, 97, 109]"
      ]
     },
     "execution_count": 7,
     "metadata": {},
     "output_type": "execute_result"
    }
   ],
   "source": [
    "# list comprehension \n",
    "res = [ord(x) for x in 'spam'] # Apply expression to sequence (or other) \n",
    "res"
   ]
  },
  {
   "cell_type": "code",
   "execution_count": 8,
   "id": "9c2ff3a4",
   "metadata": {},
   "outputs": [
    {
     "data": {
      "text/plain": [
       "[0, 1, 4, 9, 16, 25, 36, 49, 64, 81]"
      ]
     },
     "execution_count": 8,
     "metadata": {},
     "output_type": "execute_result"
    }
   ],
   "source": [
    "[x ** 2 for x in range(10)]"
   ]
  },
  {
   "cell_type": "code",
   "execution_count": 11,
   "id": "f2c71399",
   "metadata": {},
   "outputs": [
    {
     "data": {
      "text/plain": [
       "[0, 1, 4, 9, 16, 25, 36, 49, 64, 81]"
      ]
     },
     "execution_count": 11,
     "metadata": {},
     "output_type": "execute_result"
    }
   ],
   "source": [
    "list(map((lambda x: x ** 2), range(10)))"
   ]
  },
  {
   "cell_type": "markdown",
   "id": "2558b09a",
   "metadata": {},
   "source": [
    "#### picking up even numbers from 0 to 4;"
   ]
  },
  {
   "cell_type": "code",
   "execution_count": 13,
   "id": "fa0817ea",
   "metadata": {},
   "outputs": [
    {
     "data": {
      "text/plain": [
       "[0, 2, 4]"
      ]
     },
     "execution_count": 13,
     "metadata": {},
     "output_type": "execute_result"
    }
   ],
   "source": [
    "# list comprehension\n",
    "[x for x in range(5) if x % 2 == 0]"
   ]
  },
  {
   "cell_type": "code",
   "execution_count": 17,
   "id": "7411c681",
   "metadata": {},
   "outputs": [
    {
     "data": {
      "text/plain": [
       "[0, 2, 4]"
      ]
     },
     "execution_count": 17,
     "metadata": {},
     "output_type": "execute_result"
    }
   ],
   "source": [
    "# filter\n",
    "list(filter((lambda x: x % 2 == 0), range(5)))"
   ]
  },
  {
   "cell_type": "code",
   "execution_count": 15,
   "id": "e87e0f2a",
   "metadata": {},
   "outputs": [
    {
     "data": {
      "text/plain": [
       "[0, 2, 4]"
      ]
     },
     "execution_count": 15,
     "metadata": {},
     "output_type": "execute_result"
    }
   ],
   "source": [
    "# for loop\n",
    "res = []\n",
    "for x in range(5):\n",
    "    if x % 2 == 0:\n",
    "        res.append(x)\n",
    "res"
   ]
  },
  {
   "cell_type": "markdown",
   "id": "4aa95327",
   "metadata": {},
   "source": [
    "#### if clause  in our list comprehension, give the effect of a filter and a map, in a single expression:"
   ]
  },
  {
   "cell_type": "code",
   "execution_count": 18,
   "id": "c9748ead",
   "metadata": {},
   "outputs": [
    {
     "data": {
      "text/plain": [
       "[0, 4, 16, 36, 64]"
      ]
     },
     "execution_count": 18,
     "metadata": {},
     "output_type": "execute_result"
    }
   ],
   "source": [
    "[x ** 2 for x in range(10) if x % 2 == 0]"
   ]
  },
  {
   "cell_type": "code",
   "execution_count": 21,
   "id": "7b5a74c8",
   "metadata": {},
   "outputs": [
    {
     "data": {
      "text/plain": [
       "[0, 4, 16, 36, 64]"
      ]
     },
     "execution_count": 21,
     "metadata": {},
     "output_type": "execute_result"
    }
   ],
   "source": [
    "list(map((lambda x: x ** 2), filter((lambda x: x % 2 == 0), range(10))))"
   ]
  },
  {
   "cell_type": "markdown",
   "id": "21eba42d",
   "metadata": {},
   "source": [
    "#### Formal comprehension syntax"
   ]
  },
  {
   "cell_type": "code",
   "execution_count": null,
   "id": "8ba092e5",
   "metadata": {},
   "outputs": [],
   "source": [
    "[ expression for target in iterable ]"
   ]
  },
  {
   "cell_type": "code",
   "execution_count": null,
   "id": "13e84304",
   "metadata": {},
   "outputs": [],
   "source": [
    "[ expression for target1 in iterable1 if condition1\n",
    "             for target2 in iterable2 if condition2 ...\n",
    "             for targetN in iterableN if conditionN ]"
   ]
  },
  {
   "cell_type": "markdown",
   "id": "b128e11b",
   "metadata": {},
   "source": [
    "#### Nested for loops within a list comprehension"
   ]
  },
  {
   "cell_type": "code",
   "execution_count": 22,
   "id": "4de8ef2b",
   "metadata": {},
   "outputs": [
    {
     "data": {
      "text/plain": [
       "[100, 200, 300, 101, 201, 301, 102, 202, 302]"
      ]
     },
     "execution_count": 22,
     "metadata": {},
     "output_type": "execute_result"
    }
   ],
   "source": [
    "# list comprehension\n",
    "res = [x + y for x in [0, 1, 2] for y in [100, 200, 300]]\n",
    "res"
   ]
  },
  {
   "cell_type": "code",
   "execution_count": 24,
   "id": "1ee60755",
   "metadata": {},
   "outputs": [
    {
     "data": {
      "text/plain": [
       "[100, 200, 300, 101, 201, 301, 102, 202, 302]"
      ]
     },
     "execution_count": 24,
     "metadata": {},
     "output_type": "execute_result"
    }
   ],
   "source": [
    "res = []\n",
    "for x in [0, 1, 2]:\n",
    "    for y in [100, 200, 300]:\n",
    "        res.append(x + y)\n",
    "res"
   ]
  },
  {
   "cell_type": "markdown",
   "id": "e112d10c",
   "metadata": {},
   "source": [
    "### iteration over any sequence or iterable"
   ]
  },
  {
   "cell_type": "code",
   "execution_count": 25,
   "id": "8b7cf54b",
   "metadata": {},
   "outputs": [
    {
     "data": {
      "text/plain": [
       "['sS',\n",
       " 'sP',\n",
       " 'sA',\n",
       " 'sM',\n",
       " 'pS',\n",
       " 'pP',\n",
       " 'pA',\n",
       " 'pM',\n",
       " 'aS',\n",
       " 'aP',\n",
       " 'aA',\n",
       " 'aM',\n",
       " 'mS',\n",
       " 'mP',\n",
       " 'mA',\n",
       " 'mM']"
      ]
     },
     "execution_count": 25,
     "metadata": {},
     "output_type": "execute_result"
    }
   ],
   "source": [
    "[x + y for x in 'spam' for y in 'SPAM']"
   ]
  },
  {
   "cell_type": "markdown",
   "id": "80b0c7ca",
   "metadata": {},
   "source": [
    "#### associated if filter"
   ]
  },
  {
   "cell_type": "code",
   "execution_count": 26,
   "id": "68e5991b",
   "metadata": {},
   "outputs": [
    {
     "data": {
      "text/plain": [
       "['sP', 'sA', 'mP', 'mA']"
      ]
     },
     "execution_count": 26,
     "metadata": {},
     "output_type": "execute_result"
    }
   ],
   "source": [
    "[x + y for x in 'spam' if x in 'sm' for y in 'SPAM' if y in ('P', 'A')]"
   ]
  },
  {
   "cell_type": "code",
   "execution_count": 27,
   "id": "d92763f0",
   "metadata": {},
   "outputs": [
    {
     "data": {
      "text/plain": [
       "['sP2', 'sP3', 'sA2', 'sA3', 'mP2', 'mP3', 'mA2', 'mA3']"
      ]
     },
     "execution_count": 27,
     "metadata": {},
     "output_type": "execute_result"
    }
   ],
   "source": [
    "[x + y + z for x in 'spam' if x in 'sm' \n",
    "            for y in 'SPAM' if y in ('P', 'A') \n",
    "             for z in '123' if z > '1']"
   ]
  },
  {
   "cell_type": "code",
   "execution_count": 28,
   "id": "f8dc2065",
   "metadata": {},
   "outputs": [
    {
     "data": {
      "text/plain": [
       "[(0, 1), (0, 3), (2, 1), (2, 3), (4, 1), (4, 3)]"
      ]
     },
     "execution_count": 28,
     "metadata": {},
     "output_type": "execute_result"
    }
   ],
   "source": [
    "# list comprehension\n",
    "[(x, y) for x in range(5) if x % 2 == 0 for y in range(5) if y % 2 == 1]"
   ]
  },
  {
   "cell_type": "code",
   "execution_count": 31,
   "id": "3679ef38",
   "metadata": {},
   "outputs": [
    {
     "data": {
      "text/plain": [
       "[(0, 1), (0, 3), (2, 1), (2, 3), (4, 1), (4, 3)]"
      ]
     },
     "execution_count": 31,
     "metadata": {},
     "output_type": "execute_result"
    }
   ],
   "source": [
    "# equivalent statement code\n",
    "res = []\n",
    "for x in range(5):\n",
    "    if x % 2 == 0:\n",
    "        for y in range(5):\n",
    "            if y % 2 == 1: \n",
    "                res.append((x, y))\n",
    "res"
   ]
  },
  {
   "cell_type": "markdown",
   "id": "8d12a380",
   "metadata": {},
   "source": [
    "### Example: List Comprehensions and Matrixes"
   ]
  },
  {
   "cell_type": "code",
   "execution_count": 32,
   "id": "e8d2cd16",
   "metadata": {},
   "outputs": [],
   "source": [
    "M = [[1, 2, 3],\n",
    "     [4, 5, 6],\n",
    "     [7, 8, 9]] \n",
    "\n",
    "N = [[2, 2, 2],\n",
    "     [3, 3, 3],\n",
    "     [4, 4, 4]]"
   ]
  },
  {
   "cell_type": "code",
   "execution_count": 33,
   "id": "9005d4a1",
   "metadata": {},
   "outputs": [
    {
     "data": {
      "text/plain": [
       "[4, 5, 6]"
      ]
     },
     "execution_count": 33,
     "metadata": {},
     "output_type": "execute_result"
    }
   ],
   "source": [
    "M[1] # Row 2"
   ]
  },
  {
   "cell_type": "code",
   "execution_count": 34,
   "id": "1131cce1",
   "metadata": {},
   "outputs": [
    {
     "data": {
      "text/plain": [
       "6"
      ]
     },
     "execution_count": 34,
     "metadata": {},
     "output_type": "execute_result"
    }
   ],
   "source": [
    "M[1][2] # row 2, item 3"
   ]
  },
  {
   "cell_type": "code",
   "execution_count": 35,
   "id": "042e34ca",
   "metadata": {},
   "outputs": [
    {
     "data": {
      "text/plain": [
       "[2, 5, 8]"
      ]
     },
     "execution_count": 35,
     "metadata": {},
     "output_type": "execute_result"
    }
   ],
   "source": [
    "[row[1] for row in M] # column 2"
   ]
  },
  {
   "cell_type": "code",
   "execution_count": 38,
   "id": "b577d88e",
   "metadata": {},
   "outputs": [
    {
     "data": {
      "text/plain": [
       "[2, 5, 8]"
      ]
     },
     "execution_count": 38,
     "metadata": {},
     "output_type": "execute_result"
    }
   ],
   "source": [
    "[M[row][1] for row in (0, 1, 2)] # using offsets"
   ]
  },
  {
   "cell_type": "code",
   "execution_count": 40,
   "id": "72cf0cff",
   "metadata": {},
   "outputs": [
    {
     "data": {
      "text/plain": [
       "[1, 5, 9]"
      ]
     },
     "execution_count": 40,
     "metadata": {},
     "output_type": "execute_result"
    }
   ],
   "source": [
    "# Diagonals \n",
    "[M[i][i] for i in range(len(M))]"
   ]
  },
  {
   "cell_type": "code",
   "execution_count": 42,
   "id": "593dd64f",
   "metadata": {},
   "outputs": [
    {
     "data": {
      "text/plain": [
       "[3, 5, 7]"
      ]
     },
     "execution_count": 42,
     "metadata": {},
     "output_type": "execute_result"
    }
   ],
   "source": [
    "[M[i][len(M)-1-i] for i in range(len(M))]"
   ]
  },
  {
   "cell_type": "code",
   "execution_count": 41,
   "id": "e98a7e5f",
   "metadata": {},
   "outputs": [
    {
     "data": {
      "text/plain": [
       "[2, 3, 4]"
      ]
     },
     "execution_count": 41,
     "metadata": {},
     "output_type": "execute_result"
    }
   ],
   "source": [
    "[N[i][i] for i in range(len(N))]"
   ]
  },
  {
   "cell_type": "code",
   "execution_count": 48,
   "id": "a9735d3a",
   "metadata": {},
   "outputs": [
    {
     "data": {
      "text/plain": [
       "[2, 3, 4]"
      ]
     },
     "execution_count": 48,
     "metadata": {},
     "output_type": "execute_result"
    }
   ],
   "source": [
    "[N[i][len(N)-1-i] for i in range(len(N))]"
   ]
  },
  {
   "cell_type": "code",
   "execution_count": 45,
   "id": "7a659c91",
   "metadata": {},
   "outputs": [
    {
     "data": {
      "text/plain": [
       "3"
      ]
     },
     "execution_count": 45,
     "metadata": {},
     "output_type": "execute_result"
    }
   ],
   "source": [
    "len(M)"
   ]
  },
  {
   "cell_type": "markdown",
   "id": "c0fcf8d0",
   "metadata": {},
   "source": [
    "#### Changing the matrix in place"
   ]
  },
  {
   "cell_type": "code",
   "execution_count": 52,
   "id": "de85e31d",
   "metadata": {},
   "outputs": [
    {
     "data": {
      "text/plain": [
       "[[11, 12, 13], [14, 15, 16]]"
      ]
     },
     "execution_count": 52,
     "metadata": {},
     "output_type": "execute_result"
    }
   ],
   "source": [
    "L = [[1, 2, 3], [4, 5, 6]]\n",
    "for i in range(len(L)):\n",
    "    for j in range(len(L[i])): # update in place \n",
    "        L[i][j] += 10\n",
    "L"
   ]
  },
  {
   "cell_type": "code",
   "execution_count": 54,
   "id": "277a11bf",
   "metadata": {},
   "outputs": [
    {
     "data": {
      "text/plain": [
       "[11, 12, 13, 14, 15, 16, 17, 18, 19]"
      ]
     },
     "execution_count": 54,
     "metadata": {},
     "output_type": "execute_result"
    }
   ],
   "source": [
    "[col + 10 for row in M for col in row] # Assign to M to retain new value"
   ]
  },
  {
   "cell_type": "code",
   "execution_count": 55,
   "id": "17f20220",
   "metadata": {},
   "outputs": [
    {
     "data": {
      "text/plain": [
       "[[11, 12, 13], [14, 15, 16], [17, 18, 19]]"
      ]
     },
     "execution_count": 55,
     "metadata": {},
     "output_type": "execute_result"
    }
   ],
   "source": [
    "[[col + 10 for col in row] for row in M]"
   ]
  },
  {
   "cell_type": "code",
   "execution_count": 56,
   "id": "2e137848",
   "metadata": {},
   "outputs": [
    {
     "data": {
      "text/plain": [
       "[[1, 2, 3], [4, 5, 6], [7, 8, 9]]"
      ]
     },
     "execution_count": 56,
     "metadata": {},
     "output_type": "execute_result"
    }
   ],
   "source": [
    "M"
   ]
  },
  {
   "cell_type": "code",
   "execution_count": 57,
   "id": "a30e22ff",
   "metadata": {},
   "outputs": [
    {
     "data": {
      "text/plain": [
       "[[2, 2, 2], [3, 3, 3], [4, 4, 4]]"
      ]
     },
     "execution_count": 57,
     "metadata": {},
     "output_type": "execute_result"
    }
   ],
   "source": [
    "N"
   ]
  },
  {
   "cell_type": "markdown",
   "id": "4be3a958",
   "metadata": {},
   "source": [
    "#### Statements equivalent"
   ]
  },
  {
   "cell_type": "code",
   "execution_count": 59,
   "id": "695acafb",
   "metadata": {},
   "outputs": [
    {
     "data": {
      "text/plain": [
       "[11, 12, 13, 14, 15, 16, 17, 18, 19]"
      ]
     },
     "execution_count": 59,
     "metadata": {},
     "output_type": "execute_result"
    }
   ],
   "source": [
    "res = []\n",
    "for row in M: # Statement equivalents\n",
    "    for col in row: # Indent parts further right\n",
    "        res.append(col + 10)\n",
    "res"
   ]
  },
  {
   "cell_type": "code",
   "execution_count": 60,
   "id": "6ef8d83c",
   "metadata": {},
   "outputs": [
    {
     "data": {
      "text/plain": [
       "[[11, 12, 13], [14, 15, 16], [17, 18, 19]]"
      ]
     },
     "execution_count": 60,
     "metadata": {},
     "output_type": "execute_result"
    }
   ],
   "source": [
    "res = []\n",
    "for row in M: \n",
    "    tmp = [] # Left-nesting starts new list\n",
    "    for col in row:\n",
    "        tmp.append(col + 10)\n",
    "    res.append(tmp)\n",
    "res"
   ]
  },
  {
   "cell_type": "markdown",
   "id": "91c1a6a7",
   "metadata": {},
   "source": [
    "#### combining values of multiple matrixes"
   ]
  },
  {
   "cell_type": "code",
   "execution_count": 70,
   "id": "78b3a041",
   "metadata": {},
   "outputs": [
    {
     "data": {
      "text/plain": [
       "[[1, 2, 3], [4, 5, 6], [7, 8, 9]]"
      ]
     },
     "execution_count": 70,
     "metadata": {},
     "output_type": "execute_result"
    }
   ],
   "source": [
    "M"
   ]
  },
  {
   "cell_type": "code",
   "execution_count": 71,
   "id": "8aa3ce09",
   "metadata": {},
   "outputs": [
    {
     "data": {
      "text/plain": [
       "[[2, 2, 2], [3, 3, 3], [4, 4, 4]]"
      ]
     },
     "execution_count": 71,
     "metadata": {},
     "output_type": "execute_result"
    }
   ],
   "source": [
    "N"
   ]
  },
  {
   "cell_type": "code",
   "execution_count": 74,
   "id": "5c6329d5",
   "metadata": {},
   "outputs": [
    {
     "data": {
      "text/plain": [
       "[2, 4, 6, 12, 15, 18, 28, 32, 36]"
      ]
     },
     "execution_count": 74,
     "metadata": {},
     "output_type": "execute_result"
    }
   ],
   "source": [
    "[M[row][col] * N[row][col] for row in range(len(M)) for col in range(len(N))]"
   ]
  },
  {
   "cell_type": "code",
   "execution_count": 66,
   "id": "e3b1bfcf",
   "metadata": {},
   "outputs": [
    {
     "data": {
      "text/plain": [
       "[2, 4, 6, 12, 15, 18, 28, 32, 36]"
      ]
     },
     "execution_count": 66,
     "metadata": {},
     "output_type": "execute_result"
    }
   ],
   "source": [
    "res = []\n",
    "for row in range(3):\n",
    "    for col in range(3):\n",
    "        res.append(M[row][col] * N[row][col])\n",
    "res"
   ]
  },
  {
   "cell_type": "code",
   "execution_count": 67,
   "id": "4dcf184b",
   "metadata": {},
   "outputs": [
    {
     "data": {
      "text/plain": [
       "[[2, 4, 6], [12, 15, 18], [28, 32, 36]]"
      ]
     },
     "execution_count": 67,
     "metadata": {},
     "output_type": "execute_result"
    }
   ],
   "source": [
    "[[M[row][col] * N[row][col] for col in range(3)] for row in range(3)]"
   ]
  },
  {
   "cell_type": "code",
   "execution_count": 75,
   "id": "c880b687",
   "metadata": {},
   "outputs": [
    {
     "data": {
      "text/plain": [
       "[[2, 4, 6], [12, 15, 18], [28, 32, 36]]"
      ]
     },
     "execution_count": 75,
     "metadata": {},
     "output_type": "execute_result"
    }
   ],
   "source": [
    "res = []\n",
    "for row in range(3):\n",
    "    tmp = []\n",
    "    for col in range(3):\n",
    "        tmp.append(M[row][col] * N[row][col])\n",
    "    res.append(tmp)\n",
    "res"
   ]
  },
  {
   "cell_type": "code",
   "execution_count": null,
   "id": "69f3a3c5",
   "metadata": {},
   "outputs": [],
   "source": []
  }
 ],
 "metadata": {
  "kernelspec": {
   "display_name": "Python 3",
   "language": "python",
   "name": "python3"
  },
  "language_info": {
   "codemirror_mode": {
    "name": "ipython",
    "version": 3
   },
   "file_extension": ".py",
   "mimetype": "text/x-python",
   "name": "python",
   "nbconvert_exporter": "python",
   "pygments_lexer": "ipython3",
   "version": "3.8.8"
  }
 },
 "nbformat": 4,
 "nbformat_minor": 5
}
