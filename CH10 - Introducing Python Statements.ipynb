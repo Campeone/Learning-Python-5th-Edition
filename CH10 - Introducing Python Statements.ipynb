{
 "cells": [
  {
   "cell_type": "markdown",
   "id": "b960a27b",
   "metadata": {},
   "source": [
    "- statements are the things you write to tell Python what your programs should do."
   ]
  },
  {
   "cell_type": "markdown",
   "id": "c416ef02",
   "metadata": {},
   "source": [
    "1. Programs are composed of modules.\n",
    "2. Modules contain statements.\n",
    "3. Statements contain expressions.\n",
    "4. Expressions create and process objects."
   ]
  },
  {
   "cell_type": "code",
   "execution_count": null,
   "id": "c5f1c7e1",
   "metadata": {},
   "outputs": [],
   "source": []
  }
 ],
 "metadata": {
  "kernelspec": {
   "display_name": "Python 3",
   "language": "python",
   "name": "python3"
  },
  "language_info": {
   "codemirror_mode": {
    "name": "ipython",
    "version": 3
   },
   "file_extension": ".py",
   "mimetype": "text/x-python",
   "name": "python",
   "nbconvert_exporter": "python",
   "pygments_lexer": "ipython3",
   "version": "3.8.8"
  }
 },
 "nbformat": 4,
 "nbformat_minor": 5
}
