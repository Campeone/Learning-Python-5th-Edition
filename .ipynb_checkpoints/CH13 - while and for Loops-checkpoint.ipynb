{
 "cells": [
  {
   "cell_type": "markdown",
   "id": "136a3b78",
   "metadata": {},
   "source": [
    "### while loops \n",
    "- it repeatedly executes a block of (normally indented) statements as long as a test at the top keeps evaluating to a true value."
   ]
  },
  {
   "cell_type": "code",
   "execution_count": null,
   "id": "93b644d8",
   "metadata": {},
   "outputs": [],
   "source": [
    "### General Format \n",
    "while test: # Loop test\n",
    "    statements # Loop body\n",
    "else: # Optional else\n",
    "    statements # Run if didn't exit loop with break"
   ]
  },
  {
   "cell_type": "code",
   "execution_count": null,
   "id": "11254c25",
   "metadata": {},
   "outputs": [],
   "source": [
    "# an infinte loop\n",
    "# while True: \n",
    "    # print('Type Ctrl-C to stop me!')"
   ]
  },
  {
   "cell_type": "code",
   "execution_count": 2,
   "id": "24340fdd",
   "metadata": {},
   "outputs": [
    {
     "name": "stdout",
     "output_type": "stream",
     "text": [
      "spam\n",
      "pam\n",
      "am\n",
      "m\n"
     ]
    }
   ],
   "source": [
    "x = 'spam'\n",
    "while x: # while x is not empty\n",
    "    print(x)\n",
    "    x = x[1:] # strip off first character "
   ]
  },
  {
   "cell_type": "code",
   "execution_count": 10,
   "id": "d8ae6d2f",
   "metadata": {},
   "outputs": [
    {
     "name": "stdout",
     "output_type": "stream",
     "text": [
      "0 1 2 3 4 5 6 7 8 9 "
     ]
    }
   ],
   "source": [
    "a =0; b=10 \n",
    "while a < b: \n",
    "    print(a, end=' ')\n",
    "    a += 1"
   ]
  },
  {
   "cell_type": "markdown",
   "id": "db6e6cce",
   "metadata": {},
   "source": [
    "### break, continue, pass, and the Loop else"
   ]
  },
  {
   "cell_type": "markdown",
   "id": "85862073",
   "metadata": {},
   "source": [
    "- break\n",
    "    - Jumps out of the closest enclosing loop (past the entire loop statement)\n",
    "- continue\n",
    "    - Jumps to the top of the closest enclosing loop (to the loop’s header line)\n",
    "- pass\n",
    "    - Does nothing at all: it’s an empty statement placeholder\n",
    "- Loop else block\n",
    "    - Runs if and only if the loop is exited normally (i.e., without hitting a break)"
   ]
  },
  {
   "cell_type": "code",
   "execution_count": null,
   "id": "01556c42",
   "metadata": {},
   "outputs": [],
   "source": [
    "while test:\n",
    "    statements\n",
    "    if test: break # Exit loop now, skip else if present\n",
    "    if test: continue # Go to top of loop now, to test1\n",
    "else:\n",
    "    statements # Run if we didn't hit a 'break'"
   ]
  },
  {
   "cell_type": "markdown",
   "id": "71ba3ba6",
   "metadata": {},
   "source": [
    "### continue \n",
    "- causes an immediate jump to the top of a loop. It also sometimes lets you avoid statement nesting."
   ]
  },
  {
   "cell_type": "code",
   "execution_count": 15,
   "id": "40813522",
   "metadata": {},
   "outputs": [
    {
     "name": "stdout",
     "output_type": "stream",
     "text": [
      "8 6 4 2 0 "
     ]
    }
   ],
   "source": [
    "x = 10 \n",
    "while x: \n",
    "    x = x -1 # Or x -= 1\n",
    "    if x % 2 != 0: continue # Odd? -- skip print\n",
    "    print(x, end=' ')"
   ]
  },
  {
   "cell_type": "code",
   "execution_count": 17,
   "id": "677c0864",
   "metadata": {},
   "outputs": [
    {
     "name": "stdout",
     "output_type": "stream",
     "text": [
      "8 || 6 || 4 || 2 || 0 || "
     ]
    }
   ],
   "source": [
    "x = 10 \n",
    "while x: \n",
    "    x -= 1 \n",
    "    if x % 2 == 0: \n",
    "        print(x, end= ' || ')"
   ]
  },
  {
   "cell_type": "markdown",
   "id": "2386290a",
   "metadata": {},
   "source": [
    "### break \n",
    "- causes an immediate exit from a loop. Because the code that follows it in the loop is not executed if the break is reached, you can also sometimes avoid nesting by including a break."
   ]
  },
  {
   "cell_type": "code",
   "execution_count": 19,
   "id": "89ab33d6",
   "metadata": {
    "scrolled": true
   },
   "outputs": [
    {
     "name": "stdout",
     "output_type": "stream",
     "text": [
      "Enter name:bob\n",
      "enter age50\n",
      "Hello bob => 2500\n",
      "Enter name:kate\n",
      "enter age40\n",
      "Hello kate => 1600\n",
      "Enter name:jude\n",
      "enter age10\n",
      "Hello jude => 100\n",
      "Enter name:stop\n"
     ]
    }
   ],
   "source": [
    "while True: \n",
    "    name = input('Enter name:')\n",
    "    if name == 'stop': break \n",
    "    age = input('enter age')\n",
    "    print('Hello', name, '=>', int(age) ** 2)"
   ]
  },
  {
   "cell_type": "markdown",
   "id": "a7b9c73c",
   "metadata": {},
   "source": [
    "### loop else"
   ]
  },
  {
   "cell_type": "code",
   "execution_count": null,
   "id": "76dd7d80",
   "metadata": {},
   "outputs": [],
   "source": [
    "x = y // 2 # for some y > 1 \n",
    "while x:\n",
    "    if y % x == 0: # remainder\n",
    "        print(y, 'has factor', x) \n",
    "        break # skip else \n",
    "    x -= 1\n",
    "else: \n",
    "    print(y, 'is prime')"
   ]
  },
  {
   "cell_type": "code",
   "execution_count": null,
   "id": "7f6c1d2f",
   "metadata": {},
   "outputs": [],
   "source": []
  }
 ],
 "metadata": {
  "kernelspec": {
   "display_name": "Python 3",
   "language": "python",
   "name": "python3"
  },
  "language_info": {
   "codemirror_mode": {
    "name": "ipython",
    "version": 3
   },
   "file_extension": ".py",
   "mimetype": "text/x-python",
   "name": "python",
   "nbconvert_exporter": "python",
   "pygments_lexer": "ipython3",
   "version": "3.8.8"
  }
 },
 "nbformat": 4,
 "nbformat_minor": 5
}
