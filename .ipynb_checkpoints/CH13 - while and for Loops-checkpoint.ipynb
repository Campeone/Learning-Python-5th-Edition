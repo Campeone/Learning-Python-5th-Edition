{
 "cells": [
  {
   "cell_type": "markdown",
   "id": "136a3b78",
   "metadata": {},
   "source": [
    "### while loops \n",
    "- it repeatedly executes a block of (normally indented) statements as long as a test at the top keeps evaluating to a true value."
   ]
  },
  {
   "cell_type": "code",
   "execution_count": null,
   "id": "93b644d8",
   "metadata": {},
   "outputs": [],
   "source": [
    "### General Format \n",
    "while test: # Loop test\n",
    "    statements # Loop body\n",
    "else: # Optional else\n",
    "    statements # Run if didn't exit loop with break"
   ]
  },
  {
   "cell_type": "code",
   "execution_count": null,
   "id": "11254c25",
   "metadata": {},
   "outputs": [],
   "source": [
    "# an infinte loop\n",
    "# while True: \n",
    "    # print('Type Ctrl-C to stop me!')"
   ]
  },
  {
   "cell_type": "code",
   "execution_count": 2,
   "id": "1888fcce",
   "metadata": {},
   "outputs": [
    {
     "name": "stdout",
     "output_type": "stream",
     "text": [
      "spam\n",
      "pam\n",
      "am\n",
      "m\n"
     ]
    }
   ],
   "source": [
    "x = 'spam'\n",
    "while x: # while x is not empty\n",
    "    print(x)\n",
    "    x = x[1:] # strip off first character "
   ]
  },
  {
   "cell_type": "code",
   "execution_count": 10,
   "id": "c47b5030",
   "metadata": {},
   "outputs": [
    {
     "name": "stdout",
     "output_type": "stream",
     "text": [
      "0 1 2 3 4 5 6 7 8 9 "
     ]
    }
   ],
   "source": [
    "a =0; b=10 \n",
    "while a < b: \n",
    "    print(a, end=' ')\n",
    "    a += 1"
   ]
  },
  {
   "cell_type": "markdown",
   "id": "2510b1c1",
   "metadata": {},
   "source": [
    "### break, continue, pass, and the Loop else"
   ]
  },
  {
   "cell_type": "markdown",
   "id": "bc9188ad",
   "metadata": {},
   "source": [
    "- break\n",
    "    - Jumps out of the closest enclosing loop (past the entire loop statement)\n",
    "- continue\n",
    "    - Jumps to the top of the closest enclosing loop (to the loop’s header line)\n",
    "- pass\n",
    "    - Does nothing at all: it’s an empty statement placeholder\n",
    "- Loop else block\n",
    "    - Runs if and only if the loop is exited normally (i.e., without hitting a break)"
   ]
  },
  {
   "cell_type": "code",
   "execution_count": null,
   "id": "c4cfde80",
   "metadata": {},
   "outputs": [],
   "source": [
    "while test:\n",
    "    statements\n",
    "    if test: break # Exit loop now, skip else if present\n",
    "    if test: continue # Go to top of loop now, to test1\n",
    "else:\n",
    "    statements # Run if we didn't hit a 'break'"
   ]
  },
  {
   "cell_type": "markdown",
   "id": "037554ad",
   "metadata": {},
   "source": [
    "### continue \n",
    "- causes an immediate jump to the top of a loop. It also sometimes lets you avoid statement nesting."
   ]
  },
  {
   "cell_type": "code",
   "execution_count": 15,
   "id": "fff0eb01",
   "metadata": {},
   "outputs": [
    {
     "name": "stdout",
     "output_type": "stream",
     "text": [
      "8 6 4 2 0 "
     ]
    }
   ],
   "source": [
    "x = 10 \n",
    "while x: \n",
    "    x = x -1 # Or x -= 1\n",
    "    if x % 2 != 0: continue # Odd? -- skip print\n",
    "    print(x, end=' ')"
   ]
  },
  {
   "cell_type": "code",
   "execution_count": 17,
   "id": "6c707124",
   "metadata": {},
   "outputs": [
    {
     "name": "stdout",
     "output_type": "stream",
     "text": [
      "8 || 6 || 4 || 2 || 0 || "
     ]
    }
   ],
   "source": [
    "x = 10 \n",
    "while x: \n",
    "    x -= 1 \n",
    "    if x % 2 == 0: \n",
    "        print(x, end= ' || ')"
   ]
  },
  {
   "cell_type": "markdown",
   "id": "db6d727d",
   "metadata": {},
   "source": [
    "### break \n",
    "- causes an immediate exit from a loop. Because the code that follows it in the loop is not executed if the break is reached, you can also sometimes avoid nesting by including a break."
   ]
  },
  {
   "cell_type": "code",
   "execution_count": 19,
   "id": "d8e3a947",
   "metadata": {
    "scrolled": true
   },
   "outputs": [
    {
     "name": "stdout",
     "output_type": "stream",
     "text": [
      "Enter name:bob\n",
      "enter age50\n",
      "Hello bob => 2500\n",
      "Enter name:kate\n",
      "enter age40\n",
      "Hello kate => 1600\n",
      "Enter name:jude\n",
      "enter age10\n",
      "Hello jude => 100\n",
      "Enter name:stop\n"
     ]
    }
   ],
   "source": [
    "while True: \n",
    "    name = input('Enter name:')\n",
    "    if name == 'stop': break \n",
    "    age = input('enter age')\n",
    "    print('Hello', name, '=>', int(age) ** 2)"
   ]
  },
  {
   "cell_type": "markdown",
   "id": "3015b565",
   "metadata": {},
   "source": [
    "### loop else"
   ]
  },
  {
   "cell_type": "code",
   "execution_count": null,
   "id": "025e6975",
   "metadata": {},
   "outputs": [],
   "source": [
    "x = y // 2 # for some y > 1 \n",
    "while x:\n",
    "    if y % x == 0: # remainder\n",
    "        print(y, 'has factor', x) \n",
    "        break # skip else \n",
    "    x -= 1\n",
    "else: \n",
    "    print(y, 'is prime')"
   ]
  },
  {
   "cell_type": "markdown",
   "id": "067093bd",
   "metadata": {},
   "source": [
    "## For Loops"
   ]
  },
  {
   "cell_type": "markdown",
   "id": "7f848ec0",
   "metadata": {},
   "source": [
    "- a generic iterator in Python \n",
    "- works on strings, lists, tuples, and other built-in iterables"
   ]
  },
  {
   "cell_type": "markdown",
   "id": "a800dddd",
   "metadata": {},
   "source": [
    "### General Formats"
   ]
  },
  {
   "cell_type": "code",
   "execution_count": null,
   "id": "f6038a23",
   "metadata": {},
   "outputs": [],
   "source": [
    "for target in object: # Assign object items to target\n",
    "    statements # Repeated loop body: use target\n",
    "else: # Optional else part\n",
    "    statements # If we didn't hit a 'break'"
   ]
  },
  {
   "cell_type": "markdown",
   "id": "6d7677a0",
   "metadata": {},
   "source": [
    "### complete format"
   ]
  },
  {
   "cell_type": "code",
   "execution_count": null,
   "id": "a4b6de18",
   "metadata": {},
   "outputs": [],
   "source": [
    "for target in object: # Assign object items to target\n",
    "statements\n",
    "if test: break # Exit loop now, skip else\n",
    "if test: continue # Go to top of loop now\n",
    "else:\n",
    "statements # If we didn't hit a 'break'"
   ]
  },
  {
   "cell_type": "code",
   "execution_count": 23,
   "id": "85fcd193",
   "metadata": {},
   "outputs": [
    {
     "name": "stdout",
     "output_type": "stream",
     "text": [
      "pa gg am "
     ]
    }
   ],
   "source": [
    "#### Basic usage \n",
    "for x in ['spam', 'eggs', 'ham']: \n",
    "    print(x[1:3], end=' ')"
   ]
  },
  {
   "cell_type": "code",
   "execution_count": 26,
   "id": "ce4ff39e",
   "metadata": {},
   "outputs": [
    {
     "data": {
      "text/plain": [
       "10"
      ]
     },
     "execution_count": 26,
     "metadata": {},
     "output_type": "execute_result"
    }
   ],
   "source": [
    "sum = 0\n",
    "for x in [1, 2, 3, 4]: \n",
    "    sum = sum + x \n",
    "sum"
   ]
  },
  {
   "cell_type": "code",
   "execution_count": 29,
   "id": "376b090c",
   "metadata": {},
   "outputs": [
    {
     "data": {
      "text/plain": [
       "24"
      ]
     },
     "execution_count": 29,
     "metadata": {},
     "output_type": "execute_result"
    }
   ],
   "source": [
    "prod = 1 \n",
    "for item in [1, 2, 3, 4]: \n",
    "    prod *= item \n",
    "prod"
   ]
  },
  {
   "cell_type": "code",
   "execution_count": 30,
   "id": "97d935b0",
   "metadata": {},
   "outputs": [],
   "source": [
    "S = \"lumberjack\"\n",
    "T = (\"and\", \"I'm\", \"okay\")"
   ]
  },
  {
   "cell_type": "code",
   "execution_count": 31,
   "id": "39af8513",
   "metadata": {},
   "outputs": [
    {
     "name": "stdout",
     "output_type": "stream",
     "text": [
      "l | u | m | b | e | r | j | a | c | k | "
     ]
    }
   ],
   "source": [
    "# iterate over a string\n",
    "for x in S: print(x, end=' | ')"
   ]
  },
  {
   "cell_type": "code",
   "execution_count": 33,
   "id": "7d18ef8e",
   "metadata": {},
   "outputs": [
    {
     "name": "stdout",
     "output_type": "stream",
     "text": [
      "and $ I'm $ okay $ "
     ]
    }
   ],
   "source": [
    "# itearate over a tuple\n",
    "for x in T: print(x, end=' $ ')"
   ]
  },
  {
   "cell_type": "markdown",
   "id": "754eebd7",
   "metadata": {},
   "source": [
    "#### Tuple assignment in for loops"
   ]
  },
  {
   "cell_type": "code",
   "execution_count": 34,
   "id": "ba7deed0",
   "metadata": {},
   "outputs": [],
   "source": [
    "T = [(1, 2), (3, 4), (5, 6)]"
   ]
  },
  {
   "cell_type": "code",
   "execution_count": 37,
   "id": "11136b1f",
   "metadata": {},
   "outputs": [
    {
     "name": "stdout",
     "output_type": "stream",
     "text": [
      "3 -1 1 2\n",
      "7 -1 81 12\n",
      "11 -1 15625 30\n"
     ]
    }
   ],
   "source": [
    "# unpacking the current tuple\n",
    "for (a, b) in T: \n",
    "    print(a+b, a-b, a**b, a*b)"
   ]
  },
  {
   "cell_type": "code",
   "execution_count": 38,
   "id": "ac787189",
   "metadata": {},
   "outputs": [],
   "source": [
    "D = {'a': 1, 'b': 2, 'c': 3}"
   ]
  },
  {
   "cell_type": "code",
   "execution_count": 39,
   "id": "4a32e3a2",
   "metadata": {},
   "outputs": [
    {
     "name": "stdout",
     "output_type": "stream",
     "text": [
      "a => 1\n",
      "b => 2\n",
      "c => 3\n"
     ]
    }
   ],
   "source": [
    "for key in D: \n",
    "    print(key, '=>', D[key]) # Use dict keys iterator and index"
   ]
  },
  {
   "cell_type": "code",
   "execution_count": 40,
   "id": "1783daaa",
   "metadata": {},
   "outputs": [
    {
     "data": {
      "text/plain": [
       "[('a', 1), ('b', 2), ('c', 3)]"
      ]
     },
     "execution_count": 40,
     "metadata": {},
     "output_type": "execute_result"
    }
   ],
   "source": [
    "list(D.items())"
   ]
  },
  {
   "cell_type": "code",
   "execution_count": 43,
   "id": "3f963c5c",
   "metadata": {},
   "outputs": [
    {
     "name": "stdout",
     "output_type": "stream",
     "text": [
      "a => 1\n",
      "b => 2\n",
      "c => 3\n"
     ]
    }
   ],
   "source": [
    "for (k, v) in D.items(): \n",
    "    print(k, '=>', v)"
   ]
  },
  {
   "cell_type": "code",
   "execution_count": 44,
   "id": "c2b8e35f",
   "metadata": {},
   "outputs": [
    {
     "name": "stdout",
     "output_type": "stream",
     "text": [
      "1 2 3\n",
      "X Y 6\n"
     ]
    }
   ],
   "source": [
    "for ((a, b), c) in [([1, 2], 3), ['XY', 6]]: print(a, b, c)"
   ]
  },
  {
   "cell_type": "markdown",
   "id": "e4384748",
   "metadata": {},
   "source": [
    "### Nested for Loops"
   ]
  },
  {
   "cell_type": "code",
   "execution_count": 45,
   "id": "cfc69511",
   "metadata": {},
   "outputs": [],
   "source": [
    "items = [\"aaa\", 111, (4, 5), 2.01] # A set of objects\n",
    "tests = [(4, 5), 3.14] # Keys to search for"
   ]
  },
  {
   "cell_type": "code",
   "execution_count": 46,
   "id": "fc29011b",
   "metadata": {},
   "outputs": [
    {
     "name": "stdout",
     "output_type": "stream",
     "text": [
      "(4, 5) was found\n",
      "3.14 not found\n"
     ]
    }
   ],
   "source": [
    "for key in tests: # for all keys\n",
    "    for item in items: # for all items\n",
    "        if item == key: # check for match\n",
    "            print(key, 'was found')\n",
    "            break\n",
    "    else: \n",
    "        print(key, 'not found')"
   ]
  },
  {
   "cell_type": "code",
   "execution_count": 52,
   "id": "47ed5d02",
   "metadata": {},
   "outputs": [
    {
     "data": {
      "text/plain": [
       "array([10,  6, 13, 18, 18,  7, 10, 13,  3, 19])"
      ]
     },
     "execution_count": 52,
     "metadata": {},
     "output_type": "execute_result"
    }
   ],
   "source": [
    "import numpy as np\n",
    "a = np.random.randint(2, 20, (10)) \n",
    "a"
   ]
  },
  {
   "cell_type": "code",
   "execution_count": 54,
   "id": "f0ac6c97",
   "metadata": {},
   "outputs": [
    {
     "data": {
      "text/plain": [
       "array([13,  2,  8,  5,  6,  5, 15,  5, 16,  3])"
      ]
     },
     "execution_count": 54,
     "metadata": {},
     "output_type": "execute_result"
    }
   ],
   "source": [
    "b = np.random.randint(2, 20, (10)) \n",
    "b"
   ]
  },
  {
   "cell_type": "code",
   "execution_count": 68,
   "id": "b709e414",
   "metadata": {},
   "outputs": [
    {
     "name": "stdout",
     "output_type": "stream",
     "text": [
      "10 less than 13\n",
      "10 greater than 2\n",
      "10 greater than 8\n",
      "10 greater than 5\n",
      "10 greater than 6\n",
      "10 greater than 5\n",
      "10 less than 15\n",
      "10 greater than 5\n",
      "10 less than 16\n",
      "10 greater than 3\n",
      "Nothing\n",
      "6 less than 13\n",
      "6 greater than 2\n",
      "6 less than 8\n",
      "6 greater than 5\n",
      "6 equals 6\n",
      "6 greater than 5\n",
      "6 less than 15\n",
      "6 greater than 5\n",
      "6 less than 16\n",
      "6 greater than 3\n",
      "Nothing\n",
      "13 equals 13\n",
      "13 greater than 2\n",
      "13 greater than 8\n",
      "13 greater than 5\n",
      "13 greater than 6\n",
      "13 greater than 5\n",
      "13 less than 15\n",
      "13 greater than 5\n",
      "13 less than 16\n",
      "13 greater than 3\n",
      "Nothing\n",
      "18 greater than 13\n",
      "18 greater than 2\n",
      "18 greater than 8\n",
      "18 greater than 5\n",
      "18 greater than 6\n",
      "18 greater than 5\n",
      "18 greater than 15\n",
      "18 greater than 5\n",
      "18 greater than 16\n",
      "18 greater than 3\n",
      "Nothing\n",
      "18 greater than 13\n",
      "18 greater than 2\n",
      "18 greater than 8\n",
      "18 greater than 5\n",
      "18 greater than 6\n",
      "18 greater than 5\n",
      "18 greater than 15\n",
      "18 greater than 5\n",
      "18 greater than 16\n",
      "18 greater than 3\n",
      "Nothing\n",
      "7 less than 13\n",
      "7 greater than 2\n",
      "7 less than 8\n",
      "7 greater than 5\n",
      "7 greater than 6\n",
      "7 greater than 5\n",
      "7 less than 15\n",
      "7 greater than 5\n",
      "7 less than 16\n",
      "7 greater than 3\n",
      "Nothing\n",
      "10 less than 13\n",
      "10 greater than 2\n",
      "10 greater than 8\n",
      "10 greater than 5\n",
      "10 greater than 6\n",
      "10 greater than 5\n",
      "10 less than 15\n",
      "10 greater than 5\n",
      "10 less than 16\n",
      "10 greater than 3\n",
      "Nothing\n",
      "13 equals 13\n",
      "13 greater than 2\n",
      "13 greater than 8\n",
      "13 greater than 5\n",
      "13 greater than 6\n",
      "13 greater than 5\n",
      "13 less than 15\n",
      "13 greater than 5\n",
      "13 less than 16\n",
      "13 greater than 3\n",
      "Nothing\n",
      "3 less than 13\n",
      "3 greater than 2\n",
      "3 less than 8\n",
      "3 less than 5\n",
      "3 less than 6\n",
      "3 less than 5\n",
      "3 less than 15\n",
      "3 less than 5\n",
      "3 less than 16\n",
      "3 equals 3\n",
      "Nothing\n",
      "19 greater than 13\n",
      "19 greater than 2\n",
      "19 greater than 8\n",
      "19 greater than 5\n",
      "19 greater than 6\n",
      "19 greater than 5\n",
      "19 greater than 15\n",
      "19 greater than 5\n",
      "19 greater than 16\n",
      "19 greater than 3\n",
      "Nothing\n"
     ]
    }
   ],
   "source": [
    "for x in a: \n",
    "    for y in b: \n",
    "        if x < y: \n",
    "            print(x, 'less than', y)\n",
    "        elif x == y: \n",
    "            print(x, 'equals', y)\n",
    "        else: \n",
    "            print(x, 'greater than', y)\n",
    "    else: \n",
    "        print('Nothing')"
   ]
  },
  {
   "cell_type": "code",
   "execution_count": 60,
   "id": "55d3570b",
   "metadata": {},
   "outputs": [
    {
     "name": "stdout",
     "output_type": "stream",
     "text": [
      "(4, 5) was found\n",
      "3.14 was found\n"
     ]
    }
   ],
   "source": [
    "for key in tests: \n",
    "    if item in items:\n",
    "        print(key, 'was found')\n",
    "    else:\n",
    "        print(key, \"not found\")"
   ]
  },
  {
   "cell_type": "code",
   "execution_count": 66,
   "id": "f364c970",
   "metadata": {},
   "outputs": [],
   "source": [
    "seq1 = \"spam\"\n",
    "seq2 = \"scam\""
   ]
  },
  {
   "cell_type": "code",
   "execution_count": 70,
   "id": "ee7f461a",
   "metadata": {},
   "outputs": [
    {
     "data": {
      "text/plain": [
       "['s', 'a', 'm']"
      ]
     },
     "execution_count": 70,
     "metadata": {},
     "output_type": "execute_result"
    }
   ],
   "source": [
    "# intersection\n",
    "res = [] # start empty\n",
    "for x in seq1: # scan firsdt sequence\n",
    "    if x in seq2: # common item\n",
    "        res.append(x) # add to result end\n",
    "res"
   ]
  },
  {
   "cell_type": "code",
   "execution_count": 71,
   "id": "39a5661d",
   "metadata": {},
   "outputs": [
    {
     "data": {
      "text/plain": [
       "[6, 13, 13, 3]"
      ]
     },
     "execution_count": 71,
     "metadata": {},
     "output_type": "execute_result"
    }
   ],
   "source": [
    "# intersection\n",
    "both = []\n",
    "for x in a:\n",
    "    if x in b: \n",
    "        both.append(x)\n",
    "both"
   ]
  },
  {
   "cell_type": "code",
   "execution_count": 72,
   "id": "16e5fb07",
   "metadata": {},
   "outputs": [
    {
     "data": {
      "text/plain": [
       "['s', 'a', 'm']"
      ]
     },
     "execution_count": 72,
     "metadata": {},
     "output_type": "execute_result"
    }
   ],
   "source": [
    "# list comprehension \n",
    "[x for x in seq1 if x in seq2]"
   ]
  },
  {
   "cell_type": "code",
   "execution_count": null,
   "id": "53e3a83f",
   "metadata": {},
   "outputs": [],
   "source": []
  }
 ],
 "metadata": {
  "kernelspec": {
   "display_name": "Python 3",
   "language": "python",
   "name": "python3"
  },
  "language_info": {
   "codemirror_mode": {
    "name": "ipython",
    "version": 3
   },
   "file_extension": ".py",
   "mimetype": "text/x-python",
   "name": "python",
   "nbconvert_exporter": "python",
   "pygments_lexer": "ipython3",
   "version": "3.8.8"
  }
 },
 "nbformat": 4,
 "nbformat_minor": 5
}
