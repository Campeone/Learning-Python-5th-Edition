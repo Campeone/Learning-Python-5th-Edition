{
 "cells": [
  {
   "cell_type": "markdown",
   "id": "da957385",
   "metadata": {},
   "source": [
    "### Function Design Concepts\n",
    "- Coupling: use arguments for inputs and return for outputs \n",
    "- Coupling: use global variables only when truly necessary. \n",
    "- Coupling: don’t change mutable arguments unless the caller expects it \n",
    "- Cohesion: each function should have a single, unified purpose. \n",
    "- Size: each function should be relatively small. \n",
    "- Coupling: avoid changing variables in another module file directly "
   ]
  },
  {
   "cell_type": "markdown",
   "id": "e57eecd5",
   "metadata": {},
   "source": [
    "### Summation with Recursion"
   ]
  },
  {
   "cell_type": "code",
   "execution_count": 7,
   "id": "0b93a0c1",
   "metadata": {},
   "outputs": [],
   "source": [
    "def mysum(L):\n",
    "    print(L) # Trace recursive levels\n",
    "    if not L: # L shorter at each level\n",
    "        return 0\n",
    "    else:\n",
    "        return L[0] + mysum(L[1:])"
   ]
  },
  {
   "cell_type": "code",
   "execution_count": 8,
   "id": "d6161dd4",
   "metadata": {},
   "outputs": [
    {
     "name": "stdout",
     "output_type": "stream",
     "text": [
      "[1, 2, 3, 4, 5]\n",
      "[2, 3, 4, 5]\n",
      "[3, 4, 5]\n",
      "[4, 5]\n",
      "[5]\n",
      "[]\n"
     ]
    },
    {
     "data": {
      "text/plain": [
       "15"
      ]
     },
     "execution_count": 8,
     "metadata": {},
     "output_type": "execute_result"
    }
   ],
   "source": [
    "mysum([1, 2, 3, 4, 5])"
   ]
  },
  {
   "cell_type": "markdown",
   "id": "956c5a94",
   "metadata": {},
   "source": [
    "### Handling Arbitrary Structures\n",
    "- recursion—or equivalent explicit stack-based algorithms we’ll meet shortly—can be required to traverse arbitrarily shaped structures"
   ]
  },
  {
   "cell_type": "code",
   "execution_count": 9,
   "id": "e9699d0d",
   "metadata": {},
   "outputs": [
    {
     "name": "stdout",
     "output_type": "stream",
     "text": [
      "36\n"
     ]
    }
   ],
   "source": [
    "def sumtree(L):\n",
    "    tot = 0\n",
    "    for x in L: # For eac item at this level\n",
    "        if not isinstance(x, list):\n",
    "            tot += x\n",
    "        else:\n",
    "            tot +=sumtree(x)\n",
    "    return tot\n",
    "L = [1, [2, [3, 4], 5], 6, [7, 8]] # Arbitrary nesting\n",
    "print(sumtree(L)) "
   ]
  },
  {
   "cell_type": "code",
   "execution_count": 10,
   "id": "9a34c996",
   "metadata": {},
   "outputs": [
    {
     "name": "stdout",
     "output_type": "stream",
     "text": [
      "15\n"
     ]
    }
   ],
   "source": [
    "print(sumtree([1, [2, [3, [4, [5]]]]]))"
   ]
  },
  {
   "cell_type": "code",
   "execution_count": null,
   "id": "af39c08e",
   "metadata": {},
   "outputs": [],
   "source": []
  }
 ],
 "metadata": {
  "kernelspec": {
   "display_name": "Python 3",
   "language": "python",
   "name": "python3"
  },
  "language_info": {
   "codemirror_mode": {
    "name": "ipython",
    "version": 3
   },
   "file_extension": ".py",
   "mimetype": "text/x-python",
   "name": "python",
   "nbconvert_exporter": "python",
   "pygments_lexer": "ipython3",
   "version": "3.8.8"
  }
 },
 "nbformat": 4,
 "nbformat_minor": 5
}
