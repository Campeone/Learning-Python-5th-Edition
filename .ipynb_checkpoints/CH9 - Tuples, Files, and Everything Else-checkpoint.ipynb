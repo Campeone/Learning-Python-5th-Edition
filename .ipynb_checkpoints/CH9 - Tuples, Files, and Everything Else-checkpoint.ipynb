{
 "cells": [
  {
   "cell_type": "markdown",
   "id": "6840e430",
   "metadata": {},
   "source": [
    "### Tuples: Tuples in Action"
   ]
  },
  {
   "cell_type": "code",
   "execution_count": 1,
   "id": "59ffd6c0",
   "metadata": {},
   "outputs": [
    {
     "data": {
      "text/plain": [
       "(1, 2, 3, 4)"
      ]
     },
     "execution_count": 1,
     "metadata": {},
     "output_type": "execute_result"
    }
   ],
   "source": [
    "(1, 2) + (3, 4) # Concatenation"
   ]
  },
  {
   "cell_type": "code",
   "execution_count": 2,
   "id": "02968181",
   "metadata": {},
   "outputs": [
    {
     "data": {
      "text/plain": [
       "(1, 2, 1, 2, 1, 2, 1, 2)"
      ]
     },
     "execution_count": 2,
     "metadata": {},
     "output_type": "execute_result"
    }
   ],
   "source": [
    "(1, 2) * 4 # Repetition"
   ]
  },
  {
   "cell_type": "code",
   "execution_count": 3,
   "id": "61c4785f",
   "metadata": {},
   "outputs": [
    {
     "data": {
      "text/plain": [
       "(1, (2, 3))"
      ]
     },
     "execution_count": 3,
     "metadata": {},
     "output_type": "execute_result"
    }
   ],
   "source": [
    "T = (1, 2, 3, 4) # Indexing, slicing\n",
    "T[0], T[1:3]"
   ]
  },
  {
   "cell_type": "code",
   "execution_count": 4,
   "id": "c6870d56",
   "metadata": {},
   "outputs": [
    {
     "data": {
      "text/plain": [
       "(40,)"
      ]
     },
     "execution_count": 4,
     "metadata": {},
     "output_type": "execute_result"
    }
   ],
   "source": [
    "y = (40,) # A tuple containing an integer\n",
    "y"
   ]
  },
  {
   "cell_type": "code",
   "execution_count": 6,
   "id": "e5ff324c",
   "metadata": {},
   "outputs": [
    {
     "data": {
      "text/plain": [
       "(0, 'Ni', 1.2, 3)"
      ]
     },
     "execution_count": 6,
     "metadata": {},
     "output_type": "execute_result"
    }
   ],
   "source": [
    "# creating a tuple without the parentheses\n",
    "T = 0, 'Ni', 1.2, 3 \n",
    "T"
   ]
  },
  {
   "cell_type": "markdown",
   "id": "f359223e",
   "metadata": {},
   "source": [
    "### Conversions, methods, and immutability "
   ]
  },
  {
   "cell_type": "code",
   "execution_count": 7,
   "id": "02c371b3",
   "metadata": {},
   "outputs": [
    {
     "data": {
      "text/plain": [
       "['aa', 'bb', 'cc', 'dd']"
      ]
     },
     "execution_count": 7,
     "metadata": {},
     "output_type": "execute_result"
    }
   ],
   "source": [
    "T = ('cc', 'aa', 'dd', 'bb')\n",
    "tmp = list(T) # Make a list from a tuple's items\n",
    "tmp.sort() # Sort the list\n",
    "tmp"
   ]
  },
  {
   "cell_type": "code",
   "execution_count": 8,
   "id": "165159c4",
   "metadata": {},
   "outputs": [
    {
     "data": {
      "text/plain": [
       "('aa', 'bb', 'cc', 'dd')"
      ]
     },
     "execution_count": 8,
     "metadata": {},
     "output_type": "execute_result"
    }
   ],
   "source": [
    "T = tuple(tmp) # Make a tuple from the list's items\n",
    "T"
   ]
  },
  {
   "cell_type": "code",
   "execution_count": 9,
   "id": "6236d058",
   "metadata": {},
   "outputs": [
    {
     "data": {
      "text/plain": [
       "['aa', 'bb', 'cc', 'dd']"
      ]
     },
     "execution_count": 9,
     "metadata": {},
     "output_type": "execute_result"
    }
   ],
   "source": [
    "# # Or use the sorted built-in, and save two steps\n",
    "sorted(T)"
   ]
  },
  {
   "cell_type": "code",
   "execution_count": 10,
   "id": "f10e5883",
   "metadata": {},
   "outputs": [
    {
     "data": {
      "text/plain": [
       "[21, 22, 23, 24, 25]"
      ]
     },
     "execution_count": 10,
     "metadata": {},
     "output_type": "execute_result"
    }
   ],
   "source": [
    "# List comprehensions can also be used to convert tuples.\n",
    "T = (1, 2, 3, 4, 5) \n",
    "L = [x + 20 for x in T] \n",
    "L"
   ]
  },
  {
   "cell_type": "code",
   "execution_count": 11,
   "id": "2f46cdf6",
   "metadata": {},
   "outputs": [
    {
     "ename": "TypeError",
     "evalue": "'tuple' object does not support item assignment",
     "output_type": "error",
     "traceback": [
      "\u001b[1;31m---------------------------------------------------------------------------\u001b[0m",
      "\u001b[1;31mTypeError\u001b[0m                                 Traceback (most recent call last)",
      "\u001b[1;32m<ipython-input-11-e45834ecb66e>\u001b[0m in \u001b[0;36m<module>\u001b[1;34m\u001b[0m\n\u001b[0;32m      1\u001b[0m \u001b[0mT\u001b[0m \u001b[1;33m=\u001b[0m \u001b[1;33m(\u001b[0m\u001b[1;36m1\u001b[0m\u001b[1;33m,\u001b[0m \u001b[1;33m[\u001b[0m\u001b[1;36m2\u001b[0m\u001b[1;33m,\u001b[0m \u001b[1;36m3\u001b[0m\u001b[1;33m]\u001b[0m\u001b[1;33m,\u001b[0m \u001b[1;36m4\u001b[0m\u001b[1;33m)\u001b[0m\u001b[1;33m\u001b[0m\u001b[1;33m\u001b[0m\u001b[0m\n\u001b[1;32m----> 2\u001b[1;33m \u001b[0mT\u001b[0m\u001b[1;33m[\u001b[0m\u001b[1;36m1\u001b[0m\u001b[1;33m]\u001b[0m \u001b[1;33m=\u001b[0m \u001b[1;34m'spam'\u001b[0m \u001b[1;31m# This fails: can't change tuple itself\u001b[0m\u001b[1;33m\u001b[0m\u001b[1;33m\u001b[0m\u001b[0m\n\u001b[0m",
      "\u001b[1;31mTypeError\u001b[0m: 'tuple' object does not support item assignment"
     ]
    }
   ],
   "source": [
    "T = (1, [2, 3], 4)\n",
    "T[1] = 'spam' # This fails: can't change tuple itself"
   ]
  },
  {
   "cell_type": "code",
   "execution_count": 13,
   "id": "448bb288",
   "metadata": {},
   "outputs": [
    {
     "data": {
      "text/plain": [
       "(1, ['spam', 3], 4)"
      ]
     },
     "execution_count": 13,
     "metadata": {},
     "output_type": "execute_result"
    }
   ],
   "source": [
    "T = (1, [2, 3], 4)\n",
    "T[1][0] = 'spam' # This works: can change mutables inside \n",
    "T"
   ]
  },
  {
   "cell_type": "markdown",
   "id": "b9591bfd",
   "metadata": {},
   "source": [
    "### Why Lists and Tuples?"
   ]
  },
  {
   "cell_type": "markdown",
   "id": "83877d00",
   "metadata": {},
   "source": [
    "- the immutability of tuples provides some integrity—you can be sure a tuple won’t be changed through another reference elsewhere in a program, but there’s no such guarantee for lists. Tuples"
   ]
  },
  {
   "cell_type": "markdown",
   "id": "b8824b51",
   "metadata": {},
   "source": [
    "### Records Revisited: Named Tuples"
   ]
  },
  {
   "cell_type": "markdown",
   "id": "4f85340e",
   "metadata": {},
   "source": [
    "- tuples can serve the purpose of representing record-like information like dictionary"
   ]
  },
  {
   "cell_type": "code",
   "execution_count": 3,
   "id": "f10359dc",
   "metadata": {},
   "outputs": [
    {
     "data": {
      "text/plain": [
       "Rec(name='Bob', age=40.5, jobs=['dev', 'mgr'])"
      ]
     },
     "execution_count": 3,
     "metadata": {},
     "output_type": "execute_result"
    }
   ],
   "source": [
    "# import extension type \n",
    "from collections import namedtuple \n",
    "# make a generated class\n",
    "Rec = namedtuple('Rec', ['name', 'age', 'jobs']) \n",
    "# a named-tuple record\n",
    "bob = Rec('Bob', age=40.5, jobs=['dev', 'mgr']) \n",
    "bob"
   ]
  },
  {
   "cell_type": "code",
   "execution_count": null,
   "id": "41c6c49c",
   "metadata": {},
   "outputs": [],
   "source": [
    "# access by postion \n",
    "bob[0], bob[2][0]"
   ]
  },
  {
   "cell_type": "code",
   "execution_count": 8,
   "id": "46ff66ba",
   "metadata": {},
   "outputs": [
    {
     "data": {
      "text/plain": [
       "('Bob', ['dev', 'mgr'])"
      ]
     },
     "execution_count": 8,
     "metadata": {},
     "output_type": "execute_result"
    }
   ],
   "source": [
    "# access by attribute \n",
    "bob.name, bob.jobs"
   ]
  },
  {
   "cell_type": "markdown",
   "id": "909de904",
   "metadata": {},
   "source": [
    "## Files \n",
    "\n",
    "### Opening Files"
   ]
  },
  {
   "cell_type": "code",
   "execution_count": null,
   "id": "46d7e1a4",
   "metadata": {},
   "outputs": [],
   "source": [
    "\"\"\" \n",
    "afile = open(filename, mode)\n",
    "afile.method() \n",
    "\"\"\""
   ]
  },
  {
   "cell_type": "markdown",
   "id": "84b8094f",
   "metadata": {},
   "source": [
    "### Files in Action"
   ]
  },
  {
   "cell_type": "code",
   "execution_count": 12,
   "id": "9f194545",
   "metadata": {},
   "outputs": [
    {
     "data": {
      "text/plain": [
       "16"
      ]
     },
     "execution_count": 12,
     "metadata": {},
     "output_type": "execute_result"
    }
   ],
   "source": [
    "# open for text output: create/empty\n",
    "myfile = open('myfile.txt', 'w') \n",
    "\n",
    "# write a line of text: string \n",
    "myfile.write('hello text file\\n') "
   ]
  },
  {
   "cell_type": "code",
   "execution_count": 13,
   "id": "c77162f7",
   "metadata": {},
   "outputs": [
    {
     "data": {
      "text/plain": [
       "18"
      ]
     },
     "execution_count": 13,
     "metadata": {},
     "output_type": "execute_result"
    }
   ],
   "source": [
    "myfile.write('goodbye text file\\n')"
   ]
  },
  {
   "cell_type": "code",
   "execution_count": 14,
   "id": "bb29d4fe",
   "metadata": {},
   "outputs": [],
   "source": [
    "# flush output buffers to disk \n",
    "myfile.close()"
   ]
  },
  {
   "cell_type": "code",
   "execution_count": 15,
   "id": "385e82aa",
   "metadata": {},
   "outputs": [
    {
     "data": {
      "text/plain": [
       "'hello text file\\n'"
      ]
     },
     "execution_count": 15,
     "metadata": {},
     "output_type": "execute_result"
    }
   ],
   "source": [
    "# open for text input: 'r' is default\n",
    "myfile = open('myfile.txt') \n",
    "# read the line back\n",
    "myfile.readline()"
   ]
  },
  {
   "cell_type": "code",
   "execution_count": 16,
   "id": "4fb10e6b",
   "metadata": {},
   "outputs": [
    {
     "data": {
      "text/plain": [
       "'goodbye text file\\n'"
      ]
     },
     "execution_count": 16,
     "metadata": {},
     "output_type": "execute_result"
    }
   ],
   "source": [
    "myfile.readline()"
   ]
  },
  {
   "cell_type": "code",
   "execution_count": 17,
   "id": "b16be9a5",
   "metadata": {},
   "outputs": [
    {
     "data": {
      "text/plain": [
       "''"
      ]
     },
     "execution_count": 17,
     "metadata": {},
     "output_type": "execute_result"
    }
   ],
   "source": [
    "# empty string: end of file\n",
    "myfile.readline()"
   ]
  },
  {
   "cell_type": "code",
   "execution_count": 18,
   "id": "057fc47e",
   "metadata": {},
   "outputs": [
    {
     "data": {
      "text/plain": [
       "'hello text file\\ngoodbye text file\\n'"
      ]
     },
     "execution_count": 18,
     "metadata": {},
     "output_type": "execute_result"
    }
   ],
   "source": [
    "# read all at once into string \n",
    "open('myfile.txt').read()"
   ]
  },
  {
   "cell_type": "code",
   "execution_count": 19,
   "id": "d41ae373",
   "metadata": {},
   "outputs": [
    {
     "name": "stdout",
     "output_type": "stream",
     "text": [
      "hello text file\n",
      "goodbye text file\n",
      "\n"
     ]
    }
   ],
   "source": [
    "# user-friendly display\n",
    "print(open('myfile.txt').read())"
   ]
  },
  {
   "cell_type": "markdown",
   "id": "edf60f21",
   "metadata": {},
   "source": [
    "### Storing Python Objects in Files: Conversions "
   ]
  },
  {
   "cell_type": "code",
   "execution_count": 20,
   "id": "bf0f5f89",
   "metadata": {},
   "outputs": [],
   "source": [
    "# Native python objects \n",
    "X, Y, Z = 43, 44, 45 \n",
    "# must be strings to store in a file\n",
    "S = 'spam' \n",
    "D = {'a':1, 'b':2} \n",
    "L = [1, 2, 3] "
   ]
  },
  {
   "cell_type": "code",
   "execution_count": 21,
   "id": "a1548a89",
   "metadata": {},
   "outputs": [],
   "source": [
    "F = open('datafile.txt', 'w') \n",
    "# Terminate lines by \\n \n",
    "F.write(S + '\\n') \n",
    "# convert number to strings \n",
    "F.write('%s,%s,%s\\n' %(X, Y, Z)) \n",
    "# convert and sepoarate with $ \n",
    "F.write(str(L) + '$' + str(D) + '\\n')\n",
    "F.close()"
   ]
  },
  {
   "cell_type": "code",
   "execution_count": 22,
   "id": "0fc4279b",
   "metadata": {},
   "outputs": [
    {
     "data": {
      "text/plain": [
       "\"spam\\n43,44,45\\n[1, 2, 3]${'a': 1, 'b': 2}\\n\""
      ]
     },
     "execution_count": 22,
     "metadata": {},
     "output_type": "execute_result"
    }
   ],
   "source": [
    "# raw string display \n",
    "chars = open('datafile.txt').read()\n",
    "chars"
   ]
  },
  {
   "cell_type": "code",
   "execution_count": 23,
   "id": "c0239917",
   "metadata": {},
   "outputs": [
    {
     "name": "stdout",
     "output_type": "stream",
     "text": [
      "spam\n",
      "43,44,45\n",
      "[1, 2, 3]${'a': 1, 'b': 2}\n",
      "\n"
     ]
    }
   ],
   "source": [
    "# user friendly display\n",
    "print(chars)"
   ]
  },
  {
   "cell_type": "markdown",
   "id": "21575b43",
   "metadata": {},
   "source": [
    "#### Converting back to oringinal object dtype "
   ]
  },
  {
   "cell_type": "code",
   "execution_count": 24,
   "id": "59ca2c51",
   "metadata": {},
   "outputs": [
    {
     "data": {
      "text/plain": [
       "'spam\\n'"
      ]
     },
     "execution_count": 24,
     "metadata": {},
     "output_type": "execute_result"
    }
   ],
   "source": [
    "# open \n",
    "F = open('datafile.txt')\n",
    "# read one line\n",
    "line = F.readline()\n",
    "line"
   ]
  },
  {
   "cell_type": "code",
   "execution_count": 25,
   "id": "dc9430e4",
   "metadata": {},
   "outputs": [
    {
     "data": {
      "text/plain": [
       "'spam'"
      ]
     },
     "execution_count": 25,
     "metadata": {},
     "output_type": "execute_result"
    }
   ],
   "source": [
    "line.rstrip()"
   ]
  },
  {
   "cell_type": "code",
   "execution_count": 26,
   "id": "8aa4e1ab",
   "metadata": {},
   "outputs": [
    {
     "data": {
      "text/plain": [
       "'43,44,45\\n'"
      ]
     },
     "execution_count": 26,
     "metadata": {},
     "output_type": "execute_result"
    }
   ],
   "source": [
    "# next line from file \n",
    "line = F.readline()\n",
    "line"
   ]
  },
  {
   "cell_type": "code",
   "execution_count": 29,
   "id": "b66d814f",
   "metadata": {},
   "outputs": [
    {
     "data": {
      "text/plain": [
       "['43', '44', '45\\n']"
      ]
     },
     "execution_count": 29,
     "metadata": {},
     "output_type": "execute_result"
    }
   ],
   "source": [
    "# split(parse) on commas \n",
    "parts = line.split(',')\n",
    "parts"
   ]
  },
  {
   "cell_type": "code",
   "execution_count": 30,
   "id": "cb6afc63",
   "metadata": {},
   "outputs": [
    {
     "data": {
      "text/plain": [
       "[43, 44, 45]"
      ]
     },
     "execution_count": 30,
     "metadata": {},
     "output_type": "execute_result"
    }
   ],
   "source": [
    "# convert to int \n",
    "numbers = [int(P) for P in parts]\n",
    "numbers"
   ]
  },
  {
   "cell_type": "code",
   "execution_count": 31,
   "id": "9dfc4159",
   "metadata": {},
   "outputs": [
    {
     "data": {
      "text/plain": [
       "\"[1, 2, 3]${'a': 1, 'b': 2}\\n\""
      ]
     },
     "execution_count": 31,
     "metadata": {},
     "output_type": "execute_result"
    }
   ],
   "source": [
    "# next line from file \n",
    "line = F.readline()\n",
    "line"
   ]
  },
  {
   "cell_type": "code",
   "execution_count": 32,
   "id": "82608a8e",
   "metadata": {},
   "outputs": [
    {
     "data": {
      "text/plain": [
       "['[1, 2, 3]', \"{'a': 1, 'b': 2}\\n\"]"
      ]
     },
     "execution_count": 32,
     "metadata": {},
     "output_type": "execute_result"
    }
   ],
   "source": [
    "# split(parse) on commas \n",
    "parts = line.split('$')\n",
    "parts"
   ]
  },
  {
   "cell_type": "code",
   "execution_count": 35,
   "id": "dd82f24f",
   "metadata": {},
   "outputs": [
    {
     "data": {
      "text/plain": [
       "[1, 2, 3]"
      ]
     },
     "execution_count": 35,
     "metadata": {},
     "output_type": "execute_result"
    }
   ],
   "source": [
    "eval(parts[0])"
   ]
  },
  {
   "cell_type": "code",
   "execution_count": 36,
   "id": "ea1b3f7d",
   "metadata": {},
   "outputs": [
    {
     "data": {
      "text/plain": [
       "{'a': 1, 'b': 2}"
      ]
     },
     "execution_count": 36,
     "metadata": {},
     "output_type": "execute_result"
    }
   ],
   "source": [
    "eval(parts[1])"
   ]
  },
  {
   "cell_type": "markdown",
   "id": "d90873e5",
   "metadata": {},
   "source": [
    "### Storing Native Python Objects: pickle"
   ]
  },
  {
   "cell_type": "code",
   "execution_count": 37,
   "id": "f094d112",
   "metadata": {},
   "outputs": [],
   "source": [
    "D = {'a': 1, 'b': 2}\n",
    "F = open('datafile.pkl', 'wb')\n",
    "\n",
    "# pickle any object to file\n",
    "import pickle\n",
    "pickle.dump(D, F)\n",
    "F.close()"
   ]
  },
  {
   "cell_type": "code",
   "execution_count": 38,
   "id": "9638075d",
   "metadata": {},
   "outputs": [
    {
     "data": {
      "text/plain": [
       "{'a': 1, 'b': 2}"
      ]
     },
     "execution_count": 38,
     "metadata": {},
     "output_type": "execute_result"
    }
   ],
   "source": [
    "F = open('datafile.pkl', 'rb')\n",
    "E = pickle.load(F)\n",
    "E"
   ]
  },
  {
   "cell_type": "markdown",
   "id": "e8027ee1",
   "metadata": {},
   "source": [
    "### Storing Python Objects in JSON Format"
   ]
  },
  {
   "cell_type": "code",
   "execution_count": 39,
   "id": "fbb99242",
   "metadata": {},
   "outputs": [
    {
     "data": {
      "text/plain": [
       "{'name': {'first': 'Bob', 'last': 'Smith'}, 'job': ['dev', 'mgr'], 'age': 40.5}"
      ]
     },
     "execution_count": 39,
     "metadata": {},
     "output_type": "execute_result"
    }
   ],
   "source": [
    "name = dict(first='Bob', last='Smith')\n",
    "rec = dict(name=name, job=['dev', 'mgr'], age=40.5)\n",
    "rec"
   ]
  },
  {
   "cell_type": "code",
   "execution_count": 40,
   "id": "9d26cc3c",
   "metadata": {},
   "outputs": [
    {
     "data": {
      "text/plain": [
       "'{\"name\": {\"first\": \"Bob\", \"last\": \"Smith\"}, \"job\": [\"dev\", \"mgr\"], \"age\": 40.5}'"
      ]
     },
     "execution_count": 40,
     "metadata": {},
     "output_type": "execute_result"
    }
   ],
   "source": [
    "import json \n",
    "json.dumps(rec)"
   ]
  },
  {
   "cell_type": "code",
   "execution_count": 41,
   "id": "3042b715",
   "metadata": {},
   "outputs": [
    {
     "data": {
      "text/plain": [
       "'{\"name\": {\"first\": \"Bob\", \"last\": \"Smith\"}, \"job\": [\"dev\", \"mgr\"], \"age\": 40.5}'"
      ]
     },
     "execution_count": 41,
     "metadata": {},
     "output_type": "execute_result"
    }
   ],
   "source": [
    "S = json.dumps(rec)\n",
    "S"
   ]
  },
  {
   "cell_type": "code",
   "execution_count": 45,
   "id": "816c094c",
   "metadata": {},
   "outputs": [
    {
     "data": {
      "text/plain": [
       "{'name': {'first': 'Bob', 'last': 'Smith'}, 'job': ['dev', 'mgr'], 'age': 40.5}"
      ]
     },
     "execution_count": 45,
     "metadata": {},
     "output_type": "execute_result"
    }
   ],
   "source": [
    "O = json.loads(S)\n",
    "O"
   ]
  },
  {
   "cell_type": "code",
   "execution_count": 46,
   "id": "e2d70a1f",
   "metadata": {},
   "outputs": [
    {
     "data": {
      "text/plain": [
       "True"
      ]
     },
     "execution_count": 46,
     "metadata": {},
     "output_type": "execute_result"
    }
   ],
   "source": [
    "O == rec"
   ]
  },
  {
   "cell_type": "code",
   "execution_count": 47,
   "id": "431673fa",
   "metadata": {},
   "outputs": [
    {
     "name": "stdout",
     "output_type": "stream",
     "text": [
      "{\n",
      "    \"name\": {\n",
      "        \"first\": \"Bob\",\n",
      "        \"last\": \"Smith\"\n",
      "    },\n",
      "    \"job\": [\n",
      "        \"dev\",\n",
      "        \"mgr\"\n",
      "    ],\n",
      "    \"age\": 40.5\n",
      "}\n"
     ]
    }
   ],
   "source": [
    "json.dump(rec, fp=open('testjson.txt', 'w'), indent=4)\n",
    "print(open('testjson.txt').read())"
   ]
  },
  {
   "cell_type": "markdown",
   "id": "46fc15a1",
   "metadata": {},
   "source": [
    "## Core Types Review and Summary"
   ]
  },
  {
   "cell_type": "markdown",
   "id": "7b822a24",
   "metadata": {},
   "source": [
    "### Object Flexibility"
   ]
  },
  {
   "cell_type": "markdown",
   "id": "8aa39289",
   "metadata": {},
   "source": [
    "- Lists, dictionaries, and tuples can hold any kind of object.\n",
    "- Sets can contain any type of immutable object.\n",
    "- Lists, dictionaries, and tuples can be arbitrarily nested.\n",
    "- Lists, dictionaries, and sets can dynamically grow and shrink."
   ]
  },
  {
   "cell_type": "code",
   "execution_count": 48,
   "id": "87bb8362",
   "metadata": {},
   "outputs": [
    {
     "data": {
      "text/plain": [
       "[(1, 2), ([3], 4)]"
      ]
     },
     "execution_count": 48,
     "metadata": {},
     "output_type": "execute_result"
    }
   ],
   "source": [
    "L = ['abc', [(1, 2), ([3], 4)], 5]\n",
    "L[1]"
   ]
  },
  {
   "cell_type": "code",
   "execution_count": 49,
   "id": "60674b45",
   "metadata": {},
   "outputs": [
    {
     "data": {
      "text/plain": [
       "([3], 4)"
      ]
     },
     "execution_count": 49,
     "metadata": {},
     "output_type": "execute_result"
    }
   ],
   "source": [
    "L[1][1]"
   ]
  },
  {
   "cell_type": "code",
   "execution_count": 51,
   "id": "3e7f297e",
   "metadata": {},
   "outputs": [
    {
     "data": {
      "text/plain": [
       "[3]"
      ]
     },
     "execution_count": 51,
     "metadata": {},
     "output_type": "execute_result"
    }
   ],
   "source": [
    "L[1][1][0]"
   ]
  },
  {
   "cell_type": "code",
   "execution_count": 52,
   "id": "07c14050",
   "metadata": {},
   "outputs": [
    {
     "data": {
      "text/plain": [
       "3"
      ]
     },
     "execution_count": 52,
     "metadata": {},
     "output_type": "execute_result"
    }
   ],
   "source": [
    "L[1][1][0][0]"
   ]
  },
  {
   "cell_type": "code",
   "execution_count": 53,
   "id": "53df5458",
   "metadata": {},
   "outputs": [],
   "source": [
    "X = [1, 2, 3] \n",
    "\n",
    "# Embed references to X's object\n",
    "L = ['a', X, 'b'] \n",
    "D = {'x':X, 'y':2}"
   ]
  },
  {
   "cell_type": "code",
   "execution_count": 54,
   "id": "fd295f6b",
   "metadata": {},
   "outputs": [
    {
     "data": {
      "text/plain": [
       "['a', [1, 'surprise', 3], 'b']"
      ]
     },
     "execution_count": 54,
     "metadata": {},
     "output_type": "execute_result"
    }
   ],
   "source": [
    "X[1] = 'surprise' \n",
    "# Changes all three references!\n",
    "L"
   ]
  },
  {
   "cell_type": "code",
   "execution_count": 55,
   "id": "dc6a3b9a",
   "metadata": {},
   "outputs": [
    {
     "data": {
      "text/plain": [
       "{'x': [1, 'surprise', 3], 'y': 2}"
      ]
     },
     "execution_count": 55,
     "metadata": {},
     "output_type": "execute_result"
    }
   ],
   "source": [
    "D"
   ]
  },
  {
   "cell_type": "code",
   "execution_count": 56,
   "id": "8a13aae4",
   "metadata": {},
   "outputs": [],
   "source": [
    "L = [1,2,3]\n",
    "D = {'a':1, 'b':2}"
   ]
  },
  {
   "cell_type": "code",
   "execution_count": 57,
   "id": "21a6acc7",
   "metadata": {},
   "outputs": [],
   "source": [
    "A = L[:] # Instead of A = L (or list(L))\n",
    "B = D.copy() # Instead of B = D (ditto for sets)"
   ]
  },
  {
   "cell_type": "code",
   "execution_count": 58,
   "id": "8f1e5ed0",
   "metadata": {},
   "outputs": [],
   "source": [
    "A[1] = 'Ni'\n",
    "B['c'] = 'spam'"
   ]
  },
  {
   "cell_type": "code",
   "execution_count": 59,
   "id": "1e60de46",
   "metadata": {},
   "outputs": [
    {
     "data": {
      "text/plain": [
       "([1, 2, 3], {'a': 1, 'b': 2})"
      ]
     },
     "execution_count": 59,
     "metadata": {},
     "output_type": "execute_result"
    }
   ],
   "source": [
    "L, D"
   ]
  },
  {
   "cell_type": "code",
   "execution_count": 60,
   "id": "d82faf92",
   "metadata": {},
   "outputs": [
    {
     "data": {
      "text/plain": [
       "([1, 'Ni', 3], {'a': 1, 'b': 2, 'c': 'spam'})"
      ]
     },
     "execution_count": 60,
     "metadata": {},
     "output_type": "execute_result"
    }
   ],
   "source": [
    "A, B"
   ]
  },
  {
   "cell_type": "markdown",
   "id": "a5f755f8",
   "metadata": {},
   "source": [
    "### Comparisons, Equality, and Truth"
   ]
  },
  {
   "cell_type": "code",
   "execution_count": 61,
   "id": "afa41607",
   "metadata": {},
   "outputs": [],
   "source": [
    "L1 = [1, ('a', 3)] # Same value, unique objects\n",
    "L2 = [1, ('a', 3)]"
   ]
  },
  {
   "cell_type": "code",
   "execution_count": 62,
   "id": "3e16c7b1",
   "metadata": {},
   "outputs": [
    {
     "data": {
      "text/plain": [
       "(True, False)"
      ]
     },
     "execution_count": 62,
     "metadata": {},
     "output_type": "execute_result"
    }
   ],
   "source": [
    "# Equivalent? Same object? \n",
    "L1 == L2, L1 is L2"
   ]
  },
  {
   "cell_type": "markdown",
   "id": "abd9b3cc",
   "metadata": {},
   "source": [
    "- The == operator tests value equivalence. Python performs an equivalence test, comparing all nested objects recursively. \n",
    "\n",
    "- The is operator tests object identity. Python tests whether the two are really the same object (i.e., live at the same address in memory). \n",
    "\n",
    "- In the preceding example, L1 and L2 pass the == test (they have equivalent values because all their components are equivalent) but fail the is check (they reference two different objects, and hence two different pieces of memory). \n",
    "\n",
    "- As a rule of thumb, the == operator is what you will want to use for almost all equality checks; is is reserved for highly specialized roles."
   ]
  },
  {
   "cell_type": "code",
   "execution_count": 63,
   "id": "b0dfa614",
   "metadata": {},
   "outputs": [
    {
     "data": {
      "text/plain": [
       "(False, False, True)"
      ]
     },
     "execution_count": 63,
     "metadata": {},
     "output_type": "execute_result"
    }
   ],
   "source": [
    "L1 = [1, ('a', 3)]\n",
    "L2 = [1, ('a', 2)]\n",
    "L1 < L2, L1 == L2, L1 > L2"
   ]
  },
  {
   "cell_type": "markdown",
   "id": "90383c8c",
   "metadata": {},
   "source": [
    "### The Meaning of True and False in Python"
   ]
  },
  {
   "cell_type": "markdown",
   "id": "924ef636",
   "metadata": {},
   "source": [
    "- an integer 0 represents False \n",
    "- an integer 1 represents True \n",
    "- any empty data structure as False \n",
    "- any nonempty data structure as True \n",
    "- Numbers are False if zero, and True otherwise.\n",
    "- Other objects are False if empty, and True otherwise \n",
    "- None is considered to be False"
   ]
  },
  {
   "cell_type": "markdown",
   "id": "01503438",
   "metadata": {},
   "source": [
    "### Beware of Cyclic Data Structures"
   ]
  },
  {
   "cell_type": "code",
   "execution_count": 65,
   "id": "6fdadaa1",
   "metadata": {},
   "outputs": [
    {
     "data": {
      "text/plain": [
       "['grail', [...]]"
      ]
     },
     "execution_count": 65,
     "metadata": {},
     "output_type": "execute_result"
    }
   ],
   "source": [
    "L = ['grail'] \n",
    "L.append(L) \n",
    "L"
   ]
  },
  {
   "cell_type": "code",
   "execution_count": null,
   "id": "edb0bca0",
   "metadata": {},
   "outputs": [],
   "source": []
  }
 ],
 "metadata": {
  "kernelspec": {
   "display_name": "Python 3",
   "language": "python",
   "name": "python3"
  },
  "language_info": {
   "codemirror_mode": {
    "name": "ipython",
    "version": 3
   },
   "file_extension": ".py",
   "mimetype": "text/x-python",
   "name": "python",
   "nbconvert_exporter": "python",
   "pygments_lexer": "ipython3",
   "version": "3.8.8"
  }
 },
 "nbformat": 4,
 "nbformat_minor": 5
}
