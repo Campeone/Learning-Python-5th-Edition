{
 "cells": [
  {
   "cell_type": "code",
   "execution_count": 9,
   "id": "08cff27b",
   "metadata": {},
   "outputs": [
    {
     "name": "stdout",
     "output_type": "stream",
     "text": [
      "chpcplate\n"
     ]
    }
   ],
   "source": [
    "s = 'chocolate'\n",
    "print(s.replace('o', 'p'))"
   ]
  },
  {
   "cell_type": "markdown",
   "id": "cc34a13b",
   "metadata": {},
   "source": [
    "### Argument-Passing Basics \n",
    "- Arguments are passed by automatically assigning objects to local variable\n",
    "names. \n",
    "- Assigning to argument names inside a function does not affect the caller. \n",
    "- Changing a mutable object argument in a function may impact the caller. \n",
    "- Immutable arguments are effectively passed “by value.” \n",
    "- Mutable arguments are effectively passed “by pointer.”"
   ]
  },
  {
   "cell_type": "markdown",
   "id": "1d25d3e4",
   "metadata": {},
   "source": [
    "### Arguments and Shared References"
   ]
  },
  {
   "cell_type": "code",
   "execution_count": 10,
   "id": "bebaba32",
   "metadata": {},
   "outputs": [
    {
     "name": "stdout",
     "output_type": "stream",
     "text": [
      "88\n"
     ]
    }
   ],
   "source": [
    "def f(a): # a is assigned to (references) the passed object\n",
    "    a = 99 # Changes local variable a only\n",
    "b = 88\n",
    "f(b) # a and b both reference same 88 initially\n",
    "print(b) # b is not changed"
   ]
  },
  {
   "cell_type": "code",
   "execution_count": 11,
   "id": "b8e8e1a5",
   "metadata": {},
   "outputs": [
    {
     "data": {
      "text/plain": [
       "(1, ['spam', 2])"
      ]
     },
     "execution_count": 11,
     "metadata": {},
     "output_type": "execute_result"
    }
   ],
   "source": [
    "def changer(a, b): # Arguments assigned references to objects\n",
    "    a = 2 # Changes local name's value only\n",
    "    b[0] = 'spam' # Changes shared object in place\n",
    "X = 1\n",
    "L = [1, 2] # Caller:\n",
    "changer(X, L) # Pass immutable and mutable objects\n",
    "X, L # X is unchanged, L is different!"
   ]
  },
  {
   "cell_type": "code",
   "execution_count": 12,
   "id": "177fff5c",
   "metadata": {},
   "outputs": [
    {
     "name": "stdout",
     "output_type": "stream",
     "text": [
      "1\n"
     ]
    }
   ],
   "source": [
    "X = 1\n",
    "a = X # They share the same object\n",
    "a = 2 # Resets 'a' only, 'X' is still 1\n",
    "print(X)"
   ]
  },
  {
   "cell_type": "markdown",
   "id": "02f7897b",
   "metadata": {},
   "source": [
    "### Avoiding Mutable Argument Changes \n",
    "- If we don’t want in-place changes within functions to impact objects we pass to them,\n",
    "though, we can simply make explicit copies of mutable objects "
   ]
  },
  {
   "cell_type": "code",
   "execution_count": 13,
   "id": "536b564d",
   "metadata": {},
   "outputs": [],
   "source": [
    "L = [1, 2]\n",
    "changer(X, L[:]) # Pass a copy, so our 'L' does not change"
   ]
  },
  {
   "cell_type": "code",
   "execution_count": 14,
   "id": "ff866e06",
   "metadata": {},
   "outputs": [],
   "source": [
    "def changer(a, b):\n",
    "    b = b[:] # Copy input list so we don't impact caller\n",
    "    a = 2\n",
    "    b[0] = 'spam' # Changes our list copy only"
   ]
  },
  {
   "cell_type": "markdown",
   "id": "bddf7796",
   "metadata": {},
   "source": [
    "### Simulating Output Parameters and Multiple Results"
   ]
  },
  {
   "cell_type": "code",
   "execution_count": 15,
   "id": "083a4f35",
   "metadata": {},
   "outputs": [],
   "source": [
    "def multiple(x, y):\n",
    "    x = 2 # Changes local names only\n",
    "    y = [3, 4]\n",
    "    return x, y # Return multiple new values in a tuple\n",
    "X = 1\n",
    "L = [1, 2]\n",
    "X, L = multiple(X, L) # Assign results to caller's names"
   ]
  },
  {
   "cell_type": "code",
   "execution_count": 17,
   "id": "85cf93b3",
   "metadata": {},
   "outputs": [
    {
     "data": {
      "text/plain": [
       "(2, [3, 4])"
      ]
     },
     "execution_count": 17,
     "metadata": {},
     "output_type": "execute_result"
    }
   ],
   "source": [
    "X, L"
   ]
  },
  {
   "cell_type": "markdown",
   "id": "9a001990",
   "metadata": {},
   "source": [
    "### Argument Matching Basics \n",
    "- Positionals: matched from left to right \n",
    "- Keywords: matched by argument name \n",
    "- Defaults: specify values for optional arguments that aren’t \n",
    "- Varargs collecting: collect arbitrarily many positional or keyword arguments \n",
    "- Varargs unpacking: pass arbitrarily many positional or keyword arguments \n",
    "- Keyword-only arguments: arguments that must be passed by name"
   ]
  },
  {
   "cell_type": "markdown",
   "id": "b91d6856",
   "metadata": {},
   "source": [
    "### The Gritty Details"
   ]
  },
  {
   "cell_type": "markdown",
   "id": "15af7d35",
   "metadata": {},
   "source": [
    "1. Assign nonkeyword arguments by position.\n",
    "2. Assign keyword arguments by matching names.\n",
    "3. Assign extra nonkeyword arguments to *name tuple.\n",
    "4. Assign extra keyword arguments to **name dictionary.\n",
    "5. Assign default values to unassigned arguments in header."
   ]
  },
  {
   "cell_type": "markdown",
   "id": "d0c00c3b",
   "metadata": {},
   "source": [
    "### Keyword and Default Examples \n",
    "- Python matches names by position from left to right, like most other languages. For instance, if you define a function that requires three arguments, you must call it with three arguments: "
   ]
  },
  {
   "cell_type": "code",
   "execution_count": 1,
   "id": "e0ba2ded",
   "metadata": {},
   "outputs": [
    {
     "name": "stdout",
     "output_type": "stream",
     "text": [
      "1 2 3\n"
     ]
    }
   ],
   "source": [
    "def f(a, b, c): \n",
    "    print(a, b, c)\n",
    "f(1, 2, 3)"
   ]
  },
  {
   "cell_type": "code",
   "execution_count": 2,
   "id": "9a2746a8",
   "metadata": {},
   "outputs": [
    {
     "name": "stdout",
     "output_type": "stream",
     "text": [
      "1 2 3\n"
     ]
    }
   ],
   "source": [
    "# keywords \n",
    "f(c=3, b=2, a=1)"
   ]
  },
  {
   "cell_type": "markdown",
   "id": "7e7b8908",
   "metadata": {},
   "source": [
    "### Benefits of keywords \n",
    "- First, they make your calls a bit more self in conjunction with defaultsdocumenting (assuming that you use better argument names than a, b, and c!).\n",
    "- in conjunction with defaults"
   ]
  },
  {
   "cell_type": "markdown",
   "id": "ac21cb7a",
   "metadata": {},
   "source": [
    "#### Defaults "
   ]
  },
  {
   "cell_type": "code",
   "execution_count": 3,
   "id": "d086a796",
   "metadata": {},
   "outputs": [
    {
     "name": "stdout",
     "output_type": "stream",
     "text": [
      "1 2 3\n"
     ]
    }
   ],
   "source": [
    "def f(a, b=2, c=3): \n",
    "    print(a, b, c) # a required, b and c optional \n",
    "f(1)"
   ]
  },
  {
   "cell_type": "code",
   "execution_count": 4,
   "id": "52519a5c",
   "metadata": {},
   "outputs": [
    {
     "name": "stdout",
     "output_type": "stream",
     "text": [
      "1 4 3\n"
     ]
    }
   ],
   "source": [
    "f(1, 4) # override defaults "
   ]
  },
  {
   "cell_type": "code",
   "execution_count": 5,
   "id": "a88d8fa8",
   "metadata": {},
   "outputs": [
    {
     "name": "stdout",
     "output_type": "stream",
     "text": [
      "1 4 5\n"
     ]
    }
   ],
   "source": [
    "f(1, 4, 5)"
   ]
  },
  {
   "cell_type": "code",
   "execution_count": 6,
   "id": "df25d8b1",
   "metadata": {},
   "outputs": [
    {
     "name": "stdout",
     "output_type": "stream",
     "text": [
      "1 2 6\n"
     ]
    }
   ],
   "source": [
    "f(1, c=6) # choose defaults"
   ]
  },
  {
   "cell_type": "markdown",
   "id": "ccf8a83c",
   "metadata": {},
   "source": [
    "#### combining keywords and defaults"
   ]
  },
  {
   "cell_type": "code",
   "execution_count": 8,
   "id": "6a50fea0",
   "metadata": {},
   "outputs": [
    {
     "name": "stdout",
     "output_type": "stream",
     "text": [
      "(1, 2, 0, 0)\n",
      "(1, 0, 0, 1)\n",
      "(1, 0, 0, 0)\n",
      "(3, 2, 1, 0)\n",
      "(1, 2, 3, 4)\n"
     ]
    }
   ],
   "source": [
    "def func(spam, eggs, toast=0, ham=0): # First 2 required\n",
    "    print((spam, eggs, toast, ham)) \n",
    "    \n",
    "func(1, 2)                    # Output: (1, 2, 0, 0)\n",
    "func(1, ham=1, eggs=0)        # Output: (1, 0, 0, 1)\n",
    "func(spam=1, eggs=0)          # Output: (1, 0, 0, 0)\n",
    "func(toast=1, eggs=2, spam=3) # Output: (3, 2, 1, 0)\n",
    "func(1, 2, 3, 4)              # Output: (1, 2, 3, 4)"
   ]
  },
  {
   "cell_type": "markdown",
   "id": "aee74644",
   "metadata": {},
   "source": [
    "### Arbitrary Arguments Examples \n",
    "- The last two matching extensions, * and **, are designed to support functions that take any number of arguments."
   ]
  },
  {
   "cell_type": "markdown",
   "id": "8cc5f0c5",
   "metadata": {},
   "source": [
    "# Headers: Collecting arguments\n",
    "- collects unmatched positional arguments into a tuple"
   ]
  },
  {
   "cell_type": "code",
   "execution_count": 11,
   "id": "5592813b",
   "metadata": {},
   "outputs": [
    {
     "name": "stdout",
     "output_type": "stream",
     "text": [
      "()\n"
     ]
    }
   ],
   "source": [
    "def f(*args): \n",
    "    print(args) \n",
    "f()"
   ]
  },
  {
   "cell_type": "code",
   "execution_count": 12,
   "id": "7020d97a",
   "metadata": {},
   "outputs": [
    {
     "name": "stdout",
     "output_type": "stream",
     "text": [
      "(1, 5, 7, 8)\n"
     ]
    }
   ],
   "source": [
    "f(1, 5, 7, 8)"
   ]
  },
  {
   "cell_type": "markdown",
   "id": "4a51253a",
   "metadata": {},
   "source": [
    "- The ** feature is similar, but it only works for keyword arguments—it collects them into a new dictionary, which can then be processed with normal dictionary tools."
   ]
  },
  {
   "cell_type": "code",
   "execution_count": 14,
   "id": "585bf7a7",
   "metadata": {},
   "outputs": [
    {
     "name": "stdout",
     "output_type": "stream",
     "text": [
      "{}\n"
     ]
    }
   ],
   "source": [
    "def f(**args): \n",
    "    print(args)\n",
    "f()"
   ]
  },
  {
   "cell_type": "code",
   "execution_count": 15,
   "id": "a63b8b1e",
   "metadata": {},
   "outputs": [
    {
     "name": "stdout",
     "output_type": "stream",
     "text": [
      "{'a': 1, 'b': 3}\n"
     ]
    }
   ],
   "source": [
    "f(a=1, b=3)"
   ]
  },
  {
   "cell_type": "code",
   "execution_count": 16,
   "id": "de29bd03",
   "metadata": {},
   "outputs": [
    {
     "name": "stdout",
     "output_type": "stream",
     "text": [
      "1 (2, 3) {'x': 1, 'y': 2}\n"
     ]
    }
   ],
   "source": [
    "def f(a, *pargs, **kargs): \n",
    "    print(a, pargs, kargs)\n",
    "f(1, 2, 3, x=1, y=2)"
   ]
  },
  {
   "cell_type": "markdown",
   "id": "b0013954",
   "metadata": {},
   "source": [
    "#### Calls: Unpacking arguments \n",
    "- we can use the * syntax when we call a function, it unpacks a collection of arguments, rather than building a collection of arguments. For example, we can pass four arguments to a function in a tuple and let Python unpack them into individual arguments:"
   ]
  },
  {
   "cell_type": "code",
   "execution_count": 18,
   "id": "a2f6ee13",
   "metadata": {},
   "outputs": [
    {
     "name": "stdout",
     "output_type": "stream",
     "text": [
      "1 2 3 4\n"
     ]
    }
   ],
   "source": [
    "def func(a, b, c, d): \n",
    "    print(a, b, c, d)\n",
    "    \n",
    "args = (1, 2)\n",
    "args += (3, 4)\n",
    "func(*args)"
   ]
  },
  {
   "cell_type": "markdown",
   "id": "becf84b5",
   "metadata": {},
   "source": [
    "- Similarly, the ** syntax in a function call unpacks a dictionary of key/value pairs into separate keyword arguments:"
   ]
  },
  {
   "cell_type": "code",
   "execution_count": 19,
   "id": "c82157c4",
   "metadata": {},
   "outputs": [],
   "source": [
    "args = {'a': 1, 'b': 2, 'c': 3}\n",
    "args['d'] = 4"
   ]
  },
  {
   "cell_type": "code",
   "execution_count": 20,
   "id": "0a8a4d7b",
   "metadata": {},
   "outputs": [
    {
     "name": "stdout",
     "output_type": "stream",
     "text": [
      "1 2 3 4\n"
     ]
    }
   ],
   "source": [
    "func(**args)"
   ]
  },
  {
   "cell_type": "code",
   "execution_count": 22,
   "id": "720174c8",
   "metadata": {},
   "outputs": [
    {
     "name": "stdout",
     "output_type": "stream",
     "text": [
      "1 2 3 4\n",
      "1 2 3 4\n",
      "1 2 3 4\n",
      "1 2 3 4\n",
      "1 2 3 4\n"
     ]
    }
   ],
   "source": [
    "func(*(1, 2), **{'d': 4, 'c': 3}) # Same as func(1, 2, d=4, c=3)\n",
    "\n",
    "func(1, *(2, 3), **{'d': 4}) # Same as func(1, 2, 3, d=4)\n",
    "\n",
    "func(1, c=3, *(2,), **{'d': 4}) # Same as func(1, 2, c=3, d=4)\n",
    "\n",
    "func(1, *(2, 3), d=4) # Same as func(1, 2, 3, d=4)\n",
    "\n",
    "func(1, *(2,), c=3, **{'d':4}) # Same as func(1, 2, c=3, d=4)"
   ]
  },
  {
   "cell_type": "markdown",
   "id": "b0d99226",
   "metadata": {},
   "source": [
    "### Python 3.X Keyword-Only Arguments \n",
    "\n",
    "- Syntactically, keyword-only arguments are coded as named arguments that may appear after *args in the arguments list. All such arguments must be passed using keyword syntax in the call."
   ]
  },
  {
   "cell_type": "code",
   "execution_count": 23,
   "id": "5ab7f7ac",
   "metadata": {},
   "outputs": [
    {
     "name": "stdout",
     "output_type": "stream",
     "text": [
      "1 (2,) 3\n"
     ]
    }
   ],
   "source": [
    "def kwonly(a, *b, c): \n",
    "    print(a, b, c)\n",
    "    \n",
    "kwonly(1, 2, c=3)"
   ]
  },
  {
   "cell_type": "code",
   "execution_count": 24,
   "id": "90103a75",
   "metadata": {},
   "outputs": [
    {
     "name": "stdout",
     "output_type": "stream",
     "text": [
      "1 () 3\n"
     ]
    }
   ],
   "source": [
    "kwonly(1, c=3)"
   ]
  },
  {
   "cell_type": "code",
   "execution_count": 25,
   "id": "566332f7",
   "metadata": {},
   "outputs": [
    {
     "ename": "TypeError",
     "evalue": "kwonly() missing 1 required keyword-only argument: 'c'",
     "output_type": "error",
     "traceback": [
      "\u001b[1;31m---------------------------------------------------------------------------\u001b[0m",
      "\u001b[1;31mTypeError\u001b[0m                                 Traceback (most recent call last)",
      "\u001b[1;32m<ipython-input-25-62465c70825a>\u001b[0m in \u001b[0;36m<module>\u001b[1;34m\u001b[0m\n\u001b[1;32m----> 1\u001b[1;33m \u001b[0mkwonly\u001b[0m\u001b[1;33m(\u001b[0m\u001b[1;36m1\u001b[0m\u001b[1;33m,\u001b[0m \u001b[1;36m2\u001b[0m\u001b[1;33m,\u001b[0m \u001b[1;36m3\u001b[0m\u001b[1;33m)\u001b[0m\u001b[1;33m\u001b[0m\u001b[1;33m\u001b[0m\u001b[0m\n\u001b[0m",
      "\u001b[1;31mTypeError\u001b[0m: kwonly() missing 1 required keyword-only argument: 'c'"
     ]
    }
   ],
   "source": [
    "kwonly(1, 2, 3)"
   ]
  },
  {
   "cell_type": "markdown",
   "id": "4a99989d",
   "metadata": {},
   "source": [
    "- We can also use a * character by itself in the arguments list to indicate that a function does not accept a variable-length argument list but still expects all arguments following the * to be passed as keywords."
   ]
  },
  {
   "cell_type": "code",
   "execution_count": 26,
   "id": "51b9e177",
   "metadata": {},
   "outputs": [
    {
     "name": "stdout",
     "output_type": "stream",
     "text": [
      "1 2 3\n"
     ]
    }
   ],
   "source": [
    "def kwonly(a, *, b, c):\n",
    "    print(a, b, c)\n",
    "    \n",
    "kwonly(1, c=3, b=2)"
   ]
  },
  {
   "cell_type": "code",
   "execution_count": 27,
   "id": "c8364562",
   "metadata": {},
   "outputs": [
    {
     "name": "stdout",
     "output_type": "stream",
     "text": [
      "1 2 3\n"
     ]
    }
   ],
   "source": [
    "kwonly(c=3, a=1, b=2)"
   ]
  },
  {
   "cell_type": "code",
   "execution_count": 28,
   "id": "8710ff49",
   "metadata": {},
   "outputs": [
    {
     "ename": "TypeError",
     "evalue": "kwonly() takes 1 positional argument but 3 were given",
     "output_type": "error",
     "traceback": [
      "\u001b[1;31m---------------------------------------------------------------------------\u001b[0m",
      "\u001b[1;31mTypeError\u001b[0m                                 Traceback (most recent call last)",
      "\u001b[1;32m<ipython-input-28-62465c70825a>\u001b[0m in \u001b[0;36m<module>\u001b[1;34m\u001b[0m\n\u001b[1;32m----> 1\u001b[1;33m \u001b[0mkwonly\u001b[0m\u001b[1;33m(\u001b[0m\u001b[1;36m1\u001b[0m\u001b[1;33m,\u001b[0m \u001b[1;36m2\u001b[0m\u001b[1;33m,\u001b[0m \u001b[1;36m3\u001b[0m\u001b[1;33m)\u001b[0m\u001b[1;33m\u001b[0m\u001b[1;33m\u001b[0m\u001b[0m\n\u001b[0m",
      "\u001b[1;31mTypeError\u001b[0m: kwonly() takes 1 positional argument but 3 were given"
     ]
    }
   ],
   "source": [
    "kwonly(1, 2, 3)"
   ]
  },
  {
   "cell_type": "code",
   "execution_count": 29,
   "id": "88ec6dc3",
   "metadata": {},
   "outputs": [
    {
     "ename": "TypeError",
     "evalue": "kwonly() missing 2 required keyword-only arguments: 'b' and 'c'",
     "output_type": "error",
     "traceback": [
      "\u001b[1;31m---------------------------------------------------------------------------\u001b[0m",
      "\u001b[1;31mTypeError\u001b[0m                                 Traceback (most recent call last)",
      "\u001b[1;32m<ipython-input-29-bab768676c3f>\u001b[0m in \u001b[0;36m<module>\u001b[1;34m\u001b[0m\n\u001b[1;32m----> 1\u001b[1;33m \u001b[0mkwonly\u001b[0m\u001b[1;33m(\u001b[0m\u001b[1;36m1\u001b[0m\u001b[1;33m)\u001b[0m\u001b[1;33m\u001b[0m\u001b[1;33m\u001b[0m\u001b[0m\n\u001b[0m",
      "\u001b[1;31mTypeError\u001b[0m: kwonly() missing 2 required keyword-only arguments: 'b' and 'c'"
     ]
    }
   ],
   "source": [
    "kwonly(1)"
   ]
  },
  {
   "cell_type": "markdown",
   "id": "6362f7ab",
   "metadata": {},
   "source": [
    "- You can still use defaults for keyword-only arguments, even though they appear after the * in the function header."
   ]
  },
  {
   "cell_type": "code",
   "execution_count": 30,
   "id": "55a92ba0",
   "metadata": {},
   "outputs": [],
   "source": [
    "def kwonly(a, *, b='spam', c='ham'): \n",
    "    print(a, b, c)"
   ]
  },
  {
   "cell_type": "code",
   "execution_count": 31,
   "id": "38aadfc9",
   "metadata": {},
   "outputs": [
    {
     "name": "stdout",
     "output_type": "stream",
     "text": [
      "1 spam ham\n"
     ]
    }
   ],
   "source": [
    "kwonly(1)"
   ]
  },
  {
   "cell_type": "code",
   "execution_count": 32,
   "id": "e4786ac8",
   "metadata": {},
   "outputs": [
    {
     "name": "stdout",
     "output_type": "stream",
     "text": [
      "1 spam 3\n"
     ]
    }
   ],
   "source": [
    "kwonly(1, c=3)"
   ]
  },
  {
   "cell_type": "code",
   "execution_count": 33,
   "id": "aa6d5c94",
   "metadata": {},
   "outputs": [
    {
     "name": "stdout",
     "output_type": "stream",
     "text": [
      "1 spam ham\n"
     ]
    }
   ],
   "source": [
    "kwonly(a=1)"
   ]
  },
  {
   "cell_type": "code",
   "execution_count": 34,
   "id": "e04eb4c7",
   "metadata": {},
   "outputs": [
    {
     "name": "stdout",
     "output_type": "stream",
     "text": [
      "1 2 3\n"
     ]
    }
   ],
   "source": [
    "kwonly(c=3, b=2, a=1)"
   ]
  },
  {
   "cell_type": "code",
   "execution_count": 41,
   "id": "abf9e6e3",
   "metadata": {},
   "outputs": [
    {
     "ename": "TypeError",
     "evalue": "kwonly() takes 1 positional argument but 2 were given",
     "output_type": "error",
     "traceback": [
      "\u001b[1;31m---------------------------------------------------------------------------\u001b[0m",
      "\u001b[1;31mTypeError\u001b[0m                                 Traceback (most recent call last)",
      "\u001b[1;32m<ipython-input-41-6d43a417bc7d>\u001b[0m in \u001b[0;36m<module>\u001b[1;34m\u001b[0m\n\u001b[1;32m----> 1\u001b[1;33m \u001b[0mkwonly\u001b[0m\u001b[1;33m(\u001b[0m\u001b[1;36m1\u001b[0m\u001b[1;33m,\u001b[0m \u001b[1;36m3\u001b[0m\u001b[1;33m)\u001b[0m\u001b[1;33m\u001b[0m\u001b[1;33m\u001b[0m\u001b[0m\n\u001b[0m",
      "\u001b[1;31mTypeError\u001b[0m: kwonly() takes 1 positional argument but 2 were given"
     ]
    }
   ],
   "source": [
    "kwonly(1, 3)"
   ]
  },
  {
   "cell_type": "markdown",
   "id": "7194fa1f",
   "metadata": {},
   "source": [
    "### Ordering rules\n",
    "- Finally, note that keyword-only arguments must be specified after a single star, not two—named arguments cannot appear after the **args arbitrary keywords form, and a ** can’t appear by itself in the arguments list. Both attempts generate a syntax error:"
   ]
  },
  {
   "cell_type": "code",
   "execution_count": 45,
   "id": "f91d5b4d",
   "metadata": {},
   "outputs": [
    {
     "ename": "SyntaxError",
     "evalue": "invalid syntax (<ipython-input-45-7ef29c0267c8>, line 1)",
     "output_type": "error",
     "traceback": [
      "\u001b[1;36m  File \u001b[1;32m\"<ipython-input-45-7ef29c0267c8>\"\u001b[1;36m, line \u001b[1;32m1\u001b[0m\n\u001b[1;33m    def kwonly(a, **pargs, b, c):\u001b[0m\n\u001b[1;37m                           ^\u001b[0m\n\u001b[1;31mSyntaxError\u001b[0m\u001b[1;31m:\u001b[0m invalid syntax\n"
     ]
    }
   ],
   "source": [
    "def kwonly(a, **pargs, b, c):"
   ]
  },
  {
   "cell_type": "code",
   "execution_count": 46,
   "id": "b84cc12e",
   "metadata": {},
   "outputs": [
    {
     "ename": "SyntaxError",
     "evalue": "invalid syntax (<ipython-input-46-4db649a1e0dc>, line 1)",
     "output_type": "error",
     "traceback": [
      "\u001b[1;36m  File \u001b[1;32m\"<ipython-input-46-4db649a1e0dc>\"\u001b[1;36m, line \u001b[1;32m1\u001b[0m\n\u001b[1;33m    def kwonly(a, **, b, c):\u001b[0m\n\u001b[1;37m                    ^\u001b[0m\n\u001b[1;31mSyntaxError\u001b[0m\u001b[1;31m:\u001b[0m invalid syntax\n"
     ]
    }
   ],
   "source": [
    "def kwonly(a, **, b, c):"
   ]
  },
  {
   "cell_type": "code",
   "execution_count": 47,
   "id": "c830c6f2",
   "metadata": {},
   "outputs": [
    {
     "ename": "SyntaxError",
     "evalue": "invalid syntax (<ipython-input-47-645dc197ec2c>, line 1)",
     "output_type": "error",
     "traceback": [
      "\u001b[1;36m  File \u001b[1;32m\"<ipython-input-47-645dc197ec2c>\"\u001b[1;36m, line \u001b[1;32m1\u001b[0m\n\u001b[1;33m    def f(a, *b, **d, c=6): print(a, b, c, d) # Keyword-only before **!\u001b[0m\n\u001b[1;37m                      ^\u001b[0m\n\u001b[1;31mSyntaxError\u001b[0m\u001b[1;31m:\u001b[0m invalid syntax\n"
     ]
    }
   ],
   "source": [
    "def f(a, *b, **d, c=6): print(a, b, c, d) # Keyword-only before **!"
   ]
  },
  {
   "cell_type": "code",
   "execution_count": 48,
   "id": "c4e44733",
   "metadata": {},
   "outputs": [],
   "source": [
    "def f(a, *b, c=6, **d): print(a, b, c, d) # Collect args in header"
   ]
  },
  {
   "cell_type": "code",
   "execution_count": 49,
   "id": "2ff5163d",
   "metadata": {},
   "outputs": [
    {
     "name": "stdout",
     "output_type": "stream",
     "text": [
      "1 (2, 3) 6 {'x': 4, 'y': 5}\n"
     ]
    }
   ],
   "source": [
    "f(1, 2, 3, x=4, y=5) # Default used"
   ]
  },
  {
   "cell_type": "code",
   "execution_count": 53,
   "id": "5dfe0cb2",
   "metadata": {},
   "outputs": [
    {
     "name": "stdout",
     "output_type": "stream",
     "text": [
      "1 (2, 3) 7 {'x': 4, 'y': 5}\n"
     ]
    }
   ],
   "source": [
    "f(1, 2, 3, c=7, x=4, y=5) # Override Default "
   ]
  },
  {
   "cell_type": "markdown",
   "id": "e73426cb",
   "metadata": {},
   "source": [
    "## Practical Example \n",
    "- Suppose you want to code a function that is able to compute the minimum value from an arbitrary set of arguments and an arbitrary set of object data types. That is, the function should accept zero or more arguments, as many as you wish to pass. Moreover, the function should work for all kinds of Python object types: numbers, strings, lists, lists of dictionaries, files, and even None.\n",
    "- The first requirement provides a natural example of how the * feature can be put to good use—we can collect arguments into a tuple and step over each of them in turn with a simple for loop. The second part of the problem definition is easy: because every object type supports comparisons, we don’t have to specialize the function per type (an application of polymorphism); we can simply compare objects blindly and let Python worry about what sort of comparison to perform according to the objects being compared."
   ]
  },
  {
   "cell_type": "markdown",
   "id": "2e2b0a6d",
   "metadata": {},
   "source": [
    "### Solutions \n",
    "- 1 The first function fetches the first argument (args is a tuple) and traverses the rest by slicing off the first (there’s no point in comparing an object to itself, especially if it might be a large structure).\n",
    "- 2 The second version lets Python pick off the first and rest of the arguments automatically, and so avoids an index and slice.\n",
    "- 3 The third converts from a tuple to a list with the built-in list call and employs the list sort method"
   ]
  },
  {
   "cell_type": "code",
   "execution_count": 54,
   "id": "060f78a4",
   "metadata": {},
   "outputs": [],
   "source": [
    "# solution 1\n",
    "def min1(*args):\n",
    "    res = args[0]\n",
    "    for arg in args[1:]: \n",
    "        if arg < res:\n",
    "            res = arg\n",
    "    return res"
   ]
  },
  {
   "cell_type": "code",
   "execution_count": 55,
   "id": "e882ce46",
   "metadata": {},
   "outputs": [],
   "source": [
    "# solution 2 \n",
    "def min2(first, *rest):\n",
    "    for arg in rest:\n",
    "        if arg < first: \n",
    "            first = arg \n",
    "    return first"
   ]
  },
  {
   "cell_type": "code",
   "execution_count": 56,
   "id": "0b3c7d91",
   "metadata": {},
   "outputs": [],
   "source": [
    "# solution 3\n",
    "def min3(*args): \n",
    "    tmp = list(args)\n",
    "    tmp.sort()\n",
    "    return tmp[0]"
   ]
  },
  {
   "cell_type": "code",
   "execution_count": 57,
   "id": "743c49bd",
   "metadata": {},
   "outputs": [
    {
     "name": "stdout",
     "output_type": "stream",
     "text": [
      "1\n",
      "1\n",
      "1\n"
     ]
    }
   ],
   "source": [
    "print(min1(3, 4, 1, 2))\n",
    "print(min2(3, 4, 1, 2)) \n",
    "print(min3(3, 4, 1, 2))"
   ]
  },
  {
   "cell_type": "code",
   "execution_count": 58,
   "id": "6ee06531",
   "metadata": {},
   "outputs": [
    {
     "name": "stdout",
     "output_type": "stream",
     "text": [
      "aa\n",
      "aa\n",
      "aa\n"
     ]
    }
   ],
   "source": [
    "print(min1(\"bb\", \"aa\")) \n",
    "print(min2(\"bb\", \"aa\")) \n",
    "print(min3(\"bb\", \"aa\"))"
   ]
  },
  {
   "cell_type": "code",
   "execution_count": 59,
   "id": "d3185d58",
   "metadata": {},
   "outputs": [
    {
     "name": "stdout",
     "output_type": "stream",
     "text": [
      "[1, 1]\n",
      "[1, 1]\n",
      "[1, 1]\n"
     ]
    }
   ],
   "source": [
    "print(min1([2,2], [1,1], [3,3]))\n",
    "print(min2([2,2], [1,1], [3,3]))\n",
    "print(min3([2,2], [1,1], [3,3]))"
   ]
  },
  {
   "cell_type": "code",
   "execution_count": 69,
   "id": "1e204205",
   "metadata": {},
   "outputs": [
    {
     "ename": "IndexError",
     "evalue": "list index out of range",
     "output_type": "error",
     "traceback": [
      "\u001b[1;31m---------------------------------------------------------------------------\u001b[0m",
      "\u001b[1;31mIndexError\u001b[0m                                Traceback (most recent call last)",
      "\u001b[1;32m<ipython-input-69-f7f3ba5d010b>\u001b[0m in \u001b[0;36m<module>\u001b[1;34m\u001b[0m\n\u001b[1;32m----> 1\u001b[1;33m \u001b[0mprint\u001b[0m\u001b[1;33m(\u001b[0m\u001b[0mmin3\u001b[0m\u001b[1;33m(\u001b[0m\u001b[1;33m)\u001b[0m\u001b[1;33m)\u001b[0m\u001b[1;33m\u001b[0m\u001b[1;33m\u001b[0m\u001b[0m\n\u001b[0m",
      "\u001b[1;32m<ipython-input-56-e588b251ba7d>\u001b[0m in \u001b[0;36mmin3\u001b[1;34m(*args)\u001b[0m\n\u001b[0;32m      3\u001b[0m     \u001b[0mtmp\u001b[0m \u001b[1;33m=\u001b[0m \u001b[0mlist\u001b[0m\u001b[1;33m(\u001b[0m\u001b[0margs\u001b[0m\u001b[1;33m)\u001b[0m\u001b[1;33m\u001b[0m\u001b[1;33m\u001b[0m\u001b[0m\n\u001b[0;32m      4\u001b[0m     \u001b[0mtmp\u001b[0m\u001b[1;33m.\u001b[0m\u001b[0msort\u001b[0m\u001b[1;33m(\u001b[0m\u001b[1;33m)\u001b[0m\u001b[1;33m\u001b[0m\u001b[1;33m\u001b[0m\u001b[0m\n\u001b[1;32m----> 5\u001b[1;33m     \u001b[1;32mreturn\u001b[0m \u001b[0mtmp\u001b[0m\u001b[1;33m[\u001b[0m\u001b[1;36m0\u001b[0m\u001b[1;33m]\u001b[0m\u001b[1;33m\u001b[0m\u001b[1;33m\u001b[0m\u001b[0m\n\u001b[0m",
      "\u001b[1;31mIndexError\u001b[0m: list index out of range"
     ]
    }
   ],
   "source": [
    "print(min3())"
   ]
  },
  {
   "cell_type": "code",
   "execution_count": null,
   "id": "0cb09044",
   "metadata": {},
   "outputs": [],
   "source": []
  }
 ],
 "metadata": {
  "kernelspec": {
   "display_name": "Python 3",
   "language": "python",
   "name": "python3"
  },
  "language_info": {
   "codemirror_mode": {
    "name": "ipython",
    "version": 3
   },
   "file_extension": ".py",
   "mimetype": "text/x-python",
   "name": "python",
   "nbconvert_exporter": "python",
   "pygments_lexer": "ipython3",
   "version": "3.8.8"
  }
 },
 "nbformat": 4,
 "nbformat_minor": 5
}
