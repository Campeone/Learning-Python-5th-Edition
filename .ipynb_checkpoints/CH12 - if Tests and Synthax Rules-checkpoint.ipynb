{
 "cells": [
  {
   "cell_type": "code",
   "execution_count": null,
   "id": "46a55b67",
   "metadata": {},
   "outputs": [],
   "source": [
    "# General form of an if statement\n",
    "if test1: # if test\n",
    "    statements1 # Associated block\n",
    "elif test2: # Optional elifs\n",
    "    statements2\n",
    "else: # Optional else\n",
    "    statements3"
   ]
  },
  {
   "cell_type": "code",
   "execution_count": 1,
   "id": "fb3b2976",
   "metadata": {},
   "outputs": [
    {
     "name": "stdout",
     "output_type": "stream",
     "text": [
      "true\n"
     ]
    }
   ],
   "source": [
    "if 1: \n",
    "    print('true')"
   ]
  },
  {
   "cell_type": "code",
   "execution_count": 3,
   "id": "9d7b8c91",
   "metadata": {},
   "outputs": [
    {
     "name": "stdout",
     "output_type": "stream",
     "text": [
      "false\n"
     ]
    }
   ],
   "source": [
    "if not 1:\n",
    "    print('true')\n",
    "else: \n",
    "    print('false')"
   ]
  },
  {
   "cell_type": "markdown",
   "id": "05df115e",
   "metadata": {},
   "source": [
    "### Multiway Branching"
   ]
  },
  {
   "cell_type": "code",
   "execution_count": 4,
   "id": "df2f0441",
   "metadata": {},
   "outputs": [
    {
     "name": "stdout",
     "output_type": "stream",
     "text": [
      "Run away! Run away!\n"
     ]
    }
   ],
   "source": [
    "x = 'Killer rabbit' \n",
    "if x == 'roger':\n",
    "    print(\"shave and a haircut\")\n",
    "elif x == 'bugs':\n",
    "    print(\"what's doc\") \n",
    "else: \n",
    "    print('Run away! Run away!')"
   ]
  },
  {
   "cell_type": "code",
   "execution_count": 1,
   "id": "ae33cf78",
   "metadata": {},
   "outputs": [
    {
     "name": "stdout",
     "output_type": "stream",
     "text": [
      "1.99\n"
     ]
    }
   ],
   "source": [
    "# A dictionary-based 'switch'\n",
    "choice = 'ham' \n",
    "print({'spam': 1.25, 'ham': 1.99, 'eggs': 0.99, 'bacon': 1.10}[choice])"
   ]
  },
  {
   "cell_type": "code",
   "execution_count": 2,
   "id": "8fa977f8",
   "metadata": {},
   "outputs": [
    {
     "name": "stdout",
     "output_type": "stream",
     "text": [
      "1.99\n"
     ]
    }
   ],
   "source": [
    "if choice == 'spam': # The equivalent if statement\n",
    "    print(1.25)\n",
    "elif choice == 'ham':\n",
    "    print(1.99)\n",
    "elif choice == 'eggs':\n",
    "    print(0.99)\n",
    "elif choice == 'bacon':\n",
    "    print(1.10)\n",
    "else:\n",
    "    print('Bad choice')"
   ]
  },
  {
   "cell_type": "markdown",
   "id": "81e1fa4e",
   "metadata": {},
   "source": [
    "- making indentation part of the syntax model also enforces consistency, a crucial component of readability in structured programming languages like Python. Python’s syntax is sometimes described as “what you see is what you get”"
   ]
  },
  {
   "cell_type": "markdown",
   "id": "ecb0cc8a",
   "metadata": {},
   "source": [
    "### Statement Delimiters: Lines and Continuations \n",
    "- Statements may span multiple lines if you’re continuing an open syntactic pair. \n",
    "- Statements may span multiple lines if they end in a backslash. \n",
    "- Special rules for string literals; triple-quoted string blocks are designed to span multiple lines normally. \n",
    "- Other rules; Although it is uncommon, you can terminate a statement with a semicolon— this convention is sometimes used to squeeze more than one simple (noncompound) statement onto a single line."
   ]
  },
  {
   "cell_type": "code",
   "execution_count": 3,
   "id": "d62181ea",
   "metadata": {},
   "outputs": [],
   "source": [
    "# Open pairs may span lines\n",
    "L = [\"Good\", \n",
    "     \"Bad\", \n",
    "     \"Ugly\"] "
   ]
  },
  {
   "cell_type": "code",
   "execution_count": 5,
   "id": "085474ce",
   "metadata": {},
   "outputs": [
    {
     "ename": "NameError",
     "evalue": "name 'a' is not defined",
     "output_type": "error",
     "traceback": [
      "\u001b[1;31m---------------------------------------------------------------------------\u001b[0m",
      "\u001b[1;31mNameError\u001b[0m                                 Traceback (most recent call last)",
      "\u001b[1;32m<ipython-input-5-2997b2dee087>\u001b[0m in \u001b[0;36m<module>\u001b[1;34m\u001b[0m\n\u001b[0;32m      1\u001b[0m \u001b[1;31m# But parentheses usually do too, and are obvious\u001b[0m\u001b[1;33m\u001b[0m\u001b[1;33m\u001b[0m\u001b[1;33m\u001b[0m\u001b[0m\n\u001b[1;32m----> 2\u001b[1;33m if (a == b and c == d and\n\u001b[0m\u001b[0;32m      3\u001b[0m     d == e and e == f):\n\u001b[0;32m      4\u001b[0m     \u001b[0mprint\u001b[0m\u001b[1;33m(\u001b[0m\u001b[1;34m'new'\u001b[0m\u001b[1;33m)\u001b[0m\u001b[1;33m\u001b[0m\u001b[1;33m\u001b[0m\u001b[0m\n",
      "\u001b[1;31mNameError\u001b[0m: name 'a' is not defined"
     ]
    }
   ],
   "source": [
    "# But parentheses usually do too, and are obvious\n",
    "if (a == b and c == d and\n",
    "    d == e and e == f):\n",
    "    print('new') "
   ]
  },
  {
   "cell_type": "code",
   "execution_count": 6,
   "id": "d3f315fc",
   "metadata": {},
   "outputs": [
    {
     "name": "stdout",
     "output_type": "stream",
     "text": [
      "1\n"
     ]
    }
   ],
   "source": [
    "x = 1; y = 2; print(x) # More than one simple statement"
   ]
  },
  {
   "cell_type": "markdown",
   "id": "33b78e56",
   "metadata": {},
   "source": [
    "### Truth Values and Boolean Tests \n",
    "All objects have an inherent Boolean true or false value.\n",
    "- Any nonzero number or nonempty object is true.\n",
    "- Zero numbers, empty objects, and the special object None are considered false.\n",
    "- Comparisons and equality tests are applied recursively to data structures.\n",
    "- Comparisons and equality tests return True or False (custom versions of 1 and 0).\n",
    "- Boolean and and or operators return a true or false operand object.\n",
    "- Boolean operators stop evaluating (“short circuit”) as soon as a result is known."
   ]
  },
  {
   "cell_type": "code",
   "execution_count": null,
   "id": "99dee68e",
   "metadata": {},
   "outputs": [],
   "source": []
  }
 ],
 "metadata": {
  "kernelspec": {
   "display_name": "Python 3",
   "language": "python",
   "name": "python3"
  },
  "language_info": {
   "codemirror_mode": {
    "name": "ipython",
    "version": 3
   },
   "file_extension": ".py",
   "mimetype": "text/x-python",
   "name": "python",
   "nbconvert_exporter": "python",
   "pygments_lexer": "ipython3",
   "version": "3.8.8"
  }
 },
 "nbformat": 4,
 "nbformat_minor": 5
}
