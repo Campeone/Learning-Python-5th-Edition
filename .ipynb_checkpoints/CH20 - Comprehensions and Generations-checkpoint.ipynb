{
 "cells": [
  {
   "cell_type": "markdown",
   "id": "2ad92230",
   "metadata": {},
   "source": [
    "### Comprehensions and Generations"
   ]
  },
  {
   "cell_type": "code",
   "execution_count": 2,
   "id": "e5069bc5",
   "metadata": {},
   "outputs": [
    {
     "name": "stdout",
     "output_type": "stream",
     "text": [
      "False\n"
     ]
    }
   ],
   "source": [
    "li = []\n",
    "print(bool(li))"
   ]
  },
  {
   "cell_type": "markdown",
   "id": "aaad5d16",
   "metadata": {},
   "source": [
    "### List Comprehensions Versus map"
   ]
  },
  {
   "cell_type": "markdown",
   "id": "a3a78c32",
   "metadata": {},
   "source": [
    "- Python’s built-in ord function returns the integer code point of a single character (the chr built-in is the converse—it returns the character for an integer code point)."
   ]
  },
  {
   "cell_type": "code",
   "execution_count": 3,
   "id": "d67549a9",
   "metadata": {},
   "outputs": [
    {
     "data": {
      "text/plain": [
       "115"
      ]
     },
     "execution_count": 3,
     "metadata": {},
     "output_type": "execute_result"
    }
   ],
   "source": [
    "ord('s')"
   ]
  },
  {
   "cell_type": "code",
   "execution_count": 5,
   "id": "8dc3a7ec",
   "metadata": {},
   "outputs": [
    {
     "data": {
      "text/plain": [
       "[115, 112, 97, 109]"
      ]
     },
     "execution_count": 5,
     "metadata": {},
     "output_type": "execute_result"
    }
   ],
   "source": [
    "# for loop\n",
    "res = []\n",
    "for x in 'spam':\n",
    "    res.append(ord(x)) # Manual result collection\n",
    "    \n",
    "res "
   ]
  },
  {
   "cell_type": "code",
   "execution_count": 6,
   "id": "1e2a92cc",
   "metadata": {},
   "outputs": [
    {
     "data": {
      "text/plain": [
       "[115, 112, 97, 109]"
      ]
     },
     "execution_count": 6,
     "metadata": {},
     "output_type": "execute_result"
    }
   ],
   "source": [
    "# map\n",
    "res = list(map(ord, 'spam')) # Apply function to sequence (or other)\n",
    "res"
   ]
  },
  {
   "cell_type": "code",
   "execution_count": 7,
   "id": "3d6bb529",
   "metadata": {},
   "outputs": [
    {
     "data": {
      "text/plain": [
       "[115, 112, 97, 109]"
      ]
     },
     "execution_count": 7,
     "metadata": {},
     "output_type": "execute_result"
    }
   ],
   "source": [
    "# list comprehension \n",
    "res = [ord(x) for x in 'spam'] # Apply expression to sequence (or other) \n",
    "res"
   ]
  },
  {
   "cell_type": "code",
   "execution_count": 8,
   "id": "9c2ff3a4",
   "metadata": {},
   "outputs": [
    {
     "data": {
      "text/plain": [
       "[0, 1, 4, 9, 16, 25, 36, 49, 64, 81]"
      ]
     },
     "execution_count": 8,
     "metadata": {},
     "output_type": "execute_result"
    }
   ],
   "source": [
    "[x ** 2 for x in range(10)]"
   ]
  },
  {
   "cell_type": "code",
   "execution_count": 11,
   "id": "f2c71399",
   "metadata": {},
   "outputs": [
    {
     "data": {
      "text/plain": [
       "[0, 1, 4, 9, 16, 25, 36, 49, 64, 81]"
      ]
     },
     "execution_count": 11,
     "metadata": {},
     "output_type": "execute_result"
    }
   ],
   "source": [
    "list(map((lambda x: x ** 2), range(10)))"
   ]
  },
  {
   "cell_type": "markdown",
   "id": "2558b09a",
   "metadata": {},
   "source": [
    "#### picking up even numbers from 0 to 4;"
   ]
  },
  {
   "cell_type": "code",
   "execution_count": 13,
   "id": "fa0817ea",
   "metadata": {},
   "outputs": [
    {
     "data": {
      "text/plain": [
       "[0, 2, 4]"
      ]
     },
     "execution_count": 13,
     "metadata": {},
     "output_type": "execute_result"
    }
   ],
   "source": [
    "# list comprehension\n",
    "[x for x in range(5) if x % 2 == 0]"
   ]
  },
  {
   "cell_type": "code",
   "execution_count": 17,
   "id": "7411c681",
   "metadata": {},
   "outputs": [
    {
     "data": {
      "text/plain": [
       "[0, 2, 4]"
      ]
     },
     "execution_count": 17,
     "metadata": {},
     "output_type": "execute_result"
    }
   ],
   "source": [
    "# filter\n",
    "list(filter((lambda x: x % 2 == 0), range(5)))"
   ]
  },
  {
   "cell_type": "code",
   "execution_count": 15,
   "id": "e87e0f2a",
   "metadata": {},
   "outputs": [
    {
     "data": {
      "text/plain": [
       "[0, 2, 4]"
      ]
     },
     "execution_count": 15,
     "metadata": {},
     "output_type": "execute_result"
    }
   ],
   "source": [
    "# for loop\n",
    "res = []\n",
    "for x in range(5):\n",
    "    if x % 2 == 0:\n",
    "        res.append(x)\n",
    "res"
   ]
  },
  {
   "cell_type": "markdown",
   "id": "4aa95327",
   "metadata": {},
   "source": [
    "#### if clause  in our list comprehension, give the effect of a filter and a map, in a single expression:"
   ]
  },
  {
   "cell_type": "code",
   "execution_count": 18,
   "id": "c9748ead",
   "metadata": {},
   "outputs": [
    {
     "data": {
      "text/plain": [
       "[0, 4, 16, 36, 64]"
      ]
     },
     "execution_count": 18,
     "metadata": {},
     "output_type": "execute_result"
    }
   ],
   "source": [
    "[x ** 2 for x in range(10) if x % 2 == 0]"
   ]
  },
  {
   "cell_type": "code",
   "execution_count": 21,
   "id": "7b5a74c8",
   "metadata": {},
   "outputs": [
    {
     "data": {
      "text/plain": [
       "[0, 4, 16, 36, 64]"
      ]
     },
     "execution_count": 21,
     "metadata": {},
     "output_type": "execute_result"
    }
   ],
   "source": [
    "list(map((lambda x: x ** 2), filter((lambda x: x % 2 == 0), range(10))))"
   ]
  },
  {
   "cell_type": "markdown",
   "id": "21eba42d",
   "metadata": {},
   "source": [
    "#### Formal comprehension syntax"
   ]
  },
  {
   "cell_type": "code",
   "execution_count": null,
   "id": "8ba092e5",
   "metadata": {},
   "outputs": [],
   "source": [
    "[ expression for target in iterable ]"
   ]
  },
  {
   "cell_type": "code",
   "execution_count": null,
   "id": "13e84304",
   "metadata": {},
   "outputs": [],
   "source": [
    "[ expression for target1 in iterable1 if condition1\n",
    "             for target2 in iterable2 if condition2 ...\n",
    "             for targetN in iterableN if conditionN ]"
   ]
  },
  {
   "cell_type": "markdown",
   "id": "b128e11b",
   "metadata": {},
   "source": [
    "#### Nested for loops within a list comprehension"
   ]
  },
  {
   "cell_type": "code",
   "execution_count": 22,
   "id": "4de8ef2b",
   "metadata": {},
   "outputs": [
    {
     "data": {
      "text/plain": [
       "[100, 200, 300, 101, 201, 301, 102, 202, 302]"
      ]
     },
     "execution_count": 22,
     "metadata": {},
     "output_type": "execute_result"
    }
   ],
   "source": [
    "# list comprehension\n",
    "res = [x + y for x in [0, 1, 2] for y in [100, 200, 300]]\n",
    "res"
   ]
  },
  {
   "cell_type": "code",
   "execution_count": 24,
   "id": "1ee60755",
   "metadata": {},
   "outputs": [
    {
     "data": {
      "text/plain": [
       "[100, 200, 300, 101, 201, 301, 102, 202, 302]"
      ]
     },
     "execution_count": 24,
     "metadata": {},
     "output_type": "execute_result"
    }
   ],
   "source": [
    "res = []\n",
    "for x in [0, 1, 2]:\n",
    "    for y in [100, 200, 300]:\n",
    "        res.append(x + y)\n",
    "res"
   ]
  },
  {
   "cell_type": "markdown",
   "id": "e112d10c",
   "metadata": {},
   "source": [
    "### iteration over any sequence or iterable"
   ]
  },
  {
   "cell_type": "code",
   "execution_count": 25,
   "id": "8b7cf54b",
   "metadata": {},
   "outputs": [
    {
     "data": {
      "text/plain": [
       "['sS',\n",
       " 'sP',\n",
       " 'sA',\n",
       " 'sM',\n",
       " 'pS',\n",
       " 'pP',\n",
       " 'pA',\n",
       " 'pM',\n",
       " 'aS',\n",
       " 'aP',\n",
       " 'aA',\n",
       " 'aM',\n",
       " 'mS',\n",
       " 'mP',\n",
       " 'mA',\n",
       " 'mM']"
      ]
     },
     "execution_count": 25,
     "metadata": {},
     "output_type": "execute_result"
    }
   ],
   "source": [
    "[x + y for x in 'spam' for y in 'SPAM']"
   ]
  },
  {
   "cell_type": "markdown",
   "id": "80b0c7ca",
   "metadata": {},
   "source": [
    "#### associated if filter"
   ]
  },
  {
   "cell_type": "code",
   "execution_count": 26,
   "id": "68e5991b",
   "metadata": {},
   "outputs": [
    {
     "data": {
      "text/plain": [
       "['sP', 'sA', 'mP', 'mA']"
      ]
     },
     "execution_count": 26,
     "metadata": {},
     "output_type": "execute_result"
    }
   ],
   "source": [
    "[x + y for x in 'spam' if x in 'sm' for y in 'SPAM' if y in ('P', 'A')]"
   ]
  },
  {
   "cell_type": "code",
   "execution_count": 27,
   "id": "d92763f0",
   "metadata": {},
   "outputs": [
    {
     "data": {
      "text/plain": [
       "['sP2', 'sP3', 'sA2', 'sA3', 'mP2', 'mP3', 'mA2', 'mA3']"
      ]
     },
     "execution_count": 27,
     "metadata": {},
     "output_type": "execute_result"
    }
   ],
   "source": [
    "[x + y + z for x in 'spam' if x in 'sm' \n",
    "            for y in 'SPAM' if y in ('P', 'A') \n",
    "             for z in '123' if z > '1']"
   ]
  },
  {
   "cell_type": "code",
   "execution_count": 28,
   "id": "f8dc2065",
   "metadata": {},
   "outputs": [
    {
     "data": {
      "text/plain": [
       "[(0, 1), (0, 3), (2, 1), (2, 3), (4, 1), (4, 3)]"
      ]
     },
     "execution_count": 28,
     "metadata": {},
     "output_type": "execute_result"
    }
   ],
   "source": [
    "# list comprehension\n",
    "[(x, y) for x in range(5) if x % 2 == 0 for y in range(5) if y % 2 == 1]"
   ]
  },
  {
   "cell_type": "code",
   "execution_count": 31,
   "id": "3679ef38",
   "metadata": {},
   "outputs": [
    {
     "data": {
      "text/plain": [
       "[(0, 1), (0, 3), (2, 1), (2, 3), (4, 1), (4, 3)]"
      ]
     },
     "execution_count": 31,
     "metadata": {},
     "output_type": "execute_result"
    }
   ],
   "source": [
    "# equivalent statement code\n",
    "res = []\n",
    "for x in range(5):\n",
    "    if x % 2 == 0:\n",
    "        for y in range(5):\n",
    "            if y % 2 == 1: \n",
    "                res.append((x, y))\n",
    "res"
   ]
  },
  {
   "cell_type": "markdown",
   "id": "8d12a380",
   "metadata": {},
   "source": [
    "### Example: List Comprehensions and Matrixes"
   ]
  },
  {
   "cell_type": "code",
   "execution_count": 32,
   "id": "e8d2cd16",
   "metadata": {},
   "outputs": [],
   "source": [
    "M = [[1, 2, 3],\n",
    "     [4, 5, 6],\n",
    "     [7, 8, 9]] \n",
    "\n",
    "N = [[2, 2, 2],\n",
    "     [3, 3, 3],\n",
    "     [4, 4, 4]]"
   ]
  },
  {
   "cell_type": "code",
   "execution_count": 33,
   "id": "9005d4a1",
   "metadata": {},
   "outputs": [
    {
     "data": {
      "text/plain": [
       "[4, 5, 6]"
      ]
     },
     "execution_count": 33,
     "metadata": {},
     "output_type": "execute_result"
    }
   ],
   "source": [
    "M[1] # Row 2"
   ]
  },
  {
   "cell_type": "code",
   "execution_count": 34,
   "id": "1131cce1",
   "metadata": {},
   "outputs": [
    {
     "data": {
      "text/plain": [
       "6"
      ]
     },
     "execution_count": 34,
     "metadata": {},
     "output_type": "execute_result"
    }
   ],
   "source": [
    "M[1][2] # row 2, item 3"
   ]
  },
  {
   "cell_type": "code",
   "execution_count": 35,
   "id": "042e34ca",
   "metadata": {},
   "outputs": [
    {
     "data": {
      "text/plain": [
       "[2, 5, 8]"
      ]
     },
     "execution_count": 35,
     "metadata": {},
     "output_type": "execute_result"
    }
   ],
   "source": [
    "[row[1] for row in M] # column 2"
   ]
  },
  {
   "cell_type": "code",
   "execution_count": 38,
   "id": "b577d88e",
   "metadata": {},
   "outputs": [
    {
     "data": {
      "text/plain": [
       "[2, 5, 8]"
      ]
     },
     "execution_count": 38,
     "metadata": {},
     "output_type": "execute_result"
    }
   ],
   "source": [
    "[M[row][1] for row in (0, 1, 2)] # using offsets"
   ]
  },
  {
   "cell_type": "code",
   "execution_count": 40,
   "id": "72cf0cff",
   "metadata": {},
   "outputs": [
    {
     "data": {
      "text/plain": [
       "[1, 5, 9]"
      ]
     },
     "execution_count": 40,
     "metadata": {},
     "output_type": "execute_result"
    }
   ],
   "source": [
    "# Diagonals \n",
    "[M[i][i] for i in range(len(M))]"
   ]
  },
  {
   "cell_type": "code",
   "execution_count": 42,
   "id": "593dd64f",
   "metadata": {},
   "outputs": [
    {
     "data": {
      "text/plain": [
       "[3, 5, 7]"
      ]
     },
     "execution_count": 42,
     "metadata": {},
     "output_type": "execute_result"
    }
   ],
   "source": [
    "[M[i][len(M)-1-i] for i in range(len(M))]"
   ]
  },
  {
   "cell_type": "code",
   "execution_count": 41,
   "id": "e98a7e5f",
   "metadata": {},
   "outputs": [
    {
     "data": {
      "text/plain": [
       "[2, 3, 4]"
      ]
     },
     "execution_count": 41,
     "metadata": {},
     "output_type": "execute_result"
    }
   ],
   "source": [
    "[N[i][i] for i in range(len(N))]"
   ]
  },
  {
   "cell_type": "code",
   "execution_count": 48,
   "id": "a9735d3a",
   "metadata": {},
   "outputs": [
    {
     "data": {
      "text/plain": [
       "[2, 3, 4]"
      ]
     },
     "execution_count": 48,
     "metadata": {},
     "output_type": "execute_result"
    }
   ],
   "source": [
    "[N[i][len(N)-1-i] for i in range(len(N))]"
   ]
  },
  {
   "cell_type": "code",
   "execution_count": 45,
   "id": "7a659c91",
   "metadata": {},
   "outputs": [
    {
     "data": {
      "text/plain": [
       "3"
      ]
     },
     "execution_count": 45,
     "metadata": {},
     "output_type": "execute_result"
    }
   ],
   "source": [
    "len(M)"
   ]
  },
  {
   "cell_type": "markdown",
   "id": "c0fcf8d0",
   "metadata": {},
   "source": [
    "#### Changing the matrix in place"
   ]
  },
  {
   "cell_type": "code",
   "execution_count": 52,
   "id": "de85e31d",
   "metadata": {},
   "outputs": [
    {
     "data": {
      "text/plain": [
       "[[11, 12, 13], [14, 15, 16]]"
      ]
     },
     "execution_count": 52,
     "metadata": {},
     "output_type": "execute_result"
    }
   ],
   "source": [
    "L = [[1, 2, 3], [4, 5, 6]]\n",
    "for i in range(len(L)):\n",
    "    for j in range(len(L[i])): # update in place \n",
    "        L[i][j] += 10\n",
    "L"
   ]
  },
  {
   "cell_type": "code",
   "execution_count": 54,
   "id": "277a11bf",
   "metadata": {},
   "outputs": [
    {
     "data": {
      "text/plain": [
       "[11, 12, 13, 14, 15, 16, 17, 18, 19]"
      ]
     },
     "execution_count": 54,
     "metadata": {},
     "output_type": "execute_result"
    }
   ],
   "source": [
    "[col + 10 for row in M for col in row] # Assign to M to retain new value"
   ]
  },
  {
   "cell_type": "code",
   "execution_count": 55,
   "id": "17f20220",
   "metadata": {},
   "outputs": [
    {
     "data": {
      "text/plain": [
       "[[11, 12, 13], [14, 15, 16], [17, 18, 19]]"
      ]
     },
     "execution_count": 55,
     "metadata": {},
     "output_type": "execute_result"
    }
   ],
   "source": [
    "[[col + 10 for col in row] for row in M]"
   ]
  },
  {
   "cell_type": "code",
   "execution_count": 56,
   "id": "2e137848",
   "metadata": {},
   "outputs": [
    {
     "data": {
      "text/plain": [
       "[[1, 2, 3], [4, 5, 6], [7, 8, 9]]"
      ]
     },
     "execution_count": 56,
     "metadata": {},
     "output_type": "execute_result"
    }
   ],
   "source": [
    "M"
   ]
  },
  {
   "cell_type": "code",
   "execution_count": 57,
   "id": "a30e22ff",
   "metadata": {},
   "outputs": [
    {
     "data": {
      "text/plain": [
       "[[2, 2, 2], [3, 3, 3], [4, 4, 4]]"
      ]
     },
     "execution_count": 57,
     "metadata": {},
     "output_type": "execute_result"
    }
   ],
   "source": [
    "N"
   ]
  },
  {
   "cell_type": "markdown",
   "id": "4be3a958",
   "metadata": {},
   "source": [
    "#### Statements equivalent"
   ]
  },
  {
   "cell_type": "code",
   "execution_count": 59,
   "id": "695acafb",
   "metadata": {},
   "outputs": [
    {
     "data": {
      "text/plain": [
       "[11, 12, 13, 14, 15, 16, 17, 18, 19]"
      ]
     },
     "execution_count": 59,
     "metadata": {},
     "output_type": "execute_result"
    }
   ],
   "source": [
    "res = []\n",
    "for row in M: # Statement equivalents\n",
    "    for col in row: # Indent parts further right\n",
    "        res.append(col + 10)\n",
    "res"
   ]
  },
  {
   "cell_type": "code",
   "execution_count": 60,
   "id": "6ef8d83c",
   "metadata": {},
   "outputs": [
    {
     "data": {
      "text/plain": [
       "[[11, 12, 13], [14, 15, 16], [17, 18, 19]]"
      ]
     },
     "execution_count": 60,
     "metadata": {},
     "output_type": "execute_result"
    }
   ],
   "source": [
    "res = []\n",
    "for row in M: \n",
    "    tmp = [] # Left-nesting starts new list\n",
    "    for col in row:\n",
    "        tmp.append(col + 10)\n",
    "    res.append(tmp)\n",
    "res"
   ]
  },
  {
   "cell_type": "markdown",
   "id": "91c1a6a7",
   "metadata": {},
   "source": [
    "#### combining values of multiple matrixes"
   ]
  },
  {
   "cell_type": "code",
   "execution_count": 70,
   "id": "78b3a041",
   "metadata": {},
   "outputs": [
    {
     "data": {
      "text/plain": [
       "[[1, 2, 3], [4, 5, 6], [7, 8, 9]]"
      ]
     },
     "execution_count": 70,
     "metadata": {},
     "output_type": "execute_result"
    }
   ],
   "source": [
    "M"
   ]
  },
  {
   "cell_type": "code",
   "execution_count": 71,
   "id": "8aa3ce09",
   "metadata": {},
   "outputs": [
    {
     "data": {
      "text/plain": [
       "[[2, 2, 2], [3, 3, 3], [4, 4, 4]]"
      ]
     },
     "execution_count": 71,
     "metadata": {},
     "output_type": "execute_result"
    }
   ],
   "source": [
    "N"
   ]
  },
  {
   "cell_type": "code",
   "execution_count": 74,
   "id": "5c6329d5",
   "metadata": {},
   "outputs": [
    {
     "data": {
      "text/plain": [
       "[2, 4, 6, 12, 15, 18, 28, 32, 36]"
      ]
     },
     "execution_count": 74,
     "metadata": {},
     "output_type": "execute_result"
    }
   ],
   "source": [
    "[M[row][col] * N[row][col] for row in range(len(M)) for col in range(len(N))]"
   ]
  },
  {
   "cell_type": "code",
   "execution_count": 66,
   "id": "e3b1bfcf",
   "metadata": {},
   "outputs": [
    {
     "data": {
      "text/plain": [
       "[2, 4, 6, 12, 15, 18, 28, 32, 36]"
      ]
     },
     "execution_count": 66,
     "metadata": {},
     "output_type": "execute_result"
    }
   ],
   "source": [
    "res = []\n",
    "for row in range(3):\n",
    "    for col in range(3):\n",
    "        res.append(M[row][col] * N[row][col])\n",
    "res"
   ]
  },
  {
   "cell_type": "code",
   "execution_count": 67,
   "id": "4dcf184b",
   "metadata": {},
   "outputs": [
    {
     "data": {
      "text/plain": [
       "[[2, 4, 6], [12, 15, 18], [28, 32, 36]]"
      ]
     },
     "execution_count": 67,
     "metadata": {},
     "output_type": "execute_result"
    }
   ],
   "source": [
    "[[M[row][col] * N[row][col] for col in range(3)] for row in range(3)]"
   ]
  },
  {
   "cell_type": "code",
   "execution_count": 75,
   "id": "c880b687",
   "metadata": {},
   "outputs": [
    {
     "data": {
      "text/plain": [
       "[[2, 4, 6], [12, 15, 18], [28, 32, 36]]"
      ]
     },
     "execution_count": 75,
     "metadata": {},
     "output_type": "execute_result"
    }
   ],
   "source": [
    "res = []\n",
    "for row in range(3):\n",
    "    tmp = []\n",
    "    for col in range(3):\n",
    "        tmp.append(M[row][col] * N[row][col])\n",
    "    res.append(tmp)\n",
    "res"
   ]
  },
  {
   "cell_type": "markdown",
   "id": "fce79094",
   "metadata": {},
   "source": [
    "### Generator Functions and Expressions"
   ]
  },
  {
   "cell_type": "markdown",
   "id": "5f7c4d41",
   "metadata": {},
   "source": [
    "- Generators provides tools that produce results only when needed, instead of all at once. \n",
    "- Generator functions (available since 2.3) are coded as normal def statements, but use yield statements to return results one at a time, suspending and resuming their state between each.\n",
    "- Generator expressions (available since 2.4) are similar to the list comprehensions of the prior section, but they return an object that produces results on demand instead of building a result list."
   ]
  },
  {
   "cell_type": "markdown",
   "id": "0384dd6d",
   "metadata": {},
   "source": [
    "### Generator Functions: yield Versus return \n",
    "- The chief code difference between generator and normal functions is that a generator yields a value, rather than returning one—the yield statement suspends the function and sends a value back to the caller, but retains enough state to enable the function to resume from where it left off."
   ]
  },
  {
   "cell_type": "markdown",
   "id": "32dd67eb",
   "metadata": {},
   "source": [
    "### Generator functions in action"
   ]
  },
  {
   "cell_type": "code",
   "execution_count": 1,
   "id": "d01f80f8",
   "metadata": {},
   "outputs": [],
   "source": [
    "def gensquares(N):\n",
    "    for i in range(N):\n",
    "        yield i ** 2 # Resume here later"
   ]
  },
  {
   "cell_type": "code",
   "execution_count": 2,
   "id": "12af3677",
   "metadata": {},
   "outputs": [
    {
     "data": {
      "text/plain": [
       "<generator object gensquares at 0x0000021CC49ECF20>"
      ]
     },
     "execution_count": 2,
     "metadata": {},
     "output_type": "execute_result"
    }
   ],
   "source": [
    "x = gensquares(4)\n",
    "x"
   ]
  },
  {
   "cell_type": "code",
   "execution_count": 3,
   "id": "9f7e2ea9",
   "metadata": {},
   "outputs": [
    {
     "data": {
      "text/plain": [
       "0"
      ]
     },
     "execution_count": 3,
     "metadata": {},
     "output_type": "execute_result"
    }
   ],
   "source": [
    "next(x)"
   ]
  },
  {
   "cell_type": "code",
   "execution_count": 4,
   "id": "7c5efa68",
   "metadata": {},
   "outputs": [
    {
     "data": {
      "text/plain": [
       "1"
      ]
     },
     "execution_count": 4,
     "metadata": {},
     "output_type": "execute_result"
    }
   ],
   "source": [
    "next(x)"
   ]
  },
  {
   "cell_type": "code",
   "execution_count": 5,
   "id": "4629b9d7",
   "metadata": {},
   "outputs": [
    {
     "data": {
      "text/plain": [
       "4"
      ]
     },
     "execution_count": 5,
     "metadata": {},
     "output_type": "execute_result"
    }
   ],
   "source": [
    "next(x)"
   ]
  },
  {
   "cell_type": "code",
   "execution_count": 6,
   "id": "40270c13",
   "metadata": {},
   "outputs": [
    {
     "data": {
      "text/plain": [
       "9"
      ]
     },
     "execution_count": 6,
     "metadata": {},
     "output_type": "execute_result"
    }
   ],
   "source": [
    "next(x)"
   ]
  },
  {
   "cell_type": "code",
   "execution_count": 7,
   "id": "faa5ba0d",
   "metadata": {},
   "outputs": [
    {
     "ename": "StopIteration",
     "evalue": "",
     "output_type": "error",
     "traceback": [
      "\u001b[1;31m---------------------------------------------------------------------------\u001b[0m",
      "\u001b[1;31mStopIteration\u001b[0m                             Traceback (most recent call last)",
      "\u001b[1;32m<ipython-input-7-92de4e9f6b1e>\u001b[0m in \u001b[0;36m<module>\u001b[1;34m\u001b[0m\n\u001b[1;32m----> 1\u001b[1;33m \u001b[0mnext\u001b[0m\u001b[1;33m(\u001b[0m\u001b[0mx\u001b[0m\u001b[1;33m)\u001b[0m\u001b[1;33m\u001b[0m\u001b[1;33m\u001b[0m\u001b[0m\n\u001b[0m",
      "\u001b[1;31mStopIteration\u001b[0m: "
     ]
    }
   ],
   "source": [
    "next(x)"
   ]
  },
  {
   "cell_type": "markdown",
   "id": "a067656e",
   "metadata": {},
   "source": [
    "#### Why Generators? \n",
    "- generators can be better in terms of both memory use and performance in larger programs.\n",
    "- They allow functions to avoid doing all the work up front, which is especially useful when the result lists are large or when it takes a lot of computation to produce each value. Generators distribute the time required to produce the series of values among loop iterations"
   ]
  },
  {
   "cell_type": "code",
   "execution_count": 8,
   "id": "65fb6292",
   "metadata": {},
   "outputs": [],
   "source": [
    "def ups(line):\n",
    "    for sub in line.split(','):\n",
    "        yield sub.upper() # Substring\n",
    "        "
   ]
  },
  {
   "cell_type": "code",
   "execution_count": 9,
   "id": "8c95026b",
   "metadata": {},
   "outputs": [
    {
     "data": {
      "text/plain": [
       "('AAA', ' BBB', ' CCC')"
      ]
     },
     "execution_count": 9,
     "metadata": {},
     "output_type": "execute_result"
    }
   ],
   "source": [
    "tuple(ups('aaa, bbb, ccc')) # All iteration contexts"
   ]
  },
  {
   "cell_type": "code",
   "execution_count": 10,
   "id": "ce46720d",
   "metadata": {},
   "outputs": [
    {
     "data": {
      "text/plain": [
       "{0: 'AAA', 1: ' BBB', 2: ' CCC'}"
      ]
     },
     "execution_count": 10,
     "metadata": {},
     "output_type": "execute_result"
    }
   ],
   "source": [
    "{i: s for (i, s) in enumerate(ups('aaa, bbb, ccc'))}"
   ]
  },
  {
   "cell_type": "markdown",
   "id": "3efcd89c",
   "metadata": {},
   "source": [
    "### Generator Expressions: Iterables Meet Comprehensions \n",
    "- Syntactically, generator expressions are just like normal list comprehensions, and support all their syntax—including if filters and loop nesting—but they are enclosed in parentheses instead of square brackets (like tuples, their enclosing parentheses are often optional):"
   ]
  },
  {
   "cell_type": "code",
   "execution_count": 1,
   "id": "d27e9603",
   "metadata": {},
   "outputs": [
    {
     "data": {
      "text/plain": [
       "[0, 1, 4, 9]"
      ]
     },
     "execution_count": 1,
     "metadata": {},
     "output_type": "execute_result"
    }
   ],
   "source": [
    "# List comprehension: build a list \n",
    "[x ** 2 for x in range(4)]"
   ]
  },
  {
   "cell_type": "code",
   "execution_count": 2,
   "id": "116d7e13",
   "metadata": {},
   "outputs": [
    {
     "data": {
      "text/plain": [
       "<generator object <genexpr> at 0x000001906F49CC10>"
      ]
     },
     "execution_count": 2,
     "metadata": {},
     "output_type": "execute_result"
    }
   ],
   "source": [
    "# Generator expression: make an iterable \n",
    "(x ** 2 for x in range(4))"
   ]
  },
  {
   "cell_type": "code",
   "execution_count": 3,
   "id": "fd7e81d1",
   "metadata": {},
   "outputs": [
    {
     "data": {
      "text/plain": [
       "[0, 1, 4, 9]"
      ]
     },
     "execution_count": 3,
     "metadata": {},
     "output_type": "execute_result"
    }
   ],
   "source": [
    "# List comrepehension equivalence \n",
    "list(x ** 2 for x in range(4))"
   ]
  },
  {
   "cell_type": "code",
   "execution_count": 4,
   "id": "966068aa",
   "metadata": {},
   "outputs": [],
   "source": [
    "G = (x ** 2 for x in range(4))"
   ]
  },
  {
   "cell_type": "code",
   "execution_count": 5,
   "id": "251c201f",
   "metadata": {},
   "outputs": [
    {
     "data": {
      "text/plain": [
       "True"
      ]
     },
     "execution_count": 5,
     "metadata": {},
     "output_type": "execute_result"
    }
   ],
   "source": [
    "iter(G) is G # iter(G) optional: __iter__ returns self"
   ]
  },
  {
   "cell_type": "code",
   "execution_count": 6,
   "id": "852b87b4",
   "metadata": {},
   "outputs": [
    {
     "data": {
      "text/plain": [
       "0"
      ]
     },
     "execution_count": 6,
     "metadata": {},
     "output_type": "execute_result"
    }
   ],
   "source": [
    "next(G)"
   ]
  },
  {
   "cell_type": "code",
   "execution_count": 7,
   "id": "4a7d3e85",
   "metadata": {},
   "outputs": [
    {
     "data": {
      "text/plain": [
       "1"
      ]
     },
     "execution_count": 7,
     "metadata": {},
     "output_type": "execute_result"
    }
   ],
   "source": [
    "next(G)"
   ]
  },
  {
   "cell_type": "code",
   "execution_count": 8,
   "id": "bc8aa063",
   "metadata": {},
   "outputs": [
    {
     "data": {
      "text/plain": [
       "4"
      ]
     },
     "execution_count": 8,
     "metadata": {},
     "output_type": "execute_result"
    }
   ],
   "source": [
    "next(G)"
   ]
  },
  {
   "cell_type": "code",
   "execution_count": 9,
   "id": "72e6820b",
   "metadata": {},
   "outputs": [
    {
     "data": {
      "text/plain": [
       "9"
      ]
     },
     "execution_count": 9,
     "metadata": {},
     "output_type": "execute_result"
    }
   ],
   "source": [
    "next(G)"
   ]
  },
  {
   "cell_type": "code",
   "execution_count": 10,
   "id": "ee063209",
   "metadata": {},
   "outputs": [
    {
     "ename": "StopIteration",
     "evalue": "",
     "output_type": "error",
     "traceback": [
      "\u001b[1;31m---------------------------------------------------------------------------\u001b[0m",
      "\u001b[1;31mStopIteration\u001b[0m                             Traceback (most recent call last)",
      "\u001b[1;32m<ipython-input-10-b4d1fcb0baf1>\u001b[0m in \u001b[0;36m<module>\u001b[1;34m\u001b[0m\n\u001b[1;32m----> 1\u001b[1;33m \u001b[0mnext\u001b[0m\u001b[1;33m(\u001b[0m\u001b[0mG\u001b[0m\u001b[1;33m)\u001b[0m\u001b[1;33m\u001b[0m\u001b[1;33m\u001b[0m\u001b[0m\n\u001b[0m",
      "\u001b[1;31mStopIteration\u001b[0m: "
     ]
    }
   ],
   "source": [
    "next(G)"
   ]
  },
  {
   "cell_type": "code",
   "execution_count": 11,
   "id": "793508c3",
   "metadata": {},
   "outputs": [
    {
     "data": {
      "text/plain": [
       "<generator object <genexpr> at 0x000001906F529190>"
      ]
     },
     "execution_count": 11,
     "metadata": {},
     "output_type": "execute_result"
    }
   ],
   "source": [
    "G"
   ]
  },
  {
   "cell_type": "code",
   "execution_count": 12,
   "id": "5176a42e",
   "metadata": {},
   "outputs": [
    {
     "name": "stdout",
     "output_type": "stream",
     "text": [
      "0, 0.0\n",
      "1, 0.5\n",
      "4, 2.0\n",
      "9, 4.5\n"
     ]
    }
   ],
   "source": [
    "for num in (x ** 2 for x in range(4)):\n",
    "    print('{}, {}'.format(num, num/2.0))"
   ]
  },
  {
   "cell_type": "code",
   "execution_count": 14,
   "id": "9d015275",
   "metadata": {},
   "outputs": [
    {
     "data": {
      "text/plain": [
       "'AAA BBB CCC'"
      ]
     },
     "execution_count": 14,
     "metadata": {},
     "output_type": "execute_result"
    }
   ],
   "source": [
    "' '.join(x.upper() for x in 'aaa,bbb,ccc'.split(','))"
   ]
  },
  {
   "cell_type": "code",
   "execution_count": 15,
   "id": "ba25e1d5",
   "metadata": {},
   "outputs": [
    {
     "data": {
      "text/plain": [
       "14"
      ]
     },
     "execution_count": 15,
     "metadata": {},
     "output_type": "execute_result"
    }
   ],
   "source": [
    "sum(x ** 2 for x in range(4)) # Parentheses optional"
   ]
  },
  {
   "cell_type": "code",
   "execution_count": 16,
   "id": "40c5183d",
   "metadata": {},
   "outputs": [
    {
     "data": {
      "text/plain": [
       "[0, 1, 4, 9]"
      ]
     },
     "execution_count": 16,
     "metadata": {},
     "output_type": "execute_result"
    }
   ],
   "source": [
    "sorted(x ** 2 for x in range(4)) # Parentheses optional"
   ]
  },
  {
   "cell_type": "code",
   "execution_count": 18,
   "id": "e08e95ba",
   "metadata": {},
   "outputs": [
    {
     "data": {
      "text/plain": [
       "[9, 4, 1, 0]"
      ]
     },
     "execution_count": 18,
     "metadata": {},
     "output_type": "execute_result"
    }
   ],
   "source": [
    "sorted((x ** 2 for x in range(4)), reverse = True) # Parentheses required"
   ]
  },
  {
   "cell_type": "markdown",
   "id": "0d42a480",
   "metadata": {},
   "source": [
    "### Why generator expressions? \n",
    "- generator expressions are a memory-space optimization —they do not require the entire result list to be constructed all at once\n",
    "- like generator functions, they divide the work of results production into smaller time slices\n",
    "- generator expressions may also run slightly slower than list comprehensions in practice\n"
   ]
  },
  {
   "cell_type": "markdown",
   "id": "2cf00dbb",
   "metadata": {},
   "source": [
    "#### Generator expressions versus map \n",
    "- both generate result items on request \n",
    "- map makes temporary lists and generator expressions do not,"
   ]
  },
  {
   "cell_type": "code",
   "execution_count": 19,
   "id": "f43496ce",
   "metadata": {},
   "outputs": [
    {
     "data": {
      "text/plain": [
       "[1, 2, 3, 4]"
      ]
     },
     "execution_count": 19,
     "metadata": {},
     "output_type": "execute_result"
    }
   ],
   "source": [
    "list(map(abs, (-1, -2, -3, -4))) # Map function on tuple"
   ]
  },
  {
   "cell_type": "code",
   "execution_count": 21,
   "id": "1eef407b",
   "metadata": {},
   "outputs": [
    {
     "data": {
      "text/plain": [
       "[1, 2, 3, 4]"
      ]
     },
     "execution_count": 21,
     "metadata": {},
     "output_type": "execute_result"
    }
   ],
   "source": [
    "list(abs(x) for x in (-1, -2, -3, -4)) # Generator expression"
   ]
  },
  {
   "cell_type": "code",
   "execution_count": 23,
   "id": "2fe61494",
   "metadata": {},
   "outputs": [
    {
     "data": {
      "text/plain": [
       "[2, 4, 6, 8]"
      ]
     },
     "execution_count": 23,
     "metadata": {},
     "output_type": "execute_result"
    }
   ],
   "source": [
    "list(map(lambda x: x * 2, (1, 2, 3, 4))) # Non function use"
   ]
  },
  {
   "cell_type": "code",
   "execution_count": 24,
   "id": "409d7136",
   "metadata": {},
   "outputs": [
    {
     "data": {
      "text/plain": [
       "[2, 4, 6, 8]"
      ]
     },
     "execution_count": 24,
     "metadata": {},
     "output_type": "execute_result"
    }
   ],
   "source": [
    "list(x * 2 for x in (1, 2, 3, 4)) # Simpler as generator?"
   ]
  },
  {
   "cell_type": "markdown",
   "id": "b35c21d6",
   "metadata": {},
   "source": [
    "#### Nesting"
   ]
  },
  {
   "cell_type": "code",
   "execution_count": 25,
   "id": "e2149798",
   "metadata": {},
   "outputs": [
    {
     "data": {
      "text/plain": [
       "[2, 4, 6, 8]"
      ]
     },
     "execution_count": 25,
     "metadata": {},
     "output_type": "execute_result"
    }
   ],
   "source": [
    "[x * 2 for x in [abs(x) for x in (-1, -2, 3, 4)]] # Nested comprehension "
   ]
  },
  {
   "cell_type": "code",
   "execution_count": 26,
   "id": "6fe25aec",
   "metadata": {},
   "outputs": [
    {
     "data": {
      "text/plain": [
       "[2, 4, 6, 8]"
      ]
     },
     "execution_count": 26,
     "metadata": {},
     "output_type": "execute_result"
    }
   ],
   "source": [
    "list(map(lambda x : x * 2, map(abs, (-1, -2, 3, 4)))) # Nested maps"
   ]
  },
  {
   "cell_type": "code",
   "execution_count": 27,
   "id": "d3b519fa",
   "metadata": {},
   "outputs": [
    {
     "data": {
      "text/plain": [
       "[2, 4, 6, 8]"
      ]
     },
     "execution_count": 27,
     "metadata": {},
     "output_type": "execute_result"
    }
   ],
   "source": [
    "list(x * 2 for x in (abs(x) for x in (-1, -2, 3, 4))) # Nested generators"
   ]
  },
  {
   "cell_type": "code",
   "execution_count": 28,
   "id": "2aa0362e",
   "metadata": {},
   "outputs": [
    {
     "data": {
      "text/plain": [
       "[0.0, 1.0, 2.0, 3.0]"
      ]
     },
     "execution_count": 28,
     "metadata": {},
     "output_type": "execute_result"
    }
   ],
   "source": [
    "import math \n",
    "list(map(math.sqrt, (x ** 2 for x in range(4)))) # Nested combinations"
   ]
  },
  {
   "cell_type": "code",
   "execution_count": 29,
   "id": "450d56da",
   "metadata": {},
   "outputs": [
    {
     "data": {
      "text/plain": [
       "[1, 0, 1]"
      ]
     },
     "execution_count": 29,
     "metadata": {},
     "output_type": "execute_result"
    }
   ],
   "source": [
    "list(map(abs, map(abs, map(abs, (-1, 0, 1))))) # Nesting gone bad?"
   ]
  },
  {
   "cell_type": "code",
   "execution_count": 31,
   "id": "dc61bee6",
   "metadata": {},
   "outputs": [
    {
     "data": {
      "text/plain": [
       "[1, 0, 1]"
      ]
     },
     "execution_count": 31,
     "metadata": {},
     "output_type": "execute_result"
    }
   ],
   "source": [
    "list(abs(x) for x in (abs(x) for x in (abs(x) for x in (-1, 0, 1))))"
   ]
  },
  {
   "cell_type": "markdown",
   "id": "baf91a01",
   "metadata": {},
   "source": [
    "- Keep it simple unless they must be complex \n",
    "- flat is often better then nested"
   ]
  },
  {
   "cell_type": "code",
   "execution_count": 32,
   "id": "5399ad69",
   "metadata": {},
   "outputs": [
    {
     "data": {
      "text/plain": [
       "[2, 4, 6, 8]"
      ]
     },
     "execution_count": 32,
     "metadata": {},
     "output_type": "execute_result"
    }
   ],
   "source": [
    "list(abs(x) * 2 for x in (-1, -2, 3, 4)) # Unnested equivalents"
   ]
  },
  {
   "cell_type": "code",
   "execution_count": 35,
   "id": "ae21f99a",
   "metadata": {},
   "outputs": [
    {
     "data": {
      "text/plain": [
       "[0.0, 1.0, 2.0, 3.0]"
      ]
     },
     "execution_count": 35,
     "metadata": {},
     "output_type": "execute_result"
    }
   ],
   "source": [
    "list(math.sqrt(x ** 2) for x in range(4)) # Flat is often better"
   ]
  },
  {
   "cell_type": "code",
   "execution_count": 36,
   "id": "c62a4f16",
   "metadata": {},
   "outputs": [
    {
     "data": {
      "text/plain": [
       "[1, 0, 1]"
      ]
     },
     "execution_count": 36,
     "metadata": {},
     "output_type": "execute_result"
    }
   ],
   "source": [
    "list(abs(x) for x in (-1, 0, 1))"
   ]
  },
  {
   "cell_type": "markdown",
   "id": "ab9bcace",
   "metadata": {},
   "source": [
    "#### Generator expressions versus filter"
   ]
  },
  {
   "cell_type": "code",
   "execution_count": 42,
   "id": "262e0fcf",
   "metadata": {},
   "outputs": [
    {
     "data": {
      "text/plain": [
       "'aabbb'"
      ]
     },
     "execution_count": 42,
     "metadata": {},
     "output_type": "execute_result"
    }
   ],
   "source": [
    "line = 'aa bbb c' \n",
    "''.join(x for x in line.split() if len(x) > 1) # Generator with 'if'"
   ]
  },
  {
   "cell_type": "code",
   "execution_count": 43,
   "id": "79868917",
   "metadata": {},
   "outputs": [
    {
     "data": {
      "text/plain": [
       "'aabbb'"
      ]
     },
     "execution_count": 43,
     "metadata": {},
     "output_type": "execute_result"
    }
   ],
   "source": [
    "''.join(filter(lambda x: len(x) > 1, line.split())) # similar to filter"
   ]
  },
  {
   "cell_type": "markdown",
   "id": "bddab303",
   "metadata": {},
   "source": [
    "- adding processing steps to filter results requires a map too, which makes filter noticeably more complex than a generator expression"
   ]
  },
  {
   "cell_type": "code",
   "execution_count": 37,
   "id": "b9193b86",
   "metadata": {},
   "outputs": [
    {
     "data": {
      "text/plain": [
       "'AABBB'"
      ]
     },
     "execution_count": 37,
     "metadata": {},
     "output_type": "execute_result"
    }
   ],
   "source": [
    "''.join(x.upper() for x in line.split() if len(x) > 1)"
   ]
  },
  {
   "cell_type": "code",
   "execution_count": 41,
   "id": "c45c161a",
   "metadata": {},
   "outputs": [
    {
     "data": {
      "text/plain": [
       "'AABBBC'"
      ]
     },
     "execution_count": 41,
     "metadata": {},
     "output_type": "execute_result"
    }
   ],
   "source": [
    "''.join(map(str.upper, filter(lambda x: len(x), line.split())))"
   ]
  },
  {
   "cell_type": "code",
   "execution_count": 44,
   "id": "3a31ca9f",
   "metadata": {},
   "outputs": [
    {
     "data": {
      "text/plain": [
       "'AABBB'"
      ]
     },
     "execution_count": 44,
     "metadata": {},
     "output_type": "execute_result"
    }
   ],
   "source": [
    "''.join(x.upper() for x in line.split() if len(x) > 1)"
   ]
  },
  {
   "cell_type": "code",
   "execution_count": 47,
   "id": "ca4cf857",
   "metadata": {},
   "outputs": [
    {
     "data": {
      "text/plain": [
       "'AABBB'"
      ]
     },
     "execution_count": 47,
     "metadata": {},
     "output_type": "execute_result"
    }
   ],
   "source": [
    "res = ''\n",
    "for x in line.split():\n",
    "    if len(x) > 1: \n",
    "        res += x.upper()\n",
    "res"
   ]
  },
  {
   "cell_type": "markdown",
   "id": "a15e85ad",
   "metadata": {},
   "source": [
    "- The true equivalent to a generator expression would be a generator function with a yield,"
   ]
  },
  {
   "cell_type": "markdown",
   "id": "eda108e3",
   "metadata": {},
   "source": [
    "### Generator Functions Versus Generator Expressions \n",
    "\n",
    "#### Generator Functions \n",
    "- A function def statement that contains a yield statement is turned into a generator function, it returns a new generator object \n",
    "\n",
    "#### Generator Expressions\n",
    "- A comprehension expression enclosed in parentheses is known as a generator expression. It returns a new generator object"
   ]
  },
  {
   "cell_type": "markdown",
   "id": "fcf99e3b",
   "metadata": {},
   "source": [
    "- Generator expression"
   ]
  },
  {
   "cell_type": "code",
   "execution_count": 57,
   "id": "5523b4f3",
   "metadata": {},
   "outputs": [
    {
     "data": {
      "text/plain": [
       "<generator object <genexpr> at 0x000001906F5D7200>"
      ]
     },
     "execution_count": 57,
     "metadata": {},
     "output_type": "execute_result"
    }
   ],
   "source": [
    "G = (c * 4 for c in 'SPAM') # Generator expression\n",
    "G"
   ]
  },
  {
   "cell_type": "code",
   "execution_count": 58,
   "id": "ea2a2de4",
   "metadata": {
    "scrolled": true
   },
   "outputs": [
    {
     "data": {
      "text/plain": [
       "['SSSS', 'PPPP', 'AAAA', 'MMMM']"
      ]
     },
     "execution_count": 58,
     "metadata": {},
     "output_type": "execute_result"
    }
   ],
   "source": [
    "list(G) # Force generator to produce all results"
   ]
  },
  {
   "cell_type": "code",
   "execution_count": 61,
   "id": "6dc51dcc",
   "metadata": {},
   "outputs": [],
   "source": [
    "G = (c * 4 for c in 'SPAM')"
   ]
  },
  {
   "cell_type": "code",
   "execution_count": 62,
   "id": "49a3156b",
   "metadata": {},
   "outputs": [
    {
     "data": {
      "text/plain": [
       "'SSSS'"
      ]
     },
     "execution_count": 62,
     "metadata": {},
     "output_type": "execute_result"
    }
   ],
   "source": [
    "next(G) # Iterate manually"
   ]
  },
  {
   "cell_type": "code",
   "execution_count": 63,
   "id": "4e6e0e30",
   "metadata": {},
   "outputs": [
    {
     "data": {
      "text/plain": [
       "'PPPP'"
      ]
     },
     "execution_count": 63,
     "metadata": {},
     "output_type": "execute_result"
    }
   ],
   "source": [
    "next(G)"
   ]
  },
  {
   "cell_type": "markdown",
   "id": "1e800467",
   "metadata": {},
   "source": [
    "- Generator function"
   ]
  },
  {
   "cell_type": "code",
   "execution_count": 50,
   "id": "c322ebcb",
   "metadata": {},
   "outputs": [],
   "source": [
    "def timesfour(S): # Generator function\n",
    "    for c in S: \n",
    "        yield c * 4"
   ]
  },
  {
   "cell_type": "code",
   "execution_count": 51,
   "id": "6c3fe487",
   "metadata": {},
   "outputs": [
    {
     "data": {
      "text/plain": [
       "['ssss', 'pppp', 'aaaa', 'mmmm']"
      ]
     },
     "execution_count": 51,
     "metadata": {},
     "output_type": "execute_result"
    }
   ],
   "source": [
    "G = timesfour('spam')\n",
    "list(G) # Iterate automatically"
   ]
  },
  {
   "cell_type": "code",
   "execution_count": 64,
   "id": "38b006ee",
   "metadata": {},
   "outputs": [],
   "source": [
    "G = timesfour('spam')"
   ]
  },
  {
   "cell_type": "code",
   "execution_count": 65,
   "id": "d3db2995",
   "metadata": {},
   "outputs": [
    {
     "data": {
      "text/plain": [
       "'ssss'"
      ]
     },
     "execution_count": 65,
     "metadata": {},
     "output_type": "execute_result"
    }
   ],
   "source": [
    "next(G) # Iterate manually"
   ]
  },
  {
   "cell_type": "code",
   "execution_count": 66,
   "id": "3d1768be",
   "metadata": {},
   "outputs": [
    {
     "data": {
      "text/plain": [
       "'pppp'"
      ]
     },
     "execution_count": 66,
     "metadata": {},
     "output_type": "execute_result"
    }
   ],
   "source": [
    "next(G)"
   ]
  },
  {
   "cell_type": "markdown",
   "id": "b3e18802",
   "metadata": {},
   "source": [
    "### Generators Are Single-Iteration Objects \n",
    "- both generator functions and generator expressions are their own iterators and thus support just one active iteration, you can’t have multiple iterators of either positioned at different locations in the set of results. \n",
    "- Moreover, once any iteration runs to completion, all are exhausted—we have to make a new generator to start again:"
   ]
  },
  {
   "cell_type": "code",
   "execution_count": 67,
   "id": "bda9e3fc",
   "metadata": {},
   "outputs": [
    {
     "data": {
      "text/plain": [
       "1"
      ]
     },
     "execution_count": 67,
     "metadata": {},
     "output_type": "execute_result"
    }
   ],
   "source": [
    "# Lists support multiple iterators \n",
    "L = [1, 2, 3, 4]\n",
    "I1, I2 = iter(L), iter(L)\n",
    "next(I1)"
   ]
  },
  {
   "cell_type": "code",
   "execution_count": 68,
   "id": "9f7874bb",
   "metadata": {},
   "outputs": [
    {
     "data": {
      "text/plain": [
       "2"
      ]
     },
     "execution_count": 68,
     "metadata": {},
     "output_type": "execute_result"
    }
   ],
   "source": [
    "next(I1)"
   ]
  },
  {
   "cell_type": "code",
   "execution_count": 69,
   "id": "21c0c168",
   "metadata": {},
   "outputs": [
    {
     "data": {
      "text/plain": [
       "1"
      ]
     },
     "execution_count": 69,
     "metadata": {},
     "output_type": "execute_result"
    }
   ],
   "source": [
    "next(I2)"
   ]
  },
  {
   "cell_type": "code",
   "execution_count": 71,
   "id": "b551e910",
   "metadata": {},
   "outputs": [
    {
     "data": {
      "text/plain": [
       "2"
      ]
     },
     "execution_count": 71,
     "metadata": {},
     "output_type": "execute_result"
    }
   ],
   "source": [
    "next(I2)"
   ]
  },
  {
   "cell_type": "code",
   "execution_count": 72,
   "id": "226dae1e",
   "metadata": {},
   "outputs": [],
   "source": [
    "def both(N):\n",
    "    yield from range(N)\n",
    "    yield from (x ** 2 for x in range(N))"
   ]
  },
  {
   "cell_type": "code",
   "execution_count": 73,
   "id": "c14bfcdc",
   "metadata": {},
   "outputs": [
    {
     "data": {
      "text/plain": [
       "[0, 1, 2, 3, 4, 0, 1, 4, 9, 16]"
      ]
     },
     "execution_count": 73,
     "metadata": {},
     "output_type": "execute_result"
    }
   ],
   "source": [
    "list(both(5))"
   ]
  },
  {
   "cell_type": "markdown",
   "id": "c331a0bd",
   "metadata": {},
   "source": [
    "### Generation in Built-in Types, Tools, and Classes \n",
    "- dictionaries are iterables with iterators that produce keys on each iteration"
   ]
  },
  {
   "cell_type": "code",
   "execution_count": 74,
   "id": "39d2fddd",
   "metadata": {},
   "outputs": [
    {
     "data": {
      "text/plain": [
       "'a'"
      ]
     },
     "execution_count": 74,
     "metadata": {},
     "output_type": "execute_result"
    }
   ],
   "source": [
    "D = {'a':1, 'b':2, 'c':3}\n",
    "x = iter(D)\n",
    "next(x)"
   ]
  },
  {
   "cell_type": "code",
   "execution_count": 75,
   "id": "248ee3ff",
   "metadata": {},
   "outputs": [
    {
     "name": "stdout",
     "output_type": "stream",
     "text": [
      "a 1\n",
      "b 2\n",
      "c 3\n"
     ]
    }
   ],
   "source": [
    "for key in D:\n",
    "    print(key, D[key])"
   ]
  },
  {
   "cell_type": "markdown",
   "id": "c50d948a",
   "metadata": {},
   "source": [
    "#### Generators and function application"
   ]
  },
  {
   "cell_type": "code",
   "execution_count": 76,
   "id": "faad83f4",
   "metadata": {},
   "outputs": [],
   "source": [
    "def f(a, b, c):\n",
    "    print('{}, {} and {}'.format(a, b, c))"
   ]
  },
  {
   "cell_type": "code",
   "execution_count": 77,
   "id": "4da50e7b",
   "metadata": {},
   "outputs": [
    {
     "name": "stdout",
     "output_type": "stream",
     "text": [
      "0, 1 and 2\n"
     ]
    }
   ],
   "source": [
    "f(0, 1, 2) # Normal positionals"
   ]
  },
  {
   "cell_type": "code",
   "execution_count": 82,
   "id": "08c2750b",
   "metadata": {},
   "outputs": [
    {
     "name": "stdout",
     "output_type": "stream",
     "text": [
      "0, 1 and 2\n"
     ]
    }
   ],
   "source": [
    "f(*range(3)) # unpack range values"
   ]
  },
  {
   "cell_type": "code",
   "execution_count": 86,
   "id": "bf63b2bb",
   "metadata": {},
   "outputs": [
    {
     "name": "stdout",
     "output_type": "stream",
     "text": [
      "0, 1 and 2\n"
     ]
    }
   ],
   "source": [
    "f(*(i for i in range(3))) # unpack generator expression values"
   ]
  },
  {
   "cell_type": "code",
   "execution_count": 87,
   "id": "fa421991",
   "metadata": {},
   "outputs": [
    {
     "data": {
      "text/plain": [
       "{'a': 'Bob', 'b': 'dev', 'c': 40.5}"
      ]
     },
     "execution_count": 87,
     "metadata": {},
     "output_type": "execute_result"
    }
   ],
   "source": [
    "D = dict(a='Bob', b='dev', c=40.5)\n",
    "D"
   ]
  },
  {
   "cell_type": "code",
   "execution_count": 88,
   "id": "cbe3fcae",
   "metadata": {},
   "outputs": [
    {
     "name": "stdout",
     "output_type": "stream",
     "text": [
      "Bob, dev and 40.5\n"
     ]
    }
   ],
   "source": [
    "f(a='Bob', b='dev', c=40.5) # Normal keywords"
   ]
  },
  {
   "cell_type": "code",
   "execution_count": 89,
   "id": "767e384f",
   "metadata": {},
   "outputs": [
    {
     "name": "stdout",
     "output_type": "stream",
     "text": [
      "Bob, dev and 40.5\n"
     ]
    }
   ],
   "source": [
    "f('Bob', 'dev', 40.5) # positionals"
   ]
  },
  {
   "cell_type": "code",
   "execution_count": 90,
   "id": "ba16e9ba",
   "metadata": {},
   "outputs": [
    {
     "name": "stdout",
     "output_type": "stream",
     "text": [
      "Bob, dev and 40.5\n"
     ]
    }
   ],
   "source": [
    "f(**D) # unpack dict: key=value"
   ]
  },
  {
   "cell_type": "code",
   "execution_count": 96,
   "id": "3a408946",
   "metadata": {},
   "outputs": [
    {
     "name": "stdout",
     "output_type": "stream",
     "text": [
      "Bob, dev and 40.5\n"
     ]
    }
   ],
   "source": [
    "f(*D.values())"
   ]
  },
  {
   "cell_type": "code",
   "execution_count": 94,
   "id": "740594fb",
   "metadata": {},
   "outputs": [
    {
     "name": "stdout",
     "output_type": "stream",
     "text": [
      "a, b and c\n"
     ]
    }
   ],
   "source": [
    "f(*D.keys()) # unpack dict keys"
   ]
  },
  {
   "cell_type": "code",
   "execution_count": 95,
   "id": "9cdbdb3d",
   "metadata": {},
   "outputs": [
    {
     "name": "stdout",
     "output_type": "stream",
     "text": [
      "a, b and c\n"
     ]
    }
   ],
   "source": [
    "f(*D) # unpack dict keys"
   ]
  },
  {
   "cell_type": "code",
   "execution_count": 97,
   "id": "cb543d64",
   "metadata": {},
   "outputs": [
    {
     "name": "stdout",
     "output_type": "stream",
     "text": [
      "S P A M\n"
     ]
    }
   ],
   "source": [
    "print(*(x.upper() for x in 'spam'))"
   ]
  },
  {
   "cell_type": "markdown",
   "id": "21505ce9",
   "metadata": {},
   "source": [
    "#### Scrambling sequences"
   ]
  },
  {
   "cell_type": "code",
   "execution_count": 98,
   "id": "96e8710f",
   "metadata": {},
   "outputs": [
    {
     "name": "stdout",
     "output_type": "stream",
     "text": [
      "pams amsp mspa spam "
     ]
    }
   ],
   "source": [
    "L, S = [1, 2, 3], 'spam'\n",
    "for i in range(len(S)): \n",
    "    S = S[1:] + S[:1] # Move front item to the end\n",
    "    print(S, end=' ')"
   ]
  },
  {
   "cell_type": "code",
   "execution_count": 102,
   "id": "59f0dd50",
   "metadata": {},
   "outputs": [
    {
     "name": "stdout",
     "output_type": "stream",
     "text": [
      "[2, 3, 1] [3, 1, 2] [1, 2, 3] "
     ]
    }
   ],
   "source": [
    "for i in range(len(L)): \n",
    "    L = L[1:] + L[:1]\n",
    "    print(L, end = ' ')"
   ]
  },
  {
   "cell_type": "markdown",
   "id": "6a8df19c",
   "metadata": {},
   "source": [
    "#### simple functions"
   ]
  },
  {
   "cell_type": "code",
   "execution_count": 103,
   "id": "9bc78508",
   "metadata": {},
   "outputs": [],
   "source": [
    "def scramble(seq):\n",
    "    res = []\n",
    "    for i in range(len(seq)):\n",
    "        res.append(seq[i:]  + seq[:i])\n",
    "    return res"
   ]
  },
  {
   "cell_type": "code",
   "execution_count": 104,
   "id": "3f53ac39",
   "metadata": {},
   "outputs": [
    {
     "data": {
      "text/plain": [
       "['spam', 'pams', 'amsp', 'mspa']"
      ]
     },
     "execution_count": 104,
     "metadata": {},
     "output_type": "execute_result"
    }
   ],
   "source": [
    "scramble('spam')"
   ]
  },
  {
   "cell_type": "code",
   "execution_count": 105,
   "id": "cc73962d",
   "metadata": {},
   "outputs": [],
   "source": [
    "def scramble(seq):\n",
    "    return [seq[i:] + seq[:i] for i in range(len(seq))]"
   ]
  },
  {
   "cell_type": "code",
   "execution_count": 107,
   "id": "caaba1c1",
   "metadata": {},
   "outputs": [
    {
     "data": {
      "text/plain": [
       "['spam', 'pams', 'amsp', 'mspa']"
      ]
     },
     "execution_count": 107,
     "metadata": {},
     "output_type": "execute_result"
    }
   ],
   "source": [
    "scramble('spam')"
   ]
  },
  {
   "cell_type": "code",
   "execution_count": 110,
   "id": "d982f454",
   "metadata": {},
   "outputs": [
    {
     "data": {
      "text/plain": [
       "[(1, 2, 3), (2, 3, 1), (3, 1, 2)]"
      ]
     },
     "execution_count": 110,
     "metadata": {},
     "output_type": "execute_result"
    }
   ],
   "source": [
    "scramble((1, 2, 3))"
   ]
  },
  {
   "cell_type": "code",
   "execution_count": 111,
   "id": "a815295d",
   "metadata": {},
   "outputs": [
    {
     "name": "stdout",
     "output_type": "stream",
     "text": [
      "(1, 2, 3) (2, 3, 1) (3, 1, 2) "
     ]
    }
   ],
   "source": [
    "for x in scramble((1, 2, 3)):\n",
    "    print(x, end = ' ')"
   ]
  },
  {
   "cell_type": "markdown",
   "id": "7191625a",
   "metadata": {},
   "source": [
    "#### Generator functions"
   ]
  },
  {
   "cell_type": "code",
   "execution_count": 114,
   "id": "77aba3b1",
   "metadata": {},
   "outputs": [],
   "source": [
    "def scramble(seq):\n",
    "    for i in range(len(seq)):\n",
    "        seq = seq[i:] + seq[:i] # Generator function\n",
    "        yield seq # Assignments work here"
   ]
  },
  {
   "cell_type": "code",
   "execution_count": 117,
   "id": "ba10ce99",
   "metadata": {},
   "outputs": [],
   "source": [
    "def scramble(seq):\n",
    "    for i in range(len(seq)): # Generator function\n",
    "        yield seq[i:] + seq[:i] # yield one item per time"
   ]
  },
  {
   "cell_type": "code",
   "execution_count": 118,
   "id": "37dfce99",
   "metadata": {},
   "outputs": [
    {
     "data": {
      "text/plain": [
       "['spam', 'pams', 'amsp', 'mspa']"
      ]
     },
     "execution_count": 118,
     "metadata": {},
     "output_type": "execute_result"
    }
   ],
   "source": [
    "list(scramble('spam')) # list generates all results"
   ]
  },
  {
   "cell_type": "code",
   "execution_count": 119,
   "id": "9267c9df",
   "metadata": {},
   "outputs": [
    {
     "data": {
      "text/plain": [
       "[(1, 2, 3), (2, 3, 1), (3, 1, 2)]"
      ]
     },
     "execution_count": 119,
     "metadata": {},
     "output_type": "execute_result"
    }
   ],
   "source": [
    "list(scramble((1, 2, 3))) # any sequence type works"
   ]
  },
  {
   "cell_type": "code",
   "execution_count": 120,
   "id": "ddb473b8",
   "metadata": {},
   "outputs": [
    {
     "name": "stdout",
     "output_type": "stream",
     "text": [
      "(1, 2, 3) (2, 3, 1) (3, 1, 2) "
     ]
    }
   ],
   "source": [
    "for x in scramble((1, 2, 3)):\n",
    "    print(x, end = ' ')"
   ]
  },
  {
   "cell_type": "markdown",
   "id": "d11cee1a",
   "metadata": {},
   "source": [
    "#### Generator expressions"
   ]
  },
  {
   "cell_type": "code",
   "execution_count": 121,
   "id": "30bd04b9",
   "metadata": {},
   "outputs": [
    {
     "data": {
      "text/plain": [
       "'spam'"
      ]
     },
     "execution_count": 121,
     "metadata": {},
     "output_type": "execute_result"
    }
   ],
   "source": [
    "S"
   ]
  },
  {
   "cell_type": "code",
   "execution_count": 123,
   "id": "6b4302d1",
   "metadata": {},
   "outputs": [
    {
     "data": {
      "text/plain": [
       "<generator object <genexpr> at 0x000001906F607F90>"
      ]
     },
     "execution_count": 123,
     "metadata": {},
     "output_type": "execute_result"
    }
   ],
   "source": [
    "G = (S[i:] + S[:i] for i in range(len(S)))\n",
    "G # generator object"
   ]
  },
  {
   "cell_type": "code",
   "execution_count": 125,
   "id": "f89dc556",
   "metadata": {},
   "outputs": [
    {
     "data": {
      "text/plain": [
       "<generator object <lambda>.<locals>.<genexpr> at 0x000001906F6063C0>"
      ]
     },
     "execution_count": 125,
     "metadata": {},
     "output_type": "execute_result"
    }
   ],
   "source": [
    "F = lambda seq: (seq[i:] + seq[:i] for i in range(len(seq))) \n",
    "F(S)"
   ]
  },
  {
   "cell_type": "code",
   "execution_count": 126,
   "id": "08bac5a1",
   "metadata": {},
   "outputs": [
    {
     "data": {
      "text/plain": [
       "['spam', 'pams', 'amsp', 'mspa']"
      ]
     },
     "execution_count": 126,
     "metadata": {},
     "output_type": "execute_result"
    }
   ],
   "source": [
    "list(F(S))"
   ]
  },
  {
   "cell_type": "code",
   "execution_count": 127,
   "id": "553fc320",
   "metadata": {},
   "outputs": [
    {
     "data": {
      "text/plain": [
       "[[1, 2, 3], [2, 3, 1], [3, 1, 2]]"
      ]
     },
     "execution_count": 127,
     "metadata": {},
     "output_type": "execute_result"
    }
   ],
   "source": [
    "list(F([1, 2, 3]))"
   ]
  },
  {
   "cell_type": "markdown",
   "id": "8432ef36",
   "metadata": {},
   "source": [
    "### Example: Emulating zip and map with Iteration Tools"
   ]
  },
  {
   "cell_type": "code",
   "execution_count": 130,
   "id": "1f75b6a4",
   "metadata": {},
   "outputs": [
    {
     "data": {
      "text/plain": [
       "[('a', 'x'), ('b', 'y'), ('c', 'z')]"
      ]
     },
     "execution_count": 130,
     "metadata": {},
     "output_type": "execute_result"
    }
   ],
   "source": [
    "S1 = 'abc'\n",
    "S2 = 'xyz123'\n",
    "list(zip(S1, S2)) # zip pairs items from iterables"
   ]
  },
  {
   "cell_type": "code",
   "execution_count": 133,
   "id": "f5c45fe9",
   "metadata": {},
   "outputs": [
    {
     "data": {
      "text/plain": [
       "[(-2,), (-1,), (0,), (1,), (2,)]"
      ]
     },
     "execution_count": 133,
     "metadata": {},
     "output_type": "execute_result"
    }
   ],
   "source": [
    "# zip pairs items, truncates at shortest\n",
    "list(zip([-2, -1, 0, 1, 2])) # Single sequence: 1-ary tuples"
   ]
  },
  {
   "cell_type": "code",
   "execution_count": 134,
   "id": "e827b94a",
   "metadata": {},
   "outputs": [
    {
     "data": {
      "text/plain": [
       "[(1, 2), (2, 3), (3, 4)]"
      ]
     },
     "execution_count": 134,
     "metadata": {},
     "output_type": "execute_result"
    }
   ],
   "source": [
    "list(zip([1, 2, 3], [2, 3, 4, 5])) # N sequences: N-ary tuples"
   ]
  },
  {
   "cell_type": "code",
   "execution_count": 136,
   "id": "b08ef41d",
   "metadata": {},
   "outputs": [
    {
     "data": {
      "text/plain": [
       "[2, 1, 0, 1, 2]"
      ]
     },
     "execution_count": 136,
     "metadata": {},
     "output_type": "execute_result"
    }
   ],
   "source": [
    "# map passes paired items to function, truncates\n",
    "list(map(abs, [-2, -1, 0, 1, 2])) # Single sequence: 1-ary function"
   ]
  },
  {
   "cell_type": "code",
   "execution_count": 137,
   "id": "733d0990",
   "metadata": {},
   "outputs": [
    {
     "data": {
      "text/plain": [
       "[1, 8, 81]"
      ]
     },
     "execution_count": 137,
     "metadata": {},
     "output_type": "execute_result"
    }
   ],
   "source": [
    "list(map(pow, [1, 2, 3], [2, 3, 4, 5])) # N sequences: N-ary function"
   ]
  },
  {
   "cell_type": "markdown",
   "id": "4d663cef",
   "metadata": {},
   "source": [
    "### Comprehension Syntax Summary"
   ]
  },
  {
   "cell_type": "code",
   "execution_count": 138,
   "id": "a9ca7fc4",
   "metadata": {},
   "outputs": [
    {
     "data": {
      "text/plain": [
       "{0, 1, 4, 9, 16, 25, 36, 49, 64, 81}"
      ]
     },
     "execution_count": 138,
     "metadata": {},
     "output_type": "execute_result"
    }
   ],
   "source": [
    "# set comprehension \n",
    "{x * x for x in range(10)}"
   ]
  },
  {
   "cell_type": "code",
   "execution_count": 142,
   "id": "a0766349",
   "metadata": {},
   "outputs": [
    {
     "data": {
      "text/plain": [
       "{0, 1, 4, 9, 16, 25, 36, 49, 64, 81}"
      ]
     },
     "execution_count": 142,
     "metadata": {},
     "output_type": "execute_result"
    }
   ],
   "source": [
    "# generator and type name\n",
    "set(x * x for x in range(10))"
   ]
  },
  {
   "cell_type": "code",
   "execution_count": 145,
   "id": "5ae55d4b",
   "metadata": {},
   "outputs": [
    {
     "data": {
      "text/plain": [
       "{0, 1, 4, 9, 16, 25, 36, 49, 64, 81}"
      ]
     },
     "execution_count": 145,
     "metadata": {},
     "output_type": "execute_result"
    }
   ],
   "source": [
    "res = set()\n",
    "for x in range(10): # Set comprehension equivalent \n",
    "    res.add(x * x) \n",
    "res"
   ]
  },
  {
   "cell_type": "code",
   "execution_count": 141,
   "id": "85672c95",
   "metadata": {},
   "outputs": [
    {
     "data": {
      "text/plain": [
       "{2: 0, 3: 1, 4: 4, 5: 9, 6: 16, 7: 25, 8: 36, 9: 49, 10: 64, 11: 81}"
      ]
     },
     "execution_count": 141,
     "metadata": {},
     "output_type": "execute_result"
    }
   ],
   "source": [
    "# Dictionary comprehension \n",
    "{x + 2 : x * x for x in range(10)}"
   ]
  },
  {
   "cell_type": "code",
   "execution_count": 143,
   "id": "bc943107",
   "metadata": {},
   "outputs": [
    {
     "data": {
      "text/plain": [
       "{2: 0, 3: 1, 4: 4, 5: 9, 6: 16, 7: 25, 8: 36, 9: 49, 10: 64, 11: 81}"
      ]
     },
     "execution_count": 143,
     "metadata": {},
     "output_type": "execute_result"
    }
   ],
   "source": [
    "# generator and type name\n",
    "dict((x + 2, x * x) for x in range(10))"
   ]
  },
  {
   "cell_type": "code",
   "execution_count": 146,
   "id": "4d184d46",
   "metadata": {},
   "outputs": [
    {
     "data": {
      "text/plain": [
       "{2: 0, 3: 1, 4: 4, 5: 9, 6: 16, 7: 25, 8: 36, 9: 49, 10: 64, 11: 81}"
      ]
     },
     "execution_count": 146,
     "metadata": {},
     "output_type": "execute_result"
    }
   ],
   "source": [
    "res = {}\n",
    "for x in range(10): # dict comprehension equivalent \n",
    "    res[x + 2] = x * x \n",
    "res"
   ]
  },
  {
   "cell_type": "markdown",
   "id": "08e9dd95",
   "metadata": {},
   "source": [
    "### Extended Comprehension Syntax for Sets and Dictionaries \n",
    "- both set and dictionary comprehensions support nested associated if clauses to filter items out of the result"
   ]
  },
  {
   "cell_type": "code",
   "execution_count": 147,
   "id": "20e4dfc3",
   "metadata": {},
   "outputs": [
    {
     "data": {
      "text/plain": [
       "[0, 4, 16, 36, 64]"
      ]
     },
     "execution_count": 147,
     "metadata": {},
     "output_type": "execute_result"
    }
   ],
   "source": [
    "[x * x for x in range(10) if x % 2 == 0] # Lists are ordered"
   ]
  },
  {
   "cell_type": "code",
   "execution_count": 148,
   "id": "c76db85a",
   "metadata": {},
   "outputs": [
    {
     "data": {
      "text/plain": [
       "{0, 4, 16, 36, 64}"
      ]
     },
     "execution_count": 148,
     "metadata": {},
     "output_type": "execute_result"
    }
   ],
   "source": [
    "{x * x for x in range(10) if x % 2 == 0} # sets are unordered"
   ]
  },
  {
   "cell_type": "code",
   "execution_count": 149,
   "id": "0ca6c848",
   "metadata": {},
   "outputs": [
    {
     "data": {
      "text/plain": [
       "{2: 0, 4: 4, 6: 16, 8: 36, 10: 64}"
      ]
     },
     "execution_count": 149,
     "metadata": {},
     "output_type": "execute_result"
    }
   ],
   "source": [
    "{x + 2 : x * x for x in range(10) if x % 2 == 0} # dicts are unordered"
   ]
  },
  {
   "cell_type": "markdown",
   "id": "e3955517",
   "metadata": {},
   "source": [
    "#### Nesting"
   ]
  },
  {
   "cell_type": "code",
   "execution_count": 150,
   "id": "fa807d41",
   "metadata": {},
   "outputs": [
    {
     "data": {
      "text/plain": [
       "[5, 6, 7, 6, 7, 8, 7, 8, 9]"
      ]
     },
     "execution_count": 150,
     "metadata": {},
     "output_type": "execute_result"
    }
   ],
   "source": [
    "[x + y for x in [1, 2, 3] for y in [4, 5, 6]] # Lists keep duplicates"
   ]
  },
  {
   "cell_type": "code",
   "execution_count": 151,
   "id": "238c5a8a",
   "metadata": {
    "scrolled": false
   },
   "outputs": [
    {
     "data": {
      "text/plain": [
       "{5, 6, 7, 8, 9}"
      ]
     },
     "execution_count": 151,
     "metadata": {},
     "output_type": "execute_result"
    }
   ],
   "source": [
    "{x + y for x in [1, 2, 3] for y in [4, 5, 6]} # sets  don't keep duplicates"
   ]
  },
  {
   "cell_type": "code",
   "execution_count": 154,
   "id": "3e6b7d1f",
   "metadata": {},
   "outputs": [
    {
     "data": {
      "text/plain": [
       "[(1, 4), (1, 5), (1, 6), (2, 4), (2, 5), (2, 6), (3, 4), (3, 5), (3, 6)]"
      ]
     },
     "execution_count": 154,
     "metadata": {},
     "output_type": "execute_result"
    }
   ],
   "source": [
    "[(x,  y) for x in [1, 2, 3] for y in [4, 5, 6]] # List of tuples keep duplicates"
   ]
  },
  {
   "cell_type": "code",
   "execution_count": 152,
   "id": "80eb3f32",
   "metadata": {},
   "outputs": [
    {
     "data": {
      "text/plain": [
       "{1: 6, 2: 6, 3: 6}"
      ]
     },
     "execution_count": 152,
     "metadata": {},
     "output_type": "execute_result"
    }
   ],
   "source": [
    "{x : y for x in [1, 2, 3] for y in [4, 5, 6]} # dict don't keep duplicates"
   ]
  },
  {
   "cell_type": "code",
   "execution_count": null,
   "id": "79952ee0",
   "metadata": {},
   "outputs": [],
   "source": []
  }
 ],
 "metadata": {
  "kernelspec": {
   "display_name": "Python 3",
   "language": "python",
   "name": "python3"
  },
  "language_info": {
   "codemirror_mode": {
    "name": "ipython",
    "version": 3
   },
   "file_extension": ".py",
   "mimetype": "text/x-python",
   "name": "python",
   "nbconvert_exporter": "python",
   "pygments_lexer": "ipython3",
   "version": "3.8.8"
  }
 },
 "nbformat": 4,
 "nbformat_minor": 5
}
