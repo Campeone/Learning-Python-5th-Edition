{
 "cells": [
  {
   "cell_type": "markdown",
   "id": "136a3b78",
   "metadata": {},
   "source": [
    "### while loops \n",
    "- it repeatedly executes a block of (normally indented) statements as long as a test at the top keeps evaluating to a true value."
   ]
  },
  {
   "cell_type": "code",
   "execution_count": null,
   "id": "93b644d8",
   "metadata": {},
   "outputs": [],
   "source": [
    "### General Format \n",
    "while test: # Loop test\n",
    "    statements # Loop body\n",
    "else: # Optional else\n",
    "    statements # Run if didn't exit loop with break"
   ]
  },
  {
   "cell_type": "code",
   "execution_count": null,
   "id": "11254c25",
   "metadata": {},
   "outputs": [],
   "source": [
    "# an infinte loop\n",
    "# while True: \n",
    "    # print('Type Ctrl-C to stop me!')"
   ]
  },
  {
   "cell_type": "code",
   "execution_count": 2,
   "id": "16edeeaa",
   "metadata": {},
   "outputs": [
    {
     "name": "stdout",
     "output_type": "stream",
     "text": [
      "spam\n",
      "pam\n",
      "am\n",
      "m\n"
     ]
    }
   ],
   "source": [
    "x = 'spam'\n",
    "while x: # while x is not empty\n",
    "    print(x)\n",
    "    x = x[1:] # strip off first character "
   ]
  },
  {
   "cell_type": "code",
   "execution_count": 10,
   "id": "c9542848",
   "metadata": {},
   "outputs": [
    {
     "name": "stdout",
     "output_type": "stream",
     "text": [
      "0 1 2 3 4 5 6 7 8 9 "
     ]
    }
   ],
   "source": [
    "a =0; b=10 \n",
    "while a < b: \n",
    "    print(a, end=' ')\n",
    "    a += 1"
   ]
  },
  {
   "cell_type": "markdown",
   "id": "1f0b9e79",
   "metadata": {},
   "source": [
    "### break, continue, pass, and the Loop else"
   ]
  },
  {
   "cell_type": "markdown",
   "id": "c98fb4be",
   "metadata": {},
   "source": [
    "- break\n",
    "    - Jumps out of the closest enclosing loop (past the entire loop statement)\n",
    "- continue\n",
    "    - Jumps to the top of the closest enclosing loop (to the loop’s header line)\n",
    "- pass\n",
    "    - Does nothing at all: it’s an empty statement placeholder\n",
    "- Loop else block\n",
    "    - Runs if and only if the loop is exited normally (i.e., without hitting a break)"
   ]
  },
  {
   "cell_type": "code",
   "execution_count": null,
   "id": "6e6ca2ab",
   "metadata": {},
   "outputs": [],
   "source": [
    "while test:\n",
    "    statements\n",
    "    if test: break # Exit loop now, skip else if present\n",
    "    if test: continue # Go to top of loop now, to test1\n",
    "else:\n",
    "    statements # Run if we didn't hit a 'break'"
   ]
  },
  {
   "cell_type": "markdown",
   "id": "291660ec",
   "metadata": {},
   "source": [
    "### continue \n",
    "- causes an immediate jump to the top of a loop. It also sometimes lets you avoid statement nesting."
   ]
  },
  {
   "cell_type": "code",
   "execution_count": 15,
   "id": "36534935",
   "metadata": {},
   "outputs": [
    {
     "name": "stdout",
     "output_type": "stream",
     "text": [
      "8 6 4 2 0 "
     ]
    }
   ],
   "source": [
    "x = 10 \n",
    "while x: \n",
    "    x = x -1 # Or x -= 1\n",
    "    if x % 2 != 0: continue # Odd? -- skip print\n",
    "    print(x, end=' ')"
   ]
  },
  {
   "cell_type": "code",
   "execution_count": 17,
   "id": "2c21a042",
   "metadata": {},
   "outputs": [
    {
     "name": "stdout",
     "output_type": "stream",
     "text": [
      "8 || 6 || 4 || 2 || 0 || "
     ]
    }
   ],
   "source": [
    "x = 10 \n",
    "while x: \n",
    "    x -= 1 \n",
    "    if x % 2 == 0: \n",
    "        print(x, end= ' || ')"
   ]
  },
  {
   "cell_type": "markdown",
   "id": "d685c15b",
   "metadata": {},
   "source": [
    "### break \n",
    "- causes an immediate exit from a loop. Because the code that follows it in the loop is not executed if the break is reached, you can also sometimes avoid nesting by including a break."
   ]
  },
  {
   "cell_type": "code",
   "execution_count": 19,
   "id": "139242ce",
   "metadata": {
    "scrolled": true
   },
   "outputs": [
    {
     "name": "stdout",
     "output_type": "stream",
     "text": [
      "Enter name:bob\n",
      "enter age50\n",
      "Hello bob => 2500\n",
      "Enter name:kate\n",
      "enter age40\n",
      "Hello kate => 1600\n",
      "Enter name:jude\n",
      "enter age10\n",
      "Hello jude => 100\n",
      "Enter name:stop\n"
     ]
    }
   ],
   "source": [
    "while True: \n",
    "    name = input('Enter name:')\n",
    "    if name == 'stop': break \n",
    "    age = input('enter age')\n",
    "    print('Hello', name, '=>', int(age) ** 2)"
   ]
  },
  {
   "cell_type": "markdown",
   "id": "22905c9e",
   "metadata": {},
   "source": [
    "### loop else"
   ]
  },
  {
   "cell_type": "code",
   "execution_count": null,
   "id": "260d74bc",
   "metadata": {},
   "outputs": [],
   "source": [
    "x = y // 2 # for some y > 1 \n",
    "while x:\n",
    "    if y % x == 0: # remainder\n",
    "        print(y, 'has factor', x) \n",
    "        break # skip else \n",
    "    x -= 1\n",
    "else: \n",
    "    print(y, 'is prime')"
   ]
  },
  {
   "cell_type": "markdown",
   "id": "3394c293",
   "metadata": {},
   "source": [
    "## For Loops"
   ]
  },
  {
   "cell_type": "markdown",
   "id": "c6896746",
   "metadata": {},
   "source": [
    "- a generic iterator in Python \n",
    "- works on strings, lists, tuples, and other built-in iterables"
   ]
  },
  {
   "cell_type": "markdown",
   "id": "b8250097",
   "metadata": {},
   "source": [
    "### General Formats"
   ]
  },
  {
   "cell_type": "code",
   "execution_count": null,
   "id": "636f8f91",
   "metadata": {},
   "outputs": [],
   "source": [
    "for target in object: # Assign object items to target\n",
    "    statements # Repeated loop body: use target\n",
    "else: # Optional else part\n",
    "    statements # If we didn't hit a 'break'"
   ]
  },
  {
   "cell_type": "markdown",
   "id": "9e4d5401",
   "metadata": {},
   "source": [
    "### complete format"
   ]
  },
  {
   "cell_type": "code",
   "execution_count": null,
   "id": "97f43d2e",
   "metadata": {},
   "outputs": [],
   "source": [
    "for target in object: # Assign object items to target\n",
    "statements\n",
    "if test: break # Exit loop now, skip else\n",
    "if test: continue # Go to top of loop now\n",
    "else:\n",
    "statements # If we didn't hit a 'break'"
   ]
  },
  {
   "cell_type": "code",
   "execution_count": 23,
   "id": "8aabdc4f",
   "metadata": {},
   "outputs": [
    {
     "name": "stdout",
     "output_type": "stream",
     "text": [
      "pa gg am "
     ]
    }
   ],
   "source": [
    "#### Basic usage \n",
    "for x in ['spam', 'eggs', 'ham']: \n",
    "    print(x[1:3], end=' ')"
   ]
  },
  {
   "cell_type": "code",
   "execution_count": 26,
   "id": "18ac9af3",
   "metadata": {},
   "outputs": [
    {
     "data": {
      "text/plain": [
       "10"
      ]
     },
     "execution_count": 26,
     "metadata": {},
     "output_type": "execute_result"
    }
   ],
   "source": [
    "sum = 0\n",
    "for x in [1, 2, 3, 4]: \n",
    "    sum = sum + x \n",
    "sum"
   ]
  },
  {
   "cell_type": "code",
   "execution_count": 29,
   "id": "557fc7f9",
   "metadata": {},
   "outputs": [
    {
     "data": {
      "text/plain": [
       "24"
      ]
     },
     "execution_count": 29,
     "metadata": {},
     "output_type": "execute_result"
    }
   ],
   "source": [
    "prod = 1 \n",
    "for item in [1, 2, 3, 4]: \n",
    "    prod *= item \n",
    "prod"
   ]
  },
  {
   "cell_type": "code",
   "execution_count": 30,
   "id": "ef422478",
   "metadata": {},
   "outputs": [],
   "source": [
    "S = \"lumberjack\"\n",
    "T = (\"and\", \"I'm\", \"okay\")"
   ]
  },
  {
   "cell_type": "code",
   "execution_count": 31,
   "id": "7c8cb9b1",
   "metadata": {},
   "outputs": [
    {
     "name": "stdout",
     "output_type": "stream",
     "text": [
      "l | u | m | b | e | r | j | a | c | k | "
     ]
    }
   ],
   "source": [
    "# iterate over a string\n",
    "for x in S: print(x, end=' | ')"
   ]
  },
  {
   "cell_type": "code",
   "execution_count": 33,
   "id": "4d6e1fcc",
   "metadata": {},
   "outputs": [
    {
     "name": "stdout",
     "output_type": "stream",
     "text": [
      "and $ I'm $ okay $ "
     ]
    }
   ],
   "source": [
    "# itearate over a tuple\n",
    "for x in T: print(x, end=' $ ')"
   ]
  },
  {
   "cell_type": "markdown",
   "id": "9ffa53bf",
   "metadata": {},
   "source": [
    "#### Tuple assignment in for loops"
   ]
  },
  {
   "cell_type": "code",
   "execution_count": 34,
   "id": "f5888d94",
   "metadata": {},
   "outputs": [],
   "source": [
    "T = [(1, 2), (3, 4), (5, 6)]"
   ]
  },
  {
   "cell_type": "code",
   "execution_count": 37,
   "id": "7ed5ef61",
   "metadata": {},
   "outputs": [
    {
     "name": "stdout",
     "output_type": "stream",
     "text": [
      "3 -1 1 2\n",
      "7 -1 81 12\n",
      "11 -1 15625 30\n"
     ]
    }
   ],
   "source": [
    "# unpacking the current tuple\n",
    "for (a, b) in T: \n",
    "    print(a+b, a-b, a**b, a*b)"
   ]
  },
  {
   "cell_type": "code",
   "execution_count": 38,
   "id": "e8e96db4",
   "metadata": {},
   "outputs": [],
   "source": [
    "D = {'a': 1, 'b': 2, 'c': 3}"
   ]
  },
  {
   "cell_type": "code",
   "execution_count": 39,
   "id": "b114eb4c",
   "metadata": {},
   "outputs": [
    {
     "name": "stdout",
     "output_type": "stream",
     "text": [
      "a => 1\n",
      "b => 2\n",
      "c => 3\n"
     ]
    }
   ],
   "source": [
    "for key in D: \n",
    "    print(key, '=>', D[key]) # Use dict keys iterator and index"
   ]
  },
  {
   "cell_type": "code",
   "execution_count": 40,
   "id": "7b041eba",
   "metadata": {},
   "outputs": [
    {
     "data": {
      "text/plain": [
       "[('a', 1), ('b', 2), ('c', 3)]"
      ]
     },
     "execution_count": 40,
     "metadata": {},
     "output_type": "execute_result"
    }
   ],
   "source": [
    "list(D.items())"
   ]
  },
  {
   "cell_type": "code",
   "execution_count": 43,
   "id": "d933be3e",
   "metadata": {},
   "outputs": [
    {
     "name": "stdout",
     "output_type": "stream",
     "text": [
      "a => 1\n",
      "b => 2\n",
      "c => 3\n"
     ]
    }
   ],
   "source": [
    "for (k, v) in D.items(): \n",
    "    print(k, '=>', v)"
   ]
  },
  {
   "cell_type": "code",
   "execution_count": 44,
   "id": "0c5c6474",
   "metadata": {},
   "outputs": [
    {
     "name": "stdout",
     "output_type": "stream",
     "text": [
      "1 2 3\n",
      "X Y 6\n"
     ]
    }
   ],
   "source": [
    "for ((a, b), c) in [([1, 2], 3), ['XY', 6]]: print(a, b, c)"
   ]
  },
  {
   "cell_type": "markdown",
   "id": "ab13890b",
   "metadata": {},
   "source": [
    "### Nested for Loops"
   ]
  },
  {
   "cell_type": "code",
   "execution_count": 45,
   "id": "8b3cf059",
   "metadata": {},
   "outputs": [],
   "source": [
    "items = [\"aaa\", 111, (4, 5), 2.01] # A set of objects\n",
    "tests = [(4, 5), 3.14] # Keys to search for"
   ]
  },
  {
   "cell_type": "code",
   "execution_count": 46,
   "id": "748c7636",
   "metadata": {},
   "outputs": [
    {
     "name": "stdout",
     "output_type": "stream",
     "text": [
      "(4, 5) was found\n",
      "3.14 not found\n"
     ]
    }
   ],
   "source": [
    "for key in tests: # for all keys\n",
    "    for item in items: # for all items\n",
    "        if item == key: # check for match\n",
    "            print(key, 'was found')\n",
    "            break\n",
    "    else: \n",
    "        print(key, 'not found')"
   ]
  },
  {
   "cell_type": "code",
   "execution_count": 52,
   "id": "1f4a7502",
   "metadata": {},
   "outputs": [
    {
     "data": {
      "text/plain": [
       "array([10,  6, 13, 18, 18,  7, 10, 13,  3, 19])"
      ]
     },
     "execution_count": 52,
     "metadata": {},
     "output_type": "execute_result"
    }
   ],
   "source": [
    "import numpy as np\n",
    "a = np.random.randint(2, 20, (10)) \n",
    "a"
   ]
  },
  {
   "cell_type": "code",
   "execution_count": 54,
   "id": "90d20abc",
   "metadata": {},
   "outputs": [
    {
     "data": {
      "text/plain": [
       "array([13,  2,  8,  5,  6,  5, 15,  5, 16,  3])"
      ]
     },
     "execution_count": 54,
     "metadata": {},
     "output_type": "execute_result"
    }
   ],
   "source": [
    "b = np.random.randint(2, 20, (10)) \n",
    "b"
   ]
  },
  {
   "cell_type": "code",
   "execution_count": 68,
   "id": "89941dfe",
   "metadata": {},
   "outputs": [
    {
     "name": "stdout",
     "output_type": "stream",
     "text": [
      "10 less than 13\n",
      "10 greater than 2\n",
      "10 greater than 8\n",
      "10 greater than 5\n",
      "10 greater than 6\n",
      "10 greater than 5\n",
      "10 less than 15\n",
      "10 greater than 5\n",
      "10 less than 16\n",
      "10 greater than 3\n",
      "Nothing\n",
      "6 less than 13\n",
      "6 greater than 2\n",
      "6 less than 8\n",
      "6 greater than 5\n",
      "6 equals 6\n",
      "6 greater than 5\n",
      "6 less than 15\n",
      "6 greater than 5\n",
      "6 less than 16\n",
      "6 greater than 3\n",
      "Nothing\n",
      "13 equals 13\n",
      "13 greater than 2\n",
      "13 greater than 8\n",
      "13 greater than 5\n",
      "13 greater than 6\n",
      "13 greater than 5\n",
      "13 less than 15\n",
      "13 greater than 5\n",
      "13 less than 16\n",
      "13 greater than 3\n",
      "Nothing\n",
      "18 greater than 13\n",
      "18 greater than 2\n",
      "18 greater than 8\n",
      "18 greater than 5\n",
      "18 greater than 6\n",
      "18 greater than 5\n",
      "18 greater than 15\n",
      "18 greater than 5\n",
      "18 greater than 16\n",
      "18 greater than 3\n",
      "Nothing\n",
      "18 greater than 13\n",
      "18 greater than 2\n",
      "18 greater than 8\n",
      "18 greater than 5\n",
      "18 greater than 6\n",
      "18 greater than 5\n",
      "18 greater than 15\n",
      "18 greater than 5\n",
      "18 greater than 16\n",
      "18 greater than 3\n",
      "Nothing\n",
      "7 less than 13\n",
      "7 greater than 2\n",
      "7 less than 8\n",
      "7 greater than 5\n",
      "7 greater than 6\n",
      "7 greater than 5\n",
      "7 less than 15\n",
      "7 greater than 5\n",
      "7 less than 16\n",
      "7 greater than 3\n",
      "Nothing\n",
      "10 less than 13\n",
      "10 greater than 2\n",
      "10 greater than 8\n",
      "10 greater than 5\n",
      "10 greater than 6\n",
      "10 greater than 5\n",
      "10 less than 15\n",
      "10 greater than 5\n",
      "10 less than 16\n",
      "10 greater than 3\n",
      "Nothing\n",
      "13 equals 13\n",
      "13 greater than 2\n",
      "13 greater than 8\n",
      "13 greater than 5\n",
      "13 greater than 6\n",
      "13 greater than 5\n",
      "13 less than 15\n",
      "13 greater than 5\n",
      "13 less than 16\n",
      "13 greater than 3\n",
      "Nothing\n",
      "3 less than 13\n",
      "3 greater than 2\n",
      "3 less than 8\n",
      "3 less than 5\n",
      "3 less than 6\n",
      "3 less than 5\n",
      "3 less than 15\n",
      "3 less than 5\n",
      "3 less than 16\n",
      "3 equals 3\n",
      "Nothing\n",
      "19 greater than 13\n",
      "19 greater than 2\n",
      "19 greater than 8\n",
      "19 greater than 5\n",
      "19 greater than 6\n",
      "19 greater than 5\n",
      "19 greater than 15\n",
      "19 greater than 5\n",
      "19 greater than 16\n",
      "19 greater than 3\n",
      "Nothing\n"
     ]
    }
   ],
   "source": [
    "for x in a: \n",
    "    for y in b: \n",
    "        if x < y: \n",
    "            print(x, 'less than', y)\n",
    "        elif x == y: \n",
    "            print(x, 'equals', y)\n",
    "        else: \n",
    "            print(x, 'greater than', y)\n",
    "    else: \n",
    "        print('Nothing')"
   ]
  },
  {
   "cell_type": "code",
   "execution_count": 60,
   "id": "7aae621f",
   "metadata": {},
   "outputs": [
    {
     "name": "stdout",
     "output_type": "stream",
     "text": [
      "(4, 5) was found\n",
      "3.14 was found\n"
     ]
    }
   ],
   "source": [
    "for key in tests: \n",
    "    if item in items:\n",
    "        print(key, 'was found')\n",
    "    else:\n",
    "        print(key, \"not found\")"
   ]
  },
  {
   "cell_type": "code",
   "execution_count": 66,
   "id": "65f0f163",
   "metadata": {},
   "outputs": [],
   "source": [
    "seq1 = \"spam\"\n",
    "seq2 = \"scam\""
   ]
  },
  {
   "cell_type": "code",
   "execution_count": 70,
   "id": "d3f7d763",
   "metadata": {},
   "outputs": [
    {
     "data": {
      "text/plain": [
       "['s', 'a', 'm']"
      ]
     },
     "execution_count": 70,
     "metadata": {},
     "output_type": "execute_result"
    }
   ],
   "source": [
    "# intersection\n",
    "res = [] # start empty\n",
    "for x in seq1: # scan firsdt sequence\n",
    "    if x in seq2: # common item\n",
    "        res.append(x) # add to result end\n",
    "res"
   ]
  },
  {
   "cell_type": "code",
   "execution_count": 71,
   "id": "a31be8ce",
   "metadata": {},
   "outputs": [
    {
     "data": {
      "text/plain": [
       "[6, 13, 13, 3]"
      ]
     },
     "execution_count": 71,
     "metadata": {},
     "output_type": "execute_result"
    }
   ],
   "source": [
    "# intersection\n",
    "both = []\n",
    "for x in a:\n",
    "    if x in b: \n",
    "        both.append(x)\n",
    "both"
   ]
  },
  {
   "cell_type": "code",
   "execution_count": 72,
   "id": "280864d7",
   "metadata": {},
   "outputs": [
    {
     "data": {
      "text/plain": [
       "['s', 'a', 'm']"
      ]
     },
     "execution_count": 72,
     "metadata": {},
     "output_type": "execute_result"
    }
   ],
   "source": [
    "# list comprehension \n",
    "[x for x in seq1 if x in seq2]"
   ]
  },
  {
   "cell_type": "markdown",
   "id": "e1eaaee3",
   "metadata": {},
   "source": [
    "### Loop Coding Techniques"
   ]
  },
  {
   "cell_type": "markdown",
   "id": "99a01732",
   "metadata": {},
   "source": [
    "- The built-in range function (available since Python 0.X) produces a series of successively higher integers, which can be used as indexes in a for.\n",
    "- The built-in zip function (available since Python 2.0) returns a series of parallelitem tuples, which can be used to traverse multiple sequences in a for.\n",
    "- The built-in enumerate function (available since Python 2.3) generates both the values and indexes of items in an iterable, so we don’t need to count manually.\n",
    "- The built-in map function (available since Python 1.0) can have a similar effect to zip in Python 2.X, though this role is removed in 3.X."
   ]
  },
  {
   "cell_type": "markdown",
   "id": "80917b4c",
   "metadata": {},
   "source": [
    "### Counter Loops: range"
   ]
  },
  {
   "cell_type": "code",
   "execution_count": 73,
   "id": "ef0fd8a9",
   "metadata": {},
   "outputs": [
    {
     "data": {
      "text/plain": [
       "([0, 1, 2, 3, 4], [2, 3, 4], [0, 2, 4, 6, 8])"
      ]
     },
     "execution_count": 73,
     "metadata": {},
     "output_type": "execute_result"
    }
   ],
   "source": [
    "list(range(5)), list(range(2, 5)), list(range(0, 10, 2))"
   ]
  },
  {
   "cell_type": "code",
   "execution_count": 75,
   "id": "1d5bb245",
   "metadata": {},
   "outputs": [
    {
     "data": {
      "text/plain": [
       "[-5, -4, -3, -2, -1, 0, 1, 2, 3, 4]"
      ]
     },
     "execution_count": 75,
     "metadata": {},
     "output_type": "execute_result"
    }
   ],
   "source": [
    "list(range(-5, 5))"
   ]
  },
  {
   "cell_type": "code",
   "execution_count": 81,
   "id": "74862f7f",
   "metadata": {},
   "outputs": [
    {
     "data": {
      "text/plain": [
       "[5, 4, 3, 2, 1, 0, -1, -2, -3, -4]"
      ]
     },
     "execution_count": 81,
     "metadata": {},
     "output_type": "execute_result"
    }
   ],
   "source": [
    "list(range(5, -5, -1))"
   ]
  },
  {
   "cell_type": "code",
   "execution_count": 84,
   "id": "cd51d035",
   "metadata": {},
   "outputs": [
    {
     "name": "stdout",
     "output_type": "stream",
     "text": [
      "0 Pythons\n",
      "1 Pythons\n",
      "2 Pythons\n"
     ]
    }
   ],
   "source": [
    "for i in range(3):\n",
    "    print(i, 'Pythons')"
   ]
  },
  {
   "cell_type": "markdown",
   "id": "7cdf3e8b",
   "metadata": {},
   "source": [
    "### Nonexhaustive Traversals: range Versus Slices"
   ]
  },
  {
   "cell_type": "code",
   "execution_count": 85,
   "id": "70dce714",
   "metadata": {},
   "outputs": [
    {
     "data": {
      "text/plain": [
       "[0, 2, 4, 6, 8, 10]"
      ]
     },
     "execution_count": 85,
     "metadata": {},
     "output_type": "execute_result"
    }
   ],
   "source": [
    "S = 'abcdefghijk'\n",
    "list(range(0, len(S), 2))"
   ]
  },
  {
   "cell_type": "code",
   "execution_count": 86,
   "id": "4261ce03",
   "metadata": {},
   "outputs": [
    {
     "name": "stdout",
     "output_type": "stream",
     "text": [
      "a c e g i k "
     ]
    }
   ],
   "source": [
    "for i in range(0, len(S), 2):\n",
    "    print(S[i], end=' ')"
   ]
  },
  {
   "cell_type": "code",
   "execution_count": 87,
   "id": "78eb316e",
   "metadata": {},
   "outputs": [
    {
     "name": "stdout",
     "output_type": "stream",
     "text": [
      "a c e g i k "
     ]
    }
   ],
   "source": [
    "for c in S[::2]: \n",
    "    print(c, end=' ')"
   ]
  },
  {
   "cell_type": "markdown",
   "id": "ddf020ad",
   "metadata": {},
   "source": [
    "### Changing Lists: range Versus Comprehensions"
   ]
  },
  {
   "cell_type": "code",
   "execution_count": 89,
   "id": "380511a3",
   "metadata": {},
   "outputs": [
    {
     "data": {
      "text/plain": [
       "[2, 3, 4, 5, 6]"
      ]
     },
     "execution_count": 89,
     "metadata": {},
     "output_type": "execute_result"
    }
   ],
   "source": [
    "l = [1, 2, 3, 4, 5]\n",
    "for i in range(len(l)):\n",
    "    l[i] += 1\n",
    "l"
   ]
  },
  {
   "cell_type": "markdown",
   "id": "7728c006",
   "metadata": {},
   "source": [
    "### Parallel Traversals: zip and map \n",
    "- zip function allows us to use for loops to visit multiple sequences in parallel—not overlapping in time, but during the same loop."
   ]
  },
  {
   "cell_type": "code",
   "execution_count": 90,
   "id": "80f9174b",
   "metadata": {},
   "outputs": [],
   "source": [
    "L1 = [1,2,3,4]\n",
    "L2 = [5,6,7,8]"
   ]
  },
  {
   "cell_type": "code",
   "execution_count": 91,
   "id": "0d0a631e",
   "metadata": {},
   "outputs": [
    {
     "data": {
      "text/plain": [
       "<zip at 0x2a31dda4f40>"
      ]
     },
     "execution_count": 91,
     "metadata": {},
     "output_type": "execute_result"
    }
   ],
   "source": [
    "zip(L1, L2)"
   ]
  },
  {
   "cell_type": "code",
   "execution_count": 92,
   "id": "3dbc33f6",
   "metadata": {},
   "outputs": [
    {
     "data": {
      "text/plain": [
       "[(1, 5), (2, 6), (3, 7), (4, 8)]"
      ]
     },
     "execution_count": 92,
     "metadata": {},
     "output_type": "execute_result"
    }
   ],
   "source": [
    "list(zip(L1, L2))"
   ]
  },
  {
   "cell_type": "code",
   "execution_count": 93,
   "id": "31900b03",
   "metadata": {},
   "outputs": [
    {
     "name": "stdout",
     "output_type": "stream",
     "text": [
      "1 5 -- 6\n",
      "2 6 -- 8\n",
      "3 7 -- 10\n",
      "4 8 -- 12\n"
     ]
    }
   ],
   "source": [
    "for (x, y) in zip(L1, L2):\n",
    "    print(x, y, '--', x+y)"
   ]
  },
  {
   "cell_type": "code",
   "execution_count": 94,
   "id": "be8f9171",
   "metadata": {},
   "outputs": [],
   "source": [
    "T1, T2, T3 = (1,2,3), (4,5,6), (7,8,9)"
   ]
  },
  {
   "cell_type": "code",
   "execution_count": 96,
   "id": "6ad5f765",
   "metadata": {},
   "outputs": [
    {
     "data": {
      "text/plain": [
       "[(1, 4, 7), (2, 5, 8), (3, 6, 9)]"
      ]
     },
     "execution_count": 96,
     "metadata": {},
     "output_type": "execute_result"
    }
   ],
   "source": [
    "list(zip(T1, T2, T3)) # 3 tuples for 3 arguments"
   ]
  },
  {
   "cell_type": "code",
   "execution_count": 97,
   "id": "be96d096",
   "metadata": {},
   "outputs": [
    {
     "data": {
      "text/plain": [
       "[('a', 'x'), ('b', 'y'), ('c', 'z')]"
      ]
     },
     "execution_count": 97,
     "metadata": {},
     "output_type": "execute_result"
    }
   ],
   "source": [
    "# Truncates at len(shortest)\n",
    "S1 = 'abc'\n",
    "S2 = 'xyz123'\n",
    "\n",
    "list(zip(S1, S2))"
   ]
  },
  {
   "cell_type": "markdown",
   "id": "8e63ace1",
   "metadata": {},
   "source": [
    "#### Dictionary construction with zip"
   ]
  },
  {
   "cell_type": "code",
   "execution_count": 98,
   "id": "55daa975",
   "metadata": {},
   "outputs": [
    {
     "data": {
      "text/plain": [
       "{'spam': 1, 'eggs': 3, 'toast': 5}"
      ]
     },
     "execution_count": 98,
     "metadata": {},
     "output_type": "execute_result"
    }
   ],
   "source": [
    "D1 = {'spam':1, 'eggs':3, 'toast':5}\n",
    "D1"
   ]
  },
  {
   "cell_type": "code",
   "execution_count": 99,
   "id": "44a11669",
   "metadata": {},
   "outputs": [],
   "source": [
    "keys = ['spam', 'eggs', 'toast']\n",
    "vals = [1, 3, 5]"
   ]
  },
  {
   "cell_type": "code",
   "execution_count": 100,
   "id": "477e83c5",
   "metadata": {},
   "outputs": [
    {
     "data": {
      "text/plain": [
       "{'spam': 1, 'eggs': 3, 'toast': 5}"
      ]
     },
     "execution_count": 100,
     "metadata": {},
     "output_type": "execute_result"
    }
   ],
   "source": [
    "# zip \n",
    "list(zip(keys, vals)) \n",
    "\n",
    "# for loop \n",
    "D2 ={} \n",
    "for (k, v) in zip(keys, vals): \n",
    "    D2[k] = v\n",
    "D2"
   ]
  },
  {
   "cell_type": "code",
   "execution_count": 102,
   "id": "e0846762",
   "metadata": {},
   "outputs": [
    {
     "data": {
      "text/plain": [
       "{'spam': 1, 'eggs': 3, 'toast': 5}"
      ]
     },
     "execution_count": 102,
     "metadata": {},
     "output_type": "execute_result"
    }
   ],
   "source": [
    "# pass in to built-in dict call \n",
    "D3 = dict(zip(keys, vals))\n",
    "D3"
   ]
  },
  {
   "cell_type": "markdown",
   "id": "3630d156",
   "metadata": {},
   "source": [
    "### Generating Both Offsets and Items: enumerate"
   ]
  },
  {
   "cell_type": "code",
   "execution_count": 104,
   "id": "d6e8f875",
   "metadata": {},
   "outputs": [
    {
     "name": "stdout",
     "output_type": "stream",
     "text": [
      "S appears at offset 0\n",
      "p appears at offset 1\n",
      "a appears at offset 2\n",
      "m appears at offset 3\n"
     ]
    }
   ],
   "source": [
    "S = 'Spam'\n",
    "for (offset, item) in enumerate(S):\n",
    "    print(item, 'appears at offset', offset)"
   ]
  },
  {
   "cell_type": "code",
   "execution_count": 107,
   "id": "b13eeda1",
   "metadata": {},
   "outputs": [
    {
     "data": {
      "text/plain": [
       "<enumerate at 0x2a31dd8d380>"
      ]
     },
     "execution_count": 107,
     "metadata": {},
     "output_type": "execute_result"
    }
   ],
   "source": [
    "E = enumerate(S) \n",
    "E"
   ]
  },
  {
   "cell_type": "code",
   "execution_count": 108,
   "id": "f535376f",
   "metadata": {},
   "outputs": [
    {
     "data": {
      "text/plain": [
       "(0, 'S')"
      ]
     },
     "execution_count": 108,
     "metadata": {},
     "output_type": "execute_result"
    }
   ],
   "source": [
    "next(E)"
   ]
  },
  {
   "cell_type": "code",
   "execution_count": 109,
   "id": "65f0dff7",
   "metadata": {},
   "outputs": [
    {
     "data": {
      "text/plain": [
       "['', 'p', 'aa', 'mmm']"
      ]
     },
     "execution_count": 109,
     "metadata": {},
     "output_type": "execute_result"
    }
   ],
   "source": [
    "[c * i for (i, c) in enumerate(S)]"
   ]
  },
  {
   "cell_type": "code",
   "execution_count": null,
   "id": "22f49de0",
   "metadata": {},
   "outputs": [],
   "source": []
  }
 ],
 "metadata": {
  "kernelspec": {
   "display_name": "Python 3",
   "language": "python",
   "name": "python3"
  },
  "language_info": {
   "codemirror_mode": {
    "name": "ipython",
    "version": 3
   },
   "file_extension": ".py",
   "mimetype": "text/x-python",
   "name": "python",
   "nbconvert_exporter": "python",
   "pygments_lexer": "ipython3",
   "version": "3.8.8"
  }
 },
 "nbformat": 4,
 "nbformat_minor": 5
}
